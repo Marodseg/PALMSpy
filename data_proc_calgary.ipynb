{
 "cells": [
  {
   "cell_type": "code",
   "execution_count": 1,
   "metadata": {},
   "outputs": [],
   "source": [
    "import findspark\n",
    "findspark.init()"
   ]
  },
  {
   "cell_type": "code",
   "execution_count": 2,
   "metadata": {},
   "outputs": [],
   "source": [
    "import pyspark\n",
    "from pyspark.conf import SparkConf\n",
    "from pyspark.sql import SparkSession, SQLContext, Row\n",
    "from pyspark.sql import functions as F\n",
    "from pyspark.mllib.stat import Statistics\n",
    "from datetime import datetime, timedelta\n",
    "from pyspark.sql.window import Window\n",
    "from pyspark.sql.types import TimestampType\n",
    "from pyspark.sql.types import IntegerType\n",
    "from pyspark.sql.types import StringType\n",
    "from pyspark.sql.types import FloatType\n",
    "from pyspark.sql.types import DoubleType\n",
    "from math import floor\n",
    "import time\n",
    "\n",
    "from GPSProcessing import *\n",
    "from AccProcessing import *"
   ]
  },
  {
   "cell_type": "code",
   "execution_count": 3,
   "metadata": {},
   "outputs": [
    {
     "data": {
      "text/plain": [
       "[('spark.sql.shuffle.partitions', '20'),\n",
       " ('spark.driver.port', '54863'),\n",
       " ('spark.cleaner.referenceTracking.cleanCheckpoints', 'True'),\n",
       " ('spark.executor.id', 'driver'),\n",
       " ('spark.driver.memory', '16g'),\n",
       " ('spark.driver.host', '10.0.1.4'),\n",
       " ('spark.app.name', 'GPS+ACC'),\n",
       " ('spark.executor.memory', '16g'),\n",
       " ('spark.app.id', 'local-1557158181246'),\n",
       " ('spark.rdd.compress', 'True'),\n",
       " ('spark.memory.fraction', '0.6'),\n",
       " ('spark.serializer.objectStreamReset', '100'),\n",
       " ('spark.master', 'local[*]'),\n",
       " ('spark.submit.deployMode', 'client'),\n",
       " ('spark.memory.offHeap.enabled', 'True'),\n",
       " ('spark.ui.showConsoleProgress', 'true'),\n",
       " ('spark.memory.offHeap.size', '16g')]"
      ]
     },
     "execution_count": 3,
     "metadata": {},
     "output_type": "execute_result"
    }
   ],
   "source": [
    "# REFERENCE: https://spark.apache.org/docs/latest/configuration.html\n",
    "\n",
    "conf = SparkConf().setAll([('spark.memory.fraction','0.6'),\n",
    "                           ('spark.executor.memory', '16g'),\n",
    "                           ('spark.driver.memory','16g'),\n",
    "                           ('spark.sql.shuffle.partitions','20'),\n",
    "                           ('spark.memory.offHeap.enabled', True),\n",
    "                           ('spark.memory.offHeap.size','16g'),\n",
    "                           ('spark.cleaner.referenceTracking.cleanCheckpoints', True)]#,\n",
    "                           #('spark.driver.cores', '4'),\n",
    "                           #('spark.executor.cores', '4'),\n",
    "                           #('spark.worker.cleanup.enabled','true'),\n",
    "                           #('spark.sql.session.timeZone', 'UTC')])\n",
    "                         )\n",
    "\n",
    "spark  = SparkSession.builder.config(conf=conf).master(\"local[*]\").appName(\"GPS+ACC\").getOrCreate()\n",
    "sc = spark.sparkContext\n",
    "sc.setLogLevel(\"ERROR\")\n",
    "sc.setCheckpointDir('checkpoints')\n",
    "sc.getConf().getAll()  # or sc._conf.getAll()"
   ]
  },
  {
   "cell_type": "code",
   "execution_count": 4,
   "metadata": {},
   "outputs": [
    {
     "data": {
      "text/plain": [
       "8"
      ]
     },
     "execution_count": 4,
     "metadata": {},
     "output_type": "execute_result"
    }
   ],
   "source": [
    "sc.defaultParallelism"
   ]
  },
  {
   "cell_type": "code",
   "execution_count": 5,
   "metadata": {},
   "outputs": [
    {
     "data": {
      "text/plain": [
       "2"
      ]
     },
     "execution_count": 5,
     "metadata": {},
     "output_type": "execute_result"
    }
   ],
   "source": [
    "sc.defaultMinPartitions"
   ]
  },
  {
   "cell_type": "code",
   "execution_count": 6,
   "metadata": {},
   "outputs": [
    {
     "data": {
      "text/html": [
       "\n",
       "        <div>\n",
       "            <p><b>SparkContext</b></p>\n",
       "\n",
       "            <p><a href=\"http://10.0.1.4:4040\">Spark UI</a></p>\n",
       "\n",
       "            <dl>\n",
       "              <dt>Version</dt>\n",
       "                <dd><code>v2.4.0</code></dd>\n",
       "              <dt>Master</dt>\n",
       "                <dd><code>local[*]</code></dd>\n",
       "              <dt>AppName</dt>\n",
       "                <dd><code>GPS+ACC</code></dd>\n",
       "            </dl>\n",
       "        </div>\n",
       "        "
      ],
      "text/plain": [
       "<SparkContext master=local[*] appName=GPS+ACC>"
      ]
     },
     "execution_count": 6,
     "metadata": {},
     "output_type": "execute_result"
    }
   ],
   "source": [
    "sc"
   ]
  },
  {
   "cell_type": "markdown",
   "metadata": {},
   "source": [
    "## PALMS output"
   ]
  },
  {
   "cell_type": "code",
   "execution_count": null,
   "metadata": {},
   "outputs": [],
   "source": [
    "palms_path = '/Users/molinaro/Documents/GITHUB/PALMS/Calgary/PALMS_output.csv'"
   ]
  },
  {
   "cell_type": "code",
   "execution_count": null,
   "metadata": {},
   "outputs": [],
   "source": [
    "palms_out = spark.read.csv(palms_path, header=True, inferSchema=True, )\n",
    "palms_out.cache();"
   ]
  },
  {
   "cell_type": "code",
   "execution_count": null,
   "metadata": {},
   "outputs": [],
   "source": [
    "palms_out.rdd.getNumPartitions()"
   ]
  },
  {
   "cell_type": "code",
   "execution_count": null,
   "metadata": {},
   "outputs": [],
   "source": [
    "palms_out.filter(palms_out['identifier']=='A01').select('identifier','lat','lon','dateTime').show(20,False)"
   ]
  },
  {
   "cell_type": "code",
   "execution_count": null,
   "metadata": {},
   "outputs": [],
   "source": [
    "palms_out.filter(palms_out['identifier']=='A01').count()"
   ]
  },
  {
   "cell_type": "code",
   "execution_count": null,
   "metadata": {},
   "outputs": [],
   "source": [
    "palms_out.filter(palms_out['identifier']=='A01').printSchema()"
   ]
  },
  {
   "cell_type": "code",
   "execution_count": null,
   "metadata": {},
   "outputs": [],
   "source": [
    "date_format = '%Y-%m-%d'\n",
    "time_format = '%H:%M:%S'\n",
    "datetime_format = date_format + ' ' + time_format\n",
    "startdate = datetime.strptime('2016-08-16 18:23:25', datetime_format) "
   ]
  },
  {
   "cell_type": "code",
   "execution_count": null,
   "metadata": {},
   "outputs": [],
   "source": [
    "palms_out.filter((palms_out.identifier=='A01') & (palms_out.activity==-2))\\\n",
    ".select('identifier','lat','lon','dateTime','activity','activityIntensity','activityBoutNumber').show(29000)"
   ]
  },
  {
   "cell_type": "code",
   "execution_count": null,
   "metadata": {},
   "outputs": [],
   "source": [
    "df3.filter((F.col('activityIntensity')==-2) & (F.col('timestamp')>=startdate)).orderBy('timestamp').show(29000)"
   ]
  },
  {
   "cell_type": "code",
   "execution_count": null,
   "metadata": {},
   "outputs": [],
   "source": [
    "palms_out.filter((palms_out.identifier=='A01') & (palms_out.activityBoutNumber==7))\\\n",
    ".select('lat','lon','dateTime','activity','activityIntensity',\n",
    "        'activityBoutNumber','sedentaryBoutNumber').show(2000)"
   ]
  },
  {
   "cell_type": "code",
   "execution_count": null,
   "metadata": {},
   "outputs": [],
   "source": [
    "df3.filter((F.col('activityBoutNumber')==7) & (F.col('timestamp')>=startdate)).orderBy('timestamp').show(2000)"
   ]
  },
  {
   "cell_type": "code",
   "execution_count": null,
   "metadata": {},
   "outputs": [],
   "source": [
    "palms_out.filter((palms_out.identifier=='A01') & (palms_out.sedentaryBoutNumber == 14))\\\n",
    ".select('identifier','lat','lon','dateTime','activity',\n",
    "        'activityBoutNumber','sedentaryBoutNumber').show(20000)"
   ]
  },
  {
   "cell_type": "code",
   "execution_count": null,
   "metadata": {},
   "outputs": [],
   "source": [
    "df3.filter((F.col('sedentaryBoutNumber')==14) & (F.col('timestamp')>=startdate)).show(29000)"
   ]
  },
  {
   "cell_type": "code",
   "execution_count": null,
   "metadata": {},
   "outputs": [],
   "source": [
    "palms_out.filter((palms_out.identifier=='A01') & (palms_out.fixTypeCode==3))\\\n",
    ".select('lat','lon','dateTime','fixTypeCode','tripType','activity',\n",
    "        'activityIntensity','activityBoutNumber').show(2000)"
   ]
  },
  {
   "cell_type": "code",
   "execution_count": null,
   "metadata": {},
   "outputs": [],
   "source": [
    "palms_out.filter((palms_out.identifier=='A01') & (palms_out.fixTypeCode==4))\\\n",
    ".select('lat','lon','dateTime','fixTypeCode','tripType','activity',\n",
    "        'activityIntensity','activityBoutNumber').count()"
   ]
  },
  {
   "cell_type": "code",
   "execution_count": null,
   "metadata": {},
   "outputs": [],
   "source": [
    "gps_data.filter(F.col('fixTypeCode')==3).orderBy('timestamp').show(2000)"
   ]
  },
  {
   "cell_type": "code",
   "execution_count": null,
   "metadata": {},
   "outputs": [],
   "source": [
    "gps_data.filter(F.col('fixTypeCode')==4).orderBy('timestamp').count()"
   ]
  },
  {
   "cell_type": "code",
   "execution_count": null,
   "metadata": {},
   "outputs": [],
   "source": [
    "palms_out.filter((palms_out.identifier=='A01') )\\\n",
    ".select('lat','lon','dateTime','fixTypeCode','tripType','activity',\n",
    "        'activityIntensity','activityBoutNumber').show(20000,False)"
   ]
  },
  {
   "cell_type": "code",
   "execution_count": null,
   "metadata": {},
   "outputs": [],
   "source": [
    "palms_out.select('lat','lon','dateTime','fixTypeCode','tripType','activity',\n",
    "        'activityIntensity','activityBoutNumber').show(20000,False)"
   ]
  },
  {
   "cell_type": "code",
   "execution_count": null,
   "metadata": {},
   "outputs": [],
   "source": [
    "gps_data.show(20000,False)"
   ]
  },
  {
   "cell_type": "code",
   "execution_count": null,
   "metadata": {},
   "outputs": [],
   "source": [
    "palms_out.filter((palms_out.identifier=='A01') & (palms_out.tripType==1))\\\n",
    ".select('lat','lon','dateTime','fixTypeCode','tripType','activity',\n",
    "        'activityIntensity','activityBoutNumber').show(2000)"
   ]
  },
  {
   "cell_type": "code",
   "execution_count": null,
   "metadata": {},
   "outputs": [],
   "source": [
    "df.drop(*['height','speed','heading','dow','lat','lon'])\\\n",
    ".filter((F.col('tripType')==4)).show(2000)"
   ]
  },
  {
   "cell_type": "code",
   "execution_count": null,
   "metadata": {},
   "outputs": [],
   "source": [
    "df.filter(F.col('tripType')==1).show(2000)"
   ]
  },
  {
   "cell_type": "code",
   "execution_count": null,
   "metadata": {},
   "outputs": [],
   "source": [
    "spark.catalog.clearCache()"
   ]
  },
  {
   "cell_type": "code",
   "execution_count": null,
   "metadata": {},
   "outputs": [],
   "source": []
  },
  {
   "cell_type": "code",
   "execution_count": null,
   "metadata": {},
   "outputs": [],
   "source": [
    "palms_out.filter((palms_out.identifier=='A02') & (palms_out.fixTypeCode==5))\\\n",
    ".select('lat','lon','dateTime','fixTypeCode','tripType','activity',\n",
    "        'activityIntensity','activityBoutNumber').count()"
   ]
  },
  {
   "cell_type": "code",
   "execution_count": null,
   "metadata": {},
   "outputs": [],
   "source": [
    "palms_out.filter((palms_out.identifier=='A02') & (palms_out.fixTypeCode==3))\\\n",
    ".select('lat','lon','dateTime','fixTypeCode','tripType','activity',\n",
    "        'activityIntensity','activityBoutNumber').count()"
   ]
  },
  {
   "cell_type": "code",
   "execution_count": null,
   "metadata": {},
   "outputs": [],
   "source": [
    "palms_out.filter((palms_out.identifier=='A02') & (palms_out.fixTypeCode==2))\\\n",
    ".select('lat','lon','dateTime','fixTypeCode','tripType','activity',\n",
    "        'activityIntensity','activityBoutNumber').count()"
   ]
  },
  {
   "cell_type": "code",
   "execution_count": null,
   "metadata": {},
   "outputs": [],
   "source": [
    "palms_out.filter((palms_out.identifier=='A02') & (palms_out.fixTypeCode==1))\\\n",
    ".select('lat','lon','dateTime','fixTypeCode','tripType','activity',\n",
    "        'activityIntensity','activityBoutNumber').count()"
   ]
  },
  {
   "cell_type": "code",
   "execution_count": null,
   "metadata": {},
   "outputs": [],
   "source": [
    "palms_out.filter((palms_out.identifier=='A02') & (palms_out.fixTypeCode==4))\\\n",
    ".select('lat','lon','dateTime','fixTypeCode','tripType','activity',\n",
    "        'activityIntensity','activityBoutNumber').count()"
   ]
  },
  {
   "cell_type": "code",
   "execution_count": null,
   "metadata": {},
   "outputs": [],
   "source": [
    "palms_out.filter((palms_out.identifier=='A02') & (palms_out.fixTypeCode==6))\\\n",
    ".select('lat','lon','dateTime','fixTypeCode','tripType','activity',\n",
    "        'activityIntensity','activityBoutNumber').count()"
   ]
  },
  {
   "cell_type": "code",
   "execution_count": null,
   "metadata": {},
   "outputs": [],
   "source": [
    "palms_out.filter((palms_out.identifier=='A01')).count()"
   ]
  },
  {
   "cell_type": "markdown",
   "metadata": {},
   "source": [
    "## GPS data processing"
   ]
  },
  {
   "cell_type": "code",
   "execution_count": 26,
   "metadata": {},
   "outputs": [],
   "source": [
    "gps_path_raw = '/Users/molinaro/Documents/GITHUB/PALMS/data/raw/Calgary/gps/A01r.csv'"
   ]
  },
  {
   "cell_type": "code",
   "execution_count": null,
   "metadata": {},
   "outputs": [],
   "source": [
    "gps_path_raw = '/Users/molinaro/Documents/GITHUB/PALMS/data/PARC_data/NYC/GPS/2001.csv'"
   ]
  },
  {
   "cell_type": "markdown",
   "metadata": {},
   "source": [
    "rdd = sc.textFile(gps_path_raw, 4)\n",
    "gps_data_raw = spark.read.csv(rdd)\n",
    "gps_data_raw.take(10)"
   ]
  },
  {
   "cell_type": "code",
   "execution_count": null,
   "metadata": {},
   "outputs": [],
   "source": [
    "#gps_path_raw = '/Users/molinaro/Documents/GITHUB/PALMS/data/raw/Barcelona_youth/gps/G01FWS6.csv'"
   ]
  },
  {
   "cell_type": "code",
   "execution_count": 27,
   "metadata": {},
   "outputs": [],
   "source": [
    "gps_data_raw = spark.read.csv(gps_path_raw, header=True, inferSchema=True)"
   ]
  },
  {
   "cell_type": "code",
   "execution_count": 28,
   "metadata": {},
   "outputs": [
    {
     "data": {
      "text/plain": [
       "DataFrame[timestamp: timestamp, dow: string, lat: double, lon: double, distance: double, height: double, speed: double]"
      ]
     },
     "execution_count": 28,
     "metadata": {},
     "output_type": "execute_result"
    }
   ],
   "source": [
    "date_format = 'yyyy/MM/dd'\n",
    "time_format = 'HH:mm:ss'\n",
    "datetime_format = date_format + ' ' + time_format\n",
    "\n",
    "gps_data = gen_gps_dataframe(gps_data_raw, datetime_format)\n",
    "gps_data.cache()"
   ]
  },
  {
   "cell_type": "code",
   "execution_count": null,
   "metadata": {},
   "outputs": [],
   "source": [
    "gps_data.show(20,False)"
   ]
  },
  {
   "cell_type": "code",
   "execution_count": null,
   "metadata": {},
   "outputs": [],
   "source": [
    "date_format = '%Y-%m-%d'\n",
    "time_format = '%H:%M:%S'\n",
    "datetime_format = date_format + ' ' + time_format\n",
    "startdate = datetime.strptime('2016-06-29 13:00:00', datetime_format) \n",
    "gps_data.filter((F.col('timestamp')>=startdate)).show(20000,False)"
   ]
  },
  {
   "cell_type": "code",
   "execution_count": null,
   "metadata": {},
   "outputs": [],
   "source": [
    "gps_data.filter((F.col('timestamp')>=startdate)).show(20000,False)"
   ]
  },
  {
   "cell_type": "code",
   "execution_count": null,
   "metadata": {},
   "outputs": [],
   "source": [
    "gps_data.filter(F.col('fixTypeCode') == 1).count()"
   ]
  },
  {
   "cell_type": "code",
   "execution_count": null,
   "metadata": {},
   "outputs": [],
   "source": [
    "gps_data.filter(F.col('fixTypeCode') == 2).count()"
   ]
  },
  {
   "cell_type": "code",
   "execution_count": null,
   "metadata": {},
   "outputs": [],
   "source": [
    "gps_data.filter(F.col('fixTypeCode') == 3).count()"
   ]
  },
  {
   "cell_type": "code",
   "execution_count": null,
   "metadata": {},
   "outputs": [],
   "source": [
    "gps_data.filter(F.col('fixTypeCode') == 4).count()"
   ]
  },
  {
   "cell_type": "code",
   "execution_count": null,
   "metadata": {},
   "outputs": [],
   "source": [
    "gps_data.filter(F.col('fixTypeCode') == 6).count()"
   ]
  },
  {
   "cell_type": "code",
   "execution_count": null,
   "metadata": {},
   "outputs": [],
   "source": [
    "gps_data.filter(F.col('fixTypeCode') == -1).count()"
   ]
  },
  {
   "cell_type": "code",
   "execution_count": null,
   "metadata": {
    "scrolled": true
   },
   "outputs": [],
   "source": [
    "list1 = gps_data.filter(F.col('fixTypeCode') == 6).select('timestamp').collect()"
   ]
  },
  {
   "cell_type": "code",
   "execution_count": null,
   "metadata": {
    "scrolled": true
   },
   "outputs": [],
   "source": [
    "list2 = palms_out.filter((palms_out.identifier=='A02') & (palms_out.fixTypeCode==6))\\\n",
    ".select('dateTime').collect()"
   ]
  },
  {
   "cell_type": "code",
   "execution_count": null,
   "metadata": {},
   "outputs": [],
   "source": [
    "def Diff(li1, li2): \n",
    "    li_dif = [i for i in li1 + li2 if i not in li2] #or i not in li2] \n",
    "    return li_dif \n",
    "Diff(list1,list2)"
   ]
  },
  {
   "cell_type": "code",
   "execution_count": null,
   "metadata": {},
   "outputs": [],
   "source": [
    "gps_data.printSchema()"
   ]
  },
  {
   "cell_type": "code",
   "execution_count": null,
   "metadata": {},
   "outputs": [],
   "source": [
    "gps_data.count()"
   ]
  },
  {
   "cell_type": "code",
   "execution_count": 29,
   "metadata": {},
   "outputs": [
    {
     "name": "stdout",
     "output_type": "stream",
     "text": [
      "====> align timestamps...\n",
      "      time elapsed: 00:00:08\n"
     ]
    }
   ],
   "source": [
    "# Round seconds in timestamps according to the interval\n",
    "\n",
    "interval = 5 # seconds\n",
    "ts_name = 'timestamp'\n",
    "ws = 600 # seconds\n",
    "\n",
    "print(\"====> align timestamps...\")\n",
    "start_time = time.time()\n",
    "gps_data = round_timestamp(gps_data, ts_name, interval).cache()\n",
    "gps_data.count()\n",
    "elapsed_time = time.time() - start_time\n",
    "print(\"      time elapsed: {}\".format(time.strftime(\"%H:%M:%S\", time.gmtime(elapsed_time))))"
   ]
  },
  {
   "cell_type": "code",
   "execution_count": 30,
   "metadata": {},
   "outputs": [
    {
     "name": "stdout",
     "output_type": "stream",
     "text": [
      "====> set fix type...\n",
      "      time elapsed: 00:00:02\n"
     ]
    }
   ],
   "source": [
    "# Set fix type\n",
    "\n",
    "ts_name = 'timestamp'\n",
    "ws=600\n",
    "print(\"====> set fix type...\")\n",
    "start_time = time.time()\n",
    "gps_data = set_fix_type(gps_data, ts_name, ws).cache()\n",
    "gps_data.count()\n",
    "elapsed_time = time.time() - start_time\n",
    "print(\"      time elapsed: {}\".format(time.strftime(\"%H:%M:%S\", time.gmtime(elapsed_time))))"
   ]
  },
  {
   "cell_type": "code",
   "execution_count": 31,
   "metadata": {},
   "outputs": [
    {
     "name": "stdout",
     "output_type": "stream",
     "text": [
      "====> apply velocity filter...\n",
      "      time elapsed: 00:00:00\n"
     ]
    }
   ],
   "source": [
    "# Apply filter on the velocity\n",
    "\n",
    "vmax = 130 # km/h\n",
    "\n",
    "print(\"====> apply velocity filter...\")\n",
    "start_time = time.time()\n",
    "gps_data = filter_speed(gps_data, 'speed', vmax).cache()\n",
    "gps_data.count()\n",
    "elapsed_time = time.time() - start_time\n",
    "print(\"      time elapsed: {}\".format(time.strftime(\"%H:%M:%S\", time.gmtime(elapsed_time))))"
   ]
  },
  {
   "cell_type": "code",
   "execution_count": 32,
   "metadata": {},
   "outputs": [
    {
     "name": "stdout",
     "output_type": "stream",
     "text": [
      "====> apply accelaration filter...\n",
      "      time elapsed: 00:00:01\n"
     ]
    }
   ],
   "source": [
    "# Apply filter over max acceleration\n",
    "                                             \n",
    "scol = 'speed'\n",
    "tscol = 'timestamp'\n",
    "\n",
    "print(\"====> apply accelaration filter...\")\n",
    "start_time = time.time()\n",
    "gps_data = filter_acceleration(gps_data, scol, tscol).cache()\n",
    "gps_data.count()\n",
    "elapsed_time = time.time() - start_time\n",
    "print(\"      time elapsed: {}\".format(time.strftime(\"%H:%M:%S\", time.gmtime(elapsed_time))))"
   ]
  },
  {
   "cell_type": "code",
   "execution_count": 33,
   "metadata": {},
   "outputs": [
    {
     "name": "stdout",
     "output_type": "stream",
     "text": [
      "====> apply height variation filter...\n",
      "      time elapsed: 00:00:03\n"
     ]
    }
   ],
   "source": [
    "# Apply filter on the height variation\n",
    "\n",
    "dhmax=1000\n",
    "print(\"====> apply height variation filter...\")\n",
    "start_time = time.time()\n",
    "gps_data = filter_height(gps_data, 'height', 'timestamp', dhmax).cache()\n",
    "gps_data.count()\n",
    "elapsed_time = time.time() - start_time\n",
    "print(\"      time elapsed: {}\".format(time.strftime(\"%H:%M:%S\", time.gmtime(elapsed_time))))"
   ]
  },
  {
   "cell_type": "code",
   "execution_count": 34,
   "metadata": {},
   "outputs": [
    {
     "data": {
      "text/plain": [
       "115122"
      ]
     },
     "execution_count": 34,
     "metadata": {},
     "output_type": "execute_result"
    }
   ],
   "source": [
    "gps_data.count()"
   ]
  },
  {
   "cell_type": "code",
   "execution_count": 35,
   "metadata": {},
   "outputs": [
    {
     "name": "stdout",
     "output_type": "stream",
     "text": [
      "====> apply three fixes filter...\n",
      "      time elapsed: 00:00:04\n"
     ]
    }
   ],
   "source": [
    "# Apply filter over three fixes (it also recalculates distance column)\n",
    "\n",
    "dcol = 'distance'\n",
    "tscol = 'timestamp'\n",
    "dmin = 10\n",
    "\n",
    "print(\"====> apply three fixes filter...\")\n",
    "start_time = time.time()\n",
    "gps_data = filter_change_dist_3_fixes(gps_data, dcol, tscol, dmin).cache()\n",
    "gps_data.count()\n",
    "elapsed_time = time.time() - start_time\n",
    "print(\"      time elapsed: {}\".format(time.strftime(\"%H:%M:%S\", time.gmtime(elapsed_time))))"
   ]
  },
  {
   "cell_type": "code",
   "execution_count": null,
   "metadata": {},
   "outputs": [
    {
     "data": {
      "text/plain": [
       "115045"
      ]
     },
     "execution_count": 36,
     "metadata": {},
     "output_type": "execute_result"
    }
   ],
   "source": [
    "gps_data.count()"
   ]
  },
  {
   "cell_type": "code",
   "execution_count": null,
   "metadata": {},
   "outputs": [],
   "source": [
    "# Generate missing values up to maximum signal loss\n",
    "\n",
    "print(\"====> fill in missing value...\")\n",
    "start_time = time.time()\n",
    "gps_data = fill_timestamp(gps_data, 'timestamp', 'fixTypeCode', interval, ws).cache()\n",
    "gps_data.count()\n",
    "elapsed_time = time.time() - start_time\n",
    "print(\"      time elapsed: {}\".format(time.strftime(\"%H:%M:%S\", time.gmtime(elapsed_time))))"
   ]
  },
  {
   "cell_type": "code",
   "execution_count": null,
   "metadata": {},
   "outputs": [],
   "source": [
    "gps_data.show(20,False)"
   ]
  },
  {
   "cell_type": "code",
   "execution_count": null,
   "metadata": {},
   "outputs": [],
   "source": [
    "gps_data.printSchema()"
   ]
  },
  {
   "cell_type": "code",
   "execution_count": null,
   "metadata": {},
   "outputs": [],
   "source": [
    "# Filter timestamps over given interval\n",
    "INTERVAL = 5\n",
    "ts_name = 'timestamp'\n",
    "print(\"====> filter GPS data every {} seconds...\".format(str(INTERVAL)))\n",
    "start_time = time.time()\n",
    "gps_data = select_gps_intervals(gps_data, ts_name, INTERVAL)\n",
    "elapsed_time = time.time() - start_time\n",
    "print(\"      time elapsed: {}\".format(time.strftime(\"%H:%M:%S\", time.gmtime(elapsed_time))))"
   ]
  },
  {
   "cell_type": "code",
   "execution_count": null,
   "metadata": {},
   "outputs": [],
   "source": [
    "gps_data = gps_data.limit(100000)"
   ]
  },
  {
   "cell_type": "code",
   "execution_count": 18,
   "metadata": {},
   "outputs": [],
   "source": [
    "gps_data = gps_data.limit(1000)"
   ]
  },
  {
   "cell_type": "code",
   "execution_count": null,
   "metadata": {},
   "outputs": [],
   "source": [
    "gps_data.printSchema()"
   ]
  },
  {
   "cell_type": "code",
   "execution_count": null,
   "metadata": {},
   "outputs": [
    {
     "name": "stdout",
     "output_type": "stream",
     "text": [
      "====> detect trips...\n"
     ]
    }
   ],
   "source": [
    "##%%time\n",
    "\n",
    "vmax = 130 # km/h\n",
    "max_dist_per_min = vmax * 1000/60 # meters\n",
    "min_dist_per_min = 25 # meters\n",
    "min_pause_duration = 120 # second\n",
    "max_pause_time = 180 # seconds\n",
    "\n",
    "ts_name = 'timestamp'\n",
    "dist_name = 'distance'\n",
    "speed_name = 'speed'\n",
    "fix_type_name = 'fixTypeCode'\n",
    "\n",
    "\n",
    "###TEST#PARAMETERS###\n",
    "#min_dist_per_min = 5 # meters\n",
    "#min_pause_duration = 12 # second\n",
    "#max_pause_time = 36 # seconds\n",
    "####################\n",
    "\n",
    "print(\"====> detect trips...\")\n",
    "start_time = time.time()\n",
    "gps_data2 = detect_trips(gps_data, ts_name, dist_name, speed_name, fix_type_name, min_dist_per_min, \n",
    "                 min_pause_duration, max_pause_time, vmax).cache()\n",
    "gps_data2.count()\n",
    "elapsed_time = time.time() - start_time\n",
    "print(\"      time elapsed: {}\".format(time.strftime(\"%H:%M:%S\", time.gmtime(elapsed_time))))\n",
    "\n",
    "#gps_data2.show()"
   ]
  },
  {
   "cell_type": "code",
   "execution_count": null,
   "metadata": {},
   "outputs": [],
   "source": [
    "vmax = 130 # km/h\n",
    "max_dist_per_min = vmax * 1000/60 # meters\n",
    "min_dist_per_min = 25 # meters\n",
    "min_pause_duration = 120 # second\n",
    "max_pause_time = 180 # seconds\n",
    "\n",
    "ts_name = 'timestamp'\n",
    "dist_name = 'distance'\n",
    "speed_name = 'speed'\n",
    "fix_type_name = 'fixTypeCode'\n",
    "\n",
    "detect_trips(gps_data, ts_name, dist_name, speed_name, fix_type_name, min_dist_per_min, \n",
    "                 min_pause_duration, max_pause_time, vmax).printSchema()"
   ]
  },
  {
   "cell_type": "code",
   "execution_count": null,
   "metadata": {},
   "outputs": [],
   "source": [
    "gps_data2.printSchema()"
   ]
  },
  {
   "cell_type": "code",
   "execution_count": null,
   "metadata": {},
   "outputs": [],
   "source": [
    "gps_data.drop(*['lat','lon','dow','distance',\n",
    "         'cum_pause','total_sec','height','speed','heading']).show(40000, False)\n",
    "#.filter(F.col('tripType')==4)\n",
    "gps_data.persist()"
   ]
  },
  {
   "cell_type": "code",
   "execution_count": null,
   "metadata": {},
   "outputs": [],
   "source": [
    "#df.write.csv('partial.csv')\n",
    "#gps_data.coalesce(1).write.format('com.databricks.spark.csv').save('partial.csv',header = 'true')\n",
    "gps_data.coalesce(1).write.option(\"header\",True).option(\"inferSchema\",\"true\").option(\"timestampFormat\", \"yyyy-MM-dd HH:mm:ss\").csv(\"mydata.csv\")"
   ]
  },
  {
   "cell_type": "code",
   "execution_count": null,
   "metadata": {},
   "outputs": [],
   "source": [
    "gps_data.printSchema()"
   ]
  },
  {
   "cell_type": "code",
   "execution_count": null,
   "metadata": {},
   "outputs": [],
   "source": [
    "gps_data_path = '/Users/molinaro/Documents/GITHUB/PALMS/partial/partial.csv'\n",
    "gps_data = spark.read.csv(gps_data_path, header=True, inferSchema=True)\n",
    "#gps_data = gps_data.limit(40000)\n",
    "print(gps_data.printSchema())"
   ]
  },
  {
   "cell_type": "code",
   "execution_count": 22,
   "metadata": {},
   "outputs": [],
   "source": [
    "def classify_trips(df, ts_name, dist_name, speed_name, vehicle_speed_cutoff, bicycle_speed_cutoff, \n",
    "                   walk_speed_cutoff, min_trip_length, min_trip_duration, speed_segment_length, speed_percentile):\n",
    "    \n",
    "    \"\"\"\n",
    "    \n",
    "    \n",
    "    \"\"\"\n",
    "    w = Window.orderBy(ts_name).rowsBetween(0, Window.unboundedFollowing)\n",
    "    w1 = Window.orderBy(ts_name).rowsBetween(Window.unboundedPreceding, 0)\n",
    "    w2 = Window.partitionBy('segment').orderBy(ts_name)\n",
    "    w3 = Window.partitionBy('tripMOT').orderBy(ts_name)\n",
    "    \n",
    "    udf_round = F.udf(lambda x: floor(x+0.5)) # floor(x+0.5) == Math.round(x) in JavaScript\n",
    "    \n",
    "    app_fun = F.udf(lambda x: trip_mode_type(x, vehicle_speed_cutoff, bicycle_speed_cutoff, walk_speed_cutoff))\n",
    "    \n",
    "    df2 = df.withColumn('tripMOT', F.lit(0)) \n",
    "    \n",
    "    df2 = df2.withColumn('trip', F.when(F.col('tripType') == 1,\n",
    "                                         1)\n",
    "                        )\n",
    "    \n",
    "    df2 = df2.withColumn('trip', F.when(F.col('tripType') == 4,\n",
    "                                         4).otherwise(F.col('trip'))\n",
    "                        )\n",
    "    \n",
    "    df2 = df2.withColumn('trip', F.when(F.col('trip').isNull() &\n",
    "                                        (F.col('tripType') == 2),\n",
    "                                        F.col('tripType')\n",
    "                                       ).otherwise(F.col('trip'))\n",
    "                        ).orderBy(ts_name)\n",
    "    \n",
    "    \n",
    "    # set trip start according to speed (recalculate the speed)\n",
    "    df2 = df2.withColumn(speed_name, F.when((F.col(dist_name) != 0.0),\n",
    "                                          3.6*F.col(dist_name)/F.col('duration')\n",
    "                                         ).otherwise(0.0)\n",
    "                        ).orderBy(ts_name)\n",
    "  \n",
    "    df2 = df2.withColumn('roundSpeed', F.when(F.col('trip').isNotNull(), \n",
    "                                              udf_round(F.col(speed_name)).cast(IntegerType())))\n",
    "                                              \n",
    "    \"\"\"\n",
    "    df2 = df2.withColumn('trip', F.when((F.col('trip') == 2) &\n",
    "                                         (F.lag('roundSpeed',1).over(Window.orderBy(ts_name)) == 0),\n",
    "                                         4).otherwise(F.col('trip'))\n",
    "                        ).orderBy(ts_name) ## use this block instead of the following if do not recalculate the speed\n",
    "    \"\"\"\n",
    "    #######\n",
    "    df2 = df2.withColumn('trip', F.when((F.col('trip') == 2) &\n",
    "                                         (F.col('roundSpeed') == 0),\n",
    "                                         4).otherwise(F.col('trip'))\n",
    "                        ).orderBy(ts_name)\n",
    "    #######\n",
    "    \n",
    "    df2 = df2.withColumn('trip', F.when((F.col('trip') == 4) &\n",
    "                                        (F.lag('trip',1).over(Window.orderBy(ts_name)) == 4),\n",
    "                                        F.col('tripType')\n",
    "                                       ).otherwise(F.col('trip'))\n",
    "                        )\n",
    "    \n",
    "    df2 = df2.withColumn('trip', F.when((F.col('tripType') == 3) &\n",
    "                                         (F.lag('tripType',1).over(Window.orderBy(ts_name)) == 2),\n",
    "                                        4).otherwise(F.col('trip'))\n",
    "                        ).orderBy(ts_name)\n",
    "    \n",
    "    df2 = df2.withColumn('trip', F.when((F.col('trip') == 2) &\n",
    "                                         (F.lag('trip',1).over(Window.orderBy(ts_name)) == 4),\n",
    "                                         1).otherwise(F.col('trip'))\n",
    "                        ).orderBy(ts_name)\n",
    "    \n",
    "    df2 = df2.withColumn('trip', F.when(F.col('trip').isNotNull() &\n",
    "                                        (F.col('tripType') == 2) &\n",
    "                                        (F.lag('tripType',1).over(Window.orderBy(ts_name)) == 3),\n",
    "                                        1).otherwise(F.col('trip'))\n",
    "                        ).orderBy(ts_name)\n",
    "    \n",
    "    df2 = df2.withColumn('trip', F.when(F.col('trip').isNotNull() &\n",
    "                                        (F.col('tripType') == 4) &\n",
    "                                        (F.lead('tripType',1).over(Window.orderBy(ts_name)) == 0),\n",
    "                                        4).otherwise(F.col('trip'))\n",
    "                        ).orderBy(ts_name)\n",
    "    \n",
    "    df2 = trip_segmentation(df2, ts_name, speed_segment_length).checkpoint()\n",
    "    \n",
    "    stop = (F.col('trip') == 1)\n",
    "    \n",
    "    ct = df2.filter(stop).count()\n",
    "    s = ct\n",
    "    s_ = -1\n",
    "    \n",
    "    while (s - s_ != 0):\n",
    "\n",
    "        s_ = s\n",
    "        \n",
    "        ct_ = ct\n",
    "        \n",
    "        # identify segments within a trip\n",
    "        df2 = trip_segmentation(df2, ts_name, speed_segment_length).checkpoint()\n",
    "        \n",
    "        ct = df2.filter(stop).count()\n",
    "        \n",
    "        s = ct+ct_\n",
    "        \n",
    "    df2 = trip_segmentation(df2, ts_name, speed_segment_length).checkpoint()\n",
    "    \n",
    "    # set trip mode\n",
    "    #n_percentile = F.expr('percentile_approx(roundSpeed, {})'.format(str(speed_percentile*0.01)))\n",
    "    n_percentile = F.expr('percentile(roundSpeed, {})'.format(str(speed_percentile*0.01)))\n",
    "    \n",
    "      \n",
    "    df2b = df2.select(ts_name,'tripType','trip','segment','roundSpeed')\n",
    "    df2b = df2b.withColumn('tmp', F.when((F.col('roundSpeed') == 0) &\n",
    "                                         (F.col('trip') != 4) &\n",
    "                                         (F.col('tripType') != 0),\n",
    "                                         0)\n",
    "                          )\n",
    "    df2b = df2b.filter(F.col('tmp').isNull()).drop('tmp').orderBy(ts_name)\n",
    "    \n",
    "    df2b = df2b.withColumn('tmp', n_percentile.over(Window.partitionBy('segment'))).orderBy(ts_name)\n",
    "    \n",
    "     \n",
    "    df2 = df2.join(df2b, [ts_name,'tripType','trip','roundSpeed','segment'], how='left').orderBy(ts_name)\n",
    "    df2 = df2.withColumn('tmp', F.when(F.col('segment').isNotNull() &\n",
    "                                       F.col('tmp').isNull(),\n",
    "                                       F.first('tmp', ignorenulls=True)\n",
    "                                        .over(Window.partitionBy('segment')\n",
    "                                                    .rowsBetween(0, Window.unboundedFollowing)\n",
    "                                             )\n",
    "                                      ).otherwise(F.col('tmp'))\n",
    "                         ).orderBy(ts_name)\n",
    "   \n",
    "    df2 = df2.withColumn('tripMOT', F.when(F.col('tmp').isNotNull(),\n",
    "                                           app_fun(F.col('tmp'))\n",
    "                                          ).otherwise(F.col('tripMOT'))\n",
    "                        )\n",
    "    \n",
    "    df2 = df2.withColumn('tripMOT', F.when(F.col('tripType') == 3, None).otherwise(F.col('tripMOT')))\n",
    "   \n",
    "    df2 = df2.drop(*['segment','pause','pause_dist','tmp']).orderBy(ts_name)\n",
    "    \n",
    "    df3 = df2.select(ts_name,'lat','lon','duration','distance','cum_pause','tripType','trip','tripMOT')\\\n",
    "             .filter(F.col('tripType') != 0).orderBy(ts_name)\n",
    "    df2 = df2.drop(*['trip','tripMOT'])\n",
    "    df3 = df3.filter(F.col('tripMOT').isNotNull()).orderBy(ts_name)\n",
    "    \n",
    "    df3 = df3.withColumn('ch', F.when(F.col('tripType') == 1, F.monotonically_increasing_id())\n",
    "                        ).orderBy(ts_name)\n",
    "    df3 = df3.withColumn('ch', F.when(F.col('ch').isNull() &\n",
    "                                       (F.col('tripType') != 0),\n",
    "                                       F.last('ch', ignorenulls=True)\n",
    "                                        .over(Window.orderBy(ts_name).rowsBetween(Window.unboundedPreceding, 0))\n",
    "                                      ).otherwise(F.col('ch'))\n",
    "                        ).orderBy(F.col('ch'))\n",
    "    \n",
    "    # merge adjacent segments with equal tripMOT\n",
    "    w4 = Window.partitionBy('ch').orderBy(ts_name)\n",
    "    df3 = df3.withColumn('trip', F.when((F.col('trip') == 4) &\n",
    "                                            (F.lead('trip',1).over(w4) == 1) &\n",
    "                                            (F.col('tripMOT') == F.lead('tripMOT',1).over(w4)),\n",
    "                                            F.col('tripType')\n",
    "                                           ).otherwise(F.col('trip'))\n",
    "                            ).orderBy(ts_name)\n",
    "    \n",
    "    df3 = df3.withColumn('trip', F.when((F.col('trip') == 1) &\n",
    "                                            (F.lag('trip',1).over(w4) == F.lag('tripType',1).over(w4)) &\n",
    "                                            (F.col('tripMOT') == F.lag('tripMOT',1).over(w4)),\n",
    "                                            F.col('tripType')\n",
    "                                           ).otherwise(F.col('trip'))\n",
    "                            ).orderBy(ts_name)\n",
    "    \n",
    "    df3 = df3.withColumn('trip', F.when((F.col('trip') == 1) &\n",
    "                                            (F.lag('tripType',1).over(w4) == 3),\n",
    "                                            F.col('tripType')\n",
    "                                           ).otherwise(F.col('trip'))\n",
    "                            ).orderBy(ts_name)\n",
    "    \n",
    "    df3 = df3.withColumn('trip', F.when(F.col('trip').isNull() &\n",
    "                                            (F.col('tripType') == 3),\n",
    "                                            F.col('tripType')\n",
    "                                           ).otherwise(F.col('trip'))\n",
    "                            ).orderBy(ts_name)\n",
    "    \n",
    "    # trip segmentation\n",
    "    df3 = trip_segmentation(df3, ts_name, speed_segment_length)\n",
    "    \n",
    "    # remove short trips\n",
    "    df3 = df3.withColumn('cum_dist', F.sum(dist_name).over(w4.rowsBetween(Window.unboundedPreceding,0))\n",
    "                        ).orderBy(ts_name)\n",
    "    \n",
    "    df3 = df3.withColumn('tmp', F.when((F.col('tripType') == 4) &\n",
    "                                       ((F.col('cum_dist') < min_trip_length) |\n",
    "                                        (F.col('pause') < min_trip_duration)),\n",
    "                                       0)\n",
    "                        ).orderBy(ts_name)\n",
    "    \n",
    "    df3 = df3.withColumn('tmp', F.when(F.col('tmp').isNull(),\n",
    "                                       F.last('tmp', ignorenulls=True)\n",
    "                                        .over(w4.rowsBetween(0, Window.unboundedFollowing))\n",
    "                                      ).otherwise(F.col('tmp'))\n",
    "                        ).orderBy(ts_name)\n",
    "    \n",
    "    df3 = df3.withColumn('tmp', F.when(F.col('tmp').isNull() &\n",
    "                                       (F.col('trip') == 4) &\n",
    "                                       ((F.col('cum_dist') < min_trip_length) |\n",
    "                                        (F.col('pause') < min_trip_duration)),\n",
    "                                       1).otherwise(F.col('tmp'))\n",
    "                        ).orderBy(ts_name)\n",
    "                        \n",
    "\n",
    "    df3 = df3.withColumn('tmp', F.when(F.col('tmp').isNull(),\n",
    "                                       F.last('tmp', ignorenulls=True)\n",
    "                                        .over(w2.rowsBetween(0, Window.unboundedFollowing))\n",
    "                                      ).otherwise(F.col('tmp'))\n",
    "                        ).orderBy(ts_name)\n",
    "    \n",
    "    ## reset short isolated trips\n",
    "    df3 = df3.withColumn('trip', F.when(F.col('tmp') == 0, 0).otherwise(F.col('trip')))\n",
    "    df3 = df3.withColumn('tripMOT', F.when(F.col('tmp') == 0, 0).otherwise(F.col('tripMOT')))\n",
    "    \n",
    "    df3 = df3.withColumn('tmp2', F.when((F.col('tmp') == 1) &\n",
    "                                        (F.col('tripType') == 1),\n",
    "                                       2)\n",
    "                        )\n",
    "    df3 = df3.withColumn('tmp2', F.when(F.col('tmp2').isNull(),\n",
    "                                        F.last('tmp2', ignorenulls=True)\n",
    "                                         .over(w2.rowsBetween(Window.unboundedPreceding, 0))\n",
    "                                       ).otherwise(F.col('tmp2'))\n",
    "                        ).orderBy(ts_name)\n",
    "    \n",
    "    df3 = df3.withColumn('trip', F.when(F.col('tmp2') == 2, 0).otherwise(F.col('trip')))\n",
    "    df3 = df3.withColumn('tripMOT', F.when(F.col('tmp2') == 2, 0).otherwise(F.col('tripMOT')))\n",
    "    df3 = df3.withColumn('tmp', F.when(F.col('tmp2') == 2, None).otherwise(F.col('tmp')))\n",
    "    df3 = df3.drop('tmp2')\n",
    "    \n",
    "    ## merge short trip segments\n",
    "    df3 = df3.withColumn('tripMOT', F.when(F.col('tmp') == 1, None).otherwise(F.col('tripMOT')))\n",
    "    \n",
    "    df3 = df3.withColumn('tripMOT', F.when((F.col('tmp') == 1) &\n",
    "                                           (F.col('trip') == 1),\n",
    "                                           F.lag('tripMOT',1).over(Window.orderBy(ts_name))\n",
    "                                          ).otherwise(F.col('tripMOT'))\n",
    "                        ).orderBy(ts_name)\n",
    "    \n",
    "    df3 = df3.withColumn('tripMOT', F.when((F.col('tmp') == 1) &\n",
    "                                           F.col('tripMOT').isNull(),\n",
    "                                           F.last('tripMOT', ignorenulls=True)\n",
    "                                            .over(w2.rowsBetween(Window.unboundedPreceding,0))\n",
    "                                          ).otherwise(F.col('tripMOT'))\n",
    "                        ).orderBy(ts_name)\n",
    "    \n",
    "    df3 = df3.withColumn('trip', F.when((F.col('tmp') == 1) &\n",
    "                                        (F.col('trip') == 1),\n",
    "                                        F.col('tripType')\n",
    "                                       ).otherwise(F.col('trip'))\n",
    "                        )\n",
    "    \n",
    "    df3 = df3.withColumn('trip', F.when(F.col('tmp').isNull() & \n",
    "                                        (F.lead('tmp',1).over(Window.orderBy(ts_name)) == 1) &\n",
    "                                        (F.col('trip') == 4),\n",
    "                                        F.col('tripType')\n",
    "                                       ).otherwise(F.col('trip'))\n",
    "                        )\n",
    "  \n",
    "    ## merge adjacent segments\n",
    "    df3 = df3.withColumn('trip', F.when((F.col('trip') == 4) &\n",
    "                                            (F.lead('trip',1).over(w4) == 1) &\n",
    "                                            (F.col('tripMOT') == F.lead('tripMOT',1).over(w4)),\n",
    "                                            F.col('tripType')\n",
    "                                           ).otherwise(F.col('trip'))\n",
    "                            ).orderBy(ts_name)\n",
    "    \n",
    "    df3 = df3.withColumn('trip', F.when((F.col('trip') == 1) &\n",
    "                                            (F.lag('trip',1).over(w4) == F.lag('tripType',1).over(w4)) &\n",
    "                                            (F.col('tripMOT') == F.lag('tripMOT',1).over(w4)),\n",
    "                                            F.col('tripType')\n",
    "                                           ).otherwise(F.col('trip'))\n",
    "                            ).orderBy(ts_name)\n",
    "    \n",
    "    df3 = df3.withColumn('trip', F.when((F.col('trip') == 1) &\n",
    "                                            (F.lag('tripType',1).over(w4) == 3),\n",
    "                                            F.col('tripType')\n",
    "                                           ).otherwise(F.col('trip'))\n",
    "                            ).orderBy(ts_name)\n",
    "    \n",
    "    df3 = df3.withColumn('trip', F.when(F.col('trip').isNull() &\n",
    "                                            (F.col('tripType') == 3),\n",
    "                                            F.col('tripType')\n",
    "                                           ).otherwise(F.col('trip'))\n",
    "                            ).orderBy(ts_name)\n",
    "    \n",
    "    # trip segmentation\n",
    "    df3 = trip_segmentation(df3, ts_name, speed_segment_length)\n",
    "    df3 = df3.drop('ch').orderBy(ts_name).cache()\n",
    "    \n",
    "    df2 = df2.join(df3, [ts_name,'lat','lon','duration','distance','cum_pause',\n",
    "                         'tripType'], how='left').orderBy(ts_name)\n",
    "    df2 = df2.withColumn('tripMOT', F.when(F.col('tripType') == 3, 0).otherwise(F.col('tripMOT')))\n",
    "    df2 = df2.withColumn('tripMOT', F.when(F.col('tripMOT').isNull(), 0).otherwise(F.col('tripMOT')))\n",
    "    df2 = df2.withColumn('trip', F.when(F.col('trip').isNull(), F.col('tripType')).otherwise(F.col('trip')))\n",
    "    \n",
    "    df3.unpersist()  \n",
    "    \n",
    "    df2 = df2.withColumn('trip', F.when((F.col('tmp') == 1) &\n",
    "                                        (F.col('tripMOT') == 0),\n",
    "                                        0).otherwise(F.col('trip'))\n",
    "                        )\n",
    "    \n",
    "    #df2.select(ts_name,'trip','tripMOT','tmp').show(10000,False)\n",
    "                         \n",
    "    df2 = df2.drop(*['tmp','cum_dist','roundSpeed','pause','pause_dist','segment'])\n",
    "    \n",
    "    # compute trip number\n",
    "    df2 = df2.withColumn('tripNumber', F.when(F.col('trip') == 1, F.monotonically_increasing_id()))\n",
    "    df2 = df2.withColumn('tripNumber', F.when(F.col('tripNumber').isNull() &\n",
    "                                              F.col('trip').isNotNull(),\n",
    "                                              F.last('tripNumber', ignorenulls=True).over(w1)\n",
    "                                             ).otherwise(F.col('tripNumber'))\n",
    "                        ).orderBy(ts_name)\n",
    "    df2 = df2.withColumn('tripNumber', F.when(F.col('tripNumber').isNotNull(),\n",
    "                                              F.col('tripNumber') + F.lit(1)\n",
    "                                             ).otherwise(F.col('tripNumber'))\n",
    "                        )\n",
    "    df2 = df2.withColumn('tripNumber', F.when(F.col('tripType') == 0, 0).otherwise(F.col('tripNumber')))\n",
    "    df2 = df2.withColumn('tripNumber', F.when(F.col('tripNumber').isNull(), 0).otherwise(F.col('tripNumber')))\n",
    "    \n",
    "    # reset tripType\n",
    "    df2 = df2.withColumn('tripType', F.col('trip')).orderBy(ts_name)\n",
    "    df2 = df2.withColumn('tripNumber', F.when((F.col('tripMOT') == 0) &\n",
    "                                              (F.col('tripType') == 0),\n",
    "                                              0).otherwise(F.col('tripNumber'))\n",
    "                         ).orderBy(ts_name)\n",
    "\n",
    "    df2 = df2.select(ts_name,'dow','lat','lon','fixTypeCode','tripNumber','tripType','tripMOT')\n",
    "\n",
    "    return df2"
   ]
  },
  {
   "cell_type": "code",
   "execution_count": 23,
   "metadata": {},
   "outputs": [],
   "source": [
    "def trip_segmentation(df, ts_name, speed_segment_length):\n",
    "    \n",
    "    \"\"\"\n",
    "    \n",
    "    \"\"\"\n",
    "    \n",
    "    w1 = Window.orderBy(ts_name).rowsBetween(Window.unboundedPreceding, 0)\n",
    "    w2 = Window.partitionBy('segment').orderBy(ts_name)\n",
    "    \n",
    "    app_fun = F.udf(lambda a,b,c,d: calc_distance(a,b,c,d))\n",
    "    \n",
    "    # trip segmentation\n",
    "    \n",
    "    df2 = df.withColumn('segment', F.when(F.col('trip') == 1, F.monotonically_increasing_id()))\n",
    "    df2 = df2.withColumn('segment', F.when(F.col('segment').isNull() &\n",
    "                                           F.col('trip').isNotNull(),\n",
    "                                           F.last('segment', ignorenulls=True).over(w1)\n",
    "                                           ).otherwise(F.col('segment'))\n",
    "                        ).orderBy(ts_name)\n",
    "    \n",
    "    # compute duration and traveled distance for each segment\n",
    "    \n",
    "    df2 = df2.withColumn('pause', F.when(F.col('trip') == 1,\n",
    "                                         F.col('duration')\n",
    "                                        )\n",
    "                        )\n",
    "    \n",
    "    df2 = df2.withColumn('pause_dist', F.when(F.col('trip') == 1,\n",
    "                                              0.0\n",
    "                                             )\n",
    "                        )\n",
    "    \n",
    "    df2 = df2.withColumn('pause', F.when(F.col('pause') == F.col('duration'),\n",
    "                                         F.col('cum_pause') - F.col('duration')\n",
    "                                        ).otherwise(F.col('pause'))\n",
    "                        ).orderBy(ts_name)\n",
    "        \n",
    "    df2 = df2.withColumn('pause', F.when(F.col('segment').isNotNull() &\n",
    "                                         F.col('pause').isNull(), \n",
    "                                         F.last('pause', ignorenulls=True).over(w1)\n",
    "                                        ).otherwise(F.col('pause'))\n",
    "                        ).orderBy(ts_name)\n",
    "        \n",
    "    df2 = df2.withColumn('pause', F.when(F.col('segment').isNotNull(),\n",
    "                                         F.col('cum_pause') - F.col('pause')\n",
    "                                        ).otherwise(F.col('pause'))\n",
    "                        )\n",
    "    \n",
    "         \n",
    "    df2 = df2.withColumn('lat2', F.when(F.col('pause_dist').isNotNull(), F.col('lat')))\n",
    "    df2 = df2.withColumn('lat2', F.when(F.col('pause_dist').isNull(),\n",
    "                                        F.last('lat2', ignorenulls=True).over(w2)\n",
    "                                       )\n",
    "                                  .otherwise(F.col('lat'))\n",
    "                        ).orderBy(ts_name)\n",
    "    df2 = df2.withColumn('lat2', F.when(F.col('lat2').isNull(), F.col('lat')).otherwise(F.col('lat2')))\n",
    "                        \n",
    "    df2 = df2.withColumn('lon2', F.when(F.col('pause_dist').isNotNull(), F.col('lon')))\n",
    "    df2 = df2.withColumn('lon2', F.when(F.col('pause_dist').isNull(), \n",
    "                                        F.last('lon2', ignorenulls=True).over(w2)\n",
    "                                       ).otherwise(F.col('lon'))\n",
    "                            ).orderBy(ts_name)\n",
    "    df2 = df2.withColumn('lon2', F.when(F.col('lon2').isNull(), F.col('lon')).otherwise(F.col('lon2')))\n",
    "        \n",
    "    df2 = df2.withColumn('pause_dist', F.when(F.col('segment').isNotNull() &\n",
    "                                              F.col('pause_dist').isNull(),\n",
    "                                              app_fun(F.col('lat'),F.col('lon'),F.col('lat2'),F.col('lon2'))\n",
    "                                             ).otherwise(F.col('pause_dist'))\n",
    "                        )\n",
    "    df2 = df2.drop(*['lat2','lon2'])\n",
    "    \n",
    "    # remove short sub-trips \n",
    "    \n",
    "    \n",
    "    df2 = df2.withColumn('t1', F.when((F.col('trip') == 4) &\n",
    "                                        (F.col('pause_dist') <= speed_segment_length) &\n",
    "                                        F.lead('trip',1).over(Window.orderBy(ts_name)).isNotNull(),\n",
    "                                        F.col('segment') \n",
    "                                       )\n",
    "                        )\n",
    "    \n",
    "    df2 = df2.withColumn('t1', F.when(F.col('segment').isNotNull() &\n",
    "                                      F.col('t1').isNull(),\n",
    "                                      F.first('t1', ignorenulls=True)\n",
    "                                       .over(Window.partitionBy('segment')\n",
    "                                                   .rowsBetween(0, Window.unboundedFollowing)\n",
    "                                            )\n",
    "                                      ).otherwise(F.col('t1'))\n",
    "                         ).orderBy(ts_name)\n",
    "    \n",
    "    df2 = df2.withColumn('t1', F.when(F.col('t1').isNotNull() &\n",
    "                                      (F.col('trip') == 4) &\n",
    "                                      F.lead('t1',1).over(Window.orderBy(ts_name)).isNotNull(),\n",
    "                                      F.lead('t1',1).over(Window.orderBy(ts_name))\n",
    "                                     ).otherwise(F.col('t1'))\n",
    "                        ).orderBy(ts_name)\n",
    "    \n",
    "    df2 = df2.withColumn('t2', F.when((F.col('trip') == 4) &\n",
    "                                        (F.col('pause_dist') <= speed_segment_length) &\n",
    "                                        F.lead('trip',1).over(Window.orderBy(ts_name)).isNotNull(),\n",
    "                                        F.col('pause_dist')\n",
    "                                       ).otherwise(0.0)\n",
    "                        )\n",
    "    df2 = df2.withColumn('t3', F.when(F.col('t1').isNotNull(),\n",
    "                                      F.sum('t2').over(Window.partitionBy('t1').orderBy(ts_name)\n",
    "                                                             .rowsBetween(Window.unboundedPreceding,0)\n",
    "                                                      )\n",
    "                                     )\n",
    "                        ).orderBy(ts_name)\n",
    "    df2 = df2.withColumn('t2', F.when((F.col('trip') == 4) &\n",
    "                                      (F.col('t2') == F.col('t3')),\n",
    "                                     F.col('t2') + F.lag('t3',1).over(Window.orderBy(ts_name))\n",
    "                                     ).otherwise(F.col('t2'))\n",
    "                        ).orderBy(ts_name)\n",
    "    df2 = df2.withColumn('t3', F.when(F.col('t1').isNotNull(),\n",
    "                                      F.sum('t2').over(Window.partitionBy('t1').orderBy(ts_name)\n",
    "                                                             .rowsBetween(Window.unboundedPreceding,0)\n",
    "                                                      )\n",
    "                                     )\n",
    "                        ).drop(*['t1','t2']).orderBy(ts_name)\n",
    "  \n",
    "    df2 = df2.withColumn('trip', F.when((F.col('trip') == 4) &\n",
    "                                        (F.col('t3') <= speed_segment_length) &\n",
    "                                        F.lead('trip',1).over(Window.orderBy(ts_name)).isNotNull(),\n",
    "                                        F.col('tripType')\n",
    "                                       ).otherwise(F.col('trip'))\n",
    "                        ).orderBy(ts_name)\n",
    "    \n",
    "    df2 = df2.withColumn('trip', F.when((F.col('trip') == 1) &\n",
    "                                        (F.lag('t3',1).over(Window.orderBy(ts_name)) <= speed_segment_length),\n",
    "                                        F.col('tripType')\n",
    "                                       ).otherwise(F.col('trip'))\n",
    "                        ).drop('t3').orderBy(ts_name)\n",
    "    \n",
    "    return df2"
   ]
  },
  {
   "cell_type": "code",
   "execution_count": 24,
   "metadata": {},
   "outputs": [
    {
     "name": "stdout",
     "output_type": "stream",
     "text": [
      "====> classify trips...\n",
      "      time elapsed: 00:00:15\n"
     ]
    }
   ],
   "source": [
    "#%%time\n",
    "\n",
    "vehicle_speed_cutoff = 35 # km/h\n",
    "bicycle_speed_cutoff = 10 # km/h \n",
    "walk_speed_cutoff = 1 # km/h\n",
    "speed_percentile = 90\n",
    "speed_segment_length = 30 # m\n",
    "min_trip_length = 100 # m\n",
    "min_trip_duration = 180 # sec\n",
    "\n",
    "ts_name = 'timestamp'\n",
    "dist_name = 'distance'\n",
    "speed_name = 'speed'\n",
    "\n",
    "print(\"====> classify trips...\")\n",
    "start_time = time.time()\n",
    "gps_data3 = classify_trips(gps_data2, ts_name, dist_name, speed_name, \n",
    "                           vehicle_speed_cutoff, bicycle_speed_cutoff, walk_speed_cutoff, \n",
    "                           min_trip_length, min_trip_duration, speed_segment_length, speed_percentile).cache()\n",
    "gps_data3.count()\n",
    "elapsed_time = time.time() - start_time\n",
    "print(\"      time elapsed: {}\".format(time.strftime(\"%H:%M:%S\", time.gmtime(elapsed_time))))"
   ]
  },
  {
   "cell_type": "code",
   "execution_count": 25,
   "metadata": {},
   "outputs": [
    {
     "name": "stdout",
     "output_type": "stream",
     "text": [
      "+-------------------+---+---------+-----------+-----------+----------+--------+-------+\n",
      "|timestamp          |dow|lat      |lon        |fixTypeCode|tripNumber|tripType|tripMOT|\n",
      "+-------------------+---+---------+-----------+-----------+----------+--------+-------+\n",
      "|2016-08-16 18:23:25|2  |51.01609 |-114.099305|2          |0         |0       |0      |\n",
      "|2016-08-16 18:23:30|2  |51.016075|-114.09925 |1          |0         |0       |0      |\n",
      "|2016-08-16 18:23:35|2  |51.016078|-114.099263|1          |0         |0       |0      |\n",
      "|2016-08-16 18:23:40|2  |51.016072|-114.09925 |1          |0         |0       |0      |\n",
      "|2016-08-16 18:23:45|2  |51.016083|-114.099242|1          |0         |0       |0      |\n",
      "|2016-08-16 18:23:50|2  |51.016085|-114.09924 |1          |0         |0       |0      |\n",
      "|2016-08-16 18:23:55|2  |51.016088|-114.099247|1          |0         |0       |0      |\n",
      "|2016-08-16 18:24:00|2  |51.016088|-114.099247|1          |0         |0       |0      |\n",
      "|2016-08-16 18:24:05|2  |51.016092|-114.099217|1          |0         |0       |0      |\n",
      "|2016-08-16 18:24:10|2  |51.016152|-114.099205|1          |0         |0       |0      |\n",
      "|2016-08-16 18:24:15|2  |51.016205|-114.099188|1          |0         |0       |0      |\n",
      "|2016-08-16 18:24:20|2  |51.016223|-114.099218|1          |0         |0       |0      |\n",
      "|2016-08-16 18:24:25|2  |51.016218|-114.099243|1          |0         |0       |0      |\n",
      "|2016-08-16 18:24:30|2  |51.016218|-114.099233|1          |0         |0       |0      |\n",
      "|2016-08-16 18:24:35|2  |51.016218|-114.099218|1          |0         |0       |0      |\n",
      "|2016-08-16 18:24:40|2  |51.016217|-114.099218|1          |0         |0       |0      |\n",
      "|2016-08-16 18:24:45|2  |51.016217|-114.099217|1          |0         |0       |0      |\n",
      "|2016-08-16 18:24:50|2  |51.016215|-114.099215|1          |0         |0       |0      |\n",
      "|2016-08-16 18:24:55|2  |51.016217|-114.099222|1          |0         |0       |0      |\n",
      "|2016-08-16 18:25:00|2  |51.016225|-114.099238|1          |0         |0       |0      |\n",
      "|2016-08-16 18:25:05|2  |51.016247|-114.09926 |1          |0         |0       |0      |\n",
      "|2016-08-16 18:25:10|2  |51.016253|-114.099268|1          |0         |0       |0      |\n",
      "|2016-08-16 18:25:15|2  |51.016243|-114.099262|1          |0         |0       |0      |\n",
      "|2016-08-16 18:25:20|2  |51.016252|-114.099263|1          |0         |0       |0      |\n",
      "|2016-08-16 18:25:25|2  |51.016253|-114.099265|1          |0         |0       |0      |\n",
      "|2016-08-16 18:25:30|2  |51.016252|-114.099263|1          |0         |0       |0      |\n",
      "|2016-08-16 18:25:35|2  |51.016242|-114.099255|1          |0         |0       |0      |\n",
      "|2016-08-16 18:25:40|2  |51.016227|-114.09924 |1          |0         |0       |0      |\n",
      "|2016-08-16 18:25:45|2  |51.016213|-114.09923 |1          |0         |0       |0      |\n",
      "|2016-08-16 18:25:50|2  |51.016207|-114.099223|1          |0         |0       |0      |\n",
      "|2016-08-16 18:25:55|2  |51.0162  |-114.099215|1          |0         |0       |0      |\n",
      "|2016-08-16 18:26:00|2  |51.016195|-114.09921 |1          |0         |0       |0      |\n",
      "|2016-08-16 18:26:05|2  |51.016188|-114.099205|1          |0         |0       |0      |\n",
      "|2016-08-16 18:26:20|2  |51.015785|-114.09903 |1          |0         |0       |0      |\n",
      "|2016-08-16 18:26:25|2  |51.016002|-114.099183|1          |0         |0       |0      |\n",
      "|2016-08-16 18:26:30|2  |51.016085|-114.099218|1          |0         |0       |0      |\n",
      "|2016-08-16 18:26:35|2  |51.016197|-114.099287|1          |0         |0       |0      |\n",
      "|2016-08-16 18:26:40|2  |51.016213|-114.09927 |1          |0         |0       |0      |\n",
      "|2016-08-16 18:26:45|2  |51.016217|-114.099242|1          |0         |0       |0      |\n",
      "|2016-08-16 18:26:50|2  |51.016188|-114.099217|1          |0         |0       |0      |\n",
      "|2016-08-16 18:26:55|2  |51.016163|-114.099185|1          |0         |0       |0      |\n",
      "|2016-08-16 18:27:00|2  |51.016182|-114.099203|1          |0         |0       |0      |\n",
      "|2016-08-16 18:27:05|2  |51.016192|-114.099223|1          |0         |0       |0      |\n",
      "|2016-08-16 18:27:10|2  |51.016195|-114.09922 |1          |0         |0       |0      |\n",
      "|2016-08-16 18:27:15|2  |51.016192|-114.099215|1          |0         |0       |0      |\n",
      "|2016-08-16 18:27:20|2  |51.016183|-114.099205|1          |0         |0       |0      |\n",
      "|2016-08-16 18:27:25|2  |51.016183|-114.099203|1          |0         |0       |0      |\n",
      "|2016-08-16 18:27:30|2  |51.016192|-114.099208|1          |0         |0       |0      |\n",
      "|2016-08-16 18:27:35|2  |51.016197|-114.099212|1          |0         |0       |0      |\n",
      "|2016-08-16 18:27:40|2  |51.016203|-114.099212|1          |0         |0       |0      |\n",
      "|2016-08-16 18:27:45|2  |51.016208|-114.099212|1          |0         |0       |0      |\n",
      "|2016-08-16 18:27:50|2  |51.016207|-114.099212|1          |0         |0       |0      |\n",
      "|2016-08-16 18:27:55|2  |51.016205|-114.099238|1          |0         |0       |0      |\n",
      "|2016-08-16 18:28:00|2  |51.0162  |-114.099272|1          |0         |0       |0      |\n",
      "|2016-08-16 18:28:05|2  |51.016195|-114.099297|1          |0         |0       |0      |\n",
      "|2016-08-16 18:28:10|2  |51.016193|-114.099298|1          |0         |0       |0      |\n",
      "|2016-08-16 18:28:15|2  |51.016193|-114.0993  |1          |0         |0       |0      |\n",
      "|2016-08-16 18:28:20|2  |51.016195|-114.099302|1          |0         |0       |0      |\n",
      "|2016-08-16 18:28:25|2  |51.016193|-114.099302|1          |0         |0       |0      |\n",
      "|2016-08-16 18:28:30|2  |51.016193|-114.099303|1          |0         |0       |0      |\n",
      "|2016-08-16 18:28:35|2  |51.016193|-114.099305|1          |0         |0       |0      |\n",
      "|2016-08-16 18:28:40|2  |51.016193|-114.099305|1          |0         |0       |0      |\n",
      "|2016-08-16 18:28:45|2  |51.016193|-114.099307|1          |0         |0       |0      |\n",
      "|2016-08-16 18:28:50|2  |51.016193|-114.099307|1          |0         |0       |0      |\n",
      "|2016-08-16 18:28:55|2  |51.016193|-114.099308|1          |0         |0       |0      |\n",
      "|2016-08-16 18:29:00|2  |51.016192|-114.099308|1          |0         |0       |0      |\n",
      "|2016-08-16 18:29:05|2  |51.016192|-114.099308|1          |0         |0       |0      |\n",
      "|2016-08-16 18:29:10|2  |51.016192|-114.099308|1          |0         |0       |0      |\n",
      "|2016-08-16 18:29:15|2  |51.016192|-114.099308|1          |0         |0       |0      |\n",
      "|2016-08-16 18:29:20|2  |51.016193|-114.09931 |1          |0         |0       |0      |\n",
      "|2016-08-16 18:29:25|2  |51.016193|-114.09931 |1          |0         |0       |0      |\n",
      "|2016-08-16 18:29:30|2  |51.016192|-114.09931 |1          |0         |0       |0      |\n",
      "|2016-08-16 18:29:35|2  |51.016192|-114.099312|1          |0         |0       |0      |\n",
      "|2016-08-16 18:29:40|2  |51.016192|-114.099312|1          |0         |0       |0      |\n",
      "|2016-08-16 18:29:45|2  |51.016192|-114.099312|1          |0         |0       |0      |\n",
      "|2016-08-16 18:29:50|2  |51.016192|-114.099313|1          |0         |0       |0      |\n",
      "|2016-08-16 18:29:55|2  |51.016192|-114.099313|1          |0         |0       |0      |\n",
      "|2016-08-16 18:30:00|2  |51.016192|-114.099315|1          |0         |0       |0      |\n",
      "|2016-08-16 18:30:05|2  |51.016192|-114.099317|1          |0         |0       |0      |\n",
      "|2016-08-16 18:30:10|2  |51.01619 |-114.099317|1          |0         |0       |0      |\n",
      "|2016-08-16 18:30:15|2  |51.01619 |-114.099318|1          |0         |0       |0      |\n",
      "|2016-08-16 18:30:20|2  |51.01619 |-114.09932 |1          |0         |0       |0      |\n",
      "|2016-08-16 18:30:25|2  |51.016188|-114.09932 |1          |0         |0       |0      |\n",
      "|2016-08-16 18:30:30|2  |51.016188|-114.09932 |1          |0         |0       |0      |\n",
      "|2016-08-16 18:30:35|2  |51.016188|-114.09932 |1          |0         |0       |0      |\n",
      "|2016-08-16 18:30:40|2  |51.016188|-114.099322|1          |0         |0       |0      |\n",
      "|2016-08-16 18:30:45|2  |51.016188|-114.099322|1          |0         |0       |0      |\n",
      "|2016-08-16 18:30:50|2  |51.016188|-114.099322|1          |0         |0       |0      |\n",
      "|2016-08-16 18:30:55|2  |51.016188|-114.099322|1          |0         |0       |0      |\n",
      "|2016-08-16 18:31:00|2  |51.016188|-114.099323|1          |0         |0       |0      |\n",
      "|2016-08-16 18:31:05|2  |51.016187|-114.099345|1          |0         |0       |0      |\n",
      "|2016-08-16 18:31:10|2  |51.01618 |-114.099368|1          |0         |0       |0      |\n",
      "|2016-08-16 18:31:15|2  |51.016173|-114.099385|1          |0         |0       |0      |\n",
      "|2016-08-16 18:31:20|2  |51.016158|-114.099403|1          |0         |0       |0      |\n",
      "|2016-08-16 18:31:25|2  |51.016147|-114.099425|1          |0         |0       |0      |\n",
      "|2016-08-16 18:31:30|2  |51.016145|-114.099427|1          |0         |0       |0      |\n",
      "|2016-08-16 18:31:35|2  |51.01614 |-114.099437|1          |0         |0       |0      |\n",
      "|2016-08-16 18:31:40|2  |51.016138|-114.099448|1          |0         |0       |0      |\n",
      "|2016-08-16 18:31:45|2  |51.016142|-114.099432|1          |0         |0       |0      |\n",
      "|2016-08-16 18:31:50|2  |51.016142|-114.099432|1          |0         |0       |0      |\n",
      "|2016-08-16 18:31:55|2  |51.016142|-114.099432|1          |0         |0       |0      |\n",
      "|2016-08-16 18:32:00|2  |51.016142|-114.099432|1          |0         |0       |0      |\n",
      "|2016-08-16 18:32:05|2  |51.016142|-114.09943 |1          |0         |0       |0      |\n",
      "|2016-08-16 18:32:10|2  |51.016142|-114.09943 |1          |0         |0       |0      |\n",
      "|2016-08-16 18:32:15|2  |51.016142|-114.09943 |1          |0         |0       |0      |\n",
      "|2016-08-16 18:32:20|2  |51.016142|-114.099428|1          |0         |0       |0      |\n",
      "|2016-08-16 18:32:25|2  |51.016142|-114.099428|1          |0         |0       |0      |\n",
      "|2016-08-16 18:32:30|2  |51.016142|-114.099428|1          |0         |0       |0      |\n",
      "|2016-08-16 18:32:35|2  |51.01614 |-114.099428|1          |0         |0       |0      |\n",
      "|2016-08-16 18:32:40|2  |51.01614 |-114.099428|1          |0         |0       |0      |\n",
      "|2016-08-16 18:32:45|2  |51.01614 |-114.099428|1          |0         |0       |0      |\n",
      "|2016-08-16 18:32:50|2  |51.01614 |-114.099428|1          |0         |0       |0      |\n",
      "|2016-08-16 18:32:55|2  |51.01614 |-114.099428|1          |0         |0       |0      |\n",
      "|2016-08-16 18:33:00|2  |51.01614 |-114.099427|1          |0         |0       |0      |\n",
      "|2016-08-16 18:33:05|2  |51.016142|-114.099427|1          |0         |0       |0      |\n",
      "|2016-08-16 18:33:10|2  |51.016142|-114.099427|1          |0         |0       |0      |\n",
      "|2016-08-16 18:33:15|2  |51.016142|-114.099425|1          |0         |0       |0      |\n",
      "|2016-08-16 18:33:20|2  |51.016142|-114.099425|1          |0         |0       |0      |\n",
      "|2016-08-16 18:33:25|2  |51.016142|-114.099425|1          |0         |0       |0      |\n",
      "|2016-08-16 18:33:30|2  |51.016142|-114.099425|1          |0         |0       |0      |\n",
      "|2016-08-16 18:33:35|2  |51.016142|-114.099425|1          |0         |0       |0      |\n",
      "|2016-08-16 18:33:40|2  |51.016142|-114.099425|1          |0         |0       |0      |\n",
      "|2016-08-16 18:33:45|2  |51.016142|-114.099425|1          |0         |0       |0      |\n",
      "|2016-08-16 18:33:50|2  |51.016142|-114.099425|1          |0         |0       |0      |\n",
      "|2016-08-16 18:33:55|2  |51.016142|-114.099425|1          |0         |0       |0      |\n",
      "|2016-08-16 18:34:00|2  |51.016142|-114.099425|1          |0         |0       |0      |\n",
      "|2016-08-16 18:34:05|2  |51.016142|-114.099425|1          |0         |0       |0      |\n",
      "|2016-08-16 18:34:10|2  |51.016142|-114.099423|1          |0         |0       |0      |\n",
      "|2016-08-16 18:34:15|2  |51.016142|-114.099423|1          |0         |0       |0      |\n",
      "|2016-08-16 18:34:20|2  |51.016142|-114.099423|1          |0         |0       |0      |\n",
      "|2016-08-16 18:34:25|2  |51.016142|-114.099423|1          |0         |0       |0      |\n",
      "|2016-08-16 18:34:30|2  |51.016142|-114.099423|1          |0         |0       |0      |\n",
      "|2016-08-16 18:34:35|2  |51.016142|-114.099423|1          |0         |0       |0      |\n",
      "|2016-08-16 18:34:40|2  |51.016142|-114.099422|1          |0         |0       |0      |\n",
      "|2016-08-16 18:34:45|2  |51.016142|-114.099422|1          |0         |0       |0      |\n",
      "|2016-08-16 18:34:50|2  |51.016142|-114.099422|1          |0         |0       |0      |\n",
      "|2016-08-16 18:34:55|2  |51.016142|-114.099422|1          |0         |0       |0      |\n",
      "|2016-08-16 18:35:00|2  |51.016142|-114.099422|1          |0         |0       |0      |\n",
      "|2016-08-16 18:35:05|2  |51.016142|-114.09942 |1          |0         |0       |0      |\n",
      "|2016-08-16 18:35:10|2  |51.016142|-114.09942 |1          |0         |0       |0      |\n",
      "|2016-08-16 18:35:15|2  |51.016142|-114.09942 |1          |0         |0       |0      |\n",
      "|2016-08-16 18:35:20|2  |51.016142|-114.09942 |1          |0         |0       |0      |\n",
      "|2016-08-16 18:35:25|2  |51.016142|-114.09942 |1          |0         |0       |0      |\n",
      "|2016-08-16 18:35:30|2  |51.016142|-114.09942 |1          |0         |0       |0      |\n",
      "|2016-08-16 18:35:35|2  |51.016142|-114.09942 |1          |0         |0       |0      |\n",
      "|2016-08-16 18:35:40|2  |51.016142|-114.09942 |1          |0         |0       |0      |\n",
      "|2016-08-16 18:35:45|2  |51.016142|-114.09942 |1          |0         |0       |0      |\n",
      "|2016-08-16 18:35:50|2  |51.016142|-114.09942 |1          |0         |0       |0      |\n",
      "|2016-08-16 18:35:55|2  |51.016142|-114.09942 |1          |0         |0       |0      |\n",
      "|2016-08-16 18:36:00|2  |51.016142|-114.09942 |1          |0         |0       |0      |\n",
      "|2016-08-16 18:36:05|2  |51.01614 |-114.09942 |1          |0         |0       |0      |\n",
      "|2016-08-16 18:36:10|2  |51.01614 |-114.099418|1          |0         |0       |0      |\n",
      "|2016-08-16 18:36:15|2  |51.01614 |-114.099418|1          |0         |0       |0      |\n",
      "|2016-08-16 18:36:20|2  |51.01614 |-114.099418|1          |0         |0       |0      |\n",
      "|2016-08-16 18:36:25|2  |51.01614 |-114.099418|1          |0         |0       |0      |\n",
      "|2016-08-16 18:36:30|2  |51.01614 |-114.099418|1          |0         |0       |0      |\n",
      "|2016-08-16 18:36:35|2  |51.01614 |-114.099417|1          |0         |0       |0      |\n",
      "|2016-08-16 18:36:40|2  |51.01614 |-114.099417|1          |0         |0       |0      |\n",
      "|2016-08-16 18:36:45|2  |51.01614 |-114.099417|1          |0         |0       |0      |\n",
      "|2016-08-16 18:36:50|2  |51.01614 |-114.099417|1          |0         |0       |0      |\n",
      "|2016-08-16 18:36:55|2  |51.01614 |-114.099417|1          |0         |0       |0      |\n",
      "|2016-08-16 18:37:00|2  |51.01614 |-114.099417|1          |0         |0       |0      |\n",
      "|2016-08-16 18:37:05|2  |51.01614 |-114.099417|1          |0         |0       |0      |\n",
      "|2016-08-16 18:37:10|2  |51.01614 |-114.099417|1          |0         |0       |0      |\n",
      "|2016-08-16 18:37:15|2  |51.01614 |-114.099417|1          |0         |0       |0      |\n",
      "|2016-08-16 18:37:20|2  |51.016142|-114.099417|1          |0         |0       |0      |\n",
      "|2016-08-16 18:37:25|2  |51.016142|-114.099415|1          |0         |0       |0      |\n",
      "|2016-08-16 18:37:30|2  |51.016142|-114.099415|1          |0         |0       |0      |\n",
      "|2016-08-16 18:37:35|2  |51.016142|-114.099415|1          |0         |0       |0      |\n",
      "|2016-08-16 18:37:40|2  |51.016142|-114.099415|1          |0         |0       |0      |\n",
      "|2016-08-16 18:37:45|2  |51.016142|-114.099417|1          |0         |0       |0      |\n",
      "|2016-08-16 18:37:50|2  |51.016142|-114.099417|1          |0         |0       |0      |\n",
      "|2016-08-16 18:37:55|2  |51.016142|-114.099417|1          |0         |0       |0      |\n",
      "|2016-08-16 18:38:00|2  |51.016142|-114.099418|1          |0         |0       |0      |\n",
      "|2016-08-16 18:38:05|2  |51.016142|-114.099418|1          |0         |0       |0      |\n",
      "|2016-08-16 18:38:10|2  |51.016142|-114.099418|1          |0         |0       |0      |\n",
      "|2016-08-16 18:38:15|2  |51.016142|-114.099418|1          |0         |0       |0      |\n",
      "|2016-08-16 18:38:20|2  |51.016142|-114.099418|1          |0         |0       |0      |\n",
      "|2016-08-16 18:38:25|2  |51.016143|-114.099418|1          |0         |0       |0      |\n",
      "|2016-08-16 18:38:30|2  |51.016143|-114.099418|1          |0         |0       |0      |\n",
      "|2016-08-16 18:38:35|2  |51.016143|-114.099418|1          |0         |0       |0      |\n",
      "|2016-08-16 18:38:40|2  |51.016163|-114.099432|1          |0         |0       |0      |\n",
      "|2016-08-16 18:38:45|2  |51.016167|-114.099445|1          |0         |0       |0      |\n",
      "|2016-08-16 18:38:50|2  |51.01617 |-114.099438|1          |0         |0       |0      |\n",
      "|2016-08-16 18:38:55|2  |51.01617 |-114.099438|1          |0         |0       |0      |\n",
      "|2016-08-16 18:39:00|2  |51.01617 |-114.099438|1          |0         |0       |0      |\n",
      "|2016-08-16 18:39:05|2  |51.01617 |-114.099438|1          |0         |0       |0      |\n",
      "|2016-08-16 18:39:10|2  |51.01617 |-114.099438|1          |0         |0       |0      |\n",
      "|2016-08-16 18:39:15|2  |51.016172|-114.099438|1          |0         |0       |0      |\n",
      "|2016-08-16 18:39:20|2  |51.016172|-114.099437|1          |0         |0       |0      |\n",
      "|2016-08-16 18:39:25|2  |51.016172|-114.099437|1          |0         |0       |0      |\n",
      "|2016-08-16 18:39:30|2  |51.016172|-114.099437|1          |0         |0       |0      |\n",
      "|2016-08-16 18:39:35|2  |51.016172|-114.099437|1          |0         |0       |0      |\n",
      "|2016-08-16 18:39:40|2  |51.016172|-114.099437|1          |0         |0       |0      |\n",
      "|2016-08-16 18:39:45|2  |51.016172|-114.099437|1          |0         |0       |0      |\n",
      "|2016-08-16 18:39:50|2  |51.016172|-114.099437|1          |0         |0       |0      |\n",
      "|2016-08-16 18:39:55|2  |51.016172|-114.099435|1          |0         |0       |0      |\n",
      "|2016-08-16 18:40:00|2  |51.016172|-114.099437|1          |0         |0       |0      |\n",
      "|2016-08-16 18:40:05|2  |51.016172|-114.099437|1          |0         |0       |0      |\n",
      "|2016-08-16 18:40:10|2  |51.016172|-114.099437|1          |0         |0       |0      |\n",
      "|2016-08-16 18:40:15|2  |51.016172|-114.099437|1          |0         |0       |0      |\n",
      "|2016-08-16 18:40:20|2  |51.016173|-114.099437|1          |0         |0       |0      |\n",
      "|2016-08-16 18:40:25|2  |51.016173|-114.099437|1          |0         |0       |0      |\n",
      "|2016-08-16 18:40:30|2  |51.016173|-114.099437|1          |0         |0       |0      |\n",
      "|2016-08-16 18:40:35|2  |51.016173|-114.099438|1          |0         |0       |0      |\n",
      "|2016-08-16 18:40:40|2  |51.016173|-114.099438|1          |0         |0       |0      |\n",
      "|2016-08-16 18:40:45|2  |51.016173|-114.099438|1          |0         |0       |0      |\n",
      "|2016-08-16 18:40:50|2  |51.016173|-114.099437|1          |0         |0       |0      |\n",
      "|2016-08-16 18:40:55|2  |51.016172|-114.099438|1          |0         |0       |0      |\n",
      "|2016-08-16 18:41:00|2  |51.016172|-114.099438|1          |0         |0       |0      |\n",
      "|2016-08-16 18:41:05|2  |51.016172|-114.099438|1          |0         |0       |0      |\n",
      "|2016-08-16 18:41:10|2  |51.016172|-114.099438|1          |0         |0       |0      |\n",
      "|2016-08-16 18:41:15|2  |51.016172|-114.099438|1          |0         |0       |0      |\n",
      "|2016-08-16 18:41:20|2  |51.016172|-114.099438|1          |0         |0       |0      |\n",
      "|2016-08-16 18:41:25|2  |51.016172|-114.099438|1          |0         |0       |0      |\n",
      "|2016-08-16 18:41:30|2  |51.016172|-114.099438|1          |0         |0       |0      |\n",
      "|2016-08-16 18:41:35|2  |51.016172|-114.09944 |1          |0         |0       |0      |\n",
      "|2016-08-16 18:41:40|2  |51.016172|-114.09944 |1          |0         |0       |0      |\n",
      "|2016-08-16 18:41:45|2  |51.016172|-114.09944 |1          |0         |0       |0      |\n",
      "|2016-08-16 18:41:50|2  |51.016172|-114.09944 |1          |0         |0       |0      |\n",
      "|2016-08-16 18:41:55|2  |51.016172|-114.09944 |1          |0         |0       |0      |\n",
      "|2016-08-16 18:42:00|2  |51.016173|-114.099438|1          |0         |0       |0      |\n",
      "|2016-08-16 18:42:05|2  |51.016173|-114.099438|1          |0         |0       |0      |\n",
      "|2016-08-16 18:42:10|2  |51.016173|-114.099438|1          |0         |0       |0      |\n",
      "|2016-08-16 18:42:15|2  |51.016173|-114.099438|1          |0         |0       |0      |\n",
      "|2016-08-16 18:42:20|2  |51.016173|-114.099438|1          |0         |0       |0      |\n",
      "|2016-08-16 18:42:25|2  |51.016175|-114.099438|1          |0         |0       |0      |\n",
      "|2016-08-16 18:42:30|2  |51.016175|-114.099438|1          |0         |0       |0      |\n",
      "|2016-08-16 18:42:35|2  |51.016175|-114.099438|1          |0         |0       |0      |\n",
      "|2016-08-16 18:42:40|2  |51.016175|-114.099438|1          |0         |0       |0      |\n",
      "|2016-08-16 18:42:45|2  |51.016175|-114.099438|1          |0         |0       |0      |\n",
      "|2016-08-16 18:42:50|2  |51.016175|-114.09944 |1          |0         |0       |0      |\n",
      "|2016-08-16 18:42:55|2  |51.016175|-114.09944 |1          |0         |0       |0      |\n",
      "|2016-08-16 18:43:00|2  |51.016175|-114.09944 |1          |0         |0       |0      |\n",
      "|2016-08-16 18:43:05|2  |51.016173|-114.099438|1          |0         |0       |0      |\n",
      "|2016-08-16 18:43:10|2  |51.016173|-114.099438|1          |0         |0       |0      |\n",
      "|2016-08-16 18:43:15|2  |51.016173|-114.099438|1          |0         |0       |0      |\n",
      "|2016-08-16 18:43:20|2  |51.016173|-114.099438|1          |0         |0       |0      |\n",
      "|2016-08-16 18:43:25|2  |51.016175|-114.099438|1          |0         |0       |0      |\n",
      "|2016-08-16 18:43:30|2  |51.016175|-114.099438|1          |0         |0       |0      |\n",
      "|2016-08-16 18:43:35|2  |51.016175|-114.099437|1          |0         |0       |0      |\n",
      "|2016-08-16 18:43:40|2  |51.016175|-114.099437|1          |0         |0       |0      |\n",
      "|2016-08-16 18:43:45|2  |51.016175|-114.099437|1          |0         |0       |0      |\n",
      "|2016-08-16 18:43:50|2  |51.016175|-114.099437|1          |0         |0       |0      |\n",
      "|2016-08-16 18:43:55|2  |51.016175|-114.099437|1          |0         |0       |0      |\n",
      "|2016-08-16 18:44:00|2  |51.016175|-114.099437|1          |0         |0       |0      |\n",
      "|2016-08-16 18:44:05|2  |51.016175|-114.099435|1          |0         |0       |0      |\n",
      "|2016-08-16 18:44:10|2  |51.016175|-114.099437|1          |0         |0       |0      |\n",
      "|2016-08-16 18:44:15|2  |51.016175|-114.099437|1          |0         |0       |0      |\n",
      "|2016-08-16 18:44:20|2  |51.016175|-114.099437|1          |0         |0       |0      |\n",
      "|2016-08-16 18:44:25|2  |51.016175|-114.099437|1          |0         |0       |0      |\n",
      "|2016-08-16 18:44:30|2  |51.016175|-114.099437|1          |0         |0       |0      |\n",
      "|2016-08-16 18:44:35|2  |51.016175|-114.099438|1          |0         |0       |0      |\n",
      "|2016-08-16 18:44:40|2  |51.016173|-114.099438|1          |0         |0       |0      |\n",
      "|2016-08-16 18:44:45|2  |51.016173|-114.099438|1          |0         |0       |0      |\n",
      "|2016-08-16 18:44:50|2  |51.016173|-114.099438|1          |0         |0       |0      |\n",
      "|2016-08-16 18:44:55|2  |51.016173|-114.099438|1          |0         |0       |0      |\n",
      "|2016-08-16 18:45:00|2  |51.016175|-114.099438|1          |0         |0       |0      |\n",
      "|2016-08-16 18:45:05|2  |51.016175|-114.099437|1          |0         |0       |0      |\n",
      "|2016-08-16 18:45:10|2  |51.016175|-114.099437|1          |0         |0       |0      |\n",
      "|2016-08-16 18:45:15|2  |51.016175|-114.099435|1          |0         |0       |0      |\n",
      "|2016-08-16 18:45:20|2  |51.016173|-114.099435|1          |0         |0       |0      |\n",
      "|2016-08-16 18:45:25|2  |51.016173|-114.099433|1          |0         |0       |0      |\n",
      "|2016-08-16 18:45:30|2  |51.016173|-114.099432|1          |0         |0       |0      |\n",
      "|2016-08-16 18:45:35|2  |51.016175|-114.09943 |1          |0         |0       |0      |\n",
      "|2016-08-16 18:45:40|2  |51.016173|-114.099428|1          |0         |0       |0      |\n",
      "|2016-08-16 18:45:45|2  |51.016175|-114.099428|1          |0         |0       |0      |\n",
      "|2016-08-16 18:45:50|2  |51.016175|-114.099428|1          |0         |0       |0      |\n",
      "|2016-08-16 18:45:55|2  |51.016175|-114.099428|1          |0         |0       |0      |\n",
      "|2016-08-16 18:46:00|2  |51.016175|-114.099428|1          |0         |0       |0      |\n",
      "|2016-08-16 18:46:05|2  |51.016175|-114.099428|1          |0         |0       |0      |\n",
      "|2016-08-16 18:46:10|2  |51.016177|-114.099428|1          |0         |0       |0      |\n",
      "|2016-08-16 18:46:15|2  |51.016177|-114.099428|1          |0         |0       |0      |\n",
      "|2016-08-16 18:46:20|2  |51.016177|-114.099428|1          |0         |0       |0      |\n",
      "|2016-08-16 18:46:25|2  |51.016177|-114.099427|1          |0         |0       |0      |\n",
      "|2016-08-16 18:46:30|2  |51.016177|-114.099427|1          |0         |0       |0      |\n",
      "|2016-08-16 18:46:35|2  |51.016177|-114.099425|1          |0         |0       |0      |\n",
      "|2016-08-16 18:46:40|2  |51.016177|-114.099425|1          |0         |0       |0      |\n",
      "|2016-08-16 18:46:45|2  |51.016177|-114.099423|1          |0         |0       |0      |\n",
      "|2016-08-16 18:46:50|2  |51.016177|-114.099423|1          |0         |0       |0      |\n",
      "|2016-08-16 18:46:55|2  |51.016177|-114.099422|1          |0         |0       |0      |\n",
      "|2016-08-16 18:47:00|2  |51.016177|-114.099422|1          |0         |0       |0      |\n",
      "|2016-08-16 18:47:05|2  |51.016177|-114.099422|1          |0         |0       |0      |\n",
      "|2016-08-16 18:47:10|2  |51.016177|-114.09942 |1          |0         |0       |0      |\n",
      "|2016-08-16 18:47:15|2  |51.016177|-114.09942 |1          |0         |0       |0      |\n",
      "|2016-08-16 18:47:20|2  |51.016177|-114.09942 |1          |0         |0       |0      |\n",
      "|2016-08-16 18:47:25|2  |51.016177|-114.09942 |1          |0         |0       |0      |\n",
      "|2016-08-16 18:47:30|2  |51.016177|-114.09942 |1          |0         |0       |0      |\n",
      "|2016-08-16 18:47:35|2  |51.016177|-114.09942 |1          |0         |0       |0      |\n",
      "|2016-08-16 18:47:40|2  |51.016177|-114.09942 |1          |0         |0       |0      |\n",
      "|2016-08-16 18:47:45|2  |51.016177|-114.09942 |1          |0         |0       |0      |\n",
      "|2016-08-16 18:47:50|2  |51.016177|-114.09942 |1          |0         |0       |0      |\n",
      "|2016-08-16 18:47:55|2  |51.016177|-114.09942 |1          |0         |0       |0      |\n",
      "|2016-08-16 18:48:00|2  |51.016177|-114.09942 |1          |0         |0       |0      |\n",
      "|2016-08-16 18:48:05|2  |51.016177|-114.09942 |1          |0         |0       |0      |\n",
      "|2016-08-16 18:48:10|2  |51.016177|-114.099422|1          |0         |0       |0      |\n",
      "|2016-08-16 18:48:15|2  |51.016177|-114.099422|1          |0         |0       |0      |\n",
      "|2016-08-16 18:48:20|2  |51.016177|-114.099422|1          |0         |0       |0      |\n",
      "|2016-08-16 18:48:25|2  |51.016177|-114.099422|1          |0         |0       |0      |\n",
      "|2016-08-16 18:48:30|2  |51.016177|-114.099423|1          |0         |0       |0      |\n",
      "|2016-08-16 18:48:35|2  |51.016178|-114.099423|1          |0         |0       |0      |\n",
      "|2016-08-16 18:48:40|2  |51.016178|-114.099423|1          |0         |0       |0      |\n",
      "|2016-08-16 18:48:45|2  |51.016178|-114.099423|1          |0         |0       |0      |\n",
      "|2016-08-16 18:48:50|2  |51.01618 |-114.099425|1          |0         |0       |0      |\n",
      "|2016-08-16 18:48:55|2  |51.01618 |-114.099425|1          |0         |0       |0      |\n",
      "|2016-08-16 18:49:00|2  |51.01618 |-114.099425|1          |0         |0       |0      |\n",
      "|2016-08-16 18:49:05|2  |51.01618 |-114.099425|1          |0         |0       |0      |\n",
      "|2016-08-16 18:49:10|2  |51.01618 |-114.099425|1          |0         |0       |0      |\n",
      "|2016-08-16 18:49:15|2  |51.01618 |-114.099425|1          |0         |0       |0      |\n",
      "|2016-08-16 18:49:20|2  |51.01618 |-114.099427|1          |0         |0       |0      |\n",
      "|2016-08-16 18:49:25|2  |51.01618 |-114.099427|1          |0         |0       |0      |\n",
      "|2016-08-16 18:49:30|2  |51.01618 |-114.099428|1          |0         |0       |0      |\n",
      "|2016-08-16 18:49:35|2  |51.01618 |-114.099428|1          |0         |0       |0      |\n",
      "|2016-08-16 18:49:40|2  |51.016178|-114.09943 |1          |0         |0       |0      |\n",
      "|2016-08-16 18:49:45|2  |51.016178|-114.09943 |1          |0         |0       |0      |\n",
      "|2016-08-16 18:49:50|2  |51.016178|-114.09943 |1          |0         |0       |0      |\n",
      "|2016-08-16 18:49:55|2  |51.016178|-114.09943 |1          |0         |0       |0      |\n",
      "|2016-08-16 18:50:00|2  |51.016178|-114.09943 |1          |0         |0       |0      |\n",
      "|2016-08-16 18:50:05|2  |51.016178|-114.099432|1          |0         |0       |0      |\n",
      "|2016-08-16 18:50:10|2  |51.016178|-114.099432|1          |0         |0       |0      |\n",
      "|2016-08-16 18:50:15|2  |51.016178|-114.099432|1          |0         |0       |0      |\n",
      "|2016-08-16 18:50:20|2  |51.016178|-114.099433|1          |0         |0       |0      |\n",
      "|2016-08-16 18:50:25|2  |51.016178|-114.099433|1          |0         |0       |0      |\n",
      "|2016-08-16 18:50:30|2  |51.016178|-114.099433|1          |0         |0       |0      |\n",
      "|2016-08-16 18:50:35|2  |51.016178|-114.099433|1          |0         |0       |0      |\n",
      "|2016-08-16 18:50:40|2  |51.016177|-114.099433|1          |0         |0       |0      |\n",
      "|2016-08-16 18:50:45|2  |51.016177|-114.099435|1          |0         |0       |0      |\n",
      "|2016-08-16 18:50:50|2  |51.016177|-114.099435|1          |0         |0       |0      |\n",
      "|2016-08-16 18:50:55|2  |51.016177|-114.099435|1          |0         |0       |0      |\n",
      "|2016-08-16 18:51:00|2  |51.016178|-114.099435|1          |0         |0       |0      |\n",
      "|2016-08-16 18:51:05|2  |51.016178|-114.099433|1          |0         |0       |0      |\n",
      "|2016-08-16 18:51:10|2  |51.016178|-114.099433|1          |0         |0       |0      |\n",
      "|2016-08-16 18:51:15|2  |51.016178|-114.099432|1          |0         |0       |0      |\n",
      "|2016-08-16 18:51:20|2  |51.016178|-114.099432|1          |0         |0       |0      |\n",
      "|2016-08-16 18:51:25|2  |51.016178|-114.09943 |1          |0         |0       |0      |\n",
      "|2016-08-16 18:51:30|2  |51.016178|-114.09943 |1          |0         |0       |0      |\n",
      "|2016-08-16 18:51:35|2  |51.016178|-114.09943 |1          |0         |0       |0      |\n",
      "|2016-08-16 18:51:40|2  |51.016178|-114.09943 |1          |0         |0       |0      |\n",
      "|2016-08-16 18:51:45|2  |51.016178|-114.099432|1          |0         |0       |0      |\n",
      "|2016-08-16 18:51:50|2  |51.016178|-114.099432|1          |0         |0       |0      |\n",
      "|2016-08-16 18:51:55|2  |51.016178|-114.09943 |1          |0         |0       |0      |\n",
      "|2016-08-16 18:52:00|2  |51.016178|-114.09943 |1          |0         |0       |0      |\n",
      "|2016-08-16 18:52:05|2  |51.016178|-114.09943 |1          |0         |0       |0      |\n",
      "|2016-08-16 18:52:10|2  |51.016178|-114.099428|1          |0         |0       |0      |\n",
      "|2016-08-16 18:52:15|2  |51.016178|-114.099428|1          |0         |0       |0      |\n",
      "|2016-08-16 18:52:20|2  |51.016178|-114.099428|1          |0         |0       |0      |\n",
      "|2016-08-16 18:52:25|2  |51.016178|-114.099428|1          |0         |0       |0      |\n",
      "|2016-08-16 18:52:30|2  |51.016178|-114.099428|1          |0         |0       |0      |\n",
      "|2016-08-16 18:52:35|2  |51.016178|-114.099428|1          |0         |0       |0      |\n",
      "|2016-08-16 18:52:40|2  |51.016178|-114.099427|1          |0         |0       |0      |\n",
      "|2016-08-16 18:52:45|2  |51.016178|-114.099427|1          |0         |0       |0      |\n",
      "|2016-08-16 18:52:50|2  |51.016178|-114.099427|1          |0         |0       |0      |\n",
      "|2016-08-16 18:52:55|2  |51.016178|-114.099427|1          |0         |0       |0      |\n",
      "|2016-08-16 18:53:00|2  |51.016178|-114.099427|1          |0         |0       |0      |\n",
      "|2016-08-16 18:53:05|2  |51.016178|-114.099427|1          |0         |0       |0      |\n",
      "|2016-08-16 18:53:10|2  |51.016178|-114.099427|1          |0         |0       |0      |\n",
      "|2016-08-16 18:53:15|2  |51.016178|-114.099427|1          |0         |0       |0      |\n",
      "|2016-08-16 18:53:20|2  |51.016178|-114.099427|1          |0         |0       |0      |\n",
      "|2016-08-16 18:53:25|2  |51.016178|-114.099427|1          |0         |0       |0      |\n",
      "|2016-08-16 18:53:30|2  |51.016178|-114.099427|1          |0         |0       |0      |\n",
      "|2016-08-16 18:53:35|2  |51.016178|-114.099427|1          |0         |0       |0      |\n",
      "|2016-08-16 18:53:40|2  |51.016178|-114.099427|1          |0         |0       |0      |\n",
      "|2016-08-16 18:53:45|2  |51.016178|-114.099427|1          |0         |0       |0      |\n",
      "|2016-08-16 18:53:50|2  |51.016178|-114.099427|1          |0         |0       |0      |\n",
      "|2016-08-16 18:53:55|2  |51.016177|-114.099427|1          |0         |0       |0      |\n",
      "|2016-08-16 18:54:00|2  |51.016177|-114.099427|1          |0         |0       |0      |\n",
      "|2016-08-16 18:54:05|2  |51.016177|-114.099427|1          |0         |0       |0      |\n",
      "|2016-08-16 18:54:10|2  |51.016175|-114.099428|1          |0         |0       |0      |\n",
      "|2016-08-16 18:54:15|2  |51.016175|-114.099428|1          |0         |0       |0      |\n",
      "|2016-08-16 18:54:20|2  |51.016175|-114.099428|1          |0         |0       |0      |\n",
      "|2016-08-16 18:54:25|2  |51.016175|-114.099428|1          |0         |0       |0      |\n",
      "|2016-08-16 18:54:30|2  |51.016173|-114.099428|1          |0         |0       |0      |\n",
      "|2016-08-16 18:54:35|2  |51.016173|-114.099428|1          |0         |0       |0      |\n",
      "|2016-08-16 18:54:40|2  |51.016173|-114.099428|1          |0         |0       |0      |\n",
      "|2016-08-16 18:54:45|2  |51.016173|-114.099428|1          |0         |0       |0      |\n",
      "|2016-08-16 18:54:50|2  |51.016172|-114.099427|1          |0         |0       |0      |\n",
      "|2016-08-16 18:54:55|2  |51.016172|-114.099427|1          |0         |0       |0      |\n",
      "|2016-08-16 18:55:00|2  |51.01617 |-114.099427|1          |0         |0       |0      |\n",
      "|2016-08-16 18:55:05|2  |51.01617 |-114.099427|1          |0         |0       |0      |\n",
      "|2016-08-16 18:55:10|2  |51.01617 |-114.099427|1          |0         |0       |0      |\n",
      "|2016-08-16 18:55:15|2  |51.016168|-114.099427|1          |0         |0       |0      |\n",
      "|2016-08-16 18:55:20|2  |51.016168|-114.099427|1          |0         |0       |0      |\n",
      "|2016-08-16 18:55:25|2  |51.016168|-114.099427|1          |0         |0       |0      |\n",
      "|2016-08-16 18:55:30|2  |51.016168|-114.099427|1          |0         |0       |0      |\n",
      "|2016-08-16 18:55:35|2  |51.016167|-114.099427|1          |0         |0       |0      |\n",
      "|2016-08-16 18:55:40|2  |51.016167|-114.099427|1          |0         |0       |0      |\n",
      "|2016-08-16 18:55:45|2  |51.016167|-114.099427|1          |0         |0       |0      |\n",
      "|2016-08-16 18:55:50|2  |51.016167|-114.099428|1          |0         |0       |0      |\n",
      "|2016-08-16 18:55:55|2  |51.016167|-114.099428|1          |0         |0       |0      |\n",
      "|2016-08-16 18:56:00|2  |51.016167|-114.099428|1          |0         |0       |0      |\n",
      "|2016-08-16 18:56:05|2  |51.016168|-114.09943 |1          |0         |0       |0      |\n",
      "|2016-08-16 18:56:10|2  |51.016168|-114.09943 |1          |0         |0       |0      |\n",
      "|2016-08-16 18:56:15|2  |51.01617 |-114.09943 |1          |0         |0       |0      |\n",
      "|2016-08-16 18:56:20|2  |51.01617 |-114.09943 |1          |0         |0       |0      |\n",
      "|2016-08-16 18:56:25|2  |51.016172|-114.09943 |1          |0         |0       |0      |\n",
      "|2016-08-16 18:56:30|2  |51.016172|-114.09943 |1          |0         |0       |0      |\n",
      "|2016-08-16 18:56:35|2  |51.016172|-114.09943 |1          |0         |0       |0      |\n",
      "|2016-08-16 18:56:40|2  |51.016172|-114.09943 |1          |0         |0       |0      |\n",
      "|2016-08-16 18:56:45|2  |51.016172|-114.099432|1          |0         |0       |0      |\n",
      "|2016-08-16 18:56:50|2  |51.016172|-114.099432|1          |0         |0       |0      |\n",
      "|2016-08-16 18:56:55|2  |51.016173|-114.099432|1          |0         |0       |0      |\n",
      "|2016-08-16 18:57:00|2  |51.016173|-114.099432|1          |0         |0       |0      |\n",
      "|2016-08-16 18:57:05|2  |51.016173|-114.099432|1          |0         |0       |0      |\n",
      "|2016-08-16 18:57:10|2  |51.016173|-114.099432|1          |0         |0       |0      |\n",
      "|2016-08-16 18:57:15|2  |51.016173|-114.099432|1          |0         |0       |0      |\n",
      "|2016-08-16 18:57:20|2  |51.016173|-114.09943 |1          |0         |0       |0      |\n",
      "|2016-08-16 18:57:25|2  |51.016175|-114.09943 |1          |0         |0       |0      |\n",
      "|2016-08-16 18:57:30|2  |51.016175|-114.09943 |1          |0         |0       |0      |\n",
      "|2016-08-16 18:57:35|2  |51.016175|-114.09943 |1          |0         |0       |0      |\n",
      "|2016-08-16 18:57:40|2  |51.016177|-114.09943 |1          |0         |0       |0      |\n",
      "|2016-08-16 18:57:45|2  |51.016177|-114.099432|1          |0         |0       |0      |\n",
      "|2016-08-16 18:57:50|2  |51.016177|-114.099432|1          |0         |0       |0      |\n",
      "|2016-08-16 18:57:55|2  |51.016177|-114.099432|1          |0         |0       |0      |\n",
      "|2016-08-16 18:58:00|2  |51.016178|-114.099432|1          |0         |0       |0      |\n",
      "|2016-08-16 18:58:05|2  |51.016178|-114.099432|1          |0         |0       |0      |\n",
      "|2016-08-16 18:58:10|2  |51.016178|-114.099432|1          |0         |0       |0      |\n",
      "|2016-08-16 18:58:15|2  |51.016178|-114.099432|1          |0         |0       |0      |\n",
      "|2016-08-16 18:58:20|2  |51.016178|-114.099432|1          |0         |0       |0      |\n",
      "|2016-08-16 18:58:25|2  |51.01618 |-114.099432|1          |0         |0       |0      |\n",
      "|2016-08-16 18:58:30|2  |51.01618 |-114.099432|1          |0         |0       |0      |\n",
      "|2016-08-16 18:58:35|2  |51.01618 |-114.099432|1          |0         |0       |0      |\n",
      "|2016-08-16 18:58:40|2  |51.016182|-114.099432|1          |0         |0       |0      |\n",
      "|2016-08-16 18:58:45|2  |51.016182|-114.099432|1          |0         |0       |0      |\n",
      "|2016-08-16 18:58:50|2  |51.016182|-114.099432|1          |0         |0       |0      |\n",
      "|2016-08-16 18:58:55|2  |51.016182|-114.09943 |1          |0         |0       |0      |\n",
      "|2016-08-16 18:59:00|2  |51.016183|-114.09943 |1          |0         |0       |0      |\n",
      "|2016-08-16 18:59:05|2  |51.016183|-114.09943 |1          |0         |0       |0      |\n",
      "|2016-08-16 18:59:10|2  |51.016185|-114.09943 |1          |0         |0       |0      |\n",
      "|2016-08-16 18:59:15|2  |51.016185|-114.099428|1          |0         |0       |0      |\n",
      "|2016-08-16 18:59:20|2  |51.016185|-114.099428|1          |0         |0       |0      |\n",
      "|2016-08-16 18:59:25|2  |51.016185|-114.099428|1          |0         |0       |0      |\n",
      "|2016-08-16 18:59:30|2  |51.016183|-114.099428|1          |0         |0       |0      |\n",
      "|2016-08-16 18:59:35|2  |51.016183|-114.099428|1          |0         |0       |0      |\n",
      "|2016-08-16 18:59:40|2  |51.016183|-114.099427|1          |0         |0       |0      |\n",
      "|2016-08-16 18:59:45|2  |51.016183|-114.099427|1          |0         |0       |0      |\n",
      "|2016-08-16 18:59:50|2  |51.016183|-114.099427|1          |0         |0       |0      |\n",
      "|2016-08-16 18:59:55|2  |51.016183|-114.099427|1          |0         |0       |0      |\n",
      "|2016-08-16 19:00:00|2  |51.016183|-114.099425|1          |0         |0       |0      |\n",
      "|2016-08-16 19:00:05|2  |51.016183|-114.099425|1          |0         |0       |0      |\n",
      "|2016-08-16 19:00:10|2  |51.016182|-114.099425|1          |0         |0       |0      |\n",
      "|2016-08-16 19:00:15|2  |51.016182|-114.099425|1          |0         |0       |0      |\n",
      "|2016-08-16 19:00:20|2  |51.016182|-114.099423|1          |0         |0       |0      |\n",
      "|2016-08-16 19:00:25|2  |51.016182|-114.099423|1          |0         |0       |0      |\n",
      "|2016-08-16 19:00:30|2  |51.016183|-114.099423|1          |0         |0       |0      |\n",
      "|2016-08-16 19:00:35|2  |51.016183|-114.099423|1          |0         |0       |0      |\n",
      "|2016-08-16 19:00:40|2  |51.016183|-114.099423|1          |0         |0       |0      |\n",
      "|2016-08-16 19:00:45|2  |51.016183|-114.099423|1          |0         |0       |0      |\n",
      "|2016-08-16 19:00:50|2  |51.016183|-114.099423|1          |0         |0       |0      |\n",
      "|2016-08-16 19:00:55|2  |51.016183|-114.099422|1          |0         |0       |0      |\n",
      "|2016-08-16 19:01:00|2  |51.016183|-114.099422|1          |0         |0       |0      |\n",
      "|2016-08-16 19:01:05|2  |51.016183|-114.099422|1          |0         |0       |0      |\n",
      "|2016-08-16 19:01:10|2  |51.016185|-114.099422|1          |0         |0       |0      |\n",
      "|2016-08-16 19:01:15|2  |51.016185|-114.099422|1          |0         |0       |0      |\n",
      "|2016-08-16 19:01:20|2  |51.016185|-114.099422|1          |0         |0       |0      |\n",
      "|2016-08-16 19:01:25|2  |51.016183|-114.09942 |1          |0         |0       |0      |\n",
      "|2016-08-16 19:01:30|2  |51.016183|-114.09942 |1          |0         |0       |0      |\n",
      "|2016-08-16 19:01:35|2  |51.016183|-114.09942 |1          |0         |0       |0      |\n",
      "|2016-08-16 19:01:40|2  |51.016183|-114.09942 |1          |0         |0       |0      |\n",
      "|2016-08-16 19:01:45|2  |51.016183|-114.099418|1          |0         |0       |0      |\n",
      "|2016-08-16 19:01:50|2  |51.016182|-114.099418|1          |0         |0       |0      |\n",
      "|2016-08-16 19:01:55|2  |51.016182|-114.099418|1          |0         |0       |0      |\n",
      "|2016-08-16 19:02:00|2  |51.016182|-114.099418|1          |0         |0       |0      |\n",
      "|2016-08-16 19:02:05|2  |51.016182|-114.099418|1          |0         |0       |0      |\n",
      "|2016-08-16 19:02:10|2  |51.016182|-114.099418|1          |0         |0       |0      |\n",
      "|2016-08-16 19:02:15|2  |51.016182|-114.099418|1          |0         |0       |0      |\n",
      "|2016-08-16 19:02:20|2  |51.016182|-114.099418|1          |0         |0       |0      |\n",
      "|2016-08-16 19:02:25|2  |51.016183|-114.099418|1          |0         |0       |0      |\n",
      "|2016-08-16 19:02:30|2  |51.016183|-114.099417|1          |0         |0       |0      |\n",
      "|2016-08-16 19:02:35|2  |51.016183|-114.099417|1          |0         |0       |0      |\n",
      "|2016-08-16 19:02:40|2  |51.016183|-114.099417|1          |0         |0       |0      |\n",
      "|2016-08-16 19:02:45|2  |51.016183|-114.099415|1          |0         |0       |0      |\n",
      "|2016-08-16 19:02:50|2  |51.016185|-114.099415|1          |0         |0       |0      |\n",
      "|2016-08-16 19:02:55|2  |51.016185|-114.099415|1          |0         |0       |0      |\n",
      "|2016-08-16 19:03:00|2  |51.016185|-114.099413|1          |0         |0       |0      |\n",
      "|2016-08-16 19:03:05|2  |51.016185|-114.099413|1          |0         |0       |0      |\n",
      "|2016-08-16 19:03:10|2  |51.016185|-114.099412|1          |0         |0       |0      |\n",
      "|2016-08-16 19:03:15|2  |51.016185|-114.099412|1          |0         |0       |0      |\n",
      "|2016-08-16 19:03:20|2  |51.016185|-114.099412|1          |0         |0       |0      |\n",
      "|2016-08-16 19:03:25|2  |51.016185|-114.09941 |1          |0         |0       |0      |\n",
      "|2016-08-16 19:03:30|2  |51.016185|-114.09941 |1          |0         |0       |0      |\n",
      "|2016-08-16 19:03:35|2  |51.016183|-114.09941 |1          |0         |0       |0      |\n",
      "|2016-08-16 19:03:40|2  |51.016183|-114.09941 |1          |0         |0       |0      |\n",
      "|2016-08-16 19:03:45|2  |51.016183|-114.099408|1          |0         |0       |0      |\n",
      "|2016-08-16 19:03:50|2  |51.016183|-114.099408|1          |0         |0       |0      |\n",
      "|2016-08-16 19:03:55|2  |51.016182|-114.099408|1          |0         |0       |0      |\n",
      "|2016-08-16 19:04:00|2  |51.016183|-114.099408|1          |0         |0       |0      |\n",
      "|2016-08-16 19:04:05|2  |51.016183|-114.099408|1          |0         |0       |0      |\n",
      "|2016-08-16 19:04:10|2  |51.016183|-114.099408|1          |0         |0       |0      |\n",
      "|2016-08-16 19:04:15|2  |51.016183|-114.099408|1          |0         |0       |0      |\n",
      "|2016-08-16 19:04:20|2  |51.016183|-114.099408|1          |0         |0       |0      |\n",
      "|2016-08-16 19:04:25|2  |51.016183|-114.099408|1          |0         |0       |0      |\n",
      "|2016-08-16 19:04:30|2  |51.016183|-114.099407|1          |0         |0       |0      |\n",
      "|2016-08-16 19:04:35|2  |51.016183|-114.099407|1          |0         |0       |0      |\n",
      "|2016-08-16 19:04:40|2  |51.016182|-114.099407|1          |0         |0       |0      |\n",
      "|2016-08-16 19:04:45|2  |51.016182|-114.099407|1          |0         |0       |0      |\n",
      "|2016-08-16 19:04:50|2  |51.016182|-114.099405|1          |0         |0       |0      |\n",
      "|2016-08-16 19:04:55|2  |51.016182|-114.099405|1          |0         |0       |0      |\n",
      "|2016-08-16 19:05:00|2  |51.016182|-114.099403|1          |0         |0       |0      |\n",
      "|2016-08-16 19:05:05|2  |51.016182|-114.099403|1          |0         |0       |0      |\n",
      "|2016-08-16 19:05:10|2  |51.01618 |-114.099403|1          |0         |0       |0      |\n",
      "|2016-08-16 19:05:15|2  |51.01618 |-114.099405|1          |0         |0       |0      |\n",
      "|2016-08-16 19:05:20|2  |51.016182|-114.099405|1          |0         |0       |0      |\n",
      "|2016-08-16 19:05:25|2  |51.016182|-114.099405|1          |0         |0       |0      |\n",
      "|2016-08-16 19:05:30|2  |51.01618 |-114.099403|1          |0         |0       |0      |\n",
      "|2016-08-16 19:05:35|2  |51.016182|-114.099403|1          |0         |0       |0      |\n",
      "|2016-08-16 19:05:40|2  |51.016182|-114.099403|1          |0         |0       |0      |\n",
      "|2016-08-16 19:05:45|2  |51.016182|-114.099403|1          |0         |0       |0      |\n",
      "|2016-08-16 19:05:50|2  |51.016182|-114.099403|1          |0         |0       |0      |\n",
      "|2016-08-16 19:05:55|2  |51.016182|-114.099403|1          |0         |0       |0      |\n",
      "|2016-08-16 19:06:00|2  |51.016182|-114.099403|1          |0         |0       |0      |\n",
      "|2016-08-16 19:06:05|2  |51.016182|-114.099402|1          |0         |0       |0      |\n",
      "|2016-08-16 19:06:10|2  |51.016182|-114.099402|1          |0         |0       |0      |\n",
      "|2016-08-16 19:06:15|2  |51.016182|-114.099402|1          |0         |0       |0      |\n",
      "|2016-08-16 19:06:20|2  |51.016182|-114.099402|1          |0         |0       |0      |\n",
      "|2016-08-16 19:06:25|2  |51.016183|-114.099402|1          |0         |0       |0      |\n",
      "|2016-08-16 19:06:30|2  |51.016183|-114.099402|1          |0         |0       |0      |\n",
      "|2016-08-16 19:06:35|2  |51.016183|-114.099402|1          |0         |0       |0      |\n",
      "|2016-08-16 19:06:40|2  |51.016183|-114.099402|1          |0         |0       |0      |\n",
      "|2016-08-16 19:06:45|2  |51.016185|-114.099402|1          |0         |0       |0      |\n",
      "|2016-08-16 19:06:50|2  |51.016185|-114.099402|1          |0         |0       |0      |\n",
      "|2016-08-16 19:06:55|2  |51.016185|-114.099402|1          |0         |0       |0      |\n",
      "|2016-08-16 19:07:00|2  |51.016187|-114.099402|1          |0         |0       |0      |\n",
      "|2016-08-16 19:07:05|2  |51.016187|-114.099402|1          |0         |0       |0      |\n",
      "|2016-08-16 19:07:10|2  |51.016187|-114.099402|1          |0         |0       |0      |\n",
      "|2016-08-16 19:07:15|2  |51.016187|-114.099402|1          |0         |0       |0      |\n",
      "|2016-08-16 19:07:20|2  |51.016187|-114.0994  |1          |0         |0       |0      |\n",
      "|2016-08-16 19:07:25|2  |51.016187|-114.099402|1          |0         |0       |0      |\n",
      "|2016-08-16 19:07:30|2  |51.016187|-114.0994  |1          |0         |0       |0      |\n",
      "|2016-08-16 19:07:35|2  |51.016187|-114.0994  |1          |0         |0       |0      |\n",
      "|2016-08-16 19:07:40|2  |51.016187|-114.0994  |1          |0         |0       |0      |\n",
      "|2016-08-16 19:07:45|2  |51.016187|-114.0994  |1          |0         |0       |0      |\n",
      "|2016-08-16 19:07:50|2  |51.016187|-114.0994  |1          |0         |0       |0      |\n",
      "|2016-08-16 19:07:55|2  |51.016187|-114.0994  |1          |0         |0       |0      |\n",
      "|2016-08-16 19:08:00|2  |51.016187|-114.0994  |1          |0         |0       |0      |\n",
      "|2016-08-16 19:08:05|2  |51.016187|-114.0994  |1          |0         |0       |0      |\n",
      "|2016-08-16 19:08:10|2  |51.016187|-114.099398|1          |0         |0       |0      |\n",
      "|2016-08-16 19:08:15|2  |51.016187|-114.099398|1          |0         |0       |0      |\n",
      "|2016-08-16 19:08:20|2  |51.016187|-114.099398|1          |0         |0       |0      |\n",
      "|2016-08-16 19:08:25|2  |51.016187|-114.099398|1          |0         |0       |0      |\n",
      "|2016-08-16 19:08:30|2  |51.016187|-114.099398|1          |0         |0       |0      |\n",
      "|2016-08-16 19:08:35|2  |51.016187|-114.099398|1          |0         |0       |0      |\n",
      "|2016-08-16 19:08:40|2  |51.016187|-114.099398|1          |0         |0       |0      |\n",
      "|2016-08-16 19:08:45|2  |51.016187|-114.099398|1          |0         |0       |0      |\n",
      "|2016-08-16 19:08:50|2  |51.016187|-114.099398|1          |0         |0       |0      |\n",
      "|2016-08-16 19:08:55|2  |51.016185|-114.099398|1          |0         |0       |0      |\n",
      "|2016-08-16 19:09:00|2  |51.016185|-114.099398|1          |0         |0       |0      |\n",
      "|2016-08-16 19:09:05|2  |51.016185|-114.099398|1          |0         |0       |0      |\n",
      "|2016-08-16 19:09:10|2  |51.016185|-114.0994  |1          |0         |0       |0      |\n",
      "|2016-08-16 19:09:15|2  |51.016185|-114.0994  |1          |0         |0       |0      |\n",
      "|2016-08-16 19:09:20|2  |51.016185|-114.0994  |1          |0         |0       |0      |\n",
      "|2016-08-16 19:09:25|2  |51.016183|-114.0994  |1          |0         |0       |0      |\n",
      "|2016-08-16 19:09:30|2  |51.016183|-114.0994  |1          |0         |0       |0      |\n",
      "|2016-08-16 19:09:35|2  |51.016183|-114.0994  |1          |0         |0       |0      |\n",
      "|2016-08-16 19:09:40|2  |51.016183|-114.0994  |1          |0         |0       |0      |\n",
      "|2016-08-16 19:09:45|2  |51.016182|-114.0994  |1          |0         |0       |0      |\n",
      "|2016-08-16 19:09:50|2  |51.016182|-114.0994  |1          |0         |0       |0      |\n",
      "|2016-08-16 19:09:55|2  |51.016182|-114.099402|1          |0         |0       |0      |\n",
      "|2016-08-16 19:10:00|2  |51.016182|-114.099402|1          |0         |0       |0      |\n",
      "|2016-08-16 19:10:05|2  |51.016183|-114.099402|1          |0         |0       |0      |\n",
      "|2016-08-16 19:10:10|2  |51.016183|-114.099402|1          |0         |0       |0      |\n",
      "|2016-08-16 19:10:15|2  |51.016183|-114.099403|1          |0         |0       |0      |\n",
      "|2016-08-16 19:10:20|2  |51.016182|-114.099403|1          |0         |0       |0      |\n",
      "|2016-08-16 19:10:25|2  |51.016182|-114.099403|1          |0         |0       |0      |\n",
      "|2016-08-16 19:10:30|2  |51.016182|-114.099403|1          |0         |0       |0      |\n",
      "|2016-08-16 19:10:35|2  |51.016182|-114.099405|1          |0         |0       |0      |\n",
      "|2016-08-16 19:10:40|2  |51.016182|-114.099405|1          |0         |0       |0      |\n",
      "|2016-08-16 19:10:45|2  |51.01618 |-114.099405|1          |0         |0       |0      |\n",
      "|2016-08-16 19:10:50|2  |51.01618 |-114.099405|1          |0         |0       |0      |\n",
      "|2016-08-16 19:10:55|2  |51.01618 |-114.099407|1          |0         |0       |0      |\n",
      "|2016-08-16 19:11:00|2  |51.01618 |-114.099405|1          |0         |0       |0      |\n",
      "|2016-08-16 19:11:05|2  |51.01618 |-114.099405|1          |0         |0       |0      |\n",
      "|2016-08-16 19:11:10|2  |51.01618 |-114.099405|1          |0         |0       |0      |\n",
      "|2016-08-16 19:11:15|2  |51.01618 |-114.099407|1          |0         |0       |0      |\n",
      "|2016-08-16 19:11:20|2  |51.016178|-114.099407|1          |0         |0       |0      |\n",
      "|2016-08-16 19:11:25|2  |51.016178|-114.099407|1          |0         |0       |0      |\n",
      "|2016-08-16 19:11:30|2  |51.016177|-114.099407|1          |0         |0       |0      |\n",
      "|2016-08-16 19:11:35|2  |51.016177|-114.099407|1          |0         |0       |0      |\n",
      "|2016-08-16 19:11:40|2  |51.016177|-114.099407|1          |0         |0       |0      |\n",
      "|2016-08-16 19:11:45|2  |51.016177|-114.099407|1          |0         |0       |0      |\n",
      "|2016-08-16 19:11:50|2  |51.016177|-114.099407|1          |0         |0       |0      |\n",
      "|2016-08-16 19:11:55|2  |51.016177|-114.099405|1          |0         |0       |0      |\n",
      "|2016-08-16 19:12:00|2  |51.016177|-114.099405|1          |0         |0       |0      |\n",
      "|2016-08-16 19:12:05|2  |51.016177|-114.099405|1          |0         |0       |0      |\n",
      "|2016-08-16 19:12:10|2  |51.016177|-114.099405|1          |0         |0       |0      |\n",
      "|2016-08-16 19:12:15|2  |51.016177|-114.099405|1          |0         |0       |0      |\n",
      "|2016-08-16 19:12:20|2  |51.016177|-114.099407|1          |0         |0       |0      |\n",
      "|2016-08-16 19:12:25|2  |51.016178|-114.099407|1          |0         |0       |0      |\n",
      "|2016-08-16 19:12:30|2  |51.016178|-114.099407|1          |0         |0       |0      |\n",
      "|2016-08-16 19:12:35|2  |51.016178|-114.099407|1          |0         |0       |0      |\n",
      "|2016-08-16 19:12:40|2  |51.016178|-114.099407|1          |0         |0       |0      |\n",
      "|2016-08-16 19:12:45|2  |51.016178|-114.099407|1          |0         |0       |0      |\n",
      "|2016-08-16 19:12:50|2  |51.016178|-114.099407|1          |0         |0       |0      |\n",
      "|2016-08-16 19:12:55|2  |51.016178|-114.099407|1          |0         |0       |0      |\n",
      "|2016-08-16 19:13:00|2  |51.016178|-114.099407|1          |0         |0       |0      |\n",
      "|2016-08-16 19:13:05|2  |51.016178|-114.099407|1          |0         |0       |0      |\n",
      "|2016-08-16 19:13:10|2  |51.016178|-114.099408|1          |0         |0       |0      |\n",
      "|2016-08-16 19:13:15|2  |51.016178|-114.099408|1          |0         |0       |0      |\n",
      "|2016-08-16 19:13:20|2  |51.01618 |-114.099408|1          |0         |0       |0      |\n",
      "|2016-08-16 19:13:25|2  |51.01618 |-114.09941 |1          |0         |0       |0      |\n",
      "|2016-08-16 19:13:30|2  |51.016182|-114.09941 |1          |0         |0       |0      |\n",
      "|2016-08-16 19:13:35|2  |51.016182|-114.09941 |1          |0         |0       |0      |\n",
      "|2016-08-16 19:13:40|2  |51.016182|-114.099408|1          |0         |0       |0      |\n",
      "|2016-08-16 19:13:45|2  |51.016182|-114.099408|1          |0         |0       |0      |\n",
      "|2016-08-16 19:13:50|2  |51.016182|-114.099408|1          |0         |0       |0      |\n",
      "|2016-08-16 19:13:55|2  |51.016182|-114.099408|1          |0         |0       |0      |\n",
      "|2016-08-16 19:14:00|2  |51.016182|-114.099408|1          |0         |0       |0      |\n",
      "|2016-08-16 19:14:05|2  |51.016183|-114.099408|1          |0         |0       |0      |\n",
      "|2016-08-16 19:14:10|2  |51.016183|-114.099408|1          |0         |0       |0      |\n",
      "|2016-08-16 19:14:15|2  |51.016182|-114.099408|1          |0         |0       |0      |\n",
      "|2016-08-16 19:14:20|2  |51.016183|-114.099408|1          |0         |0       |0      |\n",
      "|2016-08-16 19:14:25|2  |51.016183|-114.099408|1          |0         |0       |0      |\n",
      "|2016-08-16 19:14:30|2  |51.016183|-114.099408|1          |0         |0       |0      |\n",
      "|2016-08-16 19:14:35|2  |51.016183|-114.099407|1          |0         |0       |0      |\n",
      "|2016-08-16 19:14:40|2  |51.016182|-114.099407|1          |0         |0       |0      |\n",
      "|2016-08-16 19:14:45|2  |51.016182|-114.099405|1          |0         |0       |0      |\n",
      "|2016-08-16 19:14:50|2  |51.016182|-114.099405|1          |0         |0       |0      |\n",
      "|2016-08-16 19:14:55|2  |51.016182|-114.099405|1          |0         |0       |0      |\n",
      "|2016-08-16 19:15:00|2  |51.016183|-114.099407|1          |0         |0       |0      |\n",
      "|2016-08-16 19:15:05|2  |51.016183|-114.099407|1          |0         |0       |0      |\n",
      "|2016-08-16 19:15:10|2  |51.016183|-114.099407|1          |0         |0       |0      |\n",
      "|2016-08-16 19:15:15|2  |51.016185|-114.099407|1          |0         |0       |0      |\n",
      "|2016-08-16 19:15:20|2  |51.016185|-114.099407|1          |0         |0       |0      |\n",
      "|2016-08-16 19:15:25|2  |51.016187|-114.099407|1          |0         |0       |0      |\n",
      "|2016-08-16 19:15:30|2  |51.016187|-114.099407|1          |0         |0       |0      |\n",
      "|2016-08-16 19:15:35|2  |51.016188|-114.099407|1          |0         |0       |0      |\n",
      "|2016-08-16 19:15:40|2  |51.016188|-114.099408|1          |0         |0       |0      |\n",
      "|2016-08-16 19:15:45|2  |51.016188|-114.099408|1          |0         |0       |0      |\n",
      "|2016-08-16 19:15:50|2  |51.01619 |-114.09941 |1          |0         |0       |0      |\n",
      "|2016-08-16 19:15:55|2  |51.01619 |-114.09941 |1          |0         |0       |0      |\n",
      "|2016-08-16 19:16:00|2  |51.016192|-114.099412|1          |0         |0       |0      |\n",
      "|2016-08-16 19:16:05|2  |51.01619 |-114.099412|1          |0         |0       |0      |\n",
      "|2016-08-16 19:16:10|2  |51.01619 |-114.099412|1          |0         |0       |0      |\n",
      "|2016-08-16 19:16:15|2  |51.01619 |-114.099412|1          |0         |0       |0      |\n",
      "|2016-08-16 19:16:20|2  |51.01619 |-114.099413|1          |0         |0       |0      |\n",
      "|2016-08-16 19:16:25|2  |51.01619 |-114.099413|1          |0         |0       |0      |\n",
      "|2016-08-16 19:16:30|2  |51.016188|-114.099412|1          |0         |0       |0      |\n",
      "|2016-08-16 19:16:35|2  |51.016188|-114.099412|1          |0         |0       |0      |\n",
      "|2016-08-16 19:16:40|2  |51.016188|-114.09941 |1          |0         |0       |0      |\n",
      "|2016-08-16 19:16:45|2  |51.016188|-114.09941 |1          |0         |0       |0      |\n",
      "|2016-08-16 19:16:50|2  |51.016188|-114.09941 |1          |0         |0       |0      |\n",
      "|2016-08-16 19:16:55|2  |51.016188|-114.09941 |1          |0         |0       |0      |\n",
      "|2016-08-16 19:17:00|2  |51.016188|-114.099412|1          |0         |0       |0      |\n",
      "|2016-08-16 19:17:05|2  |51.016187|-114.099412|1          |0         |0       |0      |\n",
      "|2016-08-16 19:17:10|2  |51.016187|-114.099412|1          |0         |0       |0      |\n",
      "|2016-08-16 19:17:15|2  |51.016187|-114.09941 |1          |0         |0       |0      |\n",
      "|2016-08-16 19:17:20|2  |51.016187|-114.09941 |1          |0         |0       |0      |\n",
      "|2016-08-16 19:17:25|2  |51.016187|-114.09941 |1          |0         |0       |0      |\n",
      "|2016-08-16 19:17:30|2  |51.016187|-114.09941 |1          |0         |0       |0      |\n",
      "|2016-08-16 19:17:35|2  |51.016188|-114.099412|1          |0         |0       |0      |\n",
      "|2016-08-16 19:17:40|2  |51.016188|-114.099412|1          |0         |0       |0      |\n",
      "|2016-08-16 19:17:45|2  |51.016188|-114.099412|1          |0         |0       |0      |\n",
      "|2016-08-16 19:17:50|2  |51.016188|-114.099412|1          |0         |0       |0      |\n",
      "|2016-08-16 19:17:55|2  |51.016188|-114.099412|1          |0         |0       |0      |\n",
      "|2016-08-16 19:18:00|2  |51.016188|-114.09941 |1          |0         |0       |0      |\n",
      "|2016-08-16 19:18:05|2  |51.01619 |-114.09941 |1          |0         |0       |0      |\n",
      "|2016-08-16 19:18:10|2  |51.01619 |-114.09941 |1          |0         |0       |0      |\n",
      "|2016-08-16 19:18:15|2  |51.01619 |-114.09941 |1          |0         |0       |0      |\n",
      "|2016-08-16 19:18:20|2  |51.016192|-114.09941 |1          |0         |0       |0      |\n",
      "|2016-08-16 19:18:25|2  |51.016192|-114.099408|1          |0         |0       |0      |\n",
      "|2016-08-16 19:18:30|2  |51.016192|-114.09941 |1          |0         |0       |0      |\n",
      "|2016-08-16 19:18:35|2  |51.016192|-114.09941 |1          |0         |0       |0      |\n",
      "|2016-08-16 19:18:40|2  |51.016192|-114.099408|1          |0         |0       |0      |\n",
      "|2016-08-16 19:18:45|2  |51.016192|-114.099408|1          |0         |0       |0      |\n",
      "|2016-08-16 19:18:50|2  |51.016192|-114.099408|1          |0         |0       |0      |\n",
      "|2016-08-16 19:18:55|2  |51.016192|-114.099408|1          |0         |0       |0      |\n",
      "|2016-08-16 19:19:00|2  |51.01619 |-114.099408|1          |0         |0       |0      |\n",
      "|2016-08-16 19:19:05|2  |51.01619 |-114.099408|1          |0         |0       |0      |\n",
      "|2016-08-16 19:19:10|2  |51.01619 |-114.099408|1          |0         |0       |0      |\n",
      "|2016-08-16 19:19:15|2  |51.01619 |-114.099408|1          |0         |0       |0      |\n",
      "|2016-08-16 19:19:20|2  |51.01619 |-114.099408|1          |0         |0       |0      |\n",
      "|2016-08-16 19:19:25|2  |51.01619 |-114.099407|1          |0         |0       |0      |\n",
      "|2016-08-16 19:19:30|2  |51.01619 |-114.099405|1          |0         |0       |0      |\n",
      "|2016-08-16 19:19:35|2  |51.01619 |-114.099405|1          |0         |0       |0      |\n",
      "|2016-08-16 19:19:40|2  |51.01619 |-114.099403|1          |0         |0       |0      |\n",
      "|2016-08-16 19:19:45|2  |51.01619 |-114.099403|1          |0         |0       |0      |\n",
      "|2016-08-16 19:19:50|2  |51.016192|-114.099403|1          |0         |0       |0      |\n",
      "|2016-08-16 19:19:55|2  |51.016192|-114.099402|1          |0         |0       |0      |\n",
      "|2016-08-16 19:20:00|2  |51.016192|-114.099402|1          |0         |0       |0      |\n",
      "|2016-08-16 19:20:05|2  |51.016192|-114.099402|1          |0         |0       |0      |\n",
      "|2016-08-16 19:20:10|2  |51.01619 |-114.099402|1          |0         |0       |0      |\n",
      "|2016-08-16 19:20:15|2  |51.01619 |-114.099402|1          |0         |0       |0      |\n",
      "|2016-08-16 19:20:20|2  |51.01619 |-114.099403|1          |0         |0       |0      |\n",
      "|2016-08-16 19:20:25|2  |51.016192|-114.099403|1          |0         |0       |0      |\n",
      "|2016-08-16 19:20:30|2  |51.016192|-114.099405|1          |0         |0       |0      |\n",
      "|2016-08-16 19:20:35|2  |51.016192|-114.099405|1          |0         |0       |0      |\n",
      "|2016-08-16 19:20:40|2  |51.016192|-114.099405|1          |0         |0       |0      |\n",
      "|2016-08-16 19:20:45|2  |51.016192|-114.099405|1          |0         |0       |0      |\n",
      "|2016-08-16 19:20:50|2  |51.016193|-114.099405|1          |0         |0       |0      |\n",
      "|2016-08-16 19:20:55|2  |51.016193|-114.099405|1          |0         |0       |0      |\n",
      "|2016-08-16 19:21:00|2  |51.016192|-114.099405|1          |0         |0       |0      |\n",
      "|2016-08-16 19:21:05|2  |51.016192|-114.099407|1          |0         |0       |0      |\n",
      "|2016-08-16 19:21:10|2  |51.016192|-114.099407|1          |0         |0       |0      |\n",
      "|2016-08-16 19:21:15|2  |51.016192|-114.099407|1          |0         |0       |0      |\n",
      "|2016-08-16 19:21:20|2  |51.016192|-114.099407|1          |0         |0       |0      |\n",
      "|2016-08-16 19:21:25|2  |51.016192|-114.099407|1          |0         |0       |0      |\n",
      "|2016-08-16 19:21:30|2  |51.016193|-114.099407|1          |0         |0       |0      |\n",
      "|2016-08-16 19:21:35|2  |51.016193|-114.099407|1          |0         |0       |0      |\n",
      "|2016-08-16 19:21:40|2  |51.016193|-114.099407|1          |0         |0       |0      |\n",
      "|2016-08-16 19:21:45|2  |51.016193|-114.099407|1          |0         |0       |0      |\n",
      "|2016-08-16 19:21:50|2  |51.016192|-114.099407|1          |0         |0       |0      |\n",
      "|2016-08-16 19:21:55|2  |51.016192|-114.099407|1          |0         |0       |0      |\n",
      "|2016-08-16 19:22:00|2  |51.016192|-114.099407|1          |0         |0       |0      |\n",
      "|2016-08-16 19:22:05|2  |51.016192|-114.099407|1          |0         |0       |0      |\n",
      "|2016-08-16 19:22:10|2  |51.016192|-114.099405|1          |0         |0       |0      |\n",
      "|2016-08-16 19:22:15|2  |51.016192|-114.099405|1          |0         |0       |0      |\n",
      "|2016-08-16 19:22:20|2  |51.016193|-114.099405|1          |0         |0       |0      |\n",
      "|2016-08-16 19:22:25|2  |51.016193|-114.099405|1          |0         |0       |0      |\n",
      "|2016-08-16 19:22:30|2  |51.016193|-114.099405|1          |0         |0       |0      |\n",
      "|2016-08-16 19:22:35|2  |51.016195|-114.099403|1          |0         |0       |0      |\n",
      "|2016-08-16 19:22:40|2  |51.016195|-114.099405|1          |0         |0       |0      |\n",
      "|2016-08-16 19:22:45|2  |51.016195|-114.099405|1          |0         |0       |0      |\n",
      "|2016-08-16 19:22:50|2  |51.016195|-114.099405|1          |0         |0       |0      |\n",
      "|2016-08-16 19:22:55|2  |51.016195|-114.099403|1          |0         |0       |0      |\n",
      "|2016-08-16 19:23:00|2  |51.016195|-114.099403|1          |0         |0       |0      |\n",
      "|2016-08-16 19:23:05|2  |51.016195|-114.099403|1          |0         |0       |0      |\n",
      "|2016-08-16 19:23:10|2  |51.016195|-114.099403|1          |0         |0       |0      |\n",
      "|2016-08-16 19:23:15|2  |51.016195|-114.099403|1          |0         |0       |0      |\n",
      "|2016-08-16 19:23:20|2  |51.016195|-114.099403|1          |0         |0       |0      |\n",
      "|2016-08-16 19:23:25|2  |51.016195|-114.099402|1          |0         |0       |0      |\n",
      "|2016-08-16 19:23:30|2  |51.016195|-114.099402|1          |0         |0       |0      |\n",
      "|2016-08-16 19:23:35|2  |51.016195|-114.099402|1          |0         |0       |0      |\n",
      "|2016-08-16 19:23:40|2  |51.016195|-114.0994  |1          |0         |0       |0      |\n",
      "|2016-08-16 19:23:45|2  |51.016195|-114.0994  |1          |0         |0       |0      |\n",
      "|2016-08-16 19:23:50|2  |51.016195|-114.0994  |1          |0         |0       |0      |\n",
      "|2016-08-16 19:23:55|2  |51.016195|-114.0994  |1          |0         |0       |0      |\n",
      "|2016-08-16 19:24:00|2  |51.016195|-114.0994  |1          |0         |0       |0      |\n",
      "|2016-08-16 19:24:05|2  |51.016195|-114.0994  |1          |0         |0       |0      |\n",
      "|2016-08-16 19:24:10|2  |51.016195|-114.0994  |1          |0         |0       |0      |\n",
      "|2016-08-16 19:24:15|2  |51.016195|-114.099398|1          |0         |0       |0      |\n",
      "|2016-08-16 19:24:20|2  |51.016195|-114.099398|1          |0         |0       |0      |\n",
      "|2016-08-16 19:24:25|2  |51.016193|-114.099398|1          |0         |0       |0      |\n",
      "|2016-08-16 19:24:30|2  |51.016193|-114.099398|1          |0         |0       |0      |\n",
      "|2016-08-16 19:24:35|2  |51.016193|-114.099397|1          |0         |0       |0      |\n",
      "|2016-08-16 19:24:40|2  |51.016193|-114.099397|1          |0         |0       |0      |\n",
      "|2016-08-16 19:24:45|2  |51.016192|-114.099397|1          |0         |0       |0      |\n",
      "|2016-08-16 19:24:50|2  |51.016193|-114.099398|1          |0         |0       |0      |\n",
      "|2016-08-16 19:24:55|2  |51.016193|-114.099398|1          |0         |0       |0      |\n",
      "|2016-08-16 19:25:00|2  |51.016193|-114.099398|1          |0         |0       |0      |\n",
      "|2016-08-16 19:25:05|2  |51.016193|-114.099398|1          |0         |0       |0      |\n",
      "|2016-08-16 19:25:10|2  |51.016193|-114.099398|1          |0         |0       |0      |\n",
      "|2016-08-16 19:25:15|2  |51.016193|-114.099398|1          |0         |0       |0      |\n",
      "|2016-08-16 19:25:20|2  |51.016193|-114.099398|1          |0         |0       |0      |\n",
      "|2016-08-16 19:25:25|2  |51.016193|-114.099398|1          |0         |0       |0      |\n",
      "|2016-08-16 19:25:30|2  |51.016195|-114.099398|1          |0         |0       |0      |\n",
      "|2016-08-16 19:25:35|2  |51.016195|-114.099398|1          |0         |0       |0      |\n",
      "|2016-08-16 19:25:40|2  |51.016195|-114.099398|1          |0         |0       |0      |\n",
      "|2016-08-16 19:25:45|2  |51.016197|-114.099398|1          |0         |0       |0      |\n",
      "|2016-08-16 19:25:50|2  |51.016197|-114.099398|1          |0         |0       |0      |\n",
      "|2016-08-16 19:25:55|2  |51.016197|-114.0994  |1          |0         |0       |0      |\n",
      "|2016-08-16 19:26:00|2  |51.016198|-114.0994  |1          |0         |0       |0      |\n",
      "|2016-08-16 19:26:05|2  |51.016198|-114.0994  |1          |0         |0       |0      |\n",
      "|2016-08-16 19:26:10|2  |51.0162  |-114.0994  |1          |0         |0       |0      |\n",
      "|2016-08-16 19:26:15|2  |51.0162  |-114.0994  |1          |0         |0       |0      |\n",
      "|2016-08-16 19:26:20|2  |51.016202|-114.099402|1          |0         |0       |0      |\n",
      "|2016-08-16 19:26:25|2  |51.016203|-114.099402|1          |0         |0       |0      |\n",
      "|2016-08-16 19:26:30|2  |51.016203|-114.099402|1          |0         |0       |0      |\n",
      "|2016-08-16 19:26:35|2  |51.016205|-114.099402|1          |0         |0       |0      |\n",
      "|2016-08-16 19:26:40|2  |51.016205|-114.099402|1          |0         |0       |0      |\n",
      "|2016-08-16 19:26:45|2  |51.016205|-114.099402|1          |0         |0       |0      |\n",
      "|2016-08-16 19:26:50|2  |51.016205|-114.099402|1          |0         |0       |0      |\n",
      "|2016-08-16 19:26:55|2  |51.016203|-114.099402|1          |0         |0       |0      |\n",
      "|2016-08-16 19:27:00|2  |51.016203|-114.099402|1          |0         |0       |0      |\n",
      "|2016-08-16 19:27:05|2  |51.016203|-114.0994  |1          |0         |0       |0      |\n",
      "|2016-08-16 19:27:10|2  |51.016203|-114.0994  |1          |0         |0       |0      |\n",
      "|2016-08-16 19:27:15|2  |51.016205|-114.0994  |1          |0         |0       |0      |\n",
      "|2016-08-16 19:27:20|2  |51.016205|-114.099398|1          |0         |0       |0      |\n",
      "|2016-08-16 19:27:25|2  |51.016205|-114.099398|1          |0         |0       |0      |\n",
      "|2016-08-16 19:27:30|2  |51.016205|-114.099398|1          |0         |0       |0      |\n",
      "|2016-08-16 19:27:35|2  |51.016205|-114.099398|1          |0         |0       |0      |\n",
      "|2016-08-16 19:27:40|2  |51.016205|-114.099397|1          |0         |0       |0      |\n",
      "|2016-08-16 19:27:45|2  |51.016205|-114.099397|1          |0         |0       |0      |\n",
      "|2016-08-16 19:27:50|2  |51.016205|-114.099398|1          |0         |0       |0      |\n",
      "|2016-08-16 19:27:55|2  |51.016205|-114.099398|1          |0         |0       |0      |\n",
      "|2016-08-16 19:28:00|2  |51.016205|-114.099398|1          |0         |0       |0      |\n",
      "|2016-08-16 19:28:05|2  |51.016205|-114.099398|1          |0         |0       |0      |\n",
      "|2016-08-16 19:28:10|2  |51.016205|-114.099398|1          |0         |0       |0      |\n",
      "|2016-08-16 19:28:15|2  |51.016205|-114.099398|1          |0         |0       |0      |\n",
      "|2016-08-16 19:28:20|2  |51.016205|-114.099398|1          |0         |0       |0      |\n",
      "|2016-08-16 19:28:25|2  |51.016205|-114.099398|1          |0         |0       |0      |\n",
      "|2016-08-16 19:28:30|2  |51.016205|-114.099397|1          |0         |0       |0      |\n",
      "|2016-08-16 19:28:35|2  |51.016205|-114.099397|1          |0         |0       |0      |\n",
      "|2016-08-16 19:28:40|2  |51.016205|-114.099397|1          |0         |0       |0      |\n",
      "|2016-08-16 19:28:45|2  |51.016205|-114.099397|1          |0         |0       |0      |\n",
      "|2016-08-16 19:28:50|2  |51.016207|-114.099397|1          |0         |0       |0      |\n",
      "|2016-08-16 19:28:55|2  |51.016207|-114.099397|1          |0         |0       |0      |\n",
      "|2016-08-16 19:29:00|2  |51.016205|-114.099397|1          |0         |0       |0      |\n",
      "|2016-08-16 19:29:05|2  |51.016205|-114.099397|1          |0         |0       |0      |\n",
      "|2016-08-16 19:29:10|2  |51.016205|-114.099397|1          |0         |0       |0      |\n",
      "|2016-08-16 19:29:15|2  |51.016205|-114.099397|1          |0         |0       |0      |\n",
      "|2016-08-16 19:29:20|2  |51.016205|-114.099397|1          |0         |0       |0      |\n",
      "|2016-08-16 19:29:25|2  |51.016205|-114.099397|1          |0         |0       |0      |\n",
      "|2016-08-16 19:29:30|2  |51.016207|-114.099397|1          |0         |0       |0      |\n",
      "|2016-08-16 19:29:35|2  |51.016207|-114.099398|1          |0         |0       |0      |\n",
      "|2016-08-16 19:29:40|2  |51.016207|-114.099398|1          |0         |0       |0      |\n",
      "|2016-08-16 19:29:45|2  |51.016208|-114.099398|1          |0         |0       |0      |\n",
      "|2016-08-16 19:29:50|2  |51.016208|-114.099398|1          |0         |0       |0      |\n",
      "|2016-08-16 19:29:55|2  |51.016208|-114.0994  |1          |0         |0       |0      |\n",
      "|2016-08-16 19:30:00|2  |51.016208|-114.0994  |1          |0         |0       |0      |\n",
      "|2016-08-16 19:30:05|2  |51.016208|-114.099402|1          |0         |0       |0      |\n",
      "|2016-08-16 19:30:10|2  |51.016208|-114.099402|1          |0         |0       |0      |\n",
      "|2016-08-16 19:30:15|2  |51.016208|-114.099402|1          |0         |0       |0      |\n",
      "|2016-08-16 19:30:20|2  |51.016208|-114.099403|1          |0         |0       |0      |\n",
      "|2016-08-16 19:30:25|2  |51.016208|-114.099405|1          |0         |0       |0      |\n",
      "|2016-08-16 19:30:30|2  |51.01621 |-114.099405|1          |0         |0       |0      |\n",
      "|2016-08-16 19:30:35|2  |51.01621 |-114.099407|1          |0         |0       |0      |\n",
      "|2016-08-16 19:30:40|2  |51.01621 |-114.099408|1          |0         |0       |0      |\n",
      "|2016-08-16 19:30:45|2  |51.01621 |-114.099408|1          |0         |0       |0      |\n",
      "|2016-08-16 19:30:50|2  |51.01621 |-114.099408|1          |0         |0       |0      |\n",
      "|2016-08-16 19:30:55|2  |51.01621 |-114.099408|1          |0         |0       |0      |\n",
      "|2016-08-16 19:31:00|2  |51.01621 |-114.099407|1          |0         |0       |0      |\n",
      "|2016-08-16 19:31:05|2  |51.016212|-114.099407|1          |0         |0       |0      |\n",
      "|2016-08-16 19:31:10|2  |51.016212|-114.099407|1          |0         |0       |0      |\n",
      "|2016-08-16 19:31:15|2  |51.016212|-114.099407|1          |0         |0       |0      |\n",
      "|2016-08-16 19:31:20|2  |51.016212|-114.099407|1          |0         |0       |0      |\n",
      "|2016-08-16 19:31:25|2  |51.016212|-114.099408|1          |0         |0       |0      |\n",
      "|2016-08-16 19:31:30|2  |51.016212|-114.099408|1          |0         |0       |0      |\n",
      "|2016-08-16 19:31:35|2  |51.016212|-114.099408|1          |0         |0       |0      |\n",
      "|2016-08-16 19:31:40|2  |51.01621 |-114.099408|1          |0         |0       |0      |\n",
      "|2016-08-16 19:31:45|2  |51.01621 |-114.099407|1          |0         |0       |0      |\n",
      "|2016-08-16 19:31:50|2  |51.01621 |-114.099407|1          |0         |0       |0      |\n",
      "|2016-08-16 19:31:55|2  |51.01621 |-114.099407|1          |0         |0       |0      |\n",
      "|2016-08-16 19:32:00|2  |51.01621 |-114.099405|1          |0         |0       |0      |\n",
      "|2016-08-16 19:32:05|2  |51.01621 |-114.099405|1          |0         |0       |0      |\n",
      "|2016-08-16 19:32:10|2  |51.01621 |-114.099403|1          |0         |0       |0      |\n",
      "|2016-08-16 19:32:15|2  |51.01621 |-114.099403|1          |0         |0       |0      |\n",
      "|2016-08-16 19:32:20|2  |51.01621 |-114.099403|1          |0         |0       |0      |\n",
      "|2016-08-16 19:32:25|2  |51.01621 |-114.099403|1          |0         |0       |0      |\n",
      "|2016-08-16 19:32:30|2  |51.016208|-114.099402|1          |0         |0       |0      |\n",
      "|2016-08-16 19:32:35|2  |51.016208|-114.099402|1          |0         |0       |0      |\n",
      "|2016-08-16 19:32:40|2  |51.016208|-114.099402|1          |0         |0       |0      |\n",
      "|2016-08-16 19:32:45|2  |51.016208|-114.0994  |1          |0         |0       |0      |\n",
      "|2016-08-16 19:32:50|2  |51.016208|-114.0994  |1          |0         |0       |0      |\n",
      "|2016-08-16 19:32:55|2  |51.016208|-114.099398|1          |0         |0       |0      |\n",
      "|2016-08-16 19:33:00|2  |51.016208|-114.099398|1          |0         |0       |0      |\n",
      "|2016-08-16 19:33:05|2  |51.016208|-114.099397|1          |0         |0       |0      |\n",
      "|2016-08-16 19:33:10|2  |51.016208|-114.099395|1          |0         |0       |0      |\n",
      "|2016-08-16 19:33:15|2  |51.016208|-114.099395|1          |0         |0       |0      |\n",
      "|2016-08-16 19:33:20|2  |51.016208|-114.099395|1          |0         |0       |0      |\n",
      "|2016-08-16 19:33:25|2  |51.016208|-114.099393|1          |0         |0       |0      |\n",
      "|2016-08-16 19:33:30|2  |51.016207|-114.099395|1          |0         |0       |0      |\n",
      "|2016-08-16 19:33:35|2  |51.016205|-114.099395|1          |0         |0       |0      |\n",
      "|2016-08-16 19:33:40|2  |51.016205|-114.099395|1          |0         |0       |0      |\n",
      "|2016-08-16 19:33:45|2  |51.016205|-114.099397|1          |0         |0       |0      |\n",
      "|2016-08-16 19:33:50|2  |51.016205|-114.099397|1          |0         |0       |0      |\n",
      "|2016-08-16 19:33:55|2  |51.016205|-114.099397|1          |0         |0       |0      |\n",
      "|2016-08-16 19:34:00|2  |51.016207|-114.099397|1          |0         |0       |0      |\n",
      "|2016-08-16 19:34:05|2  |51.016207|-114.099397|1          |0         |0       |0      |\n",
      "|2016-08-16 19:34:10|2  |51.016207|-114.099398|1          |0         |0       |0      |\n",
      "|2016-08-16 19:34:15|2  |51.016208|-114.099398|1          |0         |0       |0      |\n",
      "|2016-08-16 19:34:20|2  |51.016208|-114.099398|1          |0         |0       |0      |\n",
      "|2016-08-16 19:34:25|2  |51.016207|-114.099398|1          |0         |0       |0      |\n",
      "|2016-08-16 19:34:30|2  |51.016207|-114.0994  |1          |0         |0       |0      |\n",
      "|2016-08-16 19:34:35|2  |51.016207|-114.0994  |1          |0         |0       |0      |\n",
      "|2016-08-16 19:34:40|2  |51.016207|-114.0994  |1          |0         |0       |0      |\n",
      "|2016-08-16 19:34:45|2  |51.016208|-114.0994  |1          |0         |0       |0      |\n",
      "|2016-08-16 19:34:50|2  |51.016208|-114.0994  |1          |0         |0       |0      |\n",
      "|2016-08-16 19:34:55|2  |51.016208|-114.0994  |1          |0         |0       |0      |\n",
      "|2016-08-16 19:35:00|2  |51.01621 |-114.0994  |1          |0         |0       |0      |\n",
      "|2016-08-16 19:35:05|2  |51.01621 |-114.0994  |1          |0         |0       |0      |\n",
      "|2016-08-16 19:35:10|2  |51.01621 |-114.0994  |1          |0         |0       |0      |\n",
      "|2016-08-16 19:35:15|2  |51.016212|-114.0994  |1          |0         |0       |0      |\n",
      "|2016-08-16 19:35:20|2  |51.016212|-114.0994  |1          |0         |0       |0      |\n",
      "|2016-08-16 19:35:25|2  |51.016212|-114.0994  |1          |0         |0       |0      |\n",
      "|2016-08-16 19:35:30|2  |51.016212|-114.099398|1          |0         |0       |0      |\n",
      "|2016-08-16 19:35:35|2  |51.016212|-114.099398|1          |0         |0       |0      |\n",
      "|2016-08-16 19:35:40|2  |51.016212|-114.099398|1          |0         |0       |0      |\n",
      "|2016-08-16 19:35:45|2  |51.016212|-114.099398|1          |0         |0       |0      |\n",
      "|2016-08-16 19:35:50|2  |51.01621 |-114.099397|1          |0         |0       |0      |\n",
      "|2016-08-16 19:35:55|2  |51.01621 |-114.099397|1          |0         |0       |0      |\n",
      "|2016-08-16 19:36:00|2  |51.016208|-114.099397|1          |0         |0       |0      |\n",
      "|2016-08-16 19:36:05|2  |51.016208|-114.099397|1          |0         |0       |0      |\n",
      "|2016-08-16 19:36:10|2  |51.016208|-114.099395|1          |0         |0       |0      |\n",
      "|2016-08-16 19:36:15|2  |51.016208|-114.099395|1          |0         |0       |0      |\n",
      "|2016-08-16 19:36:20|2  |51.016208|-114.099395|1          |0         |0       |0      |\n",
      "|2016-08-16 19:36:25|2  |51.016208|-114.099395|1          |0         |0       |0      |\n",
      "|2016-08-16 19:36:30|2  |51.016208|-114.099395|1          |0         |0       |0      |\n",
      "|2016-08-16 19:36:35|2  |51.016208|-114.099393|1          |0         |0       |0      |\n",
      "|2016-08-16 19:36:40|2  |51.016208|-114.099393|1          |0         |0       |0      |\n",
      "|2016-08-16 19:36:45|2  |51.016208|-114.099393|1          |0         |0       |0      |\n",
      "|2016-08-16 19:36:50|2  |51.016208|-114.099392|1          |0         |0       |0      |\n",
      "|2016-08-16 19:36:55|2  |51.01621 |-114.099392|1          |0         |0       |0      |\n",
      "|2016-08-16 19:37:00|2  |51.01621 |-114.099392|1          |0         |0       |0      |\n",
      "|2016-08-16 19:37:05|2  |51.01621 |-114.09939 |1          |0         |0       |0      |\n",
      "|2016-08-16 19:37:10|2  |51.01621 |-114.09939 |1          |0         |0       |0      |\n",
      "|2016-08-16 19:37:15|2  |51.01621 |-114.09939 |1          |0         |0       |0      |\n",
      "|2016-08-16 19:37:20|2  |51.016212|-114.09939 |1          |0         |0       |0      |\n",
      "|2016-08-16 19:37:25|2  |51.016212|-114.09939 |1          |0         |0       |0      |\n",
      "|2016-08-16 19:37:30|2  |51.016212|-114.09939 |1          |0         |0       |0      |\n",
      "|2016-08-16 19:37:35|2  |51.016213|-114.09939 |1          |0         |0       |0      |\n",
      "|2016-08-16 19:37:40|2  |51.016213|-114.09939 |1          |0         |0       |0      |\n",
      "|2016-08-16 19:37:45|2  |51.016213|-114.09939 |1          |0         |0       |0      |\n",
      "|2016-08-16 19:37:50|2  |51.016213|-114.09939 |1          |0         |0       |0      |\n",
      "|2016-08-16 19:37:55|2  |51.016213|-114.09939 |1          |0         |0       |0      |\n",
      "|2016-08-16 19:38:00|2  |51.016213|-114.099388|1          |0         |0       |0      |\n",
      "|2016-08-16 19:38:05|2  |51.016213|-114.099388|1          |0         |0       |0      |\n",
      "|2016-08-16 19:38:10|2  |51.016213|-114.099388|1          |0         |0       |0      |\n",
      "|2016-08-16 19:38:15|2  |51.016213|-114.099388|1          |0         |0       |0      |\n",
      "|2016-08-16 19:38:20|2  |51.016213|-114.099387|1          |0         |0       |0      |\n",
      "|2016-08-16 19:38:25|2  |51.016213|-114.099387|1          |0         |0       |0      |\n",
      "|2016-08-16 19:38:30|2  |51.016213|-114.099385|1          |0         |0       |0      |\n",
      "|2016-08-16 19:38:35|2  |51.016213|-114.099385|1          |0         |0       |0      |\n",
      "|2016-08-16 19:38:40|2  |51.016215|-114.099385|1          |0         |0       |0      |\n",
      "|2016-08-16 19:38:45|2  |51.016217|-114.099383|1          |0         |0       |0      |\n",
      "|2016-08-16 19:38:50|2  |51.016217|-114.099383|1          |0         |0       |0      |\n",
      "|2016-08-16 19:38:55|2  |51.016217|-114.099382|1          |0         |0       |0      |\n",
      "|2016-08-16 19:39:00|2  |51.016218|-114.099382|1          |0         |0       |0      |\n",
      "|2016-08-16 19:39:05|2  |51.016218|-114.099382|1          |0         |0       |0      |\n",
      "|2016-08-16 19:39:10|2  |51.016218|-114.099382|1          |0         |0       |0      |\n",
      "|2016-08-16 19:39:15|2  |51.016218|-114.099382|1          |0         |0       |0      |\n",
      "|2016-08-16 19:39:20|2  |51.016218|-114.099382|1          |0         |0       |0      |\n",
      "|2016-08-16 19:39:25|2  |51.01622 |-114.099382|1          |0         |0       |0      |\n",
      "|2016-08-16 19:39:30|2  |51.016218|-114.099382|1          |0         |0       |0      |\n",
      "|2016-08-16 19:39:35|2  |51.016218|-114.099382|1          |0         |0       |0      |\n",
      "|2016-08-16 19:39:40|2  |51.016218|-114.099382|1          |0         |0       |0      |\n",
      "|2016-08-16 19:39:45|2  |51.016218|-114.099382|1          |0         |0       |0      |\n",
      "|2016-08-16 19:39:50|2  |51.016218|-114.099382|1          |0         |0       |0      |\n",
      "|2016-08-16 19:39:55|2  |51.016217|-114.099382|1          |0         |0       |0      |\n",
      "|2016-08-16 19:40:00|2  |51.016217|-114.09938 |1          |0         |0       |0      |\n",
      "|2016-08-16 19:40:05|2  |51.016217|-114.09938 |1          |0         |0       |0      |\n",
      "|2016-08-16 19:40:10|2  |51.016217|-114.09938 |1          |0         |0       |0      |\n",
      "|2016-08-16 19:40:15|2  |51.016217|-114.09938 |1          |0         |0       |0      |\n",
      "|2016-08-16 19:40:20|2  |51.016217|-114.099378|1          |0         |0       |0      |\n",
      "|2016-08-16 19:40:25|2  |51.016217|-114.099378|1          |0         |0       |0      |\n",
      "|2016-08-16 19:40:30|2  |51.016215|-114.099377|1          |0         |0       |0      |\n",
      "|2016-08-16 19:40:35|2  |51.016215|-114.099375|1          |0         |0       |0      |\n",
      "|2016-08-16 19:40:40|2  |51.016213|-114.099375|1          |0         |0       |0      |\n",
      "|2016-08-16 19:40:45|2  |51.016213|-114.099373|1          |0         |0       |0      |\n",
      "|2016-08-16 19:40:50|2  |51.016213|-114.099373|1          |0         |0       |0      |\n",
      "|2016-08-16 19:40:55|2  |51.016212|-114.099373|1          |0         |0       |0      |\n",
      "|2016-08-16 19:41:00|2  |51.016212|-114.099373|1          |0         |0       |0      |\n",
      "|2016-08-16 19:41:05|2  |51.016212|-114.099372|1          |0         |0       |0      |\n",
      "|2016-08-16 19:41:10|2  |51.016212|-114.099372|1          |0         |0       |0      |\n",
      "|2016-08-16 19:41:15|2  |51.016212|-114.099373|1          |0         |0       |0      |\n",
      "|2016-08-16 19:41:20|2  |51.016212|-114.099373|1          |0         |0       |0      |\n",
      "|2016-08-16 19:41:25|2  |51.01621 |-114.099373|1          |0         |0       |0      |\n",
      "|2016-08-16 19:41:30|2  |51.01621 |-114.099372|1          |0         |0       |0      |\n",
      "|2016-08-16 19:41:35|2  |51.01621 |-114.099372|1          |0         |0       |0      |\n",
      "|2016-08-16 19:41:40|2  |51.01621 |-114.099372|1          |0         |0       |0      |\n",
      "|2016-08-16 19:41:45|2  |51.01621 |-114.09937 |1          |0         |0       |0      |\n",
      "|2016-08-16 19:41:50|2  |51.01621 |-114.09937 |1          |0         |0       |0      |\n",
      "|2016-08-16 19:41:55|2  |51.016208|-114.09937 |1          |0         |0       |0      |\n",
      "|2016-08-16 19:42:00|2  |51.016208|-114.09937 |1          |0         |0       |0      |\n",
      "|2016-08-16 19:42:05|2  |51.016208|-114.09937 |1          |0         |0       |0      |\n",
      "|2016-08-16 19:42:10|2  |51.016208|-114.09937 |1          |0         |0       |0      |\n",
      "|2016-08-16 19:42:15|2  |51.016208|-114.09937 |1          |0         |0       |0      |\n",
      "|2016-08-16 19:42:20|2  |51.016208|-114.09937 |1          |0         |0       |0      |\n",
      "|2016-08-16 19:42:25|2  |51.01621 |-114.09937 |1          |0         |0       |0      |\n",
      "|2016-08-16 19:42:30|2  |51.01621 |-114.09937 |1          |0         |0       |0      |\n",
      "|2016-08-16 19:42:35|2  |51.01621 |-114.09937 |1          |0         |0       |0      |\n",
      "|2016-08-16 19:42:40|2  |51.01621 |-114.09937 |1          |0         |0       |0      |\n",
      "|2016-08-16 19:42:45|2  |51.01621 |-114.09937 |1          |0         |0       |0      |\n",
      "|2016-08-16 19:42:50|2  |51.01621 |-114.09937 |1          |0         |0       |0      |\n",
      "|2016-08-16 19:42:55|2  |51.01621 |-114.09937 |1          |0         |0       |0      |\n",
      "|2016-08-16 19:43:00|2  |51.01621 |-114.09937 |1          |0         |0       |0      |\n",
      "|2016-08-16 19:43:05|2  |51.016208|-114.099372|1          |0         |0       |0      |\n",
      "|2016-08-16 19:43:10|2  |51.016197|-114.099347|1          |0         |0       |0      |\n",
      "|2016-08-16 19:43:15|2  |51.016195|-114.099347|1          |0         |0       |0      |\n",
      "|2016-08-16 19:43:20|2  |51.016195|-114.099347|1          |0         |0       |0      |\n",
      "|2016-08-16 19:43:25|2  |51.016195|-114.099347|1          |0         |0       |0      |\n",
      "|2016-08-16 19:43:30|2  |51.016195|-114.099347|1          |0         |0       |0      |\n",
      "|2016-08-16 19:43:35|2  |51.016195|-114.099347|1          |0         |0       |0      |\n",
      "|2016-08-16 19:43:40|2  |51.016195|-114.099345|1          |0         |0       |0      |\n",
      "|2016-08-16 19:43:45|2  |51.016195|-114.099345|1          |0         |0       |0      |\n",
      "|2016-08-16 19:43:50|2  |51.016193|-114.099345|1          |0         |0       |0      |\n",
      "|2016-08-16 19:43:55|2  |51.016193|-114.099345|1          |0         |0       |0      |\n",
      "|2016-08-16 19:44:00|2  |51.016193|-114.099345|1          |0         |0       |0      |\n",
      "|2016-08-16 19:44:05|2  |51.016193|-114.099345|1          |0         |0       |0      |\n",
      "|2016-08-16 19:44:10|2  |51.016193|-114.099345|1          |0         |0       |0      |\n",
      "|2016-08-16 19:44:15|2  |51.016193|-114.099345|1          |0         |0       |0      |\n",
      "|2016-08-16 19:44:20|2  |51.016192|-114.099345|1          |0         |0       |0      |\n",
      "|2016-08-16 19:44:25|2  |51.016192|-114.099345|1          |0         |0       |0      |\n",
      "|2016-08-16 19:44:30|2  |51.016192|-114.099345|1          |0         |0       |0      |\n",
      "|2016-08-16 19:44:35|2  |51.016192|-114.099345|1          |0         |0       |0      |\n",
      "|2016-08-16 19:44:40|2  |51.016192|-114.099345|1          |0         |0       |0      |\n",
      "|2016-08-16 19:44:45|2  |51.016192|-114.099345|1          |0         |0       |0      |\n",
      "|2016-08-16 19:44:50|2  |51.016192|-114.099345|1          |0         |0       |0      |\n",
      "|2016-08-16 19:44:55|2  |51.016192|-114.099345|1          |0         |0       |0      |\n",
      "|2016-08-16 19:45:00|2  |51.016192|-114.099345|1          |0         |0       |0      |\n",
      "|2016-08-16 19:45:05|2  |51.016192|-114.099345|1          |0         |0       |0      |\n",
      "|2016-08-16 19:45:10|2  |51.016192|-114.099345|1          |0         |0       |0      |\n",
      "|2016-08-16 19:45:15|2  |51.016192|-114.099345|1          |0         |0       |0      |\n",
      "|2016-08-16 19:45:20|2  |51.016192|-114.099345|1          |0         |0       |0      |\n",
      "|2016-08-16 19:45:25|2  |51.016192|-114.099345|1          |0         |0       |0      |\n",
      "|2016-08-16 19:45:30|2  |51.016192|-114.099345|1          |0         |0       |0      |\n",
      "|2016-08-16 19:45:35|2  |51.016192|-114.099345|1          |0         |0       |0      |\n",
      "|2016-08-16 19:45:40|2  |51.016192|-114.099345|1          |0         |0       |0      |\n",
      "|2016-08-16 19:45:45|2  |51.016192|-114.099345|1          |0         |0       |0      |\n",
      "|2016-08-16 19:45:50|2  |51.016193|-114.099345|1          |0         |0       |0      |\n",
      "|2016-08-16 19:45:55|2  |51.016193|-114.099345|1          |0         |0       |0      |\n",
      "|2016-08-16 19:46:00|2  |51.016195|-114.099345|1          |0         |0       |0      |\n",
      "|2016-08-16 19:46:05|2  |51.016195|-114.099345|1          |0         |0       |0      |\n",
      "|2016-08-16 19:46:10|2  |51.016195|-114.099345|1          |0         |0       |0      |\n",
      "|2016-08-16 19:46:15|2  |51.016195|-114.099345|1          |0         |0       |0      |\n",
      "|2016-08-16 19:46:20|2  |51.016197|-114.099343|1          |0         |0       |0      |\n",
      "|2016-08-16 19:46:25|2  |51.016197|-114.099343|1          |0         |0       |0      |\n",
      "|2016-08-16 19:46:30|2  |51.016197|-114.099342|1          |0         |0       |0      |\n",
      "|2016-08-16 19:46:35|2  |51.016197|-114.099342|1          |0         |0       |0      |\n",
      "|2016-08-16 19:46:40|2  |51.016197|-114.09934 |1          |0         |0       |0      |\n",
      "|2016-08-16 19:46:45|2  |51.016197|-114.09934 |1          |0         |0       |0      |\n",
      "|2016-08-16 19:46:50|2  |51.016197|-114.099338|1          |0         |0       |0      |\n",
      "+-------------------+---+---------+-----------+-----------+----------+--------+-------+\n",
      "\n"
     ]
    }
   ],
   "source": [
    "gps_data3.show(10000,False)"
   ]
  },
  {
   "cell_type": "code",
   "execution_count": null,
   "metadata": {},
   "outputs": [],
   "source": [
    "gps_data3.drop(*['lat','lon','dow','distance','speed2','fixTypeCode','cum_pause','duration']).show(20000, False)\n",
    "#gps_data.persist()"
   ]
  },
  {
   "cell_type": "code",
   "execution_count": null,
   "metadata": {},
   "outputs": [],
   "source": [
    "gps_data.coalesce(1).write.option(\"header\",True).option(\"inferSchema\",\"true\").option(\"timestampFormat\", \"yyyy-MM-dd HH:mm:ss\").csv(\"gps_data.csv\")\n",
    "\n"
   ]
  },
  {
   "cell_type": "code",
   "execution_count": null,
   "metadata": {},
   "outputs": [],
   "source": [
    "gps_data.printSchema()"
   ]
  },
  {
   "cell_type": "code",
   "execution_count": null,
   "metadata": {},
   "outputs": [],
   "source": [
    "gps_data.count()"
   ]
  },
  {
   "cell_type": "code",
   "execution_count": null,
   "metadata": {},
   "outputs": [],
   "source": [
    "gps_data_path = '/Users/molinaro/Documents/GITHUB/PALMS/gps_data.csv/gps_data.csv'\n",
    "gps_data = spark.read.csv(gps_data_path, header=True, inferSchema=True)\n",
    "#gps_data = gps_data.limit(40000)\n",
    "print(gps_data.printSchema())"
   ]
  },
  {
   "cell_type": "markdown",
   "metadata": {},
   "source": [
    "### Process GPS data in Calgary/gps/A01r.csv"
   ]
  },
  {
   "cell_type": "code",
   "execution_count": null,
   "metadata": {},
   "outputs": [],
   "source": [
    "# segment 108"
   ]
  },
  {
   "cell_type": "code",
   "execution_count": null,
   "metadata": {},
   "outputs": [],
   "source": [
    "df.drop(*['lat','lon','dow','distance','fixTypeCode',\n",
    "         'cum_pause','total_sec','height','speed','heading','state_cp','tripType_cp','i1','i2','j4']).show(20000, False)"
   ]
  },
  {
   "cell_type": "code",
   "execution_count": null,
   "metadata": {},
   "outputs": [],
   "source": [
    "df2 = proc_segment(df, 'i3', ts_name, min_dist_per_min, min_pause_duration, max_pause_time, 0, 0, \"CASE3\")\n",
    "df2.drop(*['lat','lon','dow','distance','fixTypeCode',\n",
    "         'cum_pause','total_sec','height','speed','heading','state_cp','tripType_cp','i1','i2','j4']).show(20000, False)"
   ]
  },
  {
   "cell_type": "code",
   "execution_count": null,
   "metadata": {},
   "outputs": [],
   "source": []
  },
  {
   "cell_type": "code",
   "execution_count": null,
   "metadata": {},
   "outputs": [],
   "source": [
    "# segment 64"
   ]
  },
  {
   "cell_type": "code",
   "execution_count": null,
   "metadata": {},
   "outputs": [],
   "source": [
    "df = set_pause(df, 'i1', ts_name).checkpoint()\n",
    "df = check_case(df, 'i1', ts_name, min_dist_per_min, min_pause_duration, max_pause_time).checkpoint()\n",
    "df.drop(*['lat','lon','dow','distance','fixTypeCode',\n",
    "         'cum_pause','total_sec','height','speed','heading','state_cp','tripType_cp','i3','i2','j4']).show(20000, False)"
   ]
  },
  {
   "cell_type": "code",
   "execution_count": null,
   "metadata": {},
   "outputs": [],
   "source": [
    "df = proc_segment(df, 'j1', ts_name, min_dist_per_min, min_pause_duration, max_pause_time, 3, 2, \"CASE1\").checkpoint()\n",
    "df.drop(*['lat','lon','dow','distance','fixTypeCode',\n",
    "         'cum_pause','total_sec','height','speed','heading','state_cp','tripType_cp','i2','i3','j4']).show(20000, False)"
   ]
  },
  {
   "cell_type": "code",
   "execution_count": null,
   "metadata": {},
   "outputs": [],
   "source": [
    "df = set_pause(df, 'i1', ts_name).checkpoint()\n",
    "df = check_case(df, 'i1', ts_name, min_dist_per_min, min_pause_duration, max_pause_time).checkpoint()\n",
    "df.drop(*['lat','lon','dow','distance','fixTypeCode',\n",
    "         'cum_pause','total_sec','height','speed','heading','state_cp','tripType_cp','i3','i2','j4']).show(20000, False)"
   ]
  },
  {
   "cell_type": "code",
   "execution_count": null,
   "metadata": {},
   "outputs": [],
   "source": [
    "df = proc_segment(df, 'j1', ts_name, min_dist_per_min, min_pause_duration, max_pause_time, 3, 2, \"CASE1\").checkpoint()\n",
    "df.drop(*['lat','lon','dow','distance','fixTypeCode',\n",
    "         'cum_pause','total_sec','height','speed','heading','state_cp','tripType_cp','i2','i3','j4']).show(20000, False)"
   ]
  },
  {
   "cell_type": "code",
   "execution_count": null,
   "metadata": {},
   "outputs": [],
   "source": [
    "df = set_pause(df, 'i1', ts_name).checkpoint()\n",
    "df = check_case(df, 'i1', ts_name, min_dist_per_min, min_pause_duration, max_pause_time).checkpoint()\n",
    "df.drop(*['lat','lon','dow','distance','fixTypeCode',\n",
    "         'cum_pause','total_sec','height','speed','heading','state_cp','tripType_cp','i3','i2','j4']).show(20000, False)"
   ]
  },
  {
   "cell_type": "code",
   "execution_count": null,
   "metadata": {},
   "outputs": [],
   "source": [
    "df = proc_segment(df, 'j1', ts_name, min_dist_per_min, min_pause_duration, max_pause_time, 3, 2, \"CASE1\").checkpoint()\n",
    "df.drop(*['lat','lon','dow','distance','fixTypeCode',\n",
    "         'cum_pause','total_sec','height','speed','heading','state_cp','tripType_cp','i2','i3','j4']).show(20000, False)"
   ]
  },
  {
   "cell_type": "code",
   "execution_count": null,
   "metadata": {},
   "outputs": [],
   "source": [
    "df = set_pause(df, 'i1', ts_name).checkpoint()\n",
    "df = check_case(df, 'i1', ts_name, min_dist_per_min, min_pause_duration, max_pause_time).checkpoint()\n",
    "df.drop(*['lat','lon','dow','distance','fixTypeCode',\n",
    "         'cum_pause','total_sec','height','speed','heading','state_cp','tripType_cp','i3','i2','j4']).show(20000, False)"
   ]
  },
  {
   "cell_type": "code",
   "execution_count": null,
   "metadata": {},
   "outputs": [],
   "source": [
    "df = proc_segment(df, 'j1', ts_name, min_dist_per_min, min_pause_duration, max_pause_time, 3, 2, \"CASE1\").checkpoint()\n",
    "df.drop(*['lat','lon','dow','distance','fixTypeCode',\n",
    "         'cum_pause','total_sec','height','speed','heading','state_cp','tripType_cp','i2','i3','j4']).show(20000, False)"
   ]
  },
  {
   "cell_type": "code",
   "execution_count": null,
   "metadata": {},
   "outputs": [],
   "source": [
    "df = set_pause(df, 'i1', ts_name).checkpoint()\n",
    "df = check_case(df, 'i1', ts_name, min_dist_per_min, min_pause_duration, max_pause_time).checkpoint()\n",
    "df.drop(*['lat','lon','dow','distance','fixTypeCode',\n",
    "         'cum_pause','total_sec','height','speed','heading','state_cp','tripType_cp','i3','i2','j4']).show(20000, False)"
   ]
  },
  {
   "cell_type": "code",
   "execution_count": null,
   "metadata": {},
   "outputs": [],
   "source": [
    "df = proc_segment(df, 'j1', ts_name, min_dist_per_min, min_pause_duration, max_pause_time, 3, 2, \"CASE1\").checkpoint()\n",
    "df.drop(*['lat','lon','dow','distance','fixTypeCode',\n",
    "         'cum_pause','total_sec','height','speed','heading','state_cp','tripType_cp','i2','i3','j4']).show(20000, False)"
   ]
  },
  {
   "cell_type": "code",
   "execution_count": null,
   "metadata": {},
   "outputs": [],
   "source": [
    "df = set_pause(df, 'i1', ts_name).checkpoint()\n",
    "df = check_case(df, 'i1', ts_name, min_dist_per_min, min_pause_duration, max_pause_time).checkpoint()\n",
    "df.drop(*['lat','lon','dow','distance','fixTypeCode',\n",
    "         'cum_pause','total_sec','height','speed','heading','state_cp','tripType_cp','i3','i2','j4']).show(20000, False)"
   ]
  },
  {
   "cell_type": "code",
   "execution_count": null,
   "metadata": {},
   "outputs": [],
   "source": [
    "df = proc_segment(df, 'j1', ts_name, min_dist_per_min, min_pause_duration, max_pause_time, 3, 2, \"CASE1\").checkpoint()\n",
    "df.drop(*['lat','lon','dow','distance','fixTypeCode',\n",
    "         'cum_pause','total_sec','height','speed','heading','state_cp','tripType_cp','i2','i3','j4']).show(20000, False)"
   ]
  },
  {
   "cell_type": "code",
   "execution_count": null,
   "metadata": {},
   "outputs": [],
   "source": [
    "df = set_pause(df, 'i1', ts_name).checkpoint()\n",
    "df = check_case(df, 'i1', ts_name, min_dist_per_min, min_pause_duration, max_pause_time).checkpoint()\n",
    "df.drop(*['lat','lon','dow','distance','fixTypeCode',\n",
    "         'cum_pause','total_sec','height','speed','heading','state_cp','tripType_cp','i3','i2','j4']).show(20000, False)"
   ]
  },
  {
   "cell_type": "code",
   "execution_count": null,
   "metadata": {},
   "outputs": [],
   "source": [
    "df = proc_segment(df, 'j1', ts_name, min_dist_per_min, min_pause_duration, max_pause_time, 3, 2, \"CASE1\").checkpoint()\n",
    "df.drop(*['lat','lon','dow','distance','fixTypeCode',\n",
    "         'cum_pause','total_sec','height','speed','heading','state_cp','tripType_cp','i2','i3','j4']).show(20000, False)"
   ]
  },
  {
   "cell_type": "code",
   "execution_count": null,
   "metadata": {},
   "outputs": [],
   "source": [
    "df = set_pause(df, 'i1', ts_name).checkpoint()\n",
    "df = check_case(df, 'i1', ts_name, min_dist_per_min, min_pause_duration, max_pause_time).checkpoint()\n",
    "df.drop(*['lat','lon','dow','distance','fixTypeCode',\n",
    "         'cum_pause','total_sec','height','speed','heading','state_cp','tripType_cp','i3','i2','j4']).show(20000, False)"
   ]
  },
  {
   "cell_type": "code",
   "execution_count": null,
   "metadata": {},
   "outputs": [],
   "source": [
    "df = proc_segment(df, 'j1', ts_name, min_dist_per_min, min_pause_duration, max_pause_time, 3, 2, \"CASE1\").checkpoint()\n",
    "df.drop(*['lat','lon','dow','distance','fixTypeCode',\n",
    "         'cum_pause','total_sec','height','speed','heading','state_cp','tripType_cp','i2','i3','j4']).show(20000, False)"
   ]
  },
  {
   "cell_type": "code",
   "execution_count": null,
   "metadata": {},
   "outputs": [],
   "source": [
    "df = set_pause(df, 'i1', ts_name).checkpoint()\n",
    "df = check_case(df, 'i1', ts_name, min_dist_per_min, min_pause_duration, max_pause_time).checkpoint()\n",
    "df.drop(*['lat','lon','dow','distance','fixTypeCode',\n",
    "         'cum_pause','total_sec','height','speed','heading','state_cp','tripType_cp','i3','i2','j4']).show(20000, False)"
   ]
  },
  {
   "cell_type": "code",
   "execution_count": null,
   "metadata": {},
   "outputs": [],
   "source": [
    "df2 = proc_segment(df, 'j4', ts_name, min_dist_per_min, min_pause_duration, max_pause_time, 0, 0, \"CASE4\").checkpoint()\n",
    "df2.drop(*['lat','lon','dow','distance','fixTypeCode',\n",
    "         'cum_pause','total_sec','height','speed','heading','state_cp','tripType_cp','i2','i3','j3']).show(20000, False)"
   ]
  },
  {
   "cell_type": "code",
   "execution_count": null,
   "metadata": {},
   "outputs": [],
   "source": [
    "df2 = set_pause(df2, 'i1', ts_name).checkpoint()\n",
    "df2 = check_case(df2, 'i1', ts_name, min_dist_per_min, min_pause_duration, max_pause_time).checkpoint()\n",
    "df2.drop(*['lat','lon','dow','distance','fixTypeCode',\n",
    "         'cum_pause','total_sec','height','speed','heading','state_cp','tripType_cp','i3','i2','j4']).show(20000, False)"
   ]
  },
  {
   "cell_type": "code",
   "execution_count": null,
   "metadata": {},
   "outputs": [],
   "source": [
    "df2 = proc_segment(df2, 'j2', ts_name, min_dist_per_min, min_pause_duration, max_pause_time, 3, 3, \"CASE2\").checkpoint()\n",
    "df2.drop(*['lat','lon','dow','distance','fixTypeCode',\n",
    "         'cum_pause','total_sec','height','speed','heading','state_cp','tripType_cp','i2','i3','j4']).show(20000, False)"
   ]
  },
  {
   "cell_type": "code",
   "execution_count": null,
   "metadata": {},
   "outputs": [],
   "source": [
    "df2 = set_pause(df2, 'i1', ts_name).checkpoint()\n",
    "df2 = check_case(df2, 'i1', ts_name, min_dist_per_min, min_pause_duration, max_pause_time).checkpoint()\n",
    "df2.drop(*['lat','lon','dow','distance','fixTypeCode',\n",
    "         'cum_pause','total_sec','height','speed','heading','state_cp','tripType_cp','i3','i2','j4']).show(20000, False)"
   ]
  },
  {
   "cell_type": "code",
   "execution_count": null,
   "metadata": {},
   "outputs": [],
   "source": [
    "df2 = proc_segment(df2, 'j1', ts_name, min_dist_per_min, min_pause_duration, max_pause_time, 3, 2, \"CASE1\").checkpoint()\n",
    "df2.drop(*['lat','lon','dow','distance','fixTypeCode',\n",
    "         'cum_pause','total_sec','height','speed','heading','state_cp','tripType_cp','i2','i3','j4']).show(20000, False)"
   ]
  },
  {
   "cell_type": "code",
   "execution_count": null,
   "metadata": {},
   "outputs": [],
   "source": [
    "df2 = set_pause(df2, 'i1', ts_name).checkpoint()\n",
    "df2 = check_case(df2, 'i1', ts_name, min_dist_per_min, min_pause_duration, max_pause_time).checkpoint()\n",
    "df2.drop(*['lat','lon','dow','distance','fixTypeCode',\n",
    "         'cum_pause','total_sec','height','speed','heading','state_cp','tripType_cp','i3','i2','j4']).show(20000, False)"
   ]
  },
  {
   "cell_type": "code",
   "execution_count": null,
   "metadata": {},
   "outputs": [],
   "source": [
    "df3 = proc_segment(df2, 'j3', ts_name, min_dist_per_min, min_pause_duration, max_pause_time, 0, 0, \"CASE3\").checkpoint()\n",
    "df3.drop(*['lat','lon','dow','distance','fixTypeCode',\n",
    "         'cum_pause','total_sec','height','speed','heading','state_cp','tripType_cp','i2','i3','j4']).show(20000, False)"
   ]
  },
  {
   "cell_type": "code",
   "execution_count": null,
   "metadata": {},
   "outputs": [],
   "source": [
    "df3 = set_pause(df3, 'i1', ts_name).checkpoint()\n",
    "df3 = check_case(df3, 'i1', ts_name, min_dist_per_min, min_pause_duration, max_pause_time).checkpoint()\n",
    "df3.drop(*['lat','lon','dow','distance','fixTypeCode',\n",
    "         'cum_pause','total_sec','height','speed','heading','state_cp','tripType_cp','i3','i2','j4']).show(20000, False)"
   ]
  },
  {
   "cell_type": "code",
   "execution_count": null,
   "metadata": {},
   "outputs": [],
   "source": [
    "df3 = proc_segment(df3, 'j1', ts_name, min_dist_per_min, min_pause_duration, max_pause_time, 3, 2, \"CASE1\").checkpoint()\n",
    "df3.drop(*['lat','lon','dow','distance','fixTypeCode',\n",
    "         'cum_pause','total_sec','height','speed','heading','state_cp','tripType_cp','i2','i3','j4']).show(20000, False)"
   ]
  },
  {
   "cell_type": "code",
   "execution_count": null,
   "metadata": {},
   "outputs": [],
   "source": [
    "df3 = set_pause(df3, 'i1', ts_name).checkpoint()\n",
    "df3 = check_case(df3, 'i1', ts_name, min_dist_per_min, min_pause_duration, max_pause_time).checkpoint()\n",
    "df3.drop(*['lat','lon','dow','distance','fixTypeCode',\n",
    "         'cum_pause','total_sec','height','speed','heading','state_cp','tripType_cp','i3','i2','j4']).show(20000, False)"
   ]
  },
  {
   "cell_type": "code",
   "execution_count": null,
   "metadata": {},
   "outputs": [],
   "source": [
    "df4 = proc_segment(df3, 'j3', ts_name, min_dist_per_min, min_pause_duration, max_pause_time, 0, 0, \"CASE3\").checkpoint()\n",
    "df4.drop(*['lat','lon','dow','distance','fixTypeCode',\n",
    "         'cum_pause','total_sec','height','speed','heading','state_cp','tripType_cp','i2','i3','j4']).show(20000, False)"
   ]
  },
  {
   "cell_type": "code",
   "execution_count": null,
   "metadata": {},
   "outputs": [],
   "source": [
    "df4 = set_pause(df4, 'i1', ts_name).checkpoint()\n",
    "df4 = check_case(df4, 'i1', ts_name, min_dist_per_min, min_pause_duration, max_pause_time).checkpoint()\n",
    "df4.drop(*['lat','lon','dow','distance','fixTypeCode',\n",
    "         'cum_pause','total_sec','height','speed','heading','state_cp','tripType_cp','i3','i2','j4']).show(20000, False)"
   ]
  },
  {
   "cell_type": "code",
   "execution_count": null,
   "metadata": {},
   "outputs": [],
   "source": [
    "df4 = proc_segment(df4, 'j3', ts_name, min_dist_per_min, min_pause_duration, max_pause_time, 0, 0, \"CASE3\").checkpoint()\n",
    "df4.drop(*['lat','lon','dow','distance','fixTypeCode',\n",
    "         'cum_pause','total_sec','height','speed','heading','state_cp','tripType_cp','i2','i3','j4']).show(20000, False)"
   ]
  },
  {
   "cell_type": "code",
   "execution_count": null,
   "metadata": {},
   "outputs": [],
   "source": [
    "df4 = set_pause(df4, 'i1', ts_name).checkpoint()\n",
    "df4 = check_case(df4, 'i1', ts_name, min_dist_per_min, min_pause_duration, max_pause_time).checkpoint()\n",
    "df4.drop(*['lat','lon','dow','distance','fixTypeCode',\n",
    "         'cum_pause','total_sec','height','speed','heading','state_cp','tripType_cp','i3','i2','j4']).show(20000, False)"
   ]
  },
  {
   "cell_type": "code",
   "execution_count": null,
   "metadata": {},
   "outputs": [],
   "source": [
    "df4 = proc_segment(df4, 'j1', ts_name, min_dist_per_min, min_pause_duration, max_pause_time, 3, 2, \"CASE1\").checkpoint()\n",
    "df4.drop(*['lat','lon','dow','distance','fixTypeCode',\n",
    "         'cum_pause','total_sec','height','speed','heading','state_cp','tripType_cp','i2','i3','j4']).show(20000, False)"
   ]
  },
  {
   "cell_type": "code",
   "execution_count": null,
   "metadata": {},
   "outputs": [],
   "source": [
    "df4 = set_pause(df4, 'i1', ts_name).checkpoint()\n",
    "df4 = check_case(df4, 'i1', ts_name, min_dist_per_min, min_pause_duration, max_pause_time).checkpoint()\n",
    "df4.drop(*['lat','lon','dow','distance','fixTypeCode',\n",
    "         'cum_pause','total_sec','height','speed','heading','state_cp','tripType_cp','i3','i2','j4']).show(20000, False)"
   ]
  },
  {
   "cell_type": "code",
   "execution_count": null,
   "metadata": {},
   "outputs": [],
   "source": [
    "df4 = proc_segment(df4, 'j1', ts_name, min_dist_per_min, min_pause_duration, max_pause_time, 3, 2, \"CASE1\").checkpoint()\n",
    "df4.drop(*['lat','lon','dow','distance','fixTypeCode',\n",
    "         'cum_pause','total_sec','height','speed','heading','state_cp','tripType_cp','i2','i3','j4']).show(20000, False)"
   ]
  },
  {
   "cell_type": "code",
   "execution_count": null,
   "metadata": {},
   "outputs": [],
   "source": []
  },
  {
   "cell_type": "code",
   "execution_count": null,
   "metadata": {},
   "outputs": [],
   "source": [
    "# segment 28"
   ]
  },
  {
   "cell_type": "code",
   "execution_count": null,
   "metadata": {},
   "outputs": [],
   "source": [
    "df = set_pause(df, 'i1', ts_name).checkpoint()\n",
    "df.drop(*['lat','lon','dow','distance','fixTypeCode',\n",
    "         'cum_pause','total_sec','height','speed','heading','state_cp','tripType_cp','i3','i2']).show(20000, False)"
   ]
  },
  {
   "cell_type": "code",
   "execution_count": null,
   "metadata": {},
   "outputs": [],
   "source": [
    "df = check_case(df, 'i1', ts_name, min_dist_per_min, min_pause_duration, max_pause_time).checkpoint()\n",
    "df.drop(*['lat','lon','dow','distance','fixTypeCode',\n",
    "         'cum_pause','total_sec','height','speed','heading','state_cp','tripType_cp','i3','i2','j4']).show(20000, False)"
   ]
  },
  {
   "cell_type": "code",
   "execution_count": null,
   "metadata": {},
   "outputs": [],
   "source": [
    "df = proc_segment(df, 'j1', ts_name, min_dist_per_min, min_pause_duration, max_pause_time, 3, 2, \"CASE1\").checkpoint()\n",
    "df.drop(*['lat','lon','dow','distance','fixTypeCode',\n",
    "         'cum_pause','total_sec','height','speed','heading','state_cp','tripType_cp','i2','i1','j4']).show(20000, False)"
   ]
  },
  {
   "cell_type": "code",
   "execution_count": null,
   "metadata": {},
   "outputs": [],
   "source": [
    "df = df.drop(*['j1','j2','j3','j4'])\n",
    "df = set_pause(df, 'i1', ts_name).checkpoint()\n",
    "df.drop(*['lat','lon','dow','distance','fixTypeCode',\n",
    "         'cum_pause','total_sec','height','speed','heading','state_cp','tripType_cp','i3','i2']).show(20000, False)"
   ]
  },
  {
   "cell_type": "code",
   "execution_count": null,
   "metadata": {},
   "outputs": [],
   "source": [
    "df = check_case(df, 'i1', ts_name, min_dist_per_min, min_pause_duration, max_pause_time).checkpoint()\n",
    "df.drop(*['lat','lon','dow','distance','fixTypeCode',\n",
    "         'cum_pause','total_sec','height','speed','heading','state_cp','tripType_cp','i3','i2','j4']).show(20000, False)"
   ]
  },
  {
   "cell_type": "code",
   "execution_count": null,
   "metadata": {},
   "outputs": [],
   "source": [
    "df = proc_segment(df, 'j1', ts_name, min_dist_per_min, min_pause_duration, max_pause_time, 3, 2, \"CASE1\").checkpoint()\n",
    "df.drop(*['lat','lon','dow','distance','fixTypeCode',\n",
    "         'cum_pause','total_sec','height','speed','heading','state_cp','tripType_cp','i2','i1','j4']).show(20000, False)"
   ]
  },
  {
   "cell_type": "code",
   "execution_count": null,
   "metadata": {},
   "outputs": [],
   "source": [
    "df = df.drop(*['j1','j2','j3','j4'])\n",
    "df = set_pause(df, 'i1', ts_name).checkpoint()\n",
    "df.drop(*['lat','lon','dow','distance','fixTypeCode',\n",
    "         'cum_pause','total_sec','height','speed','heading','state_cp','tripType_cp','i3','i2']).show(20000, False)"
   ]
  },
  {
   "cell_type": "code",
   "execution_count": null,
   "metadata": {},
   "outputs": [],
   "source": [
    "df = check_case(df, 'i1', ts_name, min_dist_per_min, min_pause_duration, max_pause_time).checkpoint()\n",
    "df.drop(*['lat','lon','dow','distance','fixTypeCode',\n",
    "         'cum_pause','total_sec','height','speed','heading','state_cp','tripType_cp','i3','i2','j4']).show(20000, False)"
   ]
  },
  {
   "cell_type": "code",
   "execution_count": null,
   "metadata": {},
   "outputs": [],
   "source": [
    "df = proc_segment(df, 'j1', ts_name, min_dist_per_min, min_pause_duration, max_pause_time, 3, 2, \"CASE1\").checkpoint()\n",
    "df.drop(*['lat','lon','dow','distance','fixTypeCode',\n",
    "         'cum_pause','total_sec','height','speed','heading','state_cp','tripType_cp','i2','i1','j4']).show(20000, False)"
   ]
  },
  {
   "cell_type": "code",
   "execution_count": null,
   "metadata": {},
   "outputs": [],
   "source": [
    "df = df.drop(*['j1','j2','j3','j4'])\n",
    "df = set_pause(df, 'i1', ts_name).checkpoint()\n",
    "df.drop(*['lat','lon','dow','distance','fixTypeCode',\n",
    "         'cum_pause','total_sec','height','speed','heading','state_cp','tripType_cp','i3','i2']).show(20000, False)"
   ]
  },
  {
   "cell_type": "code",
   "execution_count": null,
   "metadata": {},
   "outputs": [],
   "source": [
    "df = check_case(df, 'i1', ts_name, min_dist_per_min, min_pause_duration, max_pause_time).checkpoint()\n",
    "df.drop(*['lat','lon','dow','distance','fixTypeCode',\n",
    "         'cum_pause','total_sec','height','speed','heading','state_cp','tripType_cp','i3','i2','j4']).show(20000, False)"
   ]
  },
  {
   "cell_type": "code",
   "execution_count": null,
   "metadata": {},
   "outputs": [],
   "source": [
    "df = proc_segment(df, 'j1', ts_name, min_dist_per_min, min_pause_duration, max_pause_time, 3, 2, \"CASE1\").checkpoint()\n",
    "df.drop(*['lat','lon','dow','distance','fixTypeCode',\n",
    "         'cum_pause','total_sec','height','speed','heading','state_cp','tripType_cp','i2','i1','j4']).show(20000, False)"
   ]
  },
  {
   "cell_type": "code",
   "execution_count": null,
   "metadata": {},
   "outputs": [],
   "source": [
    "df = df.drop(*['j1','j2','j3','j4'])\n",
    "df = set_pause(df, 'i1', ts_name).checkpoint()\n",
    "df = check_case(df, 'i1', ts_name, min_dist_per_min, min_pause_duration, max_pause_time).checkpoint()\n",
    "df.drop(*['lat','lon','dow','distance','fixTypeCode',\n",
    "         'cum_pause','total_sec','height','speed','heading','state_cp','tripType_cp','i3','i2','j4']).show(20000, False)"
   ]
  },
  {
   "cell_type": "code",
   "execution_count": null,
   "metadata": {},
   "outputs": [],
   "source": [
    "df = proc_segment(df, 'j1', ts_name, min_dist_per_min, min_pause_duration, max_pause_time, 3, 2, \"CASE1\").checkpoint()\n",
    "df.drop(*['lat','lon','dow','distance','fixTypeCode',\n",
    "         'cum_pause','total_sec','height','speed','heading','state_cp','tripType_cp','i2','i1','j4']).show(20000, False)"
   ]
  },
  {
   "cell_type": "code",
   "execution_count": null,
   "metadata": {},
   "outputs": [],
   "source": [
    "df = df.drop(*['j1','j2','j3','j4'])\n",
    "df = set_pause(df, 'i1', ts_name).checkpoint()\n",
    "df = check_case(df, 'i1', ts_name, min_dist_per_min, min_pause_duration, max_pause_time).checkpoint()\n",
    "df.drop(*['lat','lon','dow','distance','fixTypeCode',\n",
    "         'cum_pause','total_sec','height','speed','heading','state_cp','tripType_cp','i3','i2','j4']).show(20000, False)"
   ]
  },
  {
   "cell_type": "code",
   "execution_count": null,
   "metadata": {},
   "outputs": [],
   "source": [
    "df = proc_segment(df, 'j1', ts_name, min_dist_per_min, min_pause_duration, max_pause_time, 3, 2, \"CASE1\").checkpoint()\n",
    "df.drop(*['lat','lon','dow','distance','fixTypeCode',\n",
    "         'cum_pause','total_sec','height','speed','heading','state_cp','tripType_cp','i2','i1','j4']).show(20000, False)"
   ]
  },
  {
   "cell_type": "code",
   "execution_count": null,
   "metadata": {},
   "outputs": [],
   "source": [
    "df = df.drop(*['j1','j2','j3','j4'])\n",
    "df = set_pause(df, 'i1', ts_name).checkpoint()\n",
    "df = check_case(df, 'i1', ts_name, min_dist_per_min, min_pause_duration, max_pause_time).checkpoint()\n",
    "df.drop(*['lat','lon','dow','distance','fixTypeCode',\n",
    "         'cum_pause','total_sec','height','speed','heading','state_cp','tripType_cp','i3','i2','j4']).show(20000, False)"
   ]
  },
  {
   "cell_type": "code",
   "execution_count": null,
   "metadata": {},
   "outputs": [],
   "source": [
    "df = proc_segment(df, 'j1', ts_name, min_dist_per_min, min_pause_duration, max_pause_time, 3, 2, \"CASE1\").checkpoint()\n",
    "df.drop(*['lat','lon','dow','distance','fixTypeCode',\n",
    "         'cum_pause','total_sec','height','speed','heading','state_cp','tripType_cp','i2','i1','j4']).show(20000, False)"
   ]
  },
  {
   "cell_type": "code",
   "execution_count": null,
   "metadata": {},
   "outputs": [],
   "source": [
    "df = df.drop(*['j1','j2','j3','j4'])\n",
    "df = set_pause(df, 'i1', ts_name).checkpoint()\n",
    "df = check_case(df, 'i1', ts_name, min_dist_per_min, min_pause_duration, max_pause_time).checkpoint()\n",
    "df.drop(*['lat','lon','dow','distance','fixTypeCode',\n",
    "         'cum_pause','total_sec','height','speed','heading','state_cp','tripType_cp','i3','i2','j4']).show(20000, False)"
   ]
  },
  {
   "cell_type": "code",
   "execution_count": null,
   "metadata": {},
   "outputs": [],
   "source": [
    "df = proc_segment(df, 'j1', ts_name, min_dist_per_min, min_pause_duration, max_pause_time, 3, 2, \"CASE1\").checkpoint()\n",
    "df.drop(*['lat','lon','dow','distance','fixTypeCode',\n",
    "         'cum_pause','total_sec','height','speed','heading','state_cp','tripType_cp','i2','i1','j4']).show(20000, False)"
   ]
  },
  {
   "cell_type": "code",
   "execution_count": null,
   "metadata": {},
   "outputs": [],
   "source": [
    "df = df.drop(*['j1','j2','j3','j4'])\n",
    "df = set_pause(df, 'i1', ts_name).checkpoint()\n",
    "df = check_case(df, 'i1', ts_name, min_dist_per_min, min_pause_duration, max_pause_time).checkpoint()\n",
    "df.drop(*['lat','lon','dow','distance','fixTypeCode',\n",
    "         'cum_pause','total_sec','height','speed','heading','state_cp','tripType_cp','i3','i2','j4']).show(20000, False)"
   ]
  },
  {
   "cell_type": "code",
   "execution_count": null,
   "metadata": {},
   "outputs": [],
   "source": [
    "df = proc_segment(df, 'j1', ts_name, min_dist_per_min, min_pause_duration, max_pause_time, 3, 2, \"CASE1\").checkpoint()\n",
    "df.drop(*['lat','lon','dow','distance','fixTypeCode',\n",
    "         'cum_pause','total_sec','height','speed','heading','state_cp','tripType_cp','i2','i1','j4']).show(20000, False)"
   ]
  },
  {
   "cell_type": "code",
   "execution_count": null,
   "metadata": {},
   "outputs": [],
   "source": [
    "df = df.drop(*['j1','j2','j3','j4'])\n",
    "df = set_pause(df, 'i1', ts_name).checkpoint()\n",
    "df = check_case(df, 'i1', ts_name, min_dist_per_min, min_pause_duration, max_pause_time).checkpoint()\n",
    "df.drop(*['lat','lon','dow','distance','fixTypeCode',\n",
    "         'cum_pause','total_sec','height','speed','heading','state_cp','tripType_cp','i3','i2','j4']).show(20000, False)"
   ]
  },
  {
   "cell_type": "code",
   "execution_count": null,
   "metadata": {},
   "outputs": [],
   "source": [
    "df = proc_segment(df, 'j1', ts_name, min_dist_per_min, min_pause_duration, max_pause_time, 3, 2, \"CASE1\").checkpoint()\n",
    "df.drop(*['lat','lon','dow','distance','fixTypeCode',\n",
    "         'cum_pause','total_sec','height','speed','heading','state_cp','tripType_cp','i2','i1','j4']).show(20000, False)"
   ]
  },
  {
   "cell_type": "code",
   "execution_count": null,
   "metadata": {},
   "outputs": [],
   "source": [
    "df = df.drop(*['j1','j2','j3','j4'])\n",
    "df = set_pause(df, 'i1', ts_name).checkpoint()\n",
    "df = check_case(df, 'i1', ts_name, min_dist_per_min, min_pause_duration, max_pause_time).checkpoint()\n",
    "df.drop(*['lat','lon','dow','distance','fixTypeCode',\n",
    "         'cum_pause','total_sec','height','speed','heading','state_cp','tripType_cp','i3','i2','j4']).show(20000, False)"
   ]
  },
  {
   "cell_type": "code",
   "execution_count": null,
   "metadata": {},
   "outputs": [],
   "source": [
    "df = proc_segment(df, 'j1', ts_name, min_dist_per_min, min_pause_duration, max_pause_time, 3, 2, \"CASE1\").checkpoint()\n",
    "df.drop(*['lat','lon','dow','distance','fixTypeCode',\n",
    "         'cum_pause','total_sec','height','speed','heading','state_cp','tripType_cp','i2','i1','j4']).show(20000, False)"
   ]
  },
  {
   "cell_type": "code",
   "execution_count": null,
   "metadata": {},
   "outputs": [],
   "source": [
    "df = df.drop(*['j1','j2','j3','j4'])\n",
    "df = set_pause(df, 'i1', ts_name).checkpoint()\n",
    "df = check_case(df, 'i1', ts_name, min_dist_per_min, min_pause_duration, max_pause_time).checkpoint()\n",
    "df.drop(*['lat','lon','dow','distance','fixTypeCode',\n",
    "         'cum_pause','total_sec','height','speed','heading','state_cp','tripType_cp','i3','i2','j4']).show(20000, False)"
   ]
  },
  {
   "cell_type": "code",
   "execution_count": null,
   "metadata": {},
   "outputs": [],
   "source": [
    "df = proc_segment(df, 'j1', ts_name, min_dist_per_min, min_pause_duration, max_pause_time, 3, 2, \"CASE1\").checkpoint()\n",
    "df.drop(*['lat','lon','dow','distance','fixTypeCode',\n",
    "         'cum_pause','total_sec','height','speed','heading','state_cp','tripType_cp','i2','i1','j4']).show(20000, False)"
   ]
  },
  {
   "cell_type": "code",
   "execution_count": null,
   "metadata": {},
   "outputs": [],
   "source": [
    "df = df.drop(*['j1','j2','j3','j4'])\n",
    "df = set_pause(df, 'i1', ts_name).checkpoint()\n",
    "df = check_case(df, 'i1', ts_name, min_dist_per_min, min_pause_duration, max_pause_time).checkpoint()\n",
    "df.drop(*['lat','lon','dow','distance','fixTypeCode',\n",
    "         'cum_pause','total_sec','height','speed','heading','state_cp','tripType_cp','i3','i2','j4']).show(20000, False)"
   ]
  },
  {
   "cell_type": "code",
   "execution_count": null,
   "metadata": {},
   "outputs": [],
   "source": [
    "df = proc_segment(df, 'j1', ts_name, min_dist_per_min, min_pause_duration, max_pause_time, 3, 2, \"CASE1\").checkpoint()\n",
    "df.drop(*['lat','lon','dow','distance','fixTypeCode',\n",
    "         'cum_pause','total_sec','height','speed','heading','state_cp','tripType_cp','i2','i1','j4']).show(20000, False)"
   ]
  },
  {
   "cell_type": "code",
   "execution_count": null,
   "metadata": {},
   "outputs": [],
   "source": [
    "df = df.drop(*['j1','j2','j3','j4'])\n",
    "df = set_pause(df, 'i1', ts_name).checkpoint()\n",
    "df = check_case(df, 'i1', ts_name, min_dist_per_min, min_pause_duration, max_pause_time).checkpoint()\n",
    "df.drop(*['lat','lon','dow','distance','fixTypeCode',\n",
    "         'cum_pause','total_sec','height','speed','heading','state_cp','tripType_cp','i3','i2','j4']).show(20000, False)"
   ]
  },
  {
   "cell_type": "code",
   "execution_count": null,
   "metadata": {},
   "outputs": [],
   "source": [
    "df = proc_segment(df, 'j1', ts_name, min_dist_per_min, min_pause_duration, max_pause_time, 3, 2, \"CASE1\").checkpoint()\n",
    "df.drop(*['lat','lon','dow','distance','fixTypeCode',\n",
    "         'cum_pause','total_sec','height','speed','heading','state_cp','tripType_cp','i2','i1','j4']).show(20000, False)"
   ]
  },
  {
   "cell_type": "code",
   "execution_count": null,
   "metadata": {},
   "outputs": [],
   "source": [
    "df = df.drop(*['j1','j2','j3','j4'])\n",
    "df = set_pause(df, 'i1', ts_name).checkpoint()\n",
    "df = check_case(df, 'i1', ts_name, min_dist_per_min, min_pause_duration, max_pause_time).checkpoint()\n",
    "df.drop(*['lat','lon','dow','distance','fixTypeCode',\n",
    "         'cum_pause','total_sec','height','speed','heading','state_cp','tripType_cp','i3','i2','j4']).show(20000, False)"
   ]
  },
  {
   "cell_type": "code",
   "execution_count": null,
   "metadata": {},
   "outputs": [],
   "source": [
    "df = proc_segment(df, 'j1', ts_name, min_dist_per_min, min_pause_duration, max_pause_time, 3, 2, \"CASE1\").checkpoint()\n",
    "df.drop(*['lat','lon','dow','distance','fixTypeCode',\n",
    "         'cum_pause','total_sec','height','speed','heading','state_cp','tripType_cp','i2','i1','j4']).show(20000, False)"
   ]
  },
  {
   "cell_type": "code",
   "execution_count": null,
   "metadata": {},
   "outputs": [],
   "source": [
    "df = df.drop(*['j1','j2','j3','j4'])\n",
    "df = set_pause(df, 'i1', ts_name).checkpoint()\n",
    "df = check_case(df, 'i1', ts_name, min_dist_per_min, min_pause_duration, max_pause_time).checkpoint()\n",
    "df.drop(*['lat','lon','dow','distance','fixTypeCode',\n",
    "         'cum_pause','total_sec','height','speed','heading','state_cp','tripType_cp','i3','i2','j4']).show(20000, False)"
   ]
  },
  {
   "cell_type": "code",
   "execution_count": null,
   "metadata": {},
   "outputs": [],
   "source": [
    "df = proc_segment(df, 'j2', ts_name, min_dist_per_min, min_pause_duration, max_pause_time, 3, 3, \"CASE2\").checkpoint()\n",
    "df.drop(*['lat','lon','dow','distance','fixTypeCode',\n",
    "         'cum_pause','total_sec','height','speed','heading','state_cp','tripType_cp','i2','i1','j4']).show(20000, False)"
   ]
  },
  {
   "cell_type": "code",
   "execution_count": null,
   "metadata": {},
   "outputs": [],
   "source": [
    "df = df.drop(*['j1','j2','j3','j4'])\n",
    "df = set_pause(df, 'i1', ts_name).checkpoint()\n",
    "df = check_case(df, 'i1', ts_name, min_dist_per_min, min_pause_duration, max_pause_time).checkpoint()\n",
    "df.drop(*['lat','lon','dow','distance','fixTypeCode',\n",
    "         'cum_pause','total_sec','height','speed','heading','state_cp','tripType_cp','i3','i2','j4']).show(20000, False)"
   ]
  },
  {
   "cell_type": "code",
   "execution_count": null,
   "metadata": {},
   "outputs": [],
   "source": [
    "df2 = proc_segment(df, 'j3', ts_name, min_dist_per_min, min_pause_duration, max_pause_time, 0, 0, \"CASE3\").checkpoint()\n",
    "df2.drop(*['lat','lon','dow','distance','fixTypeCode',\n",
    "         'cum_pause','total_sec','height','speed','heading','state_cp','tripType_cp','i2','i1','j4']).show(20000, False)"
   ]
  },
  {
   "cell_type": "code",
   "execution_count": null,
   "metadata": {},
   "outputs": [],
   "source": []
  },
  {
   "cell_type": "code",
   "execution_count": null,
   "metadata": {},
   "outputs": [],
   "source": [
    "# segment 13"
   ]
  },
  {
   "cell_type": "code",
   "execution_count": null,
   "metadata": {},
   "outputs": [],
   "source": [
    "df = set_pause(df, 'i1', ts_name).checkpoint()\n",
    "df.drop(*['lat','lon','dow','distance','fixTypeCode',\n",
    "         'cum_pause','total_sec','height','speed','heading','state_cp','tripType_cp','i3','i2']).show(20000, False)"
   ]
  },
  {
   "cell_type": "code",
   "execution_count": null,
   "metadata": {},
   "outputs": [],
   "source": [
    "df = check_case(df, 'i1', ts_name, min_dist_per_min, min_pause_duration, max_pause_time).checkpoint()\n",
    "df.drop(*['lat','lon','dow','distance','fixTypeCode',\n",
    "         'cum_pause','total_sec','height','speed','heading','state_cp','tripType_cp','i3','i2','j4']).show(20000, False)"
   ]
  },
  {
   "cell_type": "code",
   "execution_count": null,
   "metadata": {},
   "outputs": [],
   "source": [
    "df = proc_segment(df, 'j1', ts_name, min_dist_per_min, min_pause_duration, max_pause_time, 3, 2, \"CASE1\").checkpoint()\n",
    "df.drop(*['lat','lon','dow','distance','fixTypeCode',\n",
    "         'cum_pause','total_sec','height','speed','heading','state_cp','tripType_cp','i2','i1','j4']).show(20000, False)"
   ]
  },
  {
   "cell_type": "code",
   "execution_count": null,
   "metadata": {},
   "outputs": [],
   "source": [
    "df = df.drop(*['j1','j2','j3','j4'])\n",
    "df = set_pause(df, 'i1', ts_name).checkpoint()\n",
    "df.drop(*['lat','lon','dow','distance','fixTypeCode',\n",
    "         'cum_pause','total_sec','height','speed','heading','state_cp','tripType_cp','i3','i2']).show(20000, False)"
   ]
  },
  {
   "cell_type": "code",
   "execution_count": null,
   "metadata": {},
   "outputs": [],
   "source": [
    "df = check_case(df, 'i1', ts_name, min_dist_per_min, min_pause_duration, max_pause_time).checkpoint()\n",
    "df.drop(*['lat','lon','dow','distance','fixTypeCode',\n",
    "         'cum_pause','total_sec','height','speed','heading','state_cp','tripType_cp','i3','i2','j4']).show(20000, False)"
   ]
  },
  {
   "cell_type": "code",
   "execution_count": null,
   "metadata": {},
   "outputs": [],
   "source": [
    "df = proc_segment(df, 'j1', ts_name, min_dist_per_min, min_pause_duration, max_pause_time, 3, 2, \"CASE1\").checkpoint()\n",
    "df.drop(*['lat','lon','dow','distance','fixTypeCode',\n",
    "         'cum_pause','total_sec','height','speed','heading','state_cp','tripType_cp','i2','i1','j4']).show(20000, False)"
   ]
  },
  {
   "cell_type": "code",
   "execution_count": null,
   "metadata": {},
   "outputs": [],
   "source": [
    "df = df.drop(*['j1','j2','j3','j4'])\n",
    "df = set_pause(df, 'i1', ts_name).checkpoint()\n",
    "df.drop(*['lat','lon','dow','distance','fixTypeCode',\n",
    "         'cum_pause','total_sec','height','speed','heading','state_cp','tripType_cp','i3','i2']).show(20000, False)"
   ]
  },
  {
   "cell_type": "code",
   "execution_count": null,
   "metadata": {},
   "outputs": [],
   "source": [
    "df = check_case(df, 'i1', ts_name, min_dist_per_min, min_pause_duration, max_pause_time).checkpoint()\n",
    "df.drop(*['lat','lon','dow','distance','fixTypeCode',\n",
    "         'cum_pause','total_sec','height','speed','heading','state_cp','tripType_cp','i3','i2','j4']).show(20000, False)"
   ]
  },
  {
   "cell_type": "code",
   "execution_count": null,
   "metadata": {},
   "outputs": [],
   "source": [
    "df = proc_segment(df, 'j1', ts_name, min_dist_per_min, min_pause_duration, max_pause_time, 3, 2, \"CASE1\").checkpoint()\n",
    "df.drop(*['lat','lon','dow','distance','fixTypeCode',\n",
    "         'cum_pause','total_sec','height','speed','heading','state_cp','tripType_cp','i2','i1','j4']).show(20000, False)"
   ]
  },
  {
   "cell_type": "code",
   "execution_count": null,
   "metadata": {},
   "outputs": [],
   "source": [
    "df = df.drop(*['j1','j2','j3','j4'])\n",
    "df = set_pause(df, 'i1', ts_name).checkpoint()\n",
    "df.drop(*['lat','lon','dow','distance','fixTypeCode',\n",
    "         'cum_pause','total_sec','height','speed','heading','state_cp','tripType_cp','i3','i2']).show(20000, False)"
   ]
  },
  {
   "cell_type": "code",
   "execution_count": null,
   "metadata": {},
   "outputs": [],
   "source": [
    "df = check_case(df, 'i1', ts_name, min_dist_per_min, min_pause_duration, max_pause_time).checkpoint()\n",
    "df.drop(*['lat','lon','dow','distance','fixTypeCode',\n",
    "         'cum_pause','total_sec','height','speed','heading','state_cp','tripType_cp','i3','i2','j4']).show(20000, False)"
   ]
  },
  {
   "cell_type": "code",
   "execution_count": null,
   "metadata": {},
   "outputs": [],
   "source": [
    "df = proc_segment(df, 'j1', ts_name, min_dist_per_min, min_pause_duration, max_pause_time, 3, 2, \"CASE1\").checkpoint()\n",
    "df.drop(*['lat','lon','dow','distance','fixTypeCode',\n",
    "         'cum_pause','total_sec','height','speed','heading','state_cp','tripType_cp','i2','i1','j4']).show(20000, False)"
   ]
  },
  {
   "cell_type": "code",
   "execution_count": null,
   "metadata": {},
   "outputs": [],
   "source": [
    "df = df.drop(*['j1','j2','j3','j4'])\n",
    "df = set_pause(df, 'i1', ts_name).checkpoint()\n",
    "df.drop(*['lat','lon','dow','distance','fixTypeCode',\n",
    "         'cum_pause','total_sec','height','speed','heading','state_cp','tripType_cp','i3','i2']).show(20000, False)"
   ]
  },
  {
   "cell_type": "code",
   "execution_count": null,
   "metadata": {},
   "outputs": [],
   "source": [
    "df = check_case(df, 'i1', ts_name, min_dist_per_min, min_pause_duration, max_pause_time).checkpoint()\n",
    "df.drop(*['lat','lon','dow','distance','fixTypeCode',\n",
    "         'cum_pause','total_sec','height','speed','heading','state_cp','tripType_cp','i3','i2','j4']).show(20000, False)"
   ]
  },
  {
   "cell_type": "code",
   "execution_count": null,
   "metadata": {},
   "outputs": [],
   "source": [
    "df = proc_segment(df, 'j3', ts_name, min_dist_per_min, min_pause_duration, max_pause_time, 0, 0, \"CASE3\").checkpoint()\n",
    "df.drop(*['lat','lon','dow','distance','fixTypeCode',\n",
    "         'cum_pause','total_sec','height','speed','heading','state_cp','tripType_cp','i2','i1','j4']).show(20000, False)"
   ]
  },
  {
   "cell_type": "code",
   "execution_count": null,
   "metadata": {},
   "outputs": [],
   "source": [
    "df2 = df.drop(*['j1','j2','j3','j4'])\n",
    "df2 = set_pause(df2, 'i1', ts_name).checkpoint()\n",
    "df2.drop(*['lat','lon','dow','distance','fixTypeCode',\n",
    "         'cum_pause','total_sec','height','speed','heading','state_cp','tripType_cp','i3','i2']).show(20000, False)"
   ]
  },
  {
   "cell_type": "code",
   "execution_count": null,
   "metadata": {},
   "outputs": [],
   "source": [
    "df2 = check_case(df2, 'i1', ts_name, min_dist_per_min, min_pause_duration, max_pause_time).checkpoint()\n",
    "df2.drop(*['lat','lon','dow','distance','fixTypeCode',\n",
    "         'cum_pause','total_sec','height','speed','heading','state_cp','tripType_cp','i3','i2','j4']).show(20000, False)"
   ]
  },
  {
   "cell_type": "code",
   "execution_count": null,
   "metadata": {},
   "outputs": [],
   "source": [
    "df2 = proc_segment(df2, 'j2', ts_name, min_dist_per_min, min_pause_duration, max_pause_time, 3, 3, \"CASE2\").checkpoint()\n",
    "df2.drop(*['lat','lon','dow','distance','fixTypeCode',\n",
    "         'cum_pause','total_sec','height','speed','heading','state_cp','tripType_cp','i2','i1','j4']).show(20000, False)"
   ]
  },
  {
   "cell_type": "code",
   "execution_count": null,
   "metadata": {},
   "outputs": [],
   "source": [
    "df3 = df2.drop(*['j1','j2','j3','j4'])\n",
    "df3 = set_pause(df3, 'i1', ts_name).checkpoint()\n",
    "df3.drop(*['lat','lon','dow','distance','fixTypeCode',\n",
    "         'cum_pause','total_sec','height','speed','heading','state_cp','tripType_cp','i3','i2']).show(20000, False)"
   ]
  },
  {
   "cell_type": "code",
   "execution_count": null,
   "metadata": {},
   "outputs": [],
   "source": [
    "df3 = check_case(df3, 'i1', ts_name, min_dist_per_min, min_pause_duration, max_pause_time).checkpoint()\n",
    "df3.drop(*['lat','lon','dow','distance','fixTypeCode',\n",
    "         'cum_pause','total_sec','height','speed','heading','state_cp','tripType_cp','i3','i2','j4']).show(20000, False)"
   ]
  },
  {
   "cell_type": "code",
   "execution_count": null,
   "metadata": {},
   "outputs": [],
   "source": [
    "df3 = proc_segment(df3, 'j2', ts_name, min_dist_per_min, min_pause_duration, max_pause_time, 3, 3, \"CASE2\").checkpoint()\n",
    "df3.drop(*['lat','lon','dow','distance','fixTypeCode',\n",
    "         'cum_pause','total_sec','height','speed','heading','state_cp','tripType_cp','i2','i1','j4']).show(20000, False)"
   ]
  },
  {
   "cell_type": "code",
   "execution_count": null,
   "metadata": {},
   "outputs": [],
   "source": [
    "df3 = df3.drop(*['j1','j2','j3','j4'])\n",
    "df3 = set_pause(df3, 'i1', ts_name).checkpoint()\n",
    "df3.drop(*['lat','lon','dow','distance','fixTypeCode',\n",
    "         'cum_pause','total_sec','height','speed','heading','state_cp','tripType_cp','i3','i2']).show(20000, False)"
   ]
  },
  {
   "cell_type": "code",
   "execution_count": null,
   "metadata": {},
   "outputs": [],
   "source": [
    "df3 = check_case(df3, 'i1', ts_name, min_dist_per_min, min_pause_duration, max_pause_time).checkpoint()\n",
    "df3.drop(*['lat','lon','dow','distance','fixTypeCode',\n",
    "         'cum_pause','total_sec','height','speed','heading','state_cp','tripType_cp','i3','i2','j4']).show(20000, False)"
   ]
  },
  {
   "cell_type": "code",
   "execution_count": null,
   "metadata": {},
   "outputs": [],
   "source": [
    "df3 = proc_segment(df3, 'j1', ts_name, min_dist_per_min, min_pause_duration, max_pause_time, 3, 2, \"CASE1\").checkpoint()\n",
    "df3.drop(*['lat','lon','dow','distance','fixTypeCode',\n",
    "         'cum_pause','total_sec','height','speed','heading','state_cp','tripType_cp','i2','i1','j4']).show(20000, False)"
   ]
  },
  {
   "cell_type": "code",
   "execution_count": null,
   "metadata": {},
   "outputs": [],
   "source": [
    "df3 = df3.drop(*['j1','j2','j3','j4'])\n",
    "df3 = set_pause(df3, 'i1', ts_name).checkpoint()\n",
    "df3.drop(*['lat','lon','dow','distance','fixTypeCode',\n",
    "         'cum_pause','total_sec','height','speed','heading','state_cp','tripType_cp','i3','i2']).show(20000, False)"
   ]
  },
  {
   "cell_type": "code",
   "execution_count": null,
   "metadata": {},
   "outputs": [],
   "source": [
    "df3 = check_case(df3, 'i1', ts_name, min_dist_per_min, min_pause_duration, max_pause_time).checkpoint()\n",
    "df3.drop(*['lat','lon','dow','distance','fixTypeCode',\n",
    "         'cum_pause','total_sec','height','speed','heading','state_cp','tripType_cp','i3','i2','j4']).show(20000, False)"
   ]
  },
  {
   "cell_type": "code",
   "execution_count": null,
   "metadata": {},
   "outputs": [],
   "source": [
    "df3 = proc_segment(df3, 'j1', ts_name, min_dist_per_min, min_pause_duration, max_pause_time, 3, 2, \"CASE1\").checkpoint()\n",
    "df3.drop(*['lat','lon','dow','distance','fixTypeCode',\n",
    "         'cum_pause','total_sec','height','speed','heading','state_cp','tripType_cp','i2','i1','j4']).show(20000, False)"
   ]
  },
  {
   "cell_type": "code",
   "execution_count": null,
   "metadata": {},
   "outputs": [],
   "source": []
  },
  {
   "cell_type": "code",
   "execution_count": null,
   "metadata": {},
   "outputs": [],
   "source": [
    "# segment 108\n",
    "df = set_pause(df, 'i3', ts_name).checkpoint()\n",
    "df.drop(*['lat','lon','dow','distance','fixTypeCode',\n",
    "         'cum_pause','total_sec','height','speed','heading','state_cp','tripType_cp','i1','i2']).show(20000, False)"
   ]
  },
  {
   "cell_type": "code",
   "execution_count": null,
   "metadata": {},
   "outputs": [],
   "source": [
    "df = check_case(df, 'i3', ts_name, min_dist_per_min, min_pause_duration, max_pause_time).checkpoint()\n",
    "df.drop(*['lat','lon','dow','distance','fixTypeCode',\n",
    "         'cum_pause','total_sec','height','speed','heading','state_cp','tripType_cp','i1','i2','j4']).show(20000, False)"
   ]
  },
  {
   "cell_type": "code",
   "execution_count": null,
   "metadata": {},
   "outputs": [],
   "source": [
    "df = proc_segment(df, 'j1', ts_name, min_dist_per_min, min_pause_duration, max_pause_time, 3, 2, \"CASE1\").checkpoint()\n",
    "df.drop(*['lat','lon','dow','distance','fixTypeCode',\n",
    "         'cum_pause','total_sec','height','speed','heading','state_cp','tripType_cp','i2','i1','j4']).show(20000, False)"
   ]
  },
  {
   "cell_type": "code",
   "execution_count": null,
   "metadata": {},
   "outputs": [],
   "source": [
    "df = df.drop(*['j1','j2','j3','j4'])\n",
    "df = set_pause(df, 'i3', ts_name).checkpoint()\n",
    "df.drop(*['lat','lon','dow','distance','fixTypeCode',\n",
    "         'cum_pause','total_sec','height','speed','heading','state_cp','tripType_cp','i1','i2']).show(20000, False)"
   ]
  },
  {
   "cell_type": "code",
   "execution_count": null,
   "metadata": {},
   "outputs": [],
   "source": [
    "df = check_case(df, 'i3', ts_name, min_dist_per_min, min_pause_duration, max_pause_time).checkpoint()\n",
    "df.drop(*['lat','lon','dow','distance','fixTypeCode',\n",
    "         'cum_pause','total_sec','height','speed','heading','state_cp','tripType_cp','i1','i2','j4']).show(20000, False)"
   ]
  },
  {
   "cell_type": "code",
   "execution_count": null,
   "metadata": {},
   "outputs": [],
   "source": [
    "df = proc_segment(df, 'j1', ts_name, min_dist_per_min, min_pause_duration, max_pause_time, 3, 2, \"CASE1\").checkpoint()\n",
    "df.drop(*['lat','lon','dow','distance','fixTypeCode',\n",
    "         'cum_pause','total_sec','height','speed','heading','state_cp','tripType_cp','i2','i1','j4']).show(20000, False)"
   ]
  },
  {
   "cell_type": "code",
   "execution_count": null,
   "metadata": {},
   "outputs": [],
   "source": [
    "df = df.drop(*['j1','j2','j3','j4'])\n",
    "df = set_pause(df, 'i3', ts_name).checkpoint()\n",
    "df.drop(*['lat','lon','dow','distance','fixTypeCode',\n",
    "         'cum_pause','total_sec','height','speed','heading','state_cp','tripType_cp','i1','i2']).show(20000, False)"
   ]
  },
  {
   "cell_type": "code",
   "execution_count": null,
   "metadata": {},
   "outputs": [],
   "source": [
    "df = check_case(df, 'i3', ts_name, min_dist_per_min, min_pause_duration, max_pause_time).checkpoint()\n",
    "df.drop(*['lat','lon','dow','distance','fixTypeCode',\n",
    "         'cum_pause','total_sec','height','speed','heading','state_cp','tripType_cp','i1','i2','j4']).show(20000, False)"
   ]
  },
  {
   "cell_type": "code",
   "execution_count": null,
   "metadata": {},
   "outputs": [],
   "source": [
    "df = proc_segment(df, 'j1', ts_name, min_dist_per_min, min_pause_duration, max_pause_time, 3, 2, \"CASE1\").checkpoint()\n",
    "df.drop(*['lat','lon','dow','distance','fixTypeCode',\n",
    "         'cum_pause','total_sec','height','speed','heading','state_cp','tripType_cp','i2','i1','j4']).show(20000, False)"
   ]
  },
  {
   "cell_type": "code",
   "execution_count": null,
   "metadata": {},
   "outputs": [],
   "source": [
    "df = df.drop(*['j1','j2','j3','j4'])\n",
    "df = set_pause(df, 'i3', ts_name).checkpoint()\n",
    "df.drop(*['lat','lon','dow','distance','fixTypeCode',\n",
    "         'cum_pause','total_sec','height','speed','heading','state_cp','tripType_cp','i1','i2']).show(20000, False)"
   ]
  },
  {
   "cell_type": "code",
   "execution_count": null,
   "metadata": {},
   "outputs": [],
   "source": [
    "df = check_case(df, 'i3', ts_name, min_dist_per_min, min_pause_duration, max_pause_time).checkpoint()\n",
    "df.drop(*['lat','lon','dow','distance','fixTypeCode',\n",
    "         'cum_pause','total_sec','height','speed','heading','state_cp','tripType_cp','i1','i2','j4']).show(20000, False)"
   ]
  },
  {
   "cell_type": "code",
   "execution_count": null,
   "metadata": {},
   "outputs": [],
   "source": [
    "df = proc_segment(df, 'j1', ts_name, min_dist_per_min, min_pause_duration, max_pause_time, 3, 2, \"CASE1\").checkpoint()\n",
    "df.drop(*['lat','lon','dow','distance','fixTypeCode',\n",
    "         'cum_pause','total_sec','height','speed','heading','state_cp','tripType_cp','i2','i1','j4']).show(20000, False)"
   ]
  },
  {
   "cell_type": "code",
   "execution_count": null,
   "metadata": {},
   "outputs": [],
   "source": [
    "df = df.drop(*['j1','j2','j3','j4'])\n",
    "df = set_pause(df, 'i3', ts_name).checkpoint()\n",
    "df.drop(*['lat','lon','dow','distance','fixTypeCode',\n",
    "         'cum_pause','total_sec','height','speed','heading','state_cp','tripType_cp','i1','i2']).show(20000, False)"
   ]
  },
  {
   "cell_type": "code",
   "execution_count": null,
   "metadata": {},
   "outputs": [],
   "source": [
    "df = check_case(df, 'i3', ts_name, min_dist_per_min, min_pause_duration, max_pause_time).checkpoint()\n",
    "df.drop(*['lat','lon','dow','distance','fixTypeCode',\n",
    "         'cum_pause','total_sec','height','speed','heading','state_cp','tripType_cp','i1','i2','j4']).show(20000, False)"
   ]
  },
  {
   "cell_type": "code",
   "execution_count": null,
   "metadata": {},
   "outputs": [],
   "source": [
    "df = proc_segment(df, 'j1', ts_name, min_dist_per_min, min_pause_duration, max_pause_time, 3, 2, \"CASE1\").checkpoint()\n",
    "df.drop(*['lat','lon','dow','distance','fixTypeCode',\n",
    "         'cum_pause','total_sec','height','speed','heading','state_cp','tripType_cp','i2','i1','j4']).show(20000, False)"
   ]
  },
  {
   "cell_type": "code",
   "execution_count": null,
   "metadata": {},
   "outputs": [],
   "source": [
    "df = df.drop(*['j1','j2','j3','j4'])\n",
    "df = set_pause(df, 'i3', ts_name).checkpoint()\n",
    "df.drop(*['lat','lon','dow','distance','fixTypeCode',\n",
    "         'cum_pause','total_sec','height','speed','heading','state_cp','tripType_cp','i1','i2']).show(20000, False)"
   ]
  },
  {
   "cell_type": "code",
   "execution_count": null,
   "metadata": {},
   "outputs": [],
   "source": [
    "df = check_case(df, 'i3', ts_name, min_dist_per_min, min_pause_duration, max_pause_time).checkpoint()\n",
    "df.drop(*['lat','lon','dow','distance','fixTypeCode',\n",
    "         'cum_pause','total_sec','height','speed','heading','state_cp','tripType_cp','i1','i2','j4']).show(20000, False)"
   ]
  },
  {
   "cell_type": "code",
   "execution_count": null,
   "metadata": {},
   "outputs": [],
   "source": [
    "df = proc_segment(df, 'j1', ts_name, min_dist_per_min, min_pause_duration, max_pause_time, 3, 2, \"CASE1\").checkpoint()\n",
    "df.drop(*['lat','lon','dow','distance','fixTypeCode',\n",
    "         'cum_pause','total_sec','height','speed','heading','state_cp','tripType_cp','i2','i1','j4']).show(20000, False)"
   ]
  },
  {
   "cell_type": "code",
   "execution_count": null,
   "metadata": {},
   "outputs": [],
   "source": [
    "df = df.drop(*['j1','j2','j3','j4'])\n",
    "df = set_pause(df, 'i3', ts_name).checkpoint()\n",
    "df.drop(*['lat','lon','dow','distance','fixTypeCode',\n",
    "         'cum_pause','total_sec','height','speed','heading','state_cp','tripType_cp','i1','i2']).show(20000, False)"
   ]
  },
  {
   "cell_type": "code",
   "execution_count": null,
   "metadata": {},
   "outputs": [],
   "source": [
    "df = check_case(df, 'i3', ts_name, min_dist_per_min, min_pause_duration, max_pause_time).checkpoint()\n",
    "df.drop(*['lat','lon','dow','distance','fixTypeCode',\n",
    "         'cum_pause','total_sec','height','speed','heading','state_cp','tripType_cp','i1','i2','j4']).show(20000, False)"
   ]
  },
  {
   "cell_type": "code",
   "execution_count": null,
   "metadata": {},
   "outputs": [],
   "source": [
    "df2 = proc_segment(df, 'j2', ts_name, min_dist_per_min, min_pause_duration, max_pause_time, 3, 3, \"CASE2\").checkpoint()\n",
    "df2.drop(*['lat','lon','dow','distance','fixTypeCode',\n",
    "         'cum_pause','total_sec','height','speed','heading','state_cp','tripType_cp','i2','i1','j4']).show(20000, False)"
   ]
  },
  {
   "cell_type": "code",
   "execution_count": null,
   "metadata": {},
   "outputs": [],
   "source": [
    "df2 = df2.drop(*['j1','j2','j3','j4'])\n",
    "df2 = set_pause(df2, 'i3', ts_name).checkpoint()\n",
    "df2.drop(*['lat','lon','dow','distance','fixTypeCode',\n",
    "         'cum_pause','total_sec','height','speed','heading','state_cp','tripType_cp','i1','i2']).show(20000, False)"
   ]
  },
  {
   "cell_type": "code",
   "execution_count": null,
   "metadata": {},
   "outputs": [],
   "source": [
    "df2 = check_case(df2, 'i3', ts_name, min_dist_per_min, min_pause_duration, max_pause_time).checkpoint()\n",
    "df2.drop(*['lat','lon','dow','distance','fixTypeCode',\n",
    "         'cum_pause','total_sec','height','speed','heading','state_cp','tripType_cp','i1','i2','j4']).show(20000, False)"
   ]
  },
  {
   "cell_type": "code",
   "execution_count": null,
   "metadata": {},
   "outputs": [],
   "source": [
    "df3 = proc_segment(df2, 'j3', ts_name, min_dist_per_min, min_pause_duration, max_pause_time, 0, 0, \"CASE3\").checkpoint()\n",
    "df3.drop(*['lat','lon','dow','distance','fixTypeCode',\n",
    "         'cum_pause','total_sec','height','speed','heading','state_cp','tripType_cp','i2','i1','j4']).show(20000, False)"
   ]
  },
  {
   "cell_type": "code",
   "execution_count": null,
   "metadata": {},
   "outputs": [],
   "source": [
    "df3 = df3.drop(*['j1','j2','j3','j4'])\n",
    "df3 = set_pause(df3, 'i3', ts_name).checkpoint()\n",
    "df3.drop(*['lat','lon','dow','distance','fixTypeCode',\n",
    "         'cum_pause','total_sec','height','speed','heading','state_cp','tripType_cp','i1','i2']).show(20000, False)"
   ]
  },
  {
   "cell_type": "code",
   "execution_count": null,
   "metadata": {},
   "outputs": [],
   "source": []
  },
  {
   "cell_type": "code",
   "execution_count": null,
   "metadata": {},
   "outputs": [],
   "source": [
    "# segment 166\n",
    "df = set_pause(df, 'i2', ts_name).checkpoint()\n",
    "df.drop(*['lat','lon','dow','distance','fixTypeCode',\n",
    "         'cum_pause','total_sec','height','speed','heading','state_cp','tripType_cp','i1','i3']).show(20000, False)"
   ]
  },
  {
   "cell_type": "code",
   "execution_count": null,
   "metadata": {},
   "outputs": [],
   "source": [
    "df = check_case(df, 'i2', ts_name, min_dist_per_min, min_pause_duration, max_pause_time).checkpoint()\n",
    "df.drop(*['lat','lon','dow','distance','fixTypeCode',\n",
    "         'cum_pause','total_sec','height','speed','heading','state_cp','tripType_cp','i1','i3']).show(20000, False)"
   ]
  },
  {
   "cell_type": "code",
   "execution_count": null,
   "metadata": {},
   "outputs": [],
   "source": [
    "df = proc_segment(df, 'j1', ts_name, min_dist_per_min, min_pause_duration, max_pause_time, 3, 2, \"CASE1\").checkpoint()\n",
    "df.drop(*['lat','lon','dow','distance','fixTypeCode',\n",
    "         'cum_pause','total_sec','height','speed','heading','state_cp','tripType_cp','i1','i3']).show(20000, False)"
   ]
  },
  {
   "cell_type": "code",
   "execution_count": null,
   "metadata": {},
   "outputs": [],
   "source": [
    "df = df.drop(*['j1','j2','j3','j4'])\n",
    "df = set_pause(df, 'i2', ts_name).checkpoint()\n",
    "df.drop(*['lat','lon','dow','distance','fixTypeCode',\n",
    "         'cum_pause','total_sec','height','speed','heading','state_cp','tripType_cp','i1','i3']).show(20000, False)"
   ]
  },
  {
   "cell_type": "code",
   "execution_count": null,
   "metadata": {},
   "outputs": [],
   "source": [
    "df = check_case(df, 'i2', ts_name, min_dist_per_min, min_pause_duration, max_pause_time).checkpoint()\n",
    "df.drop(*['lat','lon','dow','distance','fixTypeCode',\n",
    "         'cum_pause','total_sec','height','speed','heading','state_cp','tripType_cp','i1','i3']).show(20000, False)"
   ]
  },
  {
   "cell_type": "code",
   "execution_count": null,
   "metadata": {},
   "outputs": [],
   "source": [
    "df = proc_segment(df, 'j2', ts_name, min_dist_per_min, min_pause_duration, max_pause_time, 3, 3, \"CASE2\").checkpoint()\n",
    "df.drop(*['lat','lon','dow','distance','fixTypeCode',\n",
    "         'cum_pause','total_sec','height','speed','heading','state_cp','tripType_cp','i1','i3']).show(20000, False)"
   ]
  },
  {
   "cell_type": "code",
   "execution_count": null,
   "metadata": {},
   "outputs": [],
   "source": [
    "df = df.drop(*['j1','j2','j3','j4'])\n",
    "df = set_pause(df, 'i2', ts_name).checkpoint()\n",
    "df.drop(*['lat','lon','dow','distance','fixTypeCode',\n",
    "         'cum_pause','total_sec','height','speed','heading','state_cp','tripType_cp','i1','i3']).show(20000, False)"
   ]
  },
  {
   "cell_type": "code",
   "execution_count": null,
   "metadata": {},
   "outputs": [],
   "source": [
    "df = check_case(df, 'i2', ts_name, min_dist_per_min, min_pause_duration, max_pause_time).checkpoint()\n",
    "df.drop(*['lat','lon','dow','distance','fixTypeCode',\n",
    "         'cum_pause','total_sec','height','speed','heading','state_cp','tripType_cp','i1','i3']).show(20000, False)"
   ]
  },
  {
   "cell_type": "code",
   "execution_count": null,
   "metadata": {},
   "outputs": [],
   "source": [
    "df = proc_segment(df, 'j1', ts_name, min_dist_per_min, min_pause_duration, max_pause_time, 3, 2, \"CASE1\").checkpoint()\n",
    "df.drop(*['lat','lon','dow','distance','fixTypeCode',\n",
    "         'cum_pause','total_sec','height','speed','heading','state_cp','tripType_cp','i1','i3']).show(20000, False)"
   ]
  },
  {
   "cell_type": "code",
   "execution_count": null,
   "metadata": {},
   "outputs": [],
   "source": [
    "df = df.drop(*['j1','j2','j3','j4'])\n",
    "df = set_pause(df, 'i2', ts_name).checkpoint()\n",
    "df.drop(*['lat','lon','dow','distance','fixTypeCode',\n",
    "         'cum_pause','total_sec','height','speed','heading','state_cp','tripType_cp','i1','i3']).show(20000, False)"
   ]
  },
  {
   "cell_type": "code",
   "execution_count": null,
   "metadata": {},
   "outputs": [],
   "source": [
    "df = check_case(df, 'i2', ts_name, min_dist_per_min, min_pause_duration, max_pause_time).checkpoint()\n",
    "df.drop(*['lat','lon','dow','distance','fixTypeCode',\n",
    "         'cum_pause','total_sec','height','speed','heading','state_cp','tripType_cp','i1','i3']).show(20000, False)"
   ]
  },
  {
   "cell_type": "code",
   "execution_count": null,
   "metadata": {},
   "outputs": [],
   "source": [
    "df = proc_segment(df, 'j1', ts_name, min_dist_per_min, min_pause_duration, max_pause_time, 3, 2, \"CASE1\").checkpoint()\n",
    "df.drop(*['lat','lon','dow','distance','fixTypeCode',\n",
    "         'cum_pause','total_sec','height','speed','heading','state_cp','tripType_cp','i1','i3']).show(20000, False)"
   ]
  },
  {
   "cell_type": "code",
   "execution_count": null,
   "metadata": {},
   "outputs": [],
   "source": [
    "df = df.drop(*['j1','j2','j3','j4'])\n",
    "df = set_pause(df, 'i2', ts_name).checkpoint()\n",
    "df.drop(*['lat','lon','dow','distance','fixTypeCode',\n",
    "         'cum_pause','total_sec','height','speed','heading','state_cp','tripType_cp','i1','i3']).show(20000, False)"
   ]
  },
  {
   "cell_type": "code",
   "execution_count": null,
   "metadata": {},
   "outputs": [],
   "source": [
    "df = check_case(df, 'i2', ts_name, min_dist_per_min, min_pause_duration, max_pause_time).checkpoint()\n",
    "df.drop(*['lat','lon','dow','distance','fixTypeCode',\n",
    "         'cum_pause','total_sec','height','speed','heading','state_cp','tripType_cp','i1','i3']).show(20000, False)"
   ]
  },
  {
   "cell_type": "code",
   "execution_count": null,
   "metadata": {},
   "outputs": [],
   "source": [
    "df = proc_segment(df, 'j1', ts_name, min_dist_per_min, min_pause_duration, max_pause_time, 3, 2, \"CASE1\").checkpoint()\n",
    "df.drop(*['lat','lon','dow','distance','fixTypeCode',\n",
    "         'cum_pause','total_sec','height','speed','heading','state_cp','tripType_cp','i1','i3']).show(20000, False)"
   ]
  },
  {
   "cell_type": "code",
   "execution_count": null,
   "metadata": {},
   "outputs": [],
   "source": [
    "df = df.drop(*['j1','j2','j3','j4'])\n",
    "df = set_pause(df, 'i2', ts_name).checkpoint()\n",
    "df.drop(*['lat','lon','dow','distance','fixTypeCode',\n",
    "         'cum_pause','total_sec','height','speed','heading','state_cp','tripType_cp','i1','i3']).show(20000, False)"
   ]
  },
  {
   "cell_type": "code",
   "execution_count": null,
   "metadata": {},
   "outputs": [],
   "source": [
    "df = check_case(df, 'i2', ts_name, min_dist_per_min, min_pause_duration, max_pause_time).checkpoint()\n",
    "df.drop(*['lat','lon','dow','distance','fixTypeCode',\n",
    "         'cum_pause','total_sec','height','speed','heading','state_cp','tripType_cp','i1','i3']).show(20000, False)"
   ]
  },
  {
   "cell_type": "code",
   "execution_count": null,
   "metadata": {},
   "outputs": [],
   "source": [
    "df = proc_segment(df, 'j1', ts_name, min_dist_per_min, min_pause_duration, max_pause_time, 3, 2, \"CASE1\").checkpoint()\n",
    "df.drop(*['lat','lon','dow','distance','fixTypeCode',\n",
    "         'cum_pause','total_sec','height','speed','heading','state_cp','tripType_cp','i1','i3']).show(20000, False)"
   ]
  },
  {
   "cell_type": "code",
   "execution_count": null,
   "metadata": {},
   "outputs": [],
   "source": [
    "df = df.drop(*['j1','j2','j3','j4'])\n",
    "df = set_pause(df, 'i2', ts_name).checkpoint()\n",
    "df.drop(*['lat','lon','dow','distance','fixTypeCode',\n",
    "         'cum_pause','total_sec','height','speed','heading','state_cp','tripType_cp','i1','i3']).show(20000, False)"
   ]
  },
  {
   "cell_type": "code",
   "execution_count": null,
   "metadata": {},
   "outputs": [],
   "source": [
    "df = check_case(df, 'i2', ts_name, min_dist_per_min, min_pause_duration, max_pause_time).checkpoint()\n",
    "df.drop(*['lat','lon','dow','distance','fixTypeCode',\n",
    "         'cum_pause','total_sec','height','speed','heading','state_cp','tripType_cp','i1','i3','j3']).show(20000, False)"
   ]
  },
  {
   "cell_type": "code",
   "execution_count": null,
   "metadata": {},
   "outputs": [],
   "source": [
    "df2 = proc_segment(df, 'j4', ts_name, min_dist_per_min, min_pause_duration, max_pause_time, 0, 0, \"CASE4\").checkpoint()\n",
    "df2.drop(*['lat','lon','dow','distance','fixTypeCode',\n",
    "         'cum_pause','total_sec','height','speed','heading','state_cp','tripType_cp','i1','i3','j3']).show(20000, False)"
   ]
  },
  {
   "cell_type": "code",
   "execution_count": null,
   "metadata": {},
   "outputs": [],
   "source": [
    "df2 = df2.drop(*['j1','j2','j3'])\n",
    "df2 = set_pause(df2, 'j4', ts_name).checkpoint()\n",
    "df2.drop(*['lat','lon','dow','distance','fixTypeCode',\n",
    "         'cum_pause','total_sec','height','speed','heading','state_cp','tripType_cp','i1','i3','j3']).show(20000, False)"
   ]
  },
  {
   "cell_type": "code",
   "execution_count": null,
   "metadata": {},
   "outputs": [],
   "source": [
    "df2 = check_case(df2, 'i2', ts_name, min_dist_per_min, min_pause_duration, max_pause_time).checkpoint()\n",
    "df2.drop(*['lat','lon','dow','distance','fixTypeCode',\n",
    "         'cum_pause','total_sec','height','speed','heading','state_cp','tripType_cp','i1','i3','j4']).show(20000, False)"
   ]
  },
  {
   "cell_type": "code",
   "execution_count": null,
   "metadata": {},
   "outputs": [],
   "source": [
    "df2 = proc_segment(df2, 'j3', ts_name, min_dist_per_min, min_pause_duration, max_pause_time, 0, 0, \"CASE3\").checkpoint()\n",
    "df2.drop(*['lat','lon','dow','distance','fixTypeCode',\n",
    "         'cum_pause','total_sec','height','speed','heading','state_cp','tripType_cp','i1','i3','j4','j1','j2']).show(20000, False)"
   ]
  },
  {
   "cell_type": "code",
   "execution_count": null,
   "metadata": {},
   "outputs": [],
   "source": [
    "df3 = df2.drop(*['j1','j2','j3','j4'])\n",
    "df3 = set_pause(df3, 'i2', ts_name).checkpoint()\n",
    "df3.drop(*['lat','lon','dow','distance','fixTypeCode',\n",
    "         'cum_pause','total_sec','height','speed','heading','state_cp','tripType_cp','i1','i3']).show(20000, False)"
   ]
  },
  {
   "cell_type": "code",
   "execution_count": null,
   "metadata": {},
   "outputs": [],
   "source": [
    "df3 = check_case(df3, 'i2', ts_name, min_dist_per_min, min_pause_duration, max_pause_time).checkpoint()\n",
    "df3.drop(*['lat','lon','dow','distance','fixTypeCode',\n",
    "         'cum_pause','total_sec','height','speed','heading','state_cp','tripType_cp','i1','i3','j4']).show(20000, False)"
   ]
  },
  {
   "cell_type": "code",
   "execution_count": null,
   "metadata": {},
   "outputs": [],
   "source": [
    "df3 = proc_segment(df3, 'j1', ts_name, min_dist_per_min, min_pause_duration, max_pause_time, 3, 2, \"CASE1\").checkpoint()\n",
    "df3.drop(*['lat','lon','dow','distance','fixTypeCode',\n",
    "         'cum_pause','total_sec','height','speed','heading','state_cp','tripType_cp','i1','i3']).show(20000, False)"
   ]
  },
  {
   "cell_type": "code",
   "execution_count": null,
   "metadata": {},
   "outputs": [],
   "source": [
    "df3 = df3.drop(*['j1','j2','j3','j4'])\n",
    "df3 = set_pause(df3, 'i2', ts_name).checkpoint()\n",
    "df3.drop(*['lat','lon','dow','distance','fixTypeCode',\n",
    "         'cum_pause','total_sec','height','speed','heading','state_cp','tripType_cp','i1','i3']).show(20000, False)"
   ]
  },
  {
   "cell_type": "code",
   "execution_count": null,
   "metadata": {},
   "outputs": [],
   "source": [
    "df3 = check_case(df3, 'i2', ts_name, min_dist_per_min, min_pause_duration, max_pause_time).checkpoint()\n",
    "df3.drop(*['lat','lon','dow','distance','fixTypeCode',\n",
    "         'cum_pause','total_sec','height','speed','heading','state_cp','tripType_cp','i1','i3','j4']).show(20000, False)"
   ]
  },
  {
   "cell_type": "code",
   "execution_count": null,
   "metadata": {},
   "outputs": [],
   "source": [
    "df3 = proc_segment(df3, 'j1', ts_name, min_dist_per_min, min_pause_duration, max_pause_time, 3, 2, \"CASE1\").checkpoint()\n",
    "df3.drop(*['lat','lon','dow','distance','fixTypeCode',\n",
    "         'cum_pause','total_sec','height','speed','heading','state_cp','tripType_cp','i1','i3']).show(20000, False)"
   ]
  },
  {
   "cell_type": "code",
   "execution_count": null,
   "metadata": {},
   "outputs": [],
   "source": [
    "df3 = df3.drop(*['j1','j2','j3','j4'])\n",
    "df3 = set_pause(df3, 'i2', ts_name).checkpoint()\n",
    "df3.drop(*['lat','lon','dow','distance','fixTypeCode',\n",
    "         'cum_pause','total_sec','height','speed','heading','state_cp','tripType_cp','i1','i3']).show(20000, False)"
   ]
  },
  {
   "cell_type": "code",
   "execution_count": null,
   "metadata": {},
   "outputs": [],
   "source": [
    "df3 = check_case(df3, 'i2', ts_name, min_dist_per_min, min_pause_duration, max_pause_time).checkpoint()\n",
    "df3.drop(*['lat','lon','dow','distance','fixTypeCode',\n",
    "         'cum_pause','total_sec','height','speed','heading','state_cp','tripType_cp','i1','i3','j4']).show(20000, False)"
   ]
  },
  {
   "cell_type": "code",
   "execution_count": null,
   "metadata": {},
   "outputs": [],
   "source": [
    "df3 = proc_segment(df3, 'j1', ts_name, min_dist_per_min, min_pause_duration, max_pause_time, 3, 2, \"CASE1\").checkpoint()\n",
    "df3.drop(*['lat','lon','dow','distance','fixTypeCode',\n",
    "         'cum_pause','total_sec','height','speed','heading','state_cp','tripType_cp','i1','i3','j4','j1','j2']).show(20000, False)"
   ]
  },
  {
   "cell_type": "code",
   "execution_count": null,
   "metadata": {},
   "outputs": [],
   "source": [
    "df3.drop(*['lat','lon','dow','distance','fixTypeCode',\n",
    "         'cum_pause','total_sec','height','speed','heading','state_cp','tripType_cp','i2','i3','j4','j1','j2','j3']).show(20000, False)"
   ]
  },
  {
   "cell_type": "code",
   "execution_count": null,
   "metadata": {},
   "outputs": [],
   "source": [
    "# segment 180\n",
    "df4 = proc_segment(df3, 'i1', ts_name, min_dist_per_min, min_pause_duration, max_pause_time, 3, 2, \"CASE1\").checkpoint()\n",
    "df4.drop(*['lat','lon','dow','distance','fixTypeCode',\n",
    "         'cum_pause','total_sec','height','speed','heading','state_cp','tripType_cp','i2','i3','j4']).show(20000, False)"
   ]
  },
  {
   "cell_type": "code",
   "execution_count": null,
   "metadata": {},
   "outputs": [],
   "source": [
    "df4 = df4.drop(*['j1','j2','j3','j4'])\n",
    "df4 = set_pause(df4, 'i1', ts_name).checkpoint()\n",
    "df4.drop(*['lat','lon','dow','distance','fixTypeCode',\n",
    "         'cum_pause','total_sec','height','speed','heading','state_cp','tripType_cp','i2','i3']).show(20000, False)"
   ]
  },
  {
   "cell_type": "code",
   "execution_count": null,
   "metadata": {},
   "outputs": [],
   "source": [
    "df4 = check_case(df4, 'i1', ts_name, min_dist_per_min, min_pause_duration, max_pause_time).checkpoint()\n",
    "df4.drop(*['lat','lon','dow','distance','fixTypeCode',\n",
    "         'cum_pause','total_sec','height','speed','heading','state_cp','tripType_cp','i2','i3','j4']).show(20000, False)"
   ]
  },
  {
   "cell_type": "code",
   "execution_count": null,
   "metadata": {},
   "outputs": [],
   "source": [
    "df4 = proc_segment(df4, 'j1', ts_name, min_dist_per_min, min_pause_duration, max_pause_time, 3, 2, \"CASE1\").checkpoint()\n",
    "df4.drop(*['lat','lon','dow','distance','fixTypeCode',\n",
    "         'cum_pause','total_sec','height','speed','heading','state_cp','tripType_cp','i2','i3','j4']).show(20000, False)"
   ]
  },
  {
   "cell_type": "code",
   "execution_count": null,
   "metadata": {},
   "outputs": [],
   "source": [
    "df4 = df4.drop(*['j1','j2','j3','j4'])\n",
    "df4 = set_pause(df4, 'i1', ts_name).checkpoint()\n",
    "df4.drop(*['lat','lon','dow','distance','fixTypeCode',\n",
    "         'cum_pause','total_sec','height','speed','heading','state_cp','tripType_cp','i2','i3']).show(20000, False)"
   ]
  },
  {
   "cell_type": "code",
   "execution_count": null,
   "metadata": {},
   "outputs": [],
   "source": [
    "df4 = check_case(df4, 'i1', ts_name, min_dist_per_min, min_pause_duration, max_pause_time).checkpoint()\n",
    "df4.drop(*['lat','lon','dow','distance','fixTypeCode',\n",
    "         'cum_pause','total_sec','height','speed','heading','state_cp','tripType_cp','i2','i3','j4']).show(20000, False)"
   ]
  },
  {
   "cell_type": "code",
   "execution_count": null,
   "metadata": {},
   "outputs": [],
   "source": [
    "df4 = proc_segment(df4, 'j2', ts_name, min_dist_per_min, min_pause_duration, max_pause_time, 3, 3, \"CASE2\").checkpoint()\n",
    "df4.drop(*['lat','lon','dow','distance','fixTypeCode',\n",
    "         'cum_pause','total_sec','height','speed','heading','state_cp','tripType_cp','i1','i3']).show(20000, False)"
   ]
  },
  {
   "cell_type": "code",
   "execution_count": null,
   "metadata": {},
   "outputs": [],
   "source": [
    "df4 = df4.drop(*['j1','j2','j3','j4'])\n",
    "df4 = set_pause(df4, 'i1', ts_name).checkpoint()\n",
    "df4.drop(*['lat','lon','dow','distance','fixTypeCode',\n",
    "         'cum_pause','total_sec','height','speed','heading','state_cp','tripType_cp','i2','i3']).show(20000, False)"
   ]
  },
  {
   "cell_type": "code",
   "execution_count": null,
   "metadata": {},
   "outputs": [],
   "source": [
    "df5 = check_case(df4, 'i1', ts_name, min_dist_per_min, min_pause_duration, max_pause_time).checkpoint()\n",
    "df5.drop(*['lat','lon','dow','distance','fixTypeCode',\n",
    "         'cum_pause','total_sec','height','speed','heading','state_cp','tripType_cp','i2','i3','j4']).show(20000, False)"
   ]
  },
  {
   "cell_type": "code",
   "execution_count": null,
   "metadata": {},
   "outputs": [],
   "source": [
    "df5 = proc_segment(df5, 'j2', ts_name, min_dist_per_min, min_pause_duration, max_pause_time, 3, 3, \"CASE2\").checkpoint()\n",
    "df5.drop(*['lat','lon','dow','distance','fixTypeCode',\n",
    "         'cum_pause','total_sec','height','speed','heading','state_cp','tripType_cp','i1','i3']).show(20000, False)"
   ]
  },
  {
   "cell_type": "code",
   "execution_count": null,
   "metadata": {},
   "outputs": [],
   "source": [
    "df5 = df5.drop(*['j1','j2','j3','j4'])\n",
    "df5 = set_pause(df5, 'i1', ts_name).checkpoint()\n",
    "df5.drop(*['lat','lon','dow','distance','fixTypeCode',\n",
    "         'cum_pause','total_sec','height','speed','heading','state_cp','tripType_cp','i2','i3']).show(20000, False)"
   ]
  },
  {
   "cell_type": "code",
   "execution_count": null,
   "metadata": {},
   "outputs": [],
   "source": [
    "df5 = check_case(df5, 'i1', ts_name, min_dist_per_min, min_pause_duration, max_pause_time).checkpoint()\n",
    "df5.drop(*['lat','lon','dow','distance','fixTypeCode',\n",
    "         'cum_pause','total_sec','height','speed','heading','state_cp','tripType_cp','i2','i3','j4']).show(20000, False)"
   ]
  },
  {
   "cell_type": "code",
   "execution_count": null,
   "metadata": {},
   "outputs": [],
   "source": [
    "df5 = proc_segment(df5, 'j2', ts_name, min_dist_per_min, min_pause_duration, max_pause_time, 3, 3, \"CASE2\").checkpoint()\n",
    "df5.drop(*['lat','lon','dow','distance','fixTypeCode',\n",
    "         'cum_pause','total_sec','height','speed','heading','state_cp','tripType_cp','i1','i3']).show(20000, False)"
   ]
  },
  {
   "cell_type": "code",
   "execution_count": null,
   "metadata": {},
   "outputs": [],
   "source": [
    "df5 = df5.drop(*['j1','j2','j3','j4'])\n",
    "df5 = set_pause(df5, 'i1', ts_name).checkpoint()\n",
    "df5.drop(*['lat','lon','dow','distance','fixTypeCode',\n",
    "         'cum_pause','total_sec','height','speed','heading','state_cp','tripType_cp','i2','i3']).show(20000, False)"
   ]
  },
  {
   "cell_type": "code",
   "execution_count": null,
   "metadata": {},
   "outputs": [],
   "source": [
    "df5 = check_case(df5, 'i1', ts_name, min_dist_per_min, min_pause_duration, max_pause_time).checkpoint()\n",
    "df5.drop(*['lat','lon','dow','distance','fixTypeCode',\n",
    "         'cum_pause','total_sec','height','speed','heading','state_cp','tripType_cp','i2','i3','j4']).show(20000, False)"
   ]
  },
  {
   "cell_type": "code",
   "execution_count": null,
   "metadata": {},
   "outputs": [],
   "source": [
    "df5 = proc_segment(df5, 'j3', ts_name, min_dist_per_min, min_pause_duration, max_pause_time, 0, 0, \"CASE3\").checkpoint()\n",
    "df5.drop(*['lat','lon','dow','distance','fixTypeCode',\n",
    "         'cum_pause','total_sec','height','speed','heading','state_cp','tripType_cp','i1','i3','j4']).show(20000, False)"
   ]
  },
  {
   "cell_type": "code",
   "execution_count": null,
   "metadata": {},
   "outputs": [],
   "source": [
    "df5.drop(*['lat','lon','dow','distance','fixTypeCode',\n",
    "         'cum_pause','total_sec','height','speed','heading','state_cp','tripType_cp','i2','i3','j4']).show(20000, False)"
   ]
  },
  {
   "cell_type": "code",
   "execution_count": null,
   "metadata": {},
   "outputs": [],
   "source": [
    "#segment 188\n",
    "df6 = proc_segment(df5, 'j1', ts_name, min_dist_per_min, min_pause_duration, max_pause_time, 3, 2, \"CASE1\").checkpoint()\n",
    "df6.drop(*['lat','lon','dow','distance','fixTypeCode',\n",
    "         'cum_pause','total_sec','height','speed','heading','state_cp','tripType_cp','i1','i3','j4']).show(20000, False)"
   ]
  },
  {
   "cell_type": "code",
   "execution_count": null,
   "metadata": {},
   "outputs": [],
   "source": [
    "df6 = df6.drop(*['j1','j2','j3','j4'])\n",
    "df6 = set_pause(df6, 'i1', ts_name).checkpoint()\n",
    "df6.drop(*['lat','lon','dow','distance','fixTypeCode',\n",
    "         'cum_pause','total_sec','height','speed','heading','state_cp','tripType_cp','i2','i3']).show(20000, False)"
   ]
  },
  {
   "cell_type": "code",
   "execution_count": null,
   "metadata": {},
   "outputs": [],
   "source": [
    "df6 = check_case(df6, 'i1', ts_name, min_dist_per_min, min_pause_duration, max_pause_time).checkpoint()\n",
    "df6.drop(*['lat','lon','dow','distance','fixTypeCode',\n",
    "         'cum_pause','total_sec','height','speed','heading','state_cp','tripType_cp','i2','i3','j4']).show(20000, False)"
   ]
  },
  {
   "cell_type": "code",
   "execution_count": null,
   "metadata": {},
   "outputs": [],
   "source": [
    "df6 = proc_segment(df6, 'j3', ts_name, min_dist_per_min, min_pause_duration, max_pause_time, 0, 0, \"CASE3\").checkpoint()\n",
    "df6.drop(*['lat','lon','dow','distance','fixTypeCode',\n",
    "         'cum_pause','total_sec','height','speed','heading','state_cp','tripType_cp','i1','i3','j4']).show(20000, False)"
   ]
  },
  {
   "cell_type": "code",
   "execution_count": null,
   "metadata": {},
   "outputs": [],
   "source": [
    "df6.drop(*['lat','lon','dow','distance','fixTypeCode',\n",
    "         'cum_pause','total_sec','height','speed','heading','state_cp','tripType_cp','j4','j1','j2','j3']).show(20000, False)"
   ]
  },
  {
   "cell_type": "code",
   "execution_count": null,
   "metadata": {},
   "outputs": [],
   "source": []
  },
  {
   "cell_type": "code",
   "execution_count": null,
   "metadata": {},
   "outputs": [],
   "source": [
    "def push_and_pop(rdd):\n",
    "    # two transformations: moves the head element to the tail\n",
    "    first = rdd.first()\n",
    "    return rdd.filter(\n",
    "        lambda obj: obj != first\n",
    "    ).union(\n",
    "        sc.parallelize([first])\n",
    "    )\n",
    "\n",
    "def serialize_and_deserialize(rdd):\n",
    "    # perform a collect() action to evaluate the rdd and create a new instance\n",
    "    return sc.parallelize(rdd.collect())\n",
    "\n",
    "def do_test(serialize=False):\n",
    "    rdd = sc.parallelize(range(1000))\n",
    "    for i in xrange(25):\n",
    "        t0 = time.time()\n",
    "        rdd = push_and_pop(rdd)\n",
    "        if serialize:\n",
    "            rdd = serialize_and_deserialize(rdd)\n",
    "        print(\"%.3f\" % (time.time() - t0))\n",
    "\n",
    "do_test()"
   ]
  },
  {
   "cell_type": "code",
   "execution_count": null,
   "metadata": {},
   "outputs": [],
   "source": [
    "tw = str(60) + ' seconds'\n",
    "sw = str(60) + ' seconds'\n",
    "\n",
    "st_sec = str(df.first()[0].second)\n",
    "\n",
    "offset = st_sec + ' seconds' \n",
    "\n",
    "param_name = 'distance'\n",
    "\n",
    "df.groupBy(\n",
    "            F.window(ts_name, tw, sw, offset)\n",
    "          ).sum(param_name)\\\n",
    "           .select('window','sum({})'.format(param_name))\\\n",
    "           .withColumn('start', F.col('window').start)\\\n",
    "           .withColumn('end', F.col('window').end)\\\n",
    "           .drop('window')\\\n",
    "           .show(20, False)\n",
    "\"\"\"\n",
    "df.groupBy(\n",
    "            F.window(ts_name, tw, sw, offset)\n",
    "          ).sum()\\\n",
    "           .sort('window.start')\\\n",
    "           .filter(F.col('sum({})'.format(param_name))>=min_dist_per_min)\\\n",
    "           .select('window')\\\n",
    "           .withColumn('start', F.col('window').start)\\\n",
    "           .withColumn('end', F.col('window').end)\\\n",
    "           .drop('window')\\\n",
    "           .show(20, False)\n",
    "\"\"\""
   ]
  },
  {
   "cell_type": "code",
   "execution_count": null,
   "metadata": {},
   "outputs": [],
   "source": []
  },
  {
   "cell_type": "code",
   "execution_count": null,
   "metadata": {},
   "outputs": [],
   "source": []
  },
  {
   "cell_type": "code",
   "execution_count": null,
   "metadata": {},
   "outputs": [],
   "source": []
  },
  {
   "cell_type": "code",
   "execution_count": null,
   "metadata": {},
   "outputs": [],
   "source": []
  },
  {
   "cell_type": "code",
   "execution_count": null,
   "metadata": {},
   "outputs": [],
   "source": []
  },
  {
   "cell_type": "markdown",
   "metadata": {},
   "source": [
    "## Accelerometer data processing"
   ]
  },
  {
   "cell_type": "markdown",
   "metadata": {},
   "source": [
    "row = Row(\"id\", \"date\", \"value\")\n",
    "df = sc.parallelize([\n",
    "        row(1, \"2015-01-01\", 20.0),\n",
    "        row(2, \"2015-01-02\", 30.0),\n",
    "        row(3, \"2015-01-03\", 0.0),\n",
    "        row(4, \"2015-01-04\", 30.0),\n",
    "        row(5, \"2015-01-05\", 50.0),\n",
    "        row(6, \"2015-01-06\", 0.0),\n",
    "        row(7, \"2015-01-07\", 0.0),\n",
    "        row(8, \"2015-01-08\", 0.0),\n",
    "        row(9, \"2015-01-09\", 0.0),\n",
    "        row(10, \"2015-01-10\", 0.0),\n",
    "        row(11, \"2015-01-11\", 20.0),\n",
    "        row(12, \"2015-01-12\", 0.0),\n",
    "        row(13, \"2015-01-13\", 0.0),\n",
    "        row(14, \"2015-01-14\", 40.0),\n",
    "        row(15, \"2015-01-15\", 8.0),\n",
    "        row(16, \"2015-01-16\", 0.0)\n",
    "    ]).toDF().withColumn(\"date\", F.col(\"date\").cast(\"timestamp\"))\n",
    "\n",
    "df.show(20, False)"
   ]
  },
  {
   "cell_type": "markdown",
   "metadata": {},
   "source": [
    "tw = str(24*60) + ' minutes'\n",
    "sw = str(24*3600) + ' seconds'\n",
    "offset = str(0) + ' seconds'\n",
    "datetime_name = 'date'\n",
    "param_name = 'value'\n",
    "param_value = 0\n",
    "\n",
    "df.groupBy(\n",
    "            F.window(datetime_name, '{}'.format(tw),'{}'.format(sw),'{}'.format(offset))\n",
    "         ).avg(param_name)\\\n",
    "          .sort('window.start')\\\n",
    "          .filter(F.col('avg({})'.format(param_name))==param_value)\\\n",
    "          .select('window')\\\n",
    "          .withColumn('start', F.col('window').start)\\\n",
    "          .withColumn('end', F.col('window').end)\\\n",
    "          .drop('window')\\\n",
    "          .show(20, False)"
   ]
  },
  {
   "cell_type": "code",
   "execution_count": null,
   "metadata": {},
   "outputs": [],
   "source": [
    "#acc_path_raw = '/Users/molinaro/Documents/GITHUB/PALMS/data/raw/Calgary/acc/A01r_5sec.csv'\n",
    "#acc_path_raw = '/Users/molinaro/Documents/GITHUB/PALMS/data/raw/APEN baseline/acc/14A1.csv'\n",
    "#acc_path_raw = '/Users/molinaro/Documents/GITHUB/PALMS/data/raw/APEN follow-up/acc/24A02.csv'\n",
    "#acc_path_raw = '/Users/molinaro/Documents/GITHUB/PALMS/data/raw/Barcelona_youth/acc/G01FWS6.csv'\n",
    "#acc_path_raw = '/Users/molinaro/Documents/GITHUB/PALMS/data/raw/DPS baseline/acc/117101.csv'\n",
    "#acc_path_raw = '/Users/molinaro/Documents/GITHUB/PALMS/data/raw/DPS follow_up/acc/217101.csv'\n",
    "#acc_path_raw = '/Users/molinaro/Documents/GITHUB/PALMS/data/raw/IPEN_Y_BE/acc/32_0006.csv'\n",
    "#acc_path_raw = '/Users/molinaro/Documents/GITHUB/PALMS/data/raw/IPEN_Y_DK/acc/160101.csv'\n",
    "#acc_path_raw = '/Users/molinaro/Documents/GITHUB/PALMS/data/raw/NBBB baseline/acc/wcmc201003a1_cdt.csv'\n",
    "#acc_path_raw = '/Users/molinaro/Documents/GITHUB/PALMS/data/raw/NBBB follow_up/acc/201004a1.csv'\n",
    "acc_path_raw = '/Users/molinaro/Documents/GITHUB/PALMS/data/PARC_data/NYC/accelerometer/2001_1s.csv'"
   ]
  },
  {
   "cell_type": "code",
   "execution_count": null,
   "metadata": {},
   "outputs": [],
   "source": [
    "acc_data_raw = spark.read.text(acc_path_raw)\n",
    "acc_data_raw.cache()"
   ]
  },
  {
   "cell_type": "code",
   "execution_count": null,
   "metadata": {},
   "outputs": [],
   "source": [
    "acc_data_raw.count()"
   ]
  },
  {
   "cell_type": "code",
   "execution_count": null,
   "metadata": {},
   "outputs": [],
   "source": [
    "interval, acc_data = gen_acc_dataframe(acc_data_raw)"
   ]
  },
  {
   "cell_type": "code",
   "execution_count": null,
   "metadata": {},
   "outputs": [],
   "source": [
    "print(interval)\n",
    "acc_data.show(20,False)"
   ]
  },
  {
   "cell_type": "code",
   "execution_count": null,
   "metadata": {},
   "outputs": [],
   "source": [
    "acc_data.printSchema()"
   ]
  },
  {
   "cell_type": "code",
   "execution_count": null,
   "metadata": {},
   "outputs": [],
   "source": [
    "acc_columns = ['axis1','axis2','axis3','steps','lux','incl_off','incl_standing','incl_sitting','incl_lying']\n",
    "acc_data_ext = split_acc_data(acc_data, acc_columns)\n",
    "acc_data_ext.cache()"
   ]
  },
  {
   "cell_type": "code",
   "execution_count": null,
   "metadata": {},
   "outputs": [],
   "source": [
    "ts_name = 'timestamp'\n",
    "window = 5 #seconds\n",
    "\n",
    "acc_data_act = select_acc_intervals(acc_data_ext, ts_name, interval, window, False, True)\n",
    "acc_data_act.show(10000, False)"
   ]
  },
  {
   "cell_type": "code",
   "execution_count": null,
   "metadata": {},
   "outputs": [],
   "source": [
    "#LightCO, ModerateCO, HardCO, VeryHardCO = (100, 1953, 5725, 99999)\n",
    "#LightCO, ModerateCO, HardCO, VeryHardCO = (100, 1953, 5725, 9498)\n",
    "#LightCO, ModerateCO, HardCO, VeryHardCO = (500, 2000, 3000, 4500)\n",
    "LightCO, ModerateCO, HardCO, VeryHardCO = (133, 193, 233, 9999)\n",
    "window = 5 #seconds\n",
    "acc_data_act = activity_count(acc_data_act, 'timestamp', window, LightCO, ModerateCO, HardCO, VeryHardCO, False)\n",
    "acc_data_act.cache()"
   ]
  },
  {
   "cell_type": "code",
   "execution_count": null,
   "metadata": {},
   "outputs": [],
   "source": [
    "acc_data_act.show(10000, False)"
   ]
  },
  {
   "cell_type": "code",
   "execution_count": null,
   "metadata": {},
   "outputs": [],
   "source": [
    "acc_data_ext.show(10000, False)"
   ]
  },
  {
   "cell_type": "code",
   "execution_count": null,
   "metadata": {},
   "outputs": [],
   "source": [
    "# DETERMINE NON-WEAR PERIOD\n",
    "ts_name = 'timestamp'\n",
    "AC_name = 'activity'\n",
    "AI_name = 'activityIntensity'\n",
    "new_col = 'non_wear'\n",
    "window = 5\n",
    "minutes_zeros_row = 90\n",
    "\n",
    "acc_data_act = non_wear_filter(acc_data_act, ts_name, AC_name, AI_name, window, minutes_zeros_row)\n",
    "acc_data_act#.cache()\n",
    "acc_data_act.count()"
   ]
  },
  {
   "cell_type": "markdown",
   "metadata": {},
   "source": [
    "date_format = '%Y-%m-%d'\n",
    "time_format = '%H:%M:%S'\n",
    "datetime_format = date_format + ' ' + time_format\n",
    "startdate = datetime.strptime('2016-08-16 18:23:25', datetime_format) \n",
    "df = non_wear_filter(acc_data_act.filter(F.col('timestamp')>=startdate), \n",
    "                                         ts_name, AC_name, AI_name, interval)"
   ]
  },
  {
   "cell_type": "code",
   "execution_count": null,
   "metadata": {},
   "outputs": [],
   "source": [
    "# DETERMINE ACTIVITY BOUT NUMBER\n",
    "ts_name = 'timestamp'\n",
    "AC_name = 'activity'\n",
    "new_col = 'activityBoutNumber'\n",
    "window = 5\n",
    "UP=9999\n",
    "LOW=1953\n",
    "DURATION=10\n",
    "TOL=2\n",
    "\n",
    "acc_data_act = activity_bout_filter(acc_data_act, ts_name, AC_name, new_col, window,\n",
    "                                    UP, LOW, DURATION, TOL)\n",
    "acc_data_act.cache()\n",
    "acc_data_act.count()"
   ]
  },
  {
   "cell_type": "code",
   "execution_count": null,
   "metadata": {},
   "outputs": [],
   "source": [
    "acc_data_act.show(20, False)"
   ]
  },
  {
   "cell_type": "code",
   "execution_count": null,
   "metadata": {},
   "outputs": [],
   "source": [
    "acc_data_act.join(acc_data_ext, ['timestamp'], how='left' ).orderBy('timestamp').show(20,False)"
   ]
  },
  {
   "cell_type": "markdown",
   "metadata": {},
   "source": [
    "df2.filter(F.col('activityBoutNumber')==1).orderBy('timestamp').show(2000)"
   ]
  },
  {
   "cell_type": "code",
   "execution_count": null,
   "metadata": {},
   "outputs": [],
   "source": [
    "import glob\n",
    "list_procs = sorted(glob.glob(\"PALMS_output/*.csv\"))\n",
    "print(list_procs)\n",
    "header_saved = False\n",
    "with open('PALMS_output.csv', 'w') as fout:\n",
    "    for filename in list_procs:\n",
    "        with open(filename) as fin:\n",
    "            head = next(fin)\n",
    "            if not header_saved:\n",
    "                fout.write(head)\n",
    "                header_saved = True\n",
    "            for line in fin:\n",
    "                fout.write(line)"
   ]
  },
  {
   "cell_type": "code",
   "execution_count": null,
   "metadata": {},
   "outputs": [],
   "source": [
    "# DETERMINE SEDENTARY BOUT NUMBER\n",
    "ts_name = 'timestamp'\n",
    "AC_name = 'activity'\n",
    "new_col = 'sedentaryBoutNumber'\n",
    "window = 5\n",
    "UP=180\n",
    "LOW=0\n",
    "DURATION=30\n",
    "TOL=1\n",
    "\n",
    "acc_data_act = sedentary_bout_filter(acc_data_act, ts_name, AC_name, new_col, window,\n",
    "                                     UP, LOW, DURATION, TOL)\n",
    "acc_data_act.cache()\n",
    "acc_data_act.count()"
   ]
  },
  {
   "cell_type": "markdown",
   "metadata": {},
   "source": [
    "df3.filter(F.col('sedentaryBoutNumber')==5).orderBy('timestamp').show(2000)"
   ]
  },
  {
   "cell_type": "code",
   "execution_count": null,
   "metadata": {},
   "outputs": [],
   "source": [
    "acc_data_act.show(20000,False)"
   ]
  },
  {
   "cell_type": "markdown",
   "metadata": {},
   "source": [
    "tw = '10 minutes'\n",
    "sw = '10 minutes'\n",
    "st_min = acc_data_act.first()[0].minute\n",
    "st_sec = acc_data_act.first()[0].second\n",
    "start_time = (st_min-10*(st_min//10))*60 + st_sec\n",
    "offset = '{} seconds'.format(str(start_time))\n",
    "param_name = 'activityIntensity'\n",
    "datetime_name = 'timestamp'\n",
    "\n",
    "df_tws = df.groupBy(\n",
    "            F.window(datetime_name, '{}'.format(tw),'{}'.format(sw),'{}'.format(offset))\n",
    "             ).count()\\\n",
    "              .sort('window.start')\\\n",
    "              .withColumn('start', F.col('window').start)\\\n",
    "              .withColumn('end', F.col('window').end)\\\n",
    "              .drop('window')\n",
    "              \n",
    "df_tws.show(100, False)           "
   ]
  },
  {
   "cell_type": "markdown",
   "metadata": {},
   "source": [
    "from pyspark.sql import Row\n",
    "from pyspark.sql.window import Window\n",
    "\n",
    "def test_window(ws):\n",
    "    \n",
    "    \"\"\"\n",
    "        Small dataframe to test the sliding window \n",
    "    \n",
    "    \"\"\"\n",
    "    \n",
    "    row = Row(\"id\", \"date\", \"value\")\n",
    "    \n",
    "    df = sc.parallelize([\n",
    "        row(1, \"2015-01-01\", 20.0),\n",
    "        row(2, \"2015-01-06\", 10.0),\n",
    "        row(3, \"2015-01-07\", None),\n",
    "        row(4, \"2015-01-12\", 30.0),\n",
    "        row(5, \"2015-01-13\", 5.0),\n",
    "        row(6, \"2015-01-14\", None),\n",
    "        row(7, \"2015-01-15\", None),\n",
    "        row(8, \"2015-01-16\", None),\n",
    "        row(9, \"2015-01-17\", None),\n",
    "        row(10, \"2015-01-18\", 20.0),\n",
    "        row(11, \"2015-01-19\", 20.0),\n",
    "        row(12, \"2015-01-20\", None),\n",
    "        row(13, \"2015-01-21\", None)\n",
    "    ]).toDF().withColumn(\"date\", F.col(\"date\").cast(\"timestamp\"))\n",
    "    \n",
    "    df = df.withColumn('tot_sec', F.col('date').cast('long'))\n",
    "    df.createOrReplaceTempView('df')\n",
    "    df = spark.sql(\"\"\"select *, tot_sec - lag(tot_sec, 1, 0)\n",
    "                            OVER (ORDER by date) AS diff\n",
    "                            FROM df\"\"\") \n",
    "    df = df.withColumn('new_value', F.when(df['value'].isNotNull(),df['value'])\\\n",
    "                        .otherwise(F.last(df['value'], ignorenulls=True)\\\n",
    "                                  .over(Window.orderBy('tot_sec')\\\n",
    "                                       .rangeBetween(-ws,0)))  \n",
    "             )\n",
    "    return df.show()\n",
    "\n",
    "test_window(9000)"
   ]
  },
  {
   "cell_type": "markdown",
   "metadata": {},
   "source": [
    "## Merge dataframes"
   ]
  },
  {
   "cell_type": "code",
   "execution_count": null,
   "metadata": {},
   "outputs": [],
   "source": [
    "merge_data = gps_data.join(acc_data, 'timestamp', how='left' ).orderBy('timestamp')\n",
    "merge_data.cache()\n",
    "merge_data.count()"
   ]
  },
  {
   "cell_type": "code",
   "execution_count": null,
   "metadata": {},
   "outputs": [],
   "source": [
    "merge_data.show(20, False)"
   ]
  },
  {
   "cell_type": "code",
   "execution_count": null,
   "metadata": {},
   "outputs": [],
   "source": [
    "merge_data.printSchema()"
   ]
  },
  {
   "cell_type": "code",
   "execution_count": null,
   "metadata": {},
   "outputs": [],
   "source": [
    "merge_data.count()"
   ]
  },
  {
   "cell_type": "code",
   "execution_count": null,
   "metadata": {},
   "outputs": [],
   "source": [
    "merge_data_act = gps_data.join(acc_data_act, ['timestamp'], how='left' ).orderBy('timestamp')\n",
    "merge_data_act.count()"
   ]
  },
  {
   "cell_type": "code",
   "execution_count": null,
   "metadata": {},
   "outputs": [],
   "source": [
    "merge_data_act.printSchema()"
   ]
  },
  {
   "cell_type": "code",
   "execution_count": null,
   "metadata": {},
   "outputs": [],
   "source": [
    "merge_data_act.toPandas().head(40)"
   ]
  },
  {
   "cell_type": "code",
   "execution_count": null,
   "metadata": {},
   "outputs": [],
   "source": [
    "merge_data_act = gps_data.join(df3, ['timestamp'], how='left' ).orderBy('timestamp')\n",
    "merge_data_act.cache()"
   ]
  },
  {
   "cell_type": "code",
   "execution_count": null,
   "metadata": {},
   "outputs": [],
   "source": [
    "merge_data_act.toPandas().head(40)"
   ]
  },
  {
   "cell_type": "code",
   "execution_count": null,
   "metadata": {},
   "outputs": [],
   "source": [
    "merge_data_act.coalesce(1).write.option(\"header\",True).option(\"inferSchema\",\"true\").option(\"timestampFormat\", \"yyyy-MM-dd HH:mm:ss\").csv(\"merged_data\")\n"
   ]
  },
  {
   "cell_type": "code",
   "execution_count": null,
   "metadata": {},
   "outputs": [],
   "source": []
  },
  {
   "cell_type": "code",
   "execution_count": null,
   "metadata": {},
   "outputs": [],
   "source": [
    "merge_data_ext = gps_data.join(acc_data_ext, 'timestamp', how='left').orderBy('timestamp')"
   ]
  },
  {
   "cell_type": "code",
   "execution_count": null,
   "metadata": {},
   "outputs": [],
   "source": [
    "merge_data_ext.toPandas().head(20)"
   ]
  },
  {
   "cell_type": "code",
   "execution_count": null,
   "metadata": {},
   "outputs": [],
   "source": []
  },
  {
   "cell_type": "code",
   "execution_count": null,
   "metadata": {},
   "outputs": [],
   "source": []
  },
  {
   "cell_type": "code",
   "execution_count": null,
   "metadata": {},
   "outputs": [],
   "source": []
  },
  {
   "cell_type": "code",
   "execution_count": null,
   "metadata": {},
   "outputs": [],
   "source": []
  },
  {
   "cell_type": "code",
   "execution_count": null,
   "metadata": {},
   "outputs": [],
   "source": []
  },
  {
   "cell_type": "code",
   "execution_count": null,
   "metadata": {},
   "outputs": [],
   "source": []
  },
  {
   "cell_type": "code",
   "execution_count": null,
   "metadata": {},
   "outputs": [],
   "source": []
  },
  {
   "cell_type": "code",
   "execution_count": null,
   "metadata": {},
   "outputs": [],
   "source": []
  },
  {
   "cell_type": "code",
   "execution_count": null,
   "metadata": {},
   "outputs": [],
   "source": []
  }
 ],
 "metadata": {
  "kernelspec": {
   "display_name": "Python 3",
   "language": "python",
   "name": "python3"
  },
  "language_info": {
   "codemirror_mode": {
    "name": "ipython",
    "version": 3
   },
   "file_extension": ".py",
   "mimetype": "text/x-python",
   "name": "python",
   "nbconvert_exporter": "python",
   "pygments_lexer": "ipython3",
   "version": "3.7.3"
  }
 },
 "nbformat": 4,
 "nbformat_minor": 2
}
