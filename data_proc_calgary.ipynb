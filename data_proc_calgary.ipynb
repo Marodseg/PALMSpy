{
 "cells": [
  {
   "cell_type": "code",
   "execution_count": null,
   "metadata": {},
   "outputs": [],
   "source": [
    "import findspark\n",
    "findspark.init()"
   ]
  },
  {
   "cell_type": "code",
   "execution_count": null,
   "metadata": {},
   "outputs": [],
   "source": [
    "import pyspark\n",
    "from pyspark.conf import SparkConf\n",
    "from pyspark.sql import SparkSession, SQLContext, Row\n",
    "from pyspark.sql import functions as F\n",
    "from pyspark.mllib.stat import Statistics\n",
    "from datetime import datetime, timedelta\n",
    "from pyspark.sql.window import Window\n",
    "from pyspark.sql.types import TimestampType\n",
    "from pyspark.sql.types import IntegerType\n",
    "from pyspark.sql.types import StringType\n",
    "from pyspark.sql.types import FloatType\n",
    "from pyspark.sql.types import DoubleType\n",
    "from math import floor\n",
    "import time\n",
    "\n",
    "from GPSProcessing import *\n",
    "from AccProcessing import *"
   ]
  },
  {
   "cell_type": "code",
   "execution_count": null,
   "metadata": {},
   "outputs": [],
   "source": [
    "# REFERENCE: https://spark.apache.org/docs/latest/configuration.html\n",
    "\n",
    "conf = SparkConf().setAll([('spark.memory.fraction','0.8'),\n",
    "                           ('spark.executor.memory', '16g'),\n",
    "                           ('spark.driver.memory','16g'),\n",
    "                           ('spark.sql.shuffle.partitions','10'),\n",
    "                           ('spark.memory.offHeap.enabled', True),\n",
    "                           ('spark.memory.offHeap.size','16g'),\n",
    "                           ('spark.cleaner.referenceTracking.cleanCheckpoints', True)]#,\n",
    "                           #('spark.driver.cores', '4'),\n",
    "                           #('spark.executor.cores', '4'),\n",
    "                           #('spark.worker.cleanup.enabled','true'),\n",
    "                           #('spark.sql.session.timeZone', 'UTC')])\n",
    "                         )\n",
    "\n",
    "spark  = SparkSession.builder.config(conf=conf).master(\"local[*]\").appName(\"GPS+ACC\").getOrCreate()\n",
    "sc = spark.sparkContext\n",
    "sc.setLogLevel(\"ERROR\")\n",
    "sc.setCheckpointDir('checkpoints')\n",
    "sc.getConf().getAll()  # or sc._conf.getAll()"
   ]
  },
  {
   "cell_type": "code",
   "execution_count": null,
   "metadata": {},
   "outputs": [],
   "source": [
    "sc.defaultParallelism"
   ]
  },
  {
   "cell_type": "code",
   "execution_count": null,
   "metadata": {},
   "outputs": [],
   "source": [
    "sc.defaultMinPartitions"
   ]
  },
  {
   "cell_type": "code",
   "execution_count": null,
   "metadata": {},
   "outputs": [],
   "source": [
    "sc"
   ]
  },
  {
   "cell_type": "markdown",
   "metadata": {},
   "source": [
    "## PALMS output"
   ]
  },
  {
   "cell_type": "code",
   "execution_count": null,
   "metadata": {},
   "outputs": [],
   "source": [
    "palms_path = '/Users/molinaro/Documents/GITHUB/PALMS/Calgary/PALMS_output.csv'"
   ]
  },
  {
   "cell_type": "code",
   "execution_count": null,
   "metadata": {},
   "outputs": [],
   "source": [
    "palms_out = spark.read.csv(palms_path, header=True, inferSchema=True)\n",
    "palms_out.cache();"
   ]
  },
  {
   "cell_type": "code",
   "execution_count": null,
   "metadata": {},
   "outputs": [],
   "source": [
    "palms_out.filter(palms_out['identifier']=='A01').select('identifier','lat','lon','dateTime').show(20,False)"
   ]
  },
  {
   "cell_type": "code",
   "execution_count": null,
   "metadata": {},
   "outputs": [],
   "source": [
    "palms_out.filter(palms_out['identifier']=='A01').count()"
   ]
  },
  {
   "cell_type": "code",
   "execution_count": null,
   "metadata": {},
   "outputs": [],
   "source": [
    "palms_out.filter(palms_out['identifier']=='A01').printSchema()"
   ]
  },
  {
   "cell_type": "code",
   "execution_count": null,
   "metadata": {},
   "outputs": [],
   "source": [
    "date_format = '%Y-%m-%d'\n",
    "time_format = '%H:%M:%S'\n",
    "datetime_format = date_format + ' ' + time_format\n",
    "startdate = datetime.strptime('2016-08-16 18:23:25', datetime_format) "
   ]
  },
  {
   "cell_type": "code",
   "execution_count": null,
   "metadata": {},
   "outputs": [],
   "source": [
    "palms_out.filter((palms_out.identifier=='A01') & (palms_out.activity==-2))\\\n",
    ".select('identifier','lat','lon','dateTime','activity','activityIntensity','activityBoutNumber').show(29000)"
   ]
  },
  {
   "cell_type": "code",
   "execution_count": null,
   "metadata": {},
   "outputs": [],
   "source": [
    "df3.filter((F.col('activityIntensity')==-2) & (F.col('timestamp')>=startdate)).orderBy('timestamp').show(29000)"
   ]
  },
  {
   "cell_type": "code",
   "execution_count": null,
   "metadata": {},
   "outputs": [],
   "source": [
    "palms_out.filter((palms_out.identifier=='A01') & (palms_out.activityBoutNumber==7))\\\n",
    ".select('lat','lon','dateTime','activity','activityIntensity',\n",
    "        'activityBoutNumber','sedentaryBoutNumber').show(2000)"
   ]
  },
  {
   "cell_type": "code",
   "execution_count": null,
   "metadata": {},
   "outputs": [],
   "source": [
    "df3.filter((F.col('activityBoutNumber')==7) & (F.col('timestamp')>=startdate)).orderBy('timestamp').show(2000)"
   ]
  },
  {
   "cell_type": "code",
   "execution_count": null,
   "metadata": {},
   "outputs": [],
   "source": [
    "palms_out.filter((palms_out.identifier=='A01') & (palms_out.sedentaryBoutNumber == 14))\\\n",
    ".select('identifier','lat','lon','dateTime','activity',\n",
    "        'activityBoutNumber','sedentaryBoutNumber').show(20000)"
   ]
  },
  {
   "cell_type": "code",
   "execution_count": null,
   "metadata": {},
   "outputs": [],
   "source": [
    "df3.filter((F.col('sedentaryBoutNumber')==14) & (F.col('timestamp')>=startdate)).show(29000)"
   ]
  },
  {
   "cell_type": "code",
   "execution_count": null,
   "metadata": {},
   "outputs": [],
   "source": [
    "palms_out.filter((palms_out.identifier=='A01') & (palms_out.fixTypeCode==3))\\\n",
    ".select('lat','lon','dateTime','fixTypeCode','tripType','activity',\n",
    "        'activityIntensity','activityBoutNumber').show(2000)"
   ]
  },
  {
   "cell_type": "code",
   "execution_count": null,
   "metadata": {},
   "outputs": [],
   "source": [
    "palms_out.filter((palms_out.identifier=='A01') & (palms_out.fixTypeCode==4))\\\n",
    ".select('lat','lon','dateTime','fixTypeCode','tripType','activity',\n",
    "        'activityIntensity','activityBoutNumber').count()"
   ]
  },
  {
   "cell_type": "code",
   "execution_count": null,
   "metadata": {},
   "outputs": [],
   "source": [
    "gps_data.filter(F.col('fixTypeCode')==3).orderBy('timestamp').show(2000)"
   ]
  },
  {
   "cell_type": "code",
   "execution_count": null,
   "metadata": {},
   "outputs": [],
   "source": [
    "gps_data.filter(F.col('fixTypeCode')==4).orderBy('timestamp').count()"
   ]
  },
  {
   "cell_type": "code",
   "execution_count": null,
   "metadata": {},
   "outputs": [],
   "source": [
    "palms_out.filter((palms_out.identifier=='A01') )\\\n",
    ".select('lat','lon','dateTime','fixTypeCode','tripType','activity',\n",
    "        'activityIntensity','activityBoutNumber').show(20000,False)"
   ]
  },
  {
   "cell_type": "code",
   "execution_count": null,
   "metadata": {},
   "outputs": [],
   "source": [
    "palms_out.select('lat','lon','dateTime','fixTypeCode','tripType','activity',\n",
    "        'activityIntensity','activityBoutNumber').show(20000,False)"
   ]
  },
  {
   "cell_type": "code",
   "execution_count": null,
   "metadata": {},
   "outputs": [],
   "source": [
    "gps_data.show(20000,False)"
   ]
  },
  {
   "cell_type": "code",
   "execution_count": null,
   "metadata": {},
   "outputs": [],
   "source": [
    "palms_out.filter((palms_out.identifier=='A01') & (palms_out.tripType==1))\\\n",
    ".select('lat','lon','dateTime','fixTypeCode','tripType','activity',\n",
    "        'activityIntensity','activityBoutNumber').show(2000)"
   ]
  },
  {
   "cell_type": "code",
   "execution_count": null,
   "metadata": {},
   "outputs": [],
   "source": [
    "df.drop(*['height','speed','heading','dow','lat','lon'])\\\n",
    ".filter((F.col('tripType')==4)).show(2000)"
   ]
  },
  {
   "cell_type": "code",
   "execution_count": null,
   "metadata": {},
   "outputs": [],
   "source": [
    "df.filter(F.col('tripType')==1).show(2000)"
   ]
  },
  {
   "cell_type": "code",
   "execution_count": null,
   "metadata": {},
   "outputs": [],
   "source": [
    "spark.catalog.clearCache()"
   ]
  },
  {
   "cell_type": "code",
   "execution_count": null,
   "metadata": {},
   "outputs": [],
   "source": []
  },
  {
   "cell_type": "code",
   "execution_count": null,
   "metadata": {},
   "outputs": [],
   "source": [
    "palms_out.filter((palms_out.identifier=='A02') & (palms_out.fixTypeCode==5))\\\n",
    ".select('lat','lon','dateTime','fixTypeCode','tripType','activity',\n",
    "        'activityIntensity','activityBoutNumber').count()"
   ]
  },
  {
   "cell_type": "code",
   "execution_count": null,
   "metadata": {},
   "outputs": [],
   "source": [
    "palms_out.filter((palms_out.identifier=='A02') & (palms_out.fixTypeCode==3))\\\n",
    ".select('lat','lon','dateTime','fixTypeCode','tripType','activity',\n",
    "        'activityIntensity','activityBoutNumber').count()"
   ]
  },
  {
   "cell_type": "code",
   "execution_count": null,
   "metadata": {},
   "outputs": [],
   "source": [
    "palms_out.filter((palms_out.identifier=='A02') & (palms_out.fixTypeCode==2))\\\n",
    ".select('lat','lon','dateTime','fixTypeCode','tripType','activity',\n",
    "        'activityIntensity','activityBoutNumber').count()"
   ]
  },
  {
   "cell_type": "code",
   "execution_count": null,
   "metadata": {},
   "outputs": [],
   "source": [
    "palms_out.filter((palms_out.identifier=='A02') & (palms_out.fixTypeCode==1))\\\n",
    ".select('lat','lon','dateTime','fixTypeCode','tripType','activity',\n",
    "        'activityIntensity','activityBoutNumber').count()"
   ]
  },
  {
   "cell_type": "code",
   "execution_count": null,
   "metadata": {},
   "outputs": [],
   "source": [
    "palms_out.filter((palms_out.identifier=='A02') & (palms_out.fixTypeCode==4))\\\n",
    ".select('lat','lon','dateTime','fixTypeCode','tripType','activity',\n",
    "        'activityIntensity','activityBoutNumber').count()"
   ]
  },
  {
   "cell_type": "code",
   "execution_count": null,
   "metadata": {},
   "outputs": [],
   "source": [
    "palms_out.filter((palms_out.identifier=='A02') & (palms_out.fixTypeCode==6))\\\n",
    ".select('lat','lon','dateTime','fixTypeCode','tripType','activity',\n",
    "        'activityIntensity','activityBoutNumber').count()"
   ]
  },
  {
   "cell_type": "code",
   "execution_count": null,
   "metadata": {},
   "outputs": [],
   "source": [
    "palms_out.filter((palms_out.identifier=='A01')).count()"
   ]
  },
  {
   "cell_type": "markdown",
   "metadata": {},
   "source": [
    "## GPS data processing"
   ]
  },
  {
   "cell_type": "code",
   "execution_count": null,
   "metadata": {},
   "outputs": [],
   "source": [
    "gps_path_raw = '/Users/molinaro/Documents/GITHUB/PALMS/data/raw/Calgary/gps/A02.csv'"
   ]
  },
  {
   "cell_type": "code",
   "execution_count": null,
   "metadata": {},
   "outputs": [],
   "source": [
    "gps_path_raw = '/Users/molinaro/Documents/GITHUB/PALMS/data/PARC_data/NYC/GPS/2001.csv'"
   ]
  },
  {
   "cell_type": "code",
   "execution_count": null,
   "metadata": {},
   "outputs": [],
   "source": [
    "rdd = sc.textFile(gps_path_raw, 4)\n",
    "gps_data_raw = spark.read.csv(rdd)\n",
    "gps_data_raw.take(10)"
   ]
  },
  {
   "cell_type": "code",
   "execution_count": null,
   "metadata": {},
   "outputs": [],
   "source": [
    "#gps_path_raw = '/Users/molinaro/Documents/GITHUB/PALMS/data/raw/Barcelona_youth/gps/G01FWS6.csv'"
   ]
  },
  {
   "cell_type": "code",
   "execution_count": null,
   "metadata": {},
   "outputs": [],
   "source": [
    "gps_data_raw = spark.read.csv(gps_path_raw, header=True, inferSchema=True)"
   ]
  },
  {
   "cell_type": "code",
   "execution_count": null,
   "metadata": {},
   "outputs": [],
   "source": [
    "date_format = 'yyyy/MM/dd'\n",
    "time_format = 'HH:mm:ss'\n",
    "datetime_format = date_format + ' ' + time_format\n",
    "\n",
    "gps_data = gen_gps_dataframe(gps_data_raw, datetime_format,'A01')\n",
    "gps_data.cache()"
   ]
  },
  {
   "cell_type": "code",
   "execution_count": null,
   "metadata": {},
   "outputs": [],
   "source": [
    "gps_data.show(20,False)"
   ]
  },
  {
   "cell_type": "code",
   "execution_count": null,
   "metadata": {},
   "outputs": [],
   "source": [
    "date_format = '%Y-%m-%d'\n",
    "time_format = '%H:%M:%S'\n",
    "datetime_format = date_format + ' ' + time_format\n",
    "startdate = datetime.strptime('2016-06-29 13:00:00', datetime_format) \n",
    "gps_data.filter((F.col('timestamp')>=startdate)).show(20000,False)"
   ]
  },
  {
   "cell_type": "code",
   "execution_count": null,
   "metadata": {},
   "outputs": [],
   "source": [
    "gps_data.filter((F.col('timestamp')>=startdate)).show(20000,False)"
   ]
  },
  {
   "cell_type": "code",
   "execution_count": null,
   "metadata": {},
   "outputs": [],
   "source": [
    "gps_data.filter(F.col('fixTypeCode') == 1).count()"
   ]
  },
  {
   "cell_type": "code",
   "execution_count": null,
   "metadata": {},
   "outputs": [],
   "source": [
    "gps_data.filter(F.col('fixTypeCode') == 2).count()"
   ]
  },
  {
   "cell_type": "code",
   "execution_count": null,
   "metadata": {},
   "outputs": [],
   "source": [
    "gps_data.filter(F.col('fixTypeCode') == 3).count()"
   ]
  },
  {
   "cell_type": "code",
   "execution_count": null,
   "metadata": {},
   "outputs": [],
   "source": [
    "gps_data.filter(F.col('fixTypeCode') == 4).count()"
   ]
  },
  {
   "cell_type": "code",
   "execution_count": null,
   "metadata": {},
   "outputs": [],
   "source": [
    "gps_data.filter(F.col('fixTypeCode') == 6).count()"
   ]
  },
  {
   "cell_type": "code",
   "execution_count": null,
   "metadata": {},
   "outputs": [],
   "source": [
    "gps_data.filter(F.col('fixTypeCode') == -1).count()"
   ]
  },
  {
   "cell_type": "code",
   "execution_count": null,
   "metadata": {
    "scrolled": true
   },
   "outputs": [],
   "source": [
    "list1 = gps_data.filter(F.col('fixTypeCode') == 6).select('timestamp').collect()"
   ]
  },
  {
   "cell_type": "code",
   "execution_count": null,
   "metadata": {
    "scrolled": true
   },
   "outputs": [],
   "source": [
    "list2 = palms_out.filter((palms_out.identifier=='A02') & (palms_out.fixTypeCode==6))\\\n",
    ".select('dateTime').collect()"
   ]
  },
  {
   "cell_type": "code",
   "execution_count": null,
   "metadata": {},
   "outputs": [],
   "source": [
    "def Diff(li1, li2): \n",
    "    li_dif = [i for i in li1 + li2 if i not in li2] #or i not in li2] \n",
    "    return li_dif \n",
    "Diff(list1,list2)"
   ]
  },
  {
   "cell_type": "code",
   "execution_count": null,
   "metadata": {},
   "outputs": [],
   "source": [
    "gps_data.printSchema()"
   ]
  },
  {
   "cell_type": "code",
   "execution_count": null,
   "metadata": {},
   "outputs": [],
   "source": [
    "gps_data.count()"
   ]
  },
  {
   "cell_type": "code",
   "execution_count": null,
   "metadata": {},
   "outputs": [],
   "source": [
    "# Round seconds in timestamps according to the interval\n",
    "\n",
    "interval = 5 # seconds\n",
    "ts_name = 'timestamp'\n",
    "ws = 600 # seconds\n",
    "\n",
    "print(\"====> align timestamps...\")\n",
    "start_time = time.time()\n",
    "gps_data = round_timestamp(gps_data, ts_name, interval).cache()\n",
    "gps_data.count()\n",
    "elapsed_time = time.time() - start_time\n",
    "print(\"      time elapsed: {}\".format(time.strftime(\"%H:%M:%S\", time.gmtime(elapsed_time))))"
   ]
  },
  {
   "cell_type": "code",
   "execution_count": null,
   "metadata": {},
   "outputs": [],
   "source": [
    "# Set fix type\n",
    "\n",
    "ts_name = 'timestamp'\n",
    "ws=600\n",
    "print(\"====> set fix type...\")\n",
    "start_time = time.time()\n",
    "gps_data = set_fix_type(gps_data, ts_name, ws).cache()\n",
    "gps_data.count()\n",
    "elapsed_time = time.time() - start_time\n",
    "print(\"      time elapsed: {}\".format(time.strftime(\"%H:%M:%S\", time.gmtime(elapsed_time))))"
   ]
  },
  {
   "cell_type": "code",
   "execution_count": null,
   "metadata": {},
   "outputs": [],
   "source": [
    "# Apply filter on the velocity\n",
    "\n",
    "vmax = 130 # km/h\n",
    "\n",
    "print(\"====> apply velocity filter...\")\n",
    "start_time = time.time()\n",
    "gps_data = filter_speed(gps_data, 'speed', vmax).cache()\n",
    "gps_data.count()\n",
    "elapsed_time = time.time() - start_time\n",
    "print(\"      time elapsed: {}\".format(time.strftime(\"%H:%M:%S\", time.gmtime(elapsed_time))))"
   ]
  },
  {
   "cell_type": "code",
   "execution_count": null,
   "metadata": {},
   "outputs": [],
   "source": [
    "# Apply filter over max acceleration\n",
    "                                             \n",
    "scol = 'speed'\n",
    "tscol = 'timestamp'\n",
    "\n",
    "print(\"====> apply accelaration filter...\")\n",
    "start_time = time.time()\n",
    "gps_data = filter_acceleration(gps_data, scol, tscol).cache()\n",
    "gps_data.count()\n",
    "elapsed_time = time.time() - start_time\n",
    "print(\"      time elapsed: {}\".format(time.strftime(\"%H:%M:%S\", time.gmtime(elapsed_time))))"
   ]
  },
  {
   "cell_type": "code",
   "execution_count": null,
   "metadata": {},
   "outputs": [],
   "source": [
    "# Apply filter on the height variation\n",
    "\n",
    "dhmax=1000\n",
    "print(\"====> apply height variation filter...\")\n",
    "start_time = time.time()\n",
    "gps_data = filter_height(gps_data, 'height', 'timestamp', dhmax).cache()\n",
    "gps_data.count()\n",
    "elapsed_time = time.time() - start_time\n",
    "print(\"      time elapsed: {}\".format(time.strftime(\"%H:%M:%S\", time.gmtime(elapsed_time))))"
   ]
  },
  {
   "cell_type": "code",
   "execution_count": null,
   "metadata": {},
   "outputs": [],
   "source": [
    "gps_data.count()"
   ]
  },
  {
   "cell_type": "code",
   "execution_count": null,
   "metadata": {},
   "outputs": [],
   "source": [
    "# Apply filter over three fixes (it also recalculates distance column)\n",
    "\n",
    "dcol = 'distance'\n",
    "tscol = 'timestamp'\n",
    "dmin = 10\n",
    "\n",
    "print(\"====> apply three fixes filter...\")\n",
    "start_time = time.time()\n",
    "gps_data = filter_change_dist_3_fixes(gps_data, dcol, tscol, dmin).cache()\n",
    "gps_data.count()\n",
    "elapsed_time = time.time() - start_time\n",
    "print(\"      time elapsed: {}\".format(time.strftime(\"%H:%M:%S\", time.gmtime(elapsed_time))))"
   ]
  },
  {
   "cell_type": "code",
   "execution_count": null,
   "metadata": {},
   "outputs": [],
   "source": [
    "gps_data.count()"
   ]
  },
  {
   "cell_type": "code",
   "execution_count": null,
   "metadata": {},
   "outputs": [],
   "source": [
    "# Generate missing values up to maximum signal loss\n",
    "\n",
    "print(\"====> fill in missing value...\")\n",
    "start_time = time.time()\n",
    "gps_data = fill_timestamp(gps_data, 'timestamp', 'distance', 'fixTypeCode', interval, ws).cache()\n",
    "gps_data.count()\n",
    "elapsed_time = time.time() - start_time\n",
    "print(\"      time elapsed: {}\".format(time.strftime(\"%H:%M:%S\", time.gmtime(elapsed_time))))"
   ]
  },
  {
   "cell_type": "code",
   "execution_count": null,
   "metadata": {},
   "outputs": [],
   "source": [
    "gps_data.show(20,False)"
   ]
  },
  {
   "cell_type": "code",
   "execution_count": null,
   "metadata": {},
   "outputs": [],
   "source": [
    "gps_data.printSchema()"
   ]
  },
  {
   "cell_type": "code",
   "execution_count": null,
   "metadata": {},
   "outputs": [],
   "source": [
    "# Filter timestamps over given interval\n",
    "INTERVAL = 5\n",
    "ts_name = 'timestamp'\n",
    "print(\"====> filter GPS data every {} seconds...\".format(str(INTERVAL)))\n",
    "start_time = time.time()\n",
    "gps_data = select_gps_intervals(gps_data, ts_name, INTERVAL)\n",
    "elapsed_time = time.time() - start_time\n",
    "print(\"      time elapsed: {}\".format(time.strftime(\"%H:%M:%S\", time.gmtime(elapsed_time))))"
   ]
  },
  {
   "cell_type": "code",
   "execution_count": null,
   "metadata": {},
   "outputs": [],
   "source": [
    "gps_data = gps_data.limit(10000)"
   ]
  },
  {
   "cell_type": "code",
   "execution_count": null,
   "metadata": {},
   "outputs": [],
   "source": [
    "gps_data = gps_data.limit(100)"
   ]
  },
  {
   "cell_type": "code",
   "execution_count": null,
   "metadata": {},
   "outputs": [],
   "source": [
    "gps_data.printSchema()"
   ]
  },
  {
   "cell_type": "code",
   "execution_count": null,
   "metadata": {},
   "outputs": [],
   "source": [
    "%%time\n",
    "\n",
    "vmax = 130 # km/h\n",
    "max_dist_per_min = vmax * 1000/60 # meters\n",
    "min_dist_per_min = 25 # meters\n",
    "min_pause_duration = 120 # second\n",
    "max_pause_time = 180 # seconds\n",
    "\n",
    "ts_name = 'timestamp'\n",
    "dist_name = 'distance'\n",
    "speed_name = 'speed'\n",
    "fix_type_name = 'fixTypeCode'\n",
    "\n",
    "\n",
    "###TEST#PARAMETERS###\n",
    "#min_dist_per_min = 5 # meters\n",
    "#min_pause_duration = 12 # second\n",
    "#max_pause_time = 36 # seconds\n",
    "####################\n",
    "\n",
    "print(\"====> detect trips...\")\n",
    "start_time = time.time()\n",
    "gps_data2 = detect_trips(gps_data, ts_name, dist_name, speed_name, fix_type_name, min_dist_per_min, \n",
    "                 min_pause_duration, max_pause_time, vmax).cache()\n",
    "gps_data2.count()\n",
    "elapsed_time = time.time() - start_time\n",
    "print(\"      time elapsed: {}\".format(time.strftime(\"%H:%M:%S\", time.gmtime(elapsed_time))))"
   ]
  },
  {
   "cell_type": "code",
   "execution_count": null,
   "metadata": {},
   "outputs": [],
   "source": [
    "vmax = 130 # km/h\n",
    "max_dist_per_min = vmax * 1000/60 # meters\n",
    "min_dist_per_min = 25 # meters\n",
    "min_pause_duration = 120 # second\n",
    "max_pause_time = 180 # seconds\n",
    "\n",
    "ts_name = 'timestamp'\n",
    "dist_name = 'distance'\n",
    "speed_name = 'speed'\n",
    "fix_type_name = 'fixTypeCode'\n",
    "\n",
    "detect_trips(gps_data, ts_name, dist_name, speed_name, fix_type_name, min_dist_per_min, \n",
    "                 min_pause_duration, max_pause_time, vmax).printSchema()"
   ]
  },
  {
   "cell_type": "code",
   "execution_count": null,
   "metadata": {},
   "outputs": [],
   "source": [
    "min_pause_duration"
   ]
  },
  {
   "cell_type": "code",
   "execution_count": null,
   "metadata": {},
   "outputs": [],
   "source": [
    "gps_data2.printSchema()"
   ]
  },
  {
   "cell_type": "code",
   "execution_count": null,
   "metadata": {},
   "outputs": [],
   "source": [
    "gps_data.drop(*['lat','lon','dow','distance',\n",
    "         'cum_pause','total_sec','height','speed','heading']).show(40000, False)\n",
    "#.filter(F.col('tripType')==4)\n",
    "gps_data.persist()"
   ]
  },
  {
   "cell_type": "code",
   "execution_count": null,
   "metadata": {},
   "outputs": [],
   "source": [
    "#df.write.csv('partial.csv')\n",
    "#gps_data.coalesce(1).write.format('com.databricks.spark.csv').save('partial.csv',header = 'true')\n",
    "gps_data.coalesce(1).write.option(\"header\",True).option(\"inferSchema\",\"true\").option(\"timestampFormat\", \"yyyy-MM-dd HH:mm:ss\").csv(\"mydata.csv\")"
   ]
  },
  {
   "cell_type": "code",
   "execution_count": null,
   "metadata": {},
   "outputs": [],
   "source": [
    "gps_data.printSchema()"
   ]
  },
  {
   "cell_type": "code",
   "execution_count": null,
   "metadata": {},
   "outputs": [],
   "source": [
    "gps_data_path = '/Users/molinaro/Documents/GITHUB/PALMS/partial/partial.csv'\n",
    "gps_data = spark.read.csv(gps_data_path, header=True, inferSchema=True)\n",
    "#gps_data = gps_data.limit(40000)\n",
    "print(gps_data.printSchema())"
   ]
  },
  {
   "cell_type": "code",
   "execution_count": null,
   "metadata": {},
   "outputs": [],
   "source": [
    "%%time\n",
    "\n",
    "vehicle_speed_cutoff = 35 # km/h\n",
    "bicycle_speed_cutoff = 10 # km/h \n",
    "walk_speed_cutoff = 1 # km/h\n",
    "speed_percentile = 90\n",
    "speed_segment_length = 30 # m\n",
    "min_trip_length = 100 # m\n",
    "min_trip_duration = 180 # sec\n",
    "\n",
    "ts_name = 'timestamp'\n",
    "dist_name = 'distance'\n",
    "speed_name = 'speed'\n",
    "\n",
    "print(\"====> classify trips...\")\n",
    "start_time = time.time()\n",
    "gps_data = classify_trips(gps_data, ts_name, dist_name, speed_name, \n",
    "                         vehicle_speed_cutoff, bicycle_speed_cutoff, walk_speed_cutoff, \n",
    "                         min_trip_length, min_trip_duration, speed_segment_length, speed_percentile).cache()\n",
    "gps_data.count()\n",
    "elapsed_time = time.time() - start_time\n",
    "print(\"      time elapsed: {}\".format(time.strftime(\"%H:%M:%S\", time.gmtime(elapsed_time))))"
   ]
  },
  {
   "cell_type": "code",
   "execution_count": null,
   "metadata": {},
   "outputs": [],
   "source": [
    "gps_data.drop(*['lat','lon','dow','distance','speed2','fixTypeCode','cum_pause','duration']).show(20000, False)\n",
    "gps_data.persist()"
   ]
  },
  {
   "cell_type": "code",
   "execution_count": null,
   "metadata": {},
   "outputs": [],
   "source": [
    "gps_data.coalesce(1).write.option(\"header\",True).option(\"inferSchema\",\"true\").option(\"timestampFormat\", \"yyyy-MM-dd HH:mm:ss\").csv(\"gps_data.csv\")\n",
    "\n"
   ]
  },
  {
   "cell_type": "code",
   "execution_count": null,
   "metadata": {},
   "outputs": [],
   "source": [
    "gps_data.printSchema()"
   ]
  },
  {
   "cell_type": "code",
   "execution_count": null,
   "metadata": {},
   "outputs": [],
   "source": [
    "gps_data.count()"
   ]
  },
  {
   "cell_type": "code",
   "execution_count": null,
   "metadata": {},
   "outputs": [],
   "source": [
    "gps_data_path = '/Users/molinaro/Documents/GITHUB/PALMS/gps_data.csv/gps_data.csv'\n",
    "gps_data = spark.read.csv(gps_data_path, header=True, inferSchema=True)\n",
    "#gps_data = gps_data.limit(40000)\n",
    "print(gps_data.printSchema())"
   ]
  },
  {
   "cell_type": "markdown",
   "metadata": {},
   "source": [
    "### Process GPS data in Calgary/gps/A01r.csv"
   ]
  },
  {
   "cell_type": "code",
   "execution_count": null,
   "metadata": {},
   "outputs": [],
   "source": [
    "# segment 108"
   ]
  },
  {
   "cell_type": "code",
   "execution_count": null,
   "metadata": {},
   "outputs": [],
   "source": [
    "df.drop(*['lat','lon','dow','distance','fixTypeCode',\n",
    "         'cum_pause','total_sec','height','speed','heading','state_cp','tripType_cp','i1','i2','j4']).show(20000, False)"
   ]
  },
  {
   "cell_type": "code",
   "execution_count": null,
   "metadata": {},
   "outputs": [],
   "source": [
    "df2 = proc_segment(df, 'i3', ts_name, min_dist_per_min, min_pause_duration, max_pause_time, 0, 0, \"CASE3\")\n",
    "df2.drop(*['lat','lon','dow','distance','fixTypeCode',\n",
    "         'cum_pause','total_sec','height','speed','heading','state_cp','tripType_cp','i1','i2','j4']).show(20000, False)"
   ]
  },
  {
   "cell_type": "code",
   "execution_count": null,
   "metadata": {},
   "outputs": [],
   "source": []
  },
  {
   "cell_type": "code",
   "execution_count": null,
   "metadata": {},
   "outputs": [],
   "source": [
    "# segment 64"
   ]
  },
  {
   "cell_type": "code",
   "execution_count": null,
   "metadata": {},
   "outputs": [],
   "source": [
    "df = set_pause(df, 'i1', ts_name).checkpoint()\n",
    "df = check_case(df, 'i1', ts_name, min_dist_per_min, min_pause_duration, max_pause_time).checkpoint()\n",
    "df.drop(*['lat','lon','dow','distance','fixTypeCode',\n",
    "         'cum_pause','total_sec','height','speed','heading','state_cp','tripType_cp','i3','i2','j4']).show(20000, False)"
   ]
  },
  {
   "cell_type": "code",
   "execution_count": null,
   "metadata": {},
   "outputs": [],
   "source": [
    "df = proc_segment(df, 'j1', ts_name, min_dist_per_min, min_pause_duration, max_pause_time, 3, 2, \"CASE1\").checkpoint()\n",
    "df.drop(*['lat','lon','dow','distance','fixTypeCode',\n",
    "         'cum_pause','total_sec','height','speed','heading','state_cp','tripType_cp','i2','i3','j4']).show(20000, False)"
   ]
  },
  {
   "cell_type": "code",
   "execution_count": null,
   "metadata": {},
   "outputs": [],
   "source": [
    "df = set_pause(df, 'i1', ts_name).checkpoint()\n",
    "df = check_case(df, 'i1', ts_name, min_dist_per_min, min_pause_duration, max_pause_time).checkpoint()\n",
    "df.drop(*['lat','lon','dow','distance','fixTypeCode',\n",
    "         'cum_pause','total_sec','height','speed','heading','state_cp','tripType_cp','i3','i2','j4']).show(20000, False)"
   ]
  },
  {
   "cell_type": "code",
   "execution_count": null,
   "metadata": {},
   "outputs": [],
   "source": [
    "df = proc_segment(df, 'j1', ts_name, min_dist_per_min, min_pause_duration, max_pause_time, 3, 2, \"CASE1\").checkpoint()\n",
    "df.drop(*['lat','lon','dow','distance','fixTypeCode',\n",
    "         'cum_pause','total_sec','height','speed','heading','state_cp','tripType_cp','i2','i3','j4']).show(20000, False)"
   ]
  },
  {
   "cell_type": "code",
   "execution_count": null,
   "metadata": {},
   "outputs": [],
   "source": [
    "df = set_pause(df, 'i1', ts_name).checkpoint()\n",
    "df = check_case(df, 'i1', ts_name, min_dist_per_min, min_pause_duration, max_pause_time).checkpoint()\n",
    "df.drop(*['lat','lon','dow','distance','fixTypeCode',\n",
    "         'cum_pause','total_sec','height','speed','heading','state_cp','tripType_cp','i3','i2','j4']).show(20000, False)"
   ]
  },
  {
   "cell_type": "code",
   "execution_count": null,
   "metadata": {},
   "outputs": [],
   "source": [
    "df = proc_segment(df, 'j1', ts_name, min_dist_per_min, min_pause_duration, max_pause_time, 3, 2, \"CASE1\").checkpoint()\n",
    "df.drop(*['lat','lon','dow','distance','fixTypeCode',\n",
    "         'cum_pause','total_sec','height','speed','heading','state_cp','tripType_cp','i2','i3','j4']).show(20000, False)"
   ]
  },
  {
   "cell_type": "code",
   "execution_count": null,
   "metadata": {},
   "outputs": [],
   "source": [
    "df = set_pause(df, 'i1', ts_name).checkpoint()\n",
    "df = check_case(df, 'i1', ts_name, min_dist_per_min, min_pause_duration, max_pause_time).checkpoint()\n",
    "df.drop(*['lat','lon','dow','distance','fixTypeCode',\n",
    "         'cum_pause','total_sec','height','speed','heading','state_cp','tripType_cp','i3','i2','j4']).show(20000, False)"
   ]
  },
  {
   "cell_type": "code",
   "execution_count": null,
   "metadata": {},
   "outputs": [],
   "source": [
    "df = proc_segment(df, 'j1', ts_name, min_dist_per_min, min_pause_duration, max_pause_time, 3, 2, \"CASE1\").checkpoint()\n",
    "df.drop(*['lat','lon','dow','distance','fixTypeCode',\n",
    "         'cum_pause','total_sec','height','speed','heading','state_cp','tripType_cp','i2','i3','j4']).show(20000, False)"
   ]
  },
  {
   "cell_type": "code",
   "execution_count": null,
   "metadata": {},
   "outputs": [],
   "source": [
    "df = set_pause(df, 'i1', ts_name).checkpoint()\n",
    "df = check_case(df, 'i1', ts_name, min_dist_per_min, min_pause_duration, max_pause_time).checkpoint()\n",
    "df.drop(*['lat','lon','dow','distance','fixTypeCode',\n",
    "         'cum_pause','total_sec','height','speed','heading','state_cp','tripType_cp','i3','i2','j4']).show(20000, False)"
   ]
  },
  {
   "cell_type": "code",
   "execution_count": null,
   "metadata": {},
   "outputs": [],
   "source": [
    "df = proc_segment(df, 'j1', ts_name, min_dist_per_min, min_pause_duration, max_pause_time, 3, 2, \"CASE1\").checkpoint()\n",
    "df.drop(*['lat','lon','dow','distance','fixTypeCode',\n",
    "         'cum_pause','total_sec','height','speed','heading','state_cp','tripType_cp','i2','i3','j4']).show(20000, False)"
   ]
  },
  {
   "cell_type": "code",
   "execution_count": null,
   "metadata": {},
   "outputs": [],
   "source": [
    "df = set_pause(df, 'i1', ts_name).checkpoint()\n",
    "df = check_case(df, 'i1', ts_name, min_dist_per_min, min_pause_duration, max_pause_time).checkpoint()\n",
    "df.drop(*['lat','lon','dow','distance','fixTypeCode',\n",
    "         'cum_pause','total_sec','height','speed','heading','state_cp','tripType_cp','i3','i2','j4']).show(20000, False)"
   ]
  },
  {
   "cell_type": "code",
   "execution_count": null,
   "metadata": {},
   "outputs": [],
   "source": [
    "df = proc_segment(df, 'j1', ts_name, min_dist_per_min, min_pause_duration, max_pause_time, 3, 2, \"CASE1\").checkpoint()\n",
    "df.drop(*['lat','lon','dow','distance','fixTypeCode',\n",
    "         'cum_pause','total_sec','height','speed','heading','state_cp','tripType_cp','i2','i3','j4']).show(20000, False)"
   ]
  },
  {
   "cell_type": "code",
   "execution_count": null,
   "metadata": {},
   "outputs": [],
   "source": [
    "df = set_pause(df, 'i1', ts_name).checkpoint()\n",
    "df = check_case(df, 'i1', ts_name, min_dist_per_min, min_pause_duration, max_pause_time).checkpoint()\n",
    "df.drop(*['lat','lon','dow','distance','fixTypeCode',\n",
    "         'cum_pause','total_sec','height','speed','heading','state_cp','tripType_cp','i3','i2','j4']).show(20000, False)"
   ]
  },
  {
   "cell_type": "code",
   "execution_count": null,
   "metadata": {},
   "outputs": [],
   "source": [
    "df = proc_segment(df, 'j1', ts_name, min_dist_per_min, min_pause_duration, max_pause_time, 3, 2, \"CASE1\").checkpoint()\n",
    "df.drop(*['lat','lon','dow','distance','fixTypeCode',\n",
    "         'cum_pause','total_sec','height','speed','heading','state_cp','tripType_cp','i2','i3','j4']).show(20000, False)"
   ]
  },
  {
   "cell_type": "code",
   "execution_count": null,
   "metadata": {},
   "outputs": [],
   "source": [
    "df = set_pause(df, 'i1', ts_name).checkpoint()\n",
    "df = check_case(df, 'i1', ts_name, min_dist_per_min, min_pause_duration, max_pause_time).checkpoint()\n",
    "df.drop(*['lat','lon','dow','distance','fixTypeCode',\n",
    "         'cum_pause','total_sec','height','speed','heading','state_cp','tripType_cp','i3','i2','j4']).show(20000, False)"
   ]
  },
  {
   "cell_type": "code",
   "execution_count": null,
   "metadata": {},
   "outputs": [],
   "source": [
    "df = proc_segment(df, 'j1', ts_name, min_dist_per_min, min_pause_duration, max_pause_time, 3, 2, \"CASE1\").checkpoint()\n",
    "df.drop(*['lat','lon','dow','distance','fixTypeCode',\n",
    "         'cum_pause','total_sec','height','speed','heading','state_cp','tripType_cp','i2','i3','j4']).show(20000, False)"
   ]
  },
  {
   "cell_type": "code",
   "execution_count": null,
   "metadata": {},
   "outputs": [],
   "source": [
    "df = set_pause(df, 'i1', ts_name).checkpoint()\n",
    "df = check_case(df, 'i1', ts_name, min_dist_per_min, min_pause_duration, max_pause_time).checkpoint()\n",
    "df.drop(*['lat','lon','dow','distance','fixTypeCode',\n",
    "         'cum_pause','total_sec','height','speed','heading','state_cp','tripType_cp','i3','i2','j4']).show(20000, False)"
   ]
  },
  {
   "cell_type": "code",
   "execution_count": null,
   "metadata": {},
   "outputs": [],
   "source": [
    "df2 = proc_segment(df, 'j4', ts_name, min_dist_per_min, min_pause_duration, max_pause_time, 0, 0, \"CASE4\").checkpoint()\n",
    "df2.drop(*['lat','lon','dow','distance','fixTypeCode',\n",
    "         'cum_pause','total_sec','height','speed','heading','state_cp','tripType_cp','i2','i3','j3']).show(20000, False)"
   ]
  },
  {
   "cell_type": "code",
   "execution_count": null,
   "metadata": {},
   "outputs": [],
   "source": [
    "df2 = set_pause(df2, 'i1', ts_name).checkpoint()\n",
    "df2 = check_case(df2, 'i1', ts_name, min_dist_per_min, min_pause_duration, max_pause_time).checkpoint()\n",
    "df2.drop(*['lat','lon','dow','distance','fixTypeCode',\n",
    "         'cum_pause','total_sec','height','speed','heading','state_cp','tripType_cp','i3','i2','j4']).show(20000, False)"
   ]
  },
  {
   "cell_type": "code",
   "execution_count": null,
   "metadata": {},
   "outputs": [],
   "source": [
    "df2 = proc_segment(df2, 'j2', ts_name, min_dist_per_min, min_pause_duration, max_pause_time, 3, 3, \"CASE2\").checkpoint()\n",
    "df2.drop(*['lat','lon','dow','distance','fixTypeCode',\n",
    "         'cum_pause','total_sec','height','speed','heading','state_cp','tripType_cp','i2','i3','j4']).show(20000, False)"
   ]
  },
  {
   "cell_type": "code",
   "execution_count": null,
   "metadata": {},
   "outputs": [],
   "source": [
    "df2 = set_pause(df2, 'i1', ts_name).checkpoint()\n",
    "df2 = check_case(df2, 'i1', ts_name, min_dist_per_min, min_pause_duration, max_pause_time).checkpoint()\n",
    "df2.drop(*['lat','lon','dow','distance','fixTypeCode',\n",
    "         'cum_pause','total_sec','height','speed','heading','state_cp','tripType_cp','i3','i2','j4']).show(20000, False)"
   ]
  },
  {
   "cell_type": "code",
   "execution_count": null,
   "metadata": {},
   "outputs": [],
   "source": [
    "df2 = proc_segment(df2, 'j1', ts_name, min_dist_per_min, min_pause_duration, max_pause_time, 3, 2, \"CASE1\").checkpoint()\n",
    "df2.drop(*['lat','lon','dow','distance','fixTypeCode',\n",
    "         'cum_pause','total_sec','height','speed','heading','state_cp','tripType_cp','i2','i3','j4']).show(20000, False)"
   ]
  },
  {
   "cell_type": "code",
   "execution_count": null,
   "metadata": {},
   "outputs": [],
   "source": [
    "df2 = set_pause(df2, 'i1', ts_name).checkpoint()\n",
    "df2 = check_case(df2, 'i1', ts_name, min_dist_per_min, min_pause_duration, max_pause_time).checkpoint()\n",
    "df2.drop(*['lat','lon','dow','distance','fixTypeCode',\n",
    "         'cum_pause','total_sec','height','speed','heading','state_cp','tripType_cp','i3','i2','j4']).show(20000, False)"
   ]
  },
  {
   "cell_type": "code",
   "execution_count": null,
   "metadata": {},
   "outputs": [],
   "source": [
    "df3 = proc_segment(df2, 'j3', ts_name, min_dist_per_min, min_pause_duration, max_pause_time, 0, 0, \"CASE3\").checkpoint()\n",
    "df3.drop(*['lat','lon','dow','distance','fixTypeCode',\n",
    "         'cum_pause','total_sec','height','speed','heading','state_cp','tripType_cp','i2','i3','j4']).show(20000, False)"
   ]
  },
  {
   "cell_type": "code",
   "execution_count": null,
   "metadata": {},
   "outputs": [],
   "source": [
    "df3 = set_pause(df3, 'i1', ts_name).checkpoint()\n",
    "df3 = check_case(df3, 'i1', ts_name, min_dist_per_min, min_pause_duration, max_pause_time).checkpoint()\n",
    "df3.drop(*['lat','lon','dow','distance','fixTypeCode',\n",
    "         'cum_pause','total_sec','height','speed','heading','state_cp','tripType_cp','i3','i2','j4']).show(20000, False)"
   ]
  },
  {
   "cell_type": "code",
   "execution_count": null,
   "metadata": {},
   "outputs": [],
   "source": [
    "df3 = proc_segment(df3, 'j1', ts_name, min_dist_per_min, min_pause_duration, max_pause_time, 3, 2, \"CASE1\").checkpoint()\n",
    "df3.drop(*['lat','lon','dow','distance','fixTypeCode',\n",
    "         'cum_pause','total_sec','height','speed','heading','state_cp','tripType_cp','i2','i3','j4']).show(20000, False)"
   ]
  },
  {
   "cell_type": "code",
   "execution_count": null,
   "metadata": {},
   "outputs": [],
   "source": [
    "df3 = set_pause(df3, 'i1', ts_name).checkpoint()\n",
    "df3 = check_case(df3, 'i1', ts_name, min_dist_per_min, min_pause_duration, max_pause_time).checkpoint()\n",
    "df3.drop(*['lat','lon','dow','distance','fixTypeCode',\n",
    "         'cum_pause','total_sec','height','speed','heading','state_cp','tripType_cp','i3','i2','j4']).show(20000, False)"
   ]
  },
  {
   "cell_type": "code",
   "execution_count": null,
   "metadata": {},
   "outputs": [],
   "source": [
    "df4 = proc_segment(df3, 'j3', ts_name, min_dist_per_min, min_pause_duration, max_pause_time, 0, 0, \"CASE3\").checkpoint()\n",
    "df4.drop(*['lat','lon','dow','distance','fixTypeCode',\n",
    "         'cum_pause','total_sec','height','speed','heading','state_cp','tripType_cp','i2','i3','j4']).show(20000, False)"
   ]
  },
  {
   "cell_type": "code",
   "execution_count": null,
   "metadata": {},
   "outputs": [],
   "source": [
    "df4 = set_pause(df4, 'i1', ts_name).checkpoint()\n",
    "df4 = check_case(df4, 'i1', ts_name, min_dist_per_min, min_pause_duration, max_pause_time).checkpoint()\n",
    "df4.drop(*['lat','lon','dow','distance','fixTypeCode',\n",
    "         'cum_pause','total_sec','height','speed','heading','state_cp','tripType_cp','i3','i2','j4']).show(20000, False)"
   ]
  },
  {
   "cell_type": "code",
   "execution_count": null,
   "metadata": {},
   "outputs": [],
   "source": [
    "df4 = proc_segment(df4, 'j3', ts_name, min_dist_per_min, min_pause_duration, max_pause_time, 0, 0, \"CASE3\").checkpoint()\n",
    "df4.drop(*['lat','lon','dow','distance','fixTypeCode',\n",
    "         'cum_pause','total_sec','height','speed','heading','state_cp','tripType_cp','i2','i3','j4']).show(20000, False)"
   ]
  },
  {
   "cell_type": "code",
   "execution_count": null,
   "metadata": {},
   "outputs": [],
   "source": [
    "df4 = set_pause(df4, 'i1', ts_name).checkpoint()\n",
    "df4 = check_case(df4, 'i1', ts_name, min_dist_per_min, min_pause_duration, max_pause_time).checkpoint()\n",
    "df4.drop(*['lat','lon','dow','distance','fixTypeCode',\n",
    "         'cum_pause','total_sec','height','speed','heading','state_cp','tripType_cp','i3','i2','j4']).show(20000, False)"
   ]
  },
  {
   "cell_type": "code",
   "execution_count": null,
   "metadata": {},
   "outputs": [],
   "source": [
    "df4 = proc_segment(df4, 'j1', ts_name, min_dist_per_min, min_pause_duration, max_pause_time, 3, 2, \"CASE1\").checkpoint()\n",
    "df4.drop(*['lat','lon','dow','distance','fixTypeCode',\n",
    "         'cum_pause','total_sec','height','speed','heading','state_cp','tripType_cp','i2','i3','j4']).show(20000, False)"
   ]
  },
  {
   "cell_type": "code",
   "execution_count": null,
   "metadata": {},
   "outputs": [],
   "source": [
    "df4 = set_pause(df4, 'i1', ts_name).checkpoint()\n",
    "df4 = check_case(df4, 'i1', ts_name, min_dist_per_min, min_pause_duration, max_pause_time).checkpoint()\n",
    "df4.drop(*['lat','lon','dow','distance','fixTypeCode',\n",
    "         'cum_pause','total_sec','height','speed','heading','state_cp','tripType_cp','i3','i2','j4']).show(20000, False)"
   ]
  },
  {
   "cell_type": "code",
   "execution_count": null,
   "metadata": {},
   "outputs": [],
   "source": [
    "df4 = proc_segment(df4, 'j1', ts_name, min_dist_per_min, min_pause_duration, max_pause_time, 3, 2, \"CASE1\").checkpoint()\n",
    "df4.drop(*['lat','lon','dow','distance','fixTypeCode',\n",
    "         'cum_pause','total_sec','height','speed','heading','state_cp','tripType_cp','i2','i3','j4']).show(20000, False)"
   ]
  },
  {
   "cell_type": "code",
   "execution_count": null,
   "metadata": {},
   "outputs": [],
   "source": []
  },
  {
   "cell_type": "code",
   "execution_count": null,
   "metadata": {},
   "outputs": [],
   "source": [
    "# segment 28"
   ]
  },
  {
   "cell_type": "code",
   "execution_count": null,
   "metadata": {},
   "outputs": [],
   "source": [
    "df = set_pause(df, 'i1', ts_name).checkpoint()\n",
    "df.drop(*['lat','lon','dow','distance','fixTypeCode',\n",
    "         'cum_pause','total_sec','height','speed','heading','state_cp','tripType_cp','i3','i2']).show(20000, False)"
   ]
  },
  {
   "cell_type": "code",
   "execution_count": null,
   "metadata": {},
   "outputs": [],
   "source": [
    "df = check_case(df, 'i1', ts_name, min_dist_per_min, min_pause_duration, max_pause_time).checkpoint()\n",
    "df.drop(*['lat','lon','dow','distance','fixTypeCode',\n",
    "         'cum_pause','total_sec','height','speed','heading','state_cp','tripType_cp','i3','i2','j4']).show(20000, False)"
   ]
  },
  {
   "cell_type": "code",
   "execution_count": null,
   "metadata": {},
   "outputs": [],
   "source": [
    "df = proc_segment(df, 'j1', ts_name, min_dist_per_min, min_pause_duration, max_pause_time, 3, 2, \"CASE1\").checkpoint()\n",
    "df.drop(*['lat','lon','dow','distance','fixTypeCode',\n",
    "         'cum_pause','total_sec','height','speed','heading','state_cp','tripType_cp','i2','i1','j4']).show(20000, False)"
   ]
  },
  {
   "cell_type": "code",
   "execution_count": null,
   "metadata": {},
   "outputs": [],
   "source": [
    "df = df.drop(*['j1','j2','j3','j4'])\n",
    "df = set_pause(df, 'i1', ts_name).checkpoint()\n",
    "df.drop(*['lat','lon','dow','distance','fixTypeCode',\n",
    "         'cum_pause','total_sec','height','speed','heading','state_cp','tripType_cp','i3','i2']).show(20000, False)"
   ]
  },
  {
   "cell_type": "code",
   "execution_count": null,
   "metadata": {},
   "outputs": [],
   "source": [
    "df = check_case(df, 'i1', ts_name, min_dist_per_min, min_pause_duration, max_pause_time).checkpoint()\n",
    "df.drop(*['lat','lon','dow','distance','fixTypeCode',\n",
    "         'cum_pause','total_sec','height','speed','heading','state_cp','tripType_cp','i3','i2','j4']).show(20000, False)"
   ]
  },
  {
   "cell_type": "code",
   "execution_count": null,
   "metadata": {},
   "outputs": [],
   "source": [
    "df = proc_segment(df, 'j1', ts_name, min_dist_per_min, min_pause_duration, max_pause_time, 3, 2, \"CASE1\").checkpoint()\n",
    "df.drop(*['lat','lon','dow','distance','fixTypeCode',\n",
    "         'cum_pause','total_sec','height','speed','heading','state_cp','tripType_cp','i2','i1','j4']).show(20000, False)"
   ]
  },
  {
   "cell_type": "code",
   "execution_count": null,
   "metadata": {},
   "outputs": [],
   "source": [
    "df = df.drop(*['j1','j2','j3','j4'])\n",
    "df = set_pause(df, 'i1', ts_name).checkpoint()\n",
    "df.drop(*['lat','lon','dow','distance','fixTypeCode',\n",
    "         'cum_pause','total_sec','height','speed','heading','state_cp','tripType_cp','i3','i2']).show(20000, False)"
   ]
  },
  {
   "cell_type": "code",
   "execution_count": null,
   "metadata": {},
   "outputs": [],
   "source": [
    "df = check_case(df, 'i1', ts_name, min_dist_per_min, min_pause_duration, max_pause_time).checkpoint()\n",
    "df.drop(*['lat','lon','dow','distance','fixTypeCode',\n",
    "         'cum_pause','total_sec','height','speed','heading','state_cp','tripType_cp','i3','i2','j4']).show(20000, False)"
   ]
  },
  {
   "cell_type": "code",
   "execution_count": null,
   "metadata": {},
   "outputs": [],
   "source": [
    "df = proc_segment(df, 'j1', ts_name, min_dist_per_min, min_pause_duration, max_pause_time, 3, 2, \"CASE1\").checkpoint()\n",
    "df.drop(*['lat','lon','dow','distance','fixTypeCode',\n",
    "         'cum_pause','total_sec','height','speed','heading','state_cp','tripType_cp','i2','i1','j4']).show(20000, False)"
   ]
  },
  {
   "cell_type": "code",
   "execution_count": null,
   "metadata": {},
   "outputs": [],
   "source": [
    "df = df.drop(*['j1','j2','j3','j4'])\n",
    "df = set_pause(df, 'i1', ts_name).checkpoint()\n",
    "df.drop(*['lat','lon','dow','distance','fixTypeCode',\n",
    "         'cum_pause','total_sec','height','speed','heading','state_cp','tripType_cp','i3','i2']).show(20000, False)"
   ]
  },
  {
   "cell_type": "code",
   "execution_count": null,
   "metadata": {},
   "outputs": [],
   "source": [
    "df = check_case(df, 'i1', ts_name, min_dist_per_min, min_pause_duration, max_pause_time).checkpoint()\n",
    "df.drop(*['lat','lon','dow','distance','fixTypeCode',\n",
    "         'cum_pause','total_sec','height','speed','heading','state_cp','tripType_cp','i3','i2','j4']).show(20000, False)"
   ]
  },
  {
   "cell_type": "code",
   "execution_count": null,
   "metadata": {},
   "outputs": [],
   "source": [
    "df = proc_segment(df, 'j1', ts_name, min_dist_per_min, min_pause_duration, max_pause_time, 3, 2, \"CASE1\").checkpoint()\n",
    "df.drop(*['lat','lon','dow','distance','fixTypeCode',\n",
    "         'cum_pause','total_sec','height','speed','heading','state_cp','tripType_cp','i2','i1','j4']).show(20000, False)"
   ]
  },
  {
   "cell_type": "code",
   "execution_count": null,
   "metadata": {},
   "outputs": [],
   "source": [
    "df = df.drop(*['j1','j2','j3','j4'])\n",
    "df = set_pause(df, 'i1', ts_name).checkpoint()\n",
    "df = check_case(df, 'i1', ts_name, min_dist_per_min, min_pause_duration, max_pause_time).checkpoint()\n",
    "df.drop(*['lat','lon','dow','distance','fixTypeCode',\n",
    "         'cum_pause','total_sec','height','speed','heading','state_cp','tripType_cp','i3','i2','j4']).show(20000, False)"
   ]
  },
  {
   "cell_type": "code",
   "execution_count": null,
   "metadata": {},
   "outputs": [],
   "source": [
    "df = proc_segment(df, 'j1', ts_name, min_dist_per_min, min_pause_duration, max_pause_time, 3, 2, \"CASE1\").checkpoint()\n",
    "df.drop(*['lat','lon','dow','distance','fixTypeCode',\n",
    "         'cum_pause','total_sec','height','speed','heading','state_cp','tripType_cp','i2','i1','j4']).show(20000, False)"
   ]
  },
  {
   "cell_type": "code",
   "execution_count": null,
   "metadata": {},
   "outputs": [],
   "source": [
    "df = df.drop(*['j1','j2','j3','j4'])\n",
    "df = set_pause(df, 'i1', ts_name).checkpoint()\n",
    "df = check_case(df, 'i1', ts_name, min_dist_per_min, min_pause_duration, max_pause_time).checkpoint()\n",
    "df.drop(*['lat','lon','dow','distance','fixTypeCode',\n",
    "         'cum_pause','total_sec','height','speed','heading','state_cp','tripType_cp','i3','i2','j4']).show(20000, False)"
   ]
  },
  {
   "cell_type": "code",
   "execution_count": null,
   "metadata": {},
   "outputs": [],
   "source": [
    "df = proc_segment(df, 'j1', ts_name, min_dist_per_min, min_pause_duration, max_pause_time, 3, 2, \"CASE1\").checkpoint()\n",
    "df.drop(*['lat','lon','dow','distance','fixTypeCode',\n",
    "         'cum_pause','total_sec','height','speed','heading','state_cp','tripType_cp','i2','i1','j4']).show(20000, False)"
   ]
  },
  {
   "cell_type": "code",
   "execution_count": null,
   "metadata": {},
   "outputs": [],
   "source": [
    "df = df.drop(*['j1','j2','j3','j4'])\n",
    "df = set_pause(df, 'i1', ts_name).checkpoint()\n",
    "df = check_case(df, 'i1', ts_name, min_dist_per_min, min_pause_duration, max_pause_time).checkpoint()\n",
    "df.drop(*['lat','lon','dow','distance','fixTypeCode',\n",
    "         'cum_pause','total_sec','height','speed','heading','state_cp','tripType_cp','i3','i2','j4']).show(20000, False)"
   ]
  },
  {
   "cell_type": "code",
   "execution_count": null,
   "metadata": {},
   "outputs": [],
   "source": [
    "df = proc_segment(df, 'j1', ts_name, min_dist_per_min, min_pause_duration, max_pause_time, 3, 2, \"CASE1\").checkpoint()\n",
    "df.drop(*['lat','lon','dow','distance','fixTypeCode',\n",
    "         'cum_pause','total_sec','height','speed','heading','state_cp','tripType_cp','i2','i1','j4']).show(20000, False)"
   ]
  },
  {
   "cell_type": "code",
   "execution_count": null,
   "metadata": {},
   "outputs": [],
   "source": [
    "df = df.drop(*['j1','j2','j3','j4'])\n",
    "df = set_pause(df, 'i1', ts_name).checkpoint()\n",
    "df = check_case(df, 'i1', ts_name, min_dist_per_min, min_pause_duration, max_pause_time).checkpoint()\n",
    "df.drop(*['lat','lon','dow','distance','fixTypeCode',\n",
    "         'cum_pause','total_sec','height','speed','heading','state_cp','tripType_cp','i3','i2','j4']).show(20000, False)"
   ]
  },
  {
   "cell_type": "code",
   "execution_count": null,
   "metadata": {},
   "outputs": [],
   "source": [
    "df = proc_segment(df, 'j1', ts_name, min_dist_per_min, min_pause_duration, max_pause_time, 3, 2, \"CASE1\").checkpoint()\n",
    "df.drop(*['lat','lon','dow','distance','fixTypeCode',\n",
    "         'cum_pause','total_sec','height','speed','heading','state_cp','tripType_cp','i2','i1','j4']).show(20000, False)"
   ]
  },
  {
   "cell_type": "code",
   "execution_count": null,
   "metadata": {},
   "outputs": [],
   "source": [
    "df = df.drop(*['j1','j2','j3','j4'])\n",
    "df = set_pause(df, 'i1', ts_name).checkpoint()\n",
    "df = check_case(df, 'i1', ts_name, min_dist_per_min, min_pause_duration, max_pause_time).checkpoint()\n",
    "df.drop(*['lat','lon','dow','distance','fixTypeCode',\n",
    "         'cum_pause','total_sec','height','speed','heading','state_cp','tripType_cp','i3','i2','j4']).show(20000, False)"
   ]
  },
  {
   "cell_type": "code",
   "execution_count": null,
   "metadata": {},
   "outputs": [],
   "source": [
    "df = proc_segment(df, 'j1', ts_name, min_dist_per_min, min_pause_duration, max_pause_time, 3, 2, \"CASE1\").checkpoint()\n",
    "df.drop(*['lat','lon','dow','distance','fixTypeCode',\n",
    "         'cum_pause','total_sec','height','speed','heading','state_cp','tripType_cp','i2','i1','j4']).show(20000, False)"
   ]
  },
  {
   "cell_type": "code",
   "execution_count": null,
   "metadata": {},
   "outputs": [],
   "source": [
    "df = df.drop(*['j1','j2','j3','j4'])\n",
    "df = set_pause(df, 'i1', ts_name).checkpoint()\n",
    "df = check_case(df, 'i1', ts_name, min_dist_per_min, min_pause_duration, max_pause_time).checkpoint()\n",
    "df.drop(*['lat','lon','dow','distance','fixTypeCode',\n",
    "         'cum_pause','total_sec','height','speed','heading','state_cp','tripType_cp','i3','i2','j4']).show(20000, False)"
   ]
  },
  {
   "cell_type": "code",
   "execution_count": null,
   "metadata": {},
   "outputs": [],
   "source": [
    "df = proc_segment(df, 'j1', ts_name, min_dist_per_min, min_pause_duration, max_pause_time, 3, 2, \"CASE1\").checkpoint()\n",
    "df.drop(*['lat','lon','dow','distance','fixTypeCode',\n",
    "         'cum_pause','total_sec','height','speed','heading','state_cp','tripType_cp','i2','i1','j4']).show(20000, False)"
   ]
  },
  {
   "cell_type": "code",
   "execution_count": null,
   "metadata": {},
   "outputs": [],
   "source": [
    "df = df.drop(*['j1','j2','j3','j4'])\n",
    "df = set_pause(df, 'i1', ts_name).checkpoint()\n",
    "df = check_case(df, 'i1', ts_name, min_dist_per_min, min_pause_duration, max_pause_time).checkpoint()\n",
    "df.drop(*['lat','lon','dow','distance','fixTypeCode',\n",
    "         'cum_pause','total_sec','height','speed','heading','state_cp','tripType_cp','i3','i2','j4']).show(20000, False)"
   ]
  },
  {
   "cell_type": "code",
   "execution_count": null,
   "metadata": {},
   "outputs": [],
   "source": [
    "df = proc_segment(df, 'j1', ts_name, min_dist_per_min, min_pause_duration, max_pause_time, 3, 2, \"CASE1\").checkpoint()\n",
    "df.drop(*['lat','lon','dow','distance','fixTypeCode',\n",
    "         'cum_pause','total_sec','height','speed','heading','state_cp','tripType_cp','i2','i1','j4']).show(20000, False)"
   ]
  },
  {
   "cell_type": "code",
   "execution_count": null,
   "metadata": {},
   "outputs": [],
   "source": [
    "df = df.drop(*['j1','j2','j3','j4'])\n",
    "df = set_pause(df, 'i1', ts_name).checkpoint()\n",
    "df = check_case(df, 'i1', ts_name, min_dist_per_min, min_pause_duration, max_pause_time).checkpoint()\n",
    "df.drop(*['lat','lon','dow','distance','fixTypeCode',\n",
    "         'cum_pause','total_sec','height','speed','heading','state_cp','tripType_cp','i3','i2','j4']).show(20000, False)"
   ]
  },
  {
   "cell_type": "code",
   "execution_count": null,
   "metadata": {},
   "outputs": [],
   "source": [
    "df = proc_segment(df, 'j1', ts_name, min_dist_per_min, min_pause_duration, max_pause_time, 3, 2, \"CASE1\").checkpoint()\n",
    "df.drop(*['lat','lon','dow','distance','fixTypeCode',\n",
    "         'cum_pause','total_sec','height','speed','heading','state_cp','tripType_cp','i2','i1','j4']).show(20000, False)"
   ]
  },
  {
   "cell_type": "code",
   "execution_count": null,
   "metadata": {},
   "outputs": [],
   "source": [
    "df = df.drop(*['j1','j2','j3','j4'])\n",
    "df = set_pause(df, 'i1', ts_name).checkpoint()\n",
    "df = check_case(df, 'i1', ts_name, min_dist_per_min, min_pause_duration, max_pause_time).checkpoint()\n",
    "df.drop(*['lat','lon','dow','distance','fixTypeCode',\n",
    "         'cum_pause','total_sec','height','speed','heading','state_cp','tripType_cp','i3','i2','j4']).show(20000, False)"
   ]
  },
  {
   "cell_type": "code",
   "execution_count": null,
   "metadata": {},
   "outputs": [],
   "source": [
    "df = proc_segment(df, 'j1', ts_name, min_dist_per_min, min_pause_duration, max_pause_time, 3, 2, \"CASE1\").checkpoint()\n",
    "df.drop(*['lat','lon','dow','distance','fixTypeCode',\n",
    "         'cum_pause','total_sec','height','speed','heading','state_cp','tripType_cp','i2','i1','j4']).show(20000, False)"
   ]
  },
  {
   "cell_type": "code",
   "execution_count": null,
   "metadata": {},
   "outputs": [],
   "source": [
    "df = df.drop(*['j1','j2','j3','j4'])\n",
    "df = set_pause(df, 'i1', ts_name).checkpoint()\n",
    "df = check_case(df, 'i1', ts_name, min_dist_per_min, min_pause_duration, max_pause_time).checkpoint()\n",
    "df.drop(*['lat','lon','dow','distance','fixTypeCode',\n",
    "         'cum_pause','total_sec','height','speed','heading','state_cp','tripType_cp','i3','i2','j4']).show(20000, False)"
   ]
  },
  {
   "cell_type": "code",
   "execution_count": null,
   "metadata": {},
   "outputs": [],
   "source": [
    "df = proc_segment(df, 'j1', ts_name, min_dist_per_min, min_pause_duration, max_pause_time, 3, 2, \"CASE1\").checkpoint()\n",
    "df.drop(*['lat','lon','dow','distance','fixTypeCode',\n",
    "         'cum_pause','total_sec','height','speed','heading','state_cp','tripType_cp','i2','i1','j4']).show(20000, False)"
   ]
  },
  {
   "cell_type": "code",
   "execution_count": null,
   "metadata": {},
   "outputs": [],
   "source": [
    "df = df.drop(*['j1','j2','j3','j4'])\n",
    "df = set_pause(df, 'i1', ts_name).checkpoint()\n",
    "df = check_case(df, 'i1', ts_name, min_dist_per_min, min_pause_duration, max_pause_time).checkpoint()\n",
    "df.drop(*['lat','lon','dow','distance','fixTypeCode',\n",
    "         'cum_pause','total_sec','height','speed','heading','state_cp','tripType_cp','i3','i2','j4']).show(20000, False)"
   ]
  },
  {
   "cell_type": "code",
   "execution_count": null,
   "metadata": {},
   "outputs": [],
   "source": [
    "df = proc_segment(df, 'j1', ts_name, min_dist_per_min, min_pause_duration, max_pause_time, 3, 2, \"CASE1\").checkpoint()\n",
    "df.drop(*['lat','lon','dow','distance','fixTypeCode',\n",
    "         'cum_pause','total_sec','height','speed','heading','state_cp','tripType_cp','i2','i1','j4']).show(20000, False)"
   ]
  },
  {
   "cell_type": "code",
   "execution_count": null,
   "metadata": {},
   "outputs": [],
   "source": [
    "df = df.drop(*['j1','j2','j3','j4'])\n",
    "df = set_pause(df, 'i1', ts_name).checkpoint()\n",
    "df = check_case(df, 'i1', ts_name, min_dist_per_min, min_pause_duration, max_pause_time).checkpoint()\n",
    "df.drop(*['lat','lon','dow','distance','fixTypeCode',\n",
    "         'cum_pause','total_sec','height','speed','heading','state_cp','tripType_cp','i3','i2','j4']).show(20000, False)"
   ]
  },
  {
   "cell_type": "code",
   "execution_count": null,
   "metadata": {},
   "outputs": [],
   "source": [
    "df = proc_segment(df, 'j2', ts_name, min_dist_per_min, min_pause_duration, max_pause_time, 3, 3, \"CASE2\").checkpoint()\n",
    "df.drop(*['lat','lon','dow','distance','fixTypeCode',\n",
    "         'cum_pause','total_sec','height','speed','heading','state_cp','tripType_cp','i2','i1','j4']).show(20000, False)"
   ]
  },
  {
   "cell_type": "code",
   "execution_count": null,
   "metadata": {},
   "outputs": [],
   "source": [
    "df = df.drop(*['j1','j2','j3','j4'])\n",
    "df = set_pause(df, 'i1', ts_name).checkpoint()\n",
    "df = check_case(df, 'i1', ts_name, min_dist_per_min, min_pause_duration, max_pause_time).checkpoint()\n",
    "df.drop(*['lat','lon','dow','distance','fixTypeCode',\n",
    "         'cum_pause','total_sec','height','speed','heading','state_cp','tripType_cp','i3','i2','j4']).show(20000, False)"
   ]
  },
  {
   "cell_type": "code",
   "execution_count": null,
   "metadata": {},
   "outputs": [],
   "source": [
    "df2 = proc_segment(df, 'j3', ts_name, min_dist_per_min, min_pause_duration, max_pause_time, 0, 0, \"CASE3\").checkpoint()\n",
    "df2.drop(*['lat','lon','dow','distance','fixTypeCode',\n",
    "         'cum_pause','total_sec','height','speed','heading','state_cp','tripType_cp','i2','i1','j4']).show(20000, False)"
   ]
  },
  {
   "cell_type": "code",
   "execution_count": null,
   "metadata": {},
   "outputs": [],
   "source": []
  },
  {
   "cell_type": "code",
   "execution_count": null,
   "metadata": {},
   "outputs": [],
   "source": [
    "# segment 13"
   ]
  },
  {
   "cell_type": "code",
   "execution_count": null,
   "metadata": {},
   "outputs": [],
   "source": [
    "df = set_pause(df, 'i1', ts_name).checkpoint()\n",
    "df.drop(*['lat','lon','dow','distance','fixTypeCode',\n",
    "         'cum_pause','total_sec','height','speed','heading','state_cp','tripType_cp','i3','i2']).show(20000, False)"
   ]
  },
  {
   "cell_type": "code",
   "execution_count": null,
   "metadata": {},
   "outputs": [],
   "source": [
    "df = check_case(df, 'i1', ts_name, min_dist_per_min, min_pause_duration, max_pause_time).checkpoint()\n",
    "df.drop(*['lat','lon','dow','distance','fixTypeCode',\n",
    "         'cum_pause','total_sec','height','speed','heading','state_cp','tripType_cp','i3','i2','j4']).show(20000, False)"
   ]
  },
  {
   "cell_type": "code",
   "execution_count": null,
   "metadata": {},
   "outputs": [],
   "source": [
    "df = proc_segment(df, 'j1', ts_name, min_dist_per_min, min_pause_duration, max_pause_time, 3, 2, \"CASE1\").checkpoint()\n",
    "df.drop(*['lat','lon','dow','distance','fixTypeCode',\n",
    "         'cum_pause','total_sec','height','speed','heading','state_cp','tripType_cp','i2','i1','j4']).show(20000, False)"
   ]
  },
  {
   "cell_type": "code",
   "execution_count": null,
   "metadata": {},
   "outputs": [],
   "source": [
    "df = df.drop(*['j1','j2','j3','j4'])\n",
    "df = set_pause(df, 'i1', ts_name).checkpoint()\n",
    "df.drop(*['lat','lon','dow','distance','fixTypeCode',\n",
    "         'cum_pause','total_sec','height','speed','heading','state_cp','tripType_cp','i3','i2']).show(20000, False)"
   ]
  },
  {
   "cell_type": "code",
   "execution_count": null,
   "metadata": {},
   "outputs": [],
   "source": [
    "df = check_case(df, 'i1', ts_name, min_dist_per_min, min_pause_duration, max_pause_time).checkpoint()\n",
    "df.drop(*['lat','lon','dow','distance','fixTypeCode',\n",
    "         'cum_pause','total_sec','height','speed','heading','state_cp','tripType_cp','i3','i2','j4']).show(20000, False)"
   ]
  },
  {
   "cell_type": "code",
   "execution_count": null,
   "metadata": {},
   "outputs": [],
   "source": [
    "df = proc_segment(df, 'j1', ts_name, min_dist_per_min, min_pause_duration, max_pause_time, 3, 2, \"CASE1\").checkpoint()\n",
    "df.drop(*['lat','lon','dow','distance','fixTypeCode',\n",
    "         'cum_pause','total_sec','height','speed','heading','state_cp','tripType_cp','i2','i1','j4']).show(20000, False)"
   ]
  },
  {
   "cell_type": "code",
   "execution_count": null,
   "metadata": {},
   "outputs": [],
   "source": [
    "df = df.drop(*['j1','j2','j3','j4'])\n",
    "df = set_pause(df, 'i1', ts_name).checkpoint()\n",
    "df.drop(*['lat','lon','dow','distance','fixTypeCode',\n",
    "         'cum_pause','total_sec','height','speed','heading','state_cp','tripType_cp','i3','i2']).show(20000, False)"
   ]
  },
  {
   "cell_type": "code",
   "execution_count": null,
   "metadata": {},
   "outputs": [],
   "source": [
    "df = check_case(df, 'i1', ts_name, min_dist_per_min, min_pause_duration, max_pause_time).checkpoint()\n",
    "df.drop(*['lat','lon','dow','distance','fixTypeCode',\n",
    "         'cum_pause','total_sec','height','speed','heading','state_cp','tripType_cp','i3','i2','j4']).show(20000, False)"
   ]
  },
  {
   "cell_type": "code",
   "execution_count": null,
   "metadata": {},
   "outputs": [],
   "source": [
    "df = proc_segment(df, 'j1', ts_name, min_dist_per_min, min_pause_duration, max_pause_time, 3, 2, \"CASE1\").checkpoint()\n",
    "df.drop(*['lat','lon','dow','distance','fixTypeCode',\n",
    "         'cum_pause','total_sec','height','speed','heading','state_cp','tripType_cp','i2','i1','j4']).show(20000, False)"
   ]
  },
  {
   "cell_type": "code",
   "execution_count": null,
   "metadata": {},
   "outputs": [],
   "source": [
    "df = df.drop(*['j1','j2','j3','j4'])\n",
    "df = set_pause(df, 'i1', ts_name).checkpoint()\n",
    "df.drop(*['lat','lon','dow','distance','fixTypeCode',\n",
    "         'cum_pause','total_sec','height','speed','heading','state_cp','tripType_cp','i3','i2']).show(20000, False)"
   ]
  },
  {
   "cell_type": "code",
   "execution_count": null,
   "metadata": {},
   "outputs": [],
   "source": [
    "df = check_case(df, 'i1', ts_name, min_dist_per_min, min_pause_duration, max_pause_time).checkpoint()\n",
    "df.drop(*['lat','lon','dow','distance','fixTypeCode',\n",
    "         'cum_pause','total_sec','height','speed','heading','state_cp','tripType_cp','i3','i2','j4']).show(20000, False)"
   ]
  },
  {
   "cell_type": "code",
   "execution_count": null,
   "metadata": {},
   "outputs": [],
   "source": [
    "df = proc_segment(df, 'j1', ts_name, min_dist_per_min, min_pause_duration, max_pause_time, 3, 2, \"CASE1\").checkpoint()\n",
    "df.drop(*['lat','lon','dow','distance','fixTypeCode',\n",
    "         'cum_pause','total_sec','height','speed','heading','state_cp','tripType_cp','i2','i1','j4']).show(20000, False)"
   ]
  },
  {
   "cell_type": "code",
   "execution_count": null,
   "metadata": {},
   "outputs": [],
   "source": [
    "df = df.drop(*['j1','j2','j3','j4'])\n",
    "df = set_pause(df, 'i1', ts_name).checkpoint()\n",
    "df.drop(*['lat','lon','dow','distance','fixTypeCode',\n",
    "         'cum_pause','total_sec','height','speed','heading','state_cp','tripType_cp','i3','i2']).show(20000, False)"
   ]
  },
  {
   "cell_type": "code",
   "execution_count": null,
   "metadata": {},
   "outputs": [],
   "source": [
    "df = check_case(df, 'i1', ts_name, min_dist_per_min, min_pause_duration, max_pause_time).checkpoint()\n",
    "df.drop(*['lat','lon','dow','distance','fixTypeCode',\n",
    "         'cum_pause','total_sec','height','speed','heading','state_cp','tripType_cp','i3','i2','j4']).show(20000, False)"
   ]
  },
  {
   "cell_type": "code",
   "execution_count": null,
   "metadata": {},
   "outputs": [],
   "source": [
    "df = proc_segment(df, 'j3', ts_name, min_dist_per_min, min_pause_duration, max_pause_time, 0, 0, \"CASE3\").checkpoint()\n",
    "df.drop(*['lat','lon','dow','distance','fixTypeCode',\n",
    "         'cum_pause','total_sec','height','speed','heading','state_cp','tripType_cp','i2','i1','j4']).show(20000, False)"
   ]
  },
  {
   "cell_type": "code",
   "execution_count": null,
   "metadata": {},
   "outputs": [],
   "source": [
    "df2 = df.drop(*['j1','j2','j3','j4'])\n",
    "df2 = set_pause(df2, 'i1', ts_name).checkpoint()\n",
    "df2.drop(*['lat','lon','dow','distance','fixTypeCode',\n",
    "         'cum_pause','total_sec','height','speed','heading','state_cp','tripType_cp','i3','i2']).show(20000, False)"
   ]
  },
  {
   "cell_type": "code",
   "execution_count": null,
   "metadata": {},
   "outputs": [],
   "source": [
    "df2 = check_case(df2, 'i1', ts_name, min_dist_per_min, min_pause_duration, max_pause_time).checkpoint()\n",
    "df2.drop(*['lat','lon','dow','distance','fixTypeCode',\n",
    "         'cum_pause','total_sec','height','speed','heading','state_cp','tripType_cp','i3','i2','j4']).show(20000, False)"
   ]
  },
  {
   "cell_type": "code",
   "execution_count": null,
   "metadata": {},
   "outputs": [],
   "source": [
    "df2 = proc_segment(df2, 'j2', ts_name, min_dist_per_min, min_pause_duration, max_pause_time, 3, 3, \"CASE2\").checkpoint()\n",
    "df2.drop(*['lat','lon','dow','distance','fixTypeCode',\n",
    "         'cum_pause','total_sec','height','speed','heading','state_cp','tripType_cp','i2','i1','j4']).show(20000, False)"
   ]
  },
  {
   "cell_type": "code",
   "execution_count": null,
   "metadata": {},
   "outputs": [],
   "source": [
    "df3 = df2.drop(*['j1','j2','j3','j4'])\n",
    "df3 = set_pause(df3, 'i1', ts_name).checkpoint()\n",
    "df3.drop(*['lat','lon','dow','distance','fixTypeCode',\n",
    "         'cum_pause','total_sec','height','speed','heading','state_cp','tripType_cp','i3','i2']).show(20000, False)"
   ]
  },
  {
   "cell_type": "code",
   "execution_count": null,
   "metadata": {},
   "outputs": [],
   "source": [
    "df3 = check_case(df3, 'i1', ts_name, min_dist_per_min, min_pause_duration, max_pause_time).checkpoint()\n",
    "df3.drop(*['lat','lon','dow','distance','fixTypeCode',\n",
    "         'cum_pause','total_sec','height','speed','heading','state_cp','tripType_cp','i3','i2','j4']).show(20000, False)"
   ]
  },
  {
   "cell_type": "code",
   "execution_count": null,
   "metadata": {},
   "outputs": [],
   "source": [
    "df3 = proc_segment(df3, 'j2', ts_name, min_dist_per_min, min_pause_duration, max_pause_time, 3, 3, \"CASE2\").checkpoint()\n",
    "df3.drop(*['lat','lon','dow','distance','fixTypeCode',\n",
    "         'cum_pause','total_sec','height','speed','heading','state_cp','tripType_cp','i2','i1','j4']).show(20000, False)"
   ]
  },
  {
   "cell_type": "code",
   "execution_count": null,
   "metadata": {},
   "outputs": [],
   "source": [
    "df3 = df3.drop(*['j1','j2','j3','j4'])\n",
    "df3 = set_pause(df3, 'i1', ts_name).checkpoint()\n",
    "df3.drop(*['lat','lon','dow','distance','fixTypeCode',\n",
    "         'cum_pause','total_sec','height','speed','heading','state_cp','tripType_cp','i3','i2']).show(20000, False)"
   ]
  },
  {
   "cell_type": "code",
   "execution_count": null,
   "metadata": {},
   "outputs": [],
   "source": [
    "df3 = check_case(df3, 'i1', ts_name, min_dist_per_min, min_pause_duration, max_pause_time).checkpoint()\n",
    "df3.drop(*['lat','lon','dow','distance','fixTypeCode',\n",
    "         'cum_pause','total_sec','height','speed','heading','state_cp','tripType_cp','i3','i2','j4']).show(20000, False)"
   ]
  },
  {
   "cell_type": "code",
   "execution_count": null,
   "metadata": {},
   "outputs": [],
   "source": [
    "df3 = proc_segment(df3, 'j1', ts_name, min_dist_per_min, min_pause_duration, max_pause_time, 3, 2, \"CASE1\").checkpoint()\n",
    "df3.drop(*['lat','lon','dow','distance','fixTypeCode',\n",
    "         'cum_pause','total_sec','height','speed','heading','state_cp','tripType_cp','i2','i1','j4']).show(20000, False)"
   ]
  },
  {
   "cell_type": "code",
   "execution_count": null,
   "metadata": {},
   "outputs": [],
   "source": [
    "df3 = df3.drop(*['j1','j2','j3','j4'])\n",
    "df3 = set_pause(df3, 'i1', ts_name).checkpoint()\n",
    "df3.drop(*['lat','lon','dow','distance','fixTypeCode',\n",
    "         'cum_pause','total_sec','height','speed','heading','state_cp','tripType_cp','i3','i2']).show(20000, False)"
   ]
  },
  {
   "cell_type": "code",
   "execution_count": null,
   "metadata": {},
   "outputs": [],
   "source": [
    "df3 = check_case(df3, 'i1', ts_name, min_dist_per_min, min_pause_duration, max_pause_time).checkpoint()\n",
    "df3.drop(*['lat','lon','dow','distance','fixTypeCode',\n",
    "         'cum_pause','total_sec','height','speed','heading','state_cp','tripType_cp','i3','i2','j4']).show(20000, False)"
   ]
  },
  {
   "cell_type": "code",
   "execution_count": null,
   "metadata": {},
   "outputs": [],
   "source": [
    "df3 = proc_segment(df3, 'j1', ts_name, min_dist_per_min, min_pause_duration, max_pause_time, 3, 2, \"CASE1\").checkpoint()\n",
    "df3.drop(*['lat','lon','dow','distance','fixTypeCode',\n",
    "         'cum_pause','total_sec','height','speed','heading','state_cp','tripType_cp','i2','i1','j4']).show(20000, False)"
   ]
  },
  {
   "cell_type": "code",
   "execution_count": null,
   "metadata": {},
   "outputs": [],
   "source": []
  },
  {
   "cell_type": "code",
   "execution_count": null,
   "metadata": {},
   "outputs": [],
   "source": [
    "# segment 108\n",
    "df = set_pause(df, 'i3', ts_name).checkpoint()\n",
    "df.drop(*['lat','lon','dow','distance','fixTypeCode',\n",
    "         'cum_pause','total_sec','height','speed','heading','state_cp','tripType_cp','i1','i2']).show(20000, False)"
   ]
  },
  {
   "cell_type": "code",
   "execution_count": null,
   "metadata": {},
   "outputs": [],
   "source": [
    "df = check_case(df, 'i3', ts_name, min_dist_per_min, min_pause_duration, max_pause_time).checkpoint()\n",
    "df.drop(*['lat','lon','dow','distance','fixTypeCode',\n",
    "         'cum_pause','total_sec','height','speed','heading','state_cp','tripType_cp','i1','i2','j4']).show(20000, False)"
   ]
  },
  {
   "cell_type": "code",
   "execution_count": null,
   "metadata": {},
   "outputs": [],
   "source": [
    "df = proc_segment(df, 'j1', ts_name, min_dist_per_min, min_pause_duration, max_pause_time, 3, 2, \"CASE1\").checkpoint()\n",
    "df.drop(*['lat','lon','dow','distance','fixTypeCode',\n",
    "         'cum_pause','total_sec','height','speed','heading','state_cp','tripType_cp','i2','i1','j4']).show(20000, False)"
   ]
  },
  {
   "cell_type": "code",
   "execution_count": null,
   "metadata": {},
   "outputs": [],
   "source": [
    "df = df.drop(*['j1','j2','j3','j4'])\n",
    "df = set_pause(df, 'i3', ts_name).checkpoint()\n",
    "df.drop(*['lat','lon','dow','distance','fixTypeCode',\n",
    "         'cum_pause','total_sec','height','speed','heading','state_cp','tripType_cp','i1','i2']).show(20000, False)"
   ]
  },
  {
   "cell_type": "code",
   "execution_count": null,
   "metadata": {},
   "outputs": [],
   "source": [
    "df = check_case(df, 'i3', ts_name, min_dist_per_min, min_pause_duration, max_pause_time).checkpoint()\n",
    "df.drop(*['lat','lon','dow','distance','fixTypeCode',\n",
    "         'cum_pause','total_sec','height','speed','heading','state_cp','tripType_cp','i1','i2','j4']).show(20000, False)"
   ]
  },
  {
   "cell_type": "code",
   "execution_count": null,
   "metadata": {},
   "outputs": [],
   "source": [
    "df = proc_segment(df, 'j1', ts_name, min_dist_per_min, min_pause_duration, max_pause_time, 3, 2, \"CASE1\").checkpoint()\n",
    "df.drop(*['lat','lon','dow','distance','fixTypeCode',\n",
    "         'cum_pause','total_sec','height','speed','heading','state_cp','tripType_cp','i2','i1','j4']).show(20000, False)"
   ]
  },
  {
   "cell_type": "code",
   "execution_count": null,
   "metadata": {},
   "outputs": [],
   "source": [
    "df = df.drop(*['j1','j2','j3','j4'])\n",
    "df = set_pause(df, 'i3', ts_name).checkpoint()\n",
    "df.drop(*['lat','lon','dow','distance','fixTypeCode',\n",
    "         'cum_pause','total_sec','height','speed','heading','state_cp','tripType_cp','i1','i2']).show(20000, False)"
   ]
  },
  {
   "cell_type": "code",
   "execution_count": null,
   "metadata": {},
   "outputs": [],
   "source": [
    "df = check_case(df, 'i3', ts_name, min_dist_per_min, min_pause_duration, max_pause_time).checkpoint()\n",
    "df.drop(*['lat','lon','dow','distance','fixTypeCode',\n",
    "         'cum_pause','total_sec','height','speed','heading','state_cp','tripType_cp','i1','i2','j4']).show(20000, False)"
   ]
  },
  {
   "cell_type": "code",
   "execution_count": null,
   "metadata": {},
   "outputs": [],
   "source": [
    "df = proc_segment(df, 'j1', ts_name, min_dist_per_min, min_pause_duration, max_pause_time, 3, 2, \"CASE1\").checkpoint()\n",
    "df.drop(*['lat','lon','dow','distance','fixTypeCode',\n",
    "         'cum_pause','total_sec','height','speed','heading','state_cp','tripType_cp','i2','i1','j4']).show(20000, False)"
   ]
  },
  {
   "cell_type": "code",
   "execution_count": null,
   "metadata": {},
   "outputs": [],
   "source": [
    "df = df.drop(*['j1','j2','j3','j4'])\n",
    "df = set_pause(df, 'i3', ts_name).checkpoint()\n",
    "df.drop(*['lat','lon','dow','distance','fixTypeCode',\n",
    "         'cum_pause','total_sec','height','speed','heading','state_cp','tripType_cp','i1','i2']).show(20000, False)"
   ]
  },
  {
   "cell_type": "code",
   "execution_count": null,
   "metadata": {},
   "outputs": [],
   "source": [
    "df = check_case(df, 'i3', ts_name, min_dist_per_min, min_pause_duration, max_pause_time).checkpoint()\n",
    "df.drop(*['lat','lon','dow','distance','fixTypeCode',\n",
    "         'cum_pause','total_sec','height','speed','heading','state_cp','tripType_cp','i1','i2','j4']).show(20000, False)"
   ]
  },
  {
   "cell_type": "code",
   "execution_count": null,
   "metadata": {},
   "outputs": [],
   "source": [
    "df = proc_segment(df, 'j1', ts_name, min_dist_per_min, min_pause_duration, max_pause_time, 3, 2, \"CASE1\").checkpoint()\n",
    "df.drop(*['lat','lon','dow','distance','fixTypeCode',\n",
    "         'cum_pause','total_sec','height','speed','heading','state_cp','tripType_cp','i2','i1','j4']).show(20000, False)"
   ]
  },
  {
   "cell_type": "code",
   "execution_count": null,
   "metadata": {},
   "outputs": [],
   "source": [
    "df = df.drop(*['j1','j2','j3','j4'])\n",
    "df = set_pause(df, 'i3', ts_name).checkpoint()\n",
    "df.drop(*['lat','lon','dow','distance','fixTypeCode',\n",
    "         'cum_pause','total_sec','height','speed','heading','state_cp','tripType_cp','i1','i2']).show(20000, False)"
   ]
  },
  {
   "cell_type": "code",
   "execution_count": null,
   "metadata": {},
   "outputs": [],
   "source": [
    "df = check_case(df, 'i3', ts_name, min_dist_per_min, min_pause_duration, max_pause_time).checkpoint()\n",
    "df.drop(*['lat','lon','dow','distance','fixTypeCode',\n",
    "         'cum_pause','total_sec','height','speed','heading','state_cp','tripType_cp','i1','i2','j4']).show(20000, False)"
   ]
  },
  {
   "cell_type": "code",
   "execution_count": null,
   "metadata": {},
   "outputs": [],
   "source": [
    "df = proc_segment(df, 'j1', ts_name, min_dist_per_min, min_pause_duration, max_pause_time, 3, 2, \"CASE1\").checkpoint()\n",
    "df.drop(*['lat','lon','dow','distance','fixTypeCode',\n",
    "         'cum_pause','total_sec','height','speed','heading','state_cp','tripType_cp','i2','i1','j4']).show(20000, False)"
   ]
  },
  {
   "cell_type": "code",
   "execution_count": null,
   "metadata": {},
   "outputs": [],
   "source": [
    "df = df.drop(*['j1','j2','j3','j4'])\n",
    "df = set_pause(df, 'i3', ts_name).checkpoint()\n",
    "df.drop(*['lat','lon','dow','distance','fixTypeCode',\n",
    "         'cum_pause','total_sec','height','speed','heading','state_cp','tripType_cp','i1','i2']).show(20000, False)"
   ]
  },
  {
   "cell_type": "code",
   "execution_count": null,
   "metadata": {},
   "outputs": [],
   "source": [
    "df = check_case(df, 'i3', ts_name, min_dist_per_min, min_pause_duration, max_pause_time).checkpoint()\n",
    "df.drop(*['lat','lon','dow','distance','fixTypeCode',\n",
    "         'cum_pause','total_sec','height','speed','heading','state_cp','tripType_cp','i1','i2','j4']).show(20000, False)"
   ]
  },
  {
   "cell_type": "code",
   "execution_count": null,
   "metadata": {},
   "outputs": [],
   "source": [
    "df = proc_segment(df, 'j1', ts_name, min_dist_per_min, min_pause_duration, max_pause_time, 3, 2, \"CASE1\").checkpoint()\n",
    "df.drop(*['lat','lon','dow','distance','fixTypeCode',\n",
    "         'cum_pause','total_sec','height','speed','heading','state_cp','tripType_cp','i2','i1','j4']).show(20000, False)"
   ]
  },
  {
   "cell_type": "code",
   "execution_count": null,
   "metadata": {},
   "outputs": [],
   "source": [
    "df = df.drop(*['j1','j2','j3','j4'])\n",
    "df = set_pause(df, 'i3', ts_name).checkpoint()\n",
    "df.drop(*['lat','lon','dow','distance','fixTypeCode',\n",
    "         'cum_pause','total_sec','height','speed','heading','state_cp','tripType_cp','i1','i2']).show(20000, False)"
   ]
  },
  {
   "cell_type": "code",
   "execution_count": null,
   "metadata": {},
   "outputs": [],
   "source": [
    "df = check_case(df, 'i3', ts_name, min_dist_per_min, min_pause_duration, max_pause_time).checkpoint()\n",
    "df.drop(*['lat','lon','dow','distance','fixTypeCode',\n",
    "         'cum_pause','total_sec','height','speed','heading','state_cp','tripType_cp','i1','i2','j4']).show(20000, False)"
   ]
  },
  {
   "cell_type": "code",
   "execution_count": null,
   "metadata": {},
   "outputs": [],
   "source": [
    "df2 = proc_segment(df, 'j2', ts_name, min_dist_per_min, min_pause_duration, max_pause_time, 3, 3, \"CASE2\").checkpoint()\n",
    "df2.drop(*['lat','lon','dow','distance','fixTypeCode',\n",
    "         'cum_pause','total_sec','height','speed','heading','state_cp','tripType_cp','i2','i1','j4']).show(20000, False)"
   ]
  },
  {
   "cell_type": "code",
   "execution_count": null,
   "metadata": {},
   "outputs": [],
   "source": [
    "df2 = df2.drop(*['j1','j2','j3','j4'])\n",
    "df2 = set_pause(df2, 'i3', ts_name).checkpoint()\n",
    "df2.drop(*['lat','lon','dow','distance','fixTypeCode',\n",
    "         'cum_pause','total_sec','height','speed','heading','state_cp','tripType_cp','i1','i2']).show(20000, False)"
   ]
  },
  {
   "cell_type": "code",
   "execution_count": null,
   "metadata": {},
   "outputs": [],
   "source": [
    "df2 = check_case(df2, 'i3', ts_name, min_dist_per_min, min_pause_duration, max_pause_time).checkpoint()\n",
    "df2.drop(*['lat','lon','dow','distance','fixTypeCode',\n",
    "         'cum_pause','total_sec','height','speed','heading','state_cp','tripType_cp','i1','i2','j4']).show(20000, False)"
   ]
  },
  {
   "cell_type": "code",
   "execution_count": null,
   "metadata": {},
   "outputs": [],
   "source": [
    "df3 = proc_segment(df2, 'j3', ts_name, min_dist_per_min, min_pause_duration, max_pause_time, 0, 0, \"CASE3\").checkpoint()\n",
    "df3.drop(*['lat','lon','dow','distance','fixTypeCode',\n",
    "         'cum_pause','total_sec','height','speed','heading','state_cp','tripType_cp','i2','i1','j4']).show(20000, False)"
   ]
  },
  {
   "cell_type": "code",
   "execution_count": null,
   "metadata": {},
   "outputs": [],
   "source": [
    "df3 = df3.drop(*['j1','j2','j3','j4'])\n",
    "df3 = set_pause(df3, 'i3', ts_name).checkpoint()\n",
    "df3.drop(*['lat','lon','dow','distance','fixTypeCode',\n",
    "         'cum_pause','total_sec','height','speed','heading','state_cp','tripType_cp','i1','i2']).show(20000, False)"
   ]
  },
  {
   "cell_type": "code",
   "execution_count": null,
   "metadata": {},
   "outputs": [],
   "source": []
  },
  {
   "cell_type": "code",
   "execution_count": null,
   "metadata": {},
   "outputs": [],
   "source": [
    "# segment 166\n",
    "df = set_pause(df, 'i2', ts_name).checkpoint()\n",
    "df.drop(*['lat','lon','dow','distance','fixTypeCode',\n",
    "         'cum_pause','total_sec','height','speed','heading','state_cp','tripType_cp','i1','i3']).show(20000, False)"
   ]
  },
  {
   "cell_type": "code",
   "execution_count": null,
   "metadata": {},
   "outputs": [],
   "source": [
    "df = check_case(df, 'i2', ts_name, min_dist_per_min, min_pause_duration, max_pause_time).checkpoint()\n",
    "df.drop(*['lat','lon','dow','distance','fixTypeCode',\n",
    "         'cum_pause','total_sec','height','speed','heading','state_cp','tripType_cp','i1','i3']).show(20000, False)"
   ]
  },
  {
   "cell_type": "code",
   "execution_count": null,
   "metadata": {},
   "outputs": [],
   "source": [
    "df = proc_segment(df, 'j1', ts_name, min_dist_per_min, min_pause_duration, max_pause_time, 3, 2, \"CASE1\").checkpoint()\n",
    "df.drop(*['lat','lon','dow','distance','fixTypeCode',\n",
    "         'cum_pause','total_sec','height','speed','heading','state_cp','tripType_cp','i1','i3']).show(20000, False)"
   ]
  },
  {
   "cell_type": "code",
   "execution_count": null,
   "metadata": {},
   "outputs": [],
   "source": [
    "df = df.drop(*['j1','j2','j3','j4'])\n",
    "df = set_pause(df, 'i2', ts_name).checkpoint()\n",
    "df.drop(*['lat','lon','dow','distance','fixTypeCode',\n",
    "         'cum_pause','total_sec','height','speed','heading','state_cp','tripType_cp','i1','i3']).show(20000, False)"
   ]
  },
  {
   "cell_type": "code",
   "execution_count": null,
   "metadata": {},
   "outputs": [],
   "source": [
    "df = check_case(df, 'i2', ts_name, min_dist_per_min, min_pause_duration, max_pause_time).checkpoint()\n",
    "df.drop(*['lat','lon','dow','distance','fixTypeCode',\n",
    "         'cum_pause','total_sec','height','speed','heading','state_cp','tripType_cp','i1','i3']).show(20000, False)"
   ]
  },
  {
   "cell_type": "code",
   "execution_count": null,
   "metadata": {},
   "outputs": [],
   "source": [
    "df = proc_segment(df, 'j2', ts_name, min_dist_per_min, min_pause_duration, max_pause_time, 3, 3, \"CASE2\").checkpoint()\n",
    "df.drop(*['lat','lon','dow','distance','fixTypeCode',\n",
    "         'cum_pause','total_sec','height','speed','heading','state_cp','tripType_cp','i1','i3']).show(20000, False)"
   ]
  },
  {
   "cell_type": "code",
   "execution_count": null,
   "metadata": {},
   "outputs": [],
   "source": [
    "df = df.drop(*['j1','j2','j3','j4'])\n",
    "df = set_pause(df, 'i2', ts_name).checkpoint()\n",
    "df.drop(*['lat','lon','dow','distance','fixTypeCode',\n",
    "         'cum_pause','total_sec','height','speed','heading','state_cp','tripType_cp','i1','i3']).show(20000, False)"
   ]
  },
  {
   "cell_type": "code",
   "execution_count": null,
   "metadata": {},
   "outputs": [],
   "source": [
    "df = check_case(df, 'i2', ts_name, min_dist_per_min, min_pause_duration, max_pause_time).checkpoint()\n",
    "df.drop(*['lat','lon','dow','distance','fixTypeCode',\n",
    "         'cum_pause','total_sec','height','speed','heading','state_cp','tripType_cp','i1','i3']).show(20000, False)"
   ]
  },
  {
   "cell_type": "code",
   "execution_count": null,
   "metadata": {},
   "outputs": [],
   "source": [
    "df = proc_segment(df, 'j1', ts_name, min_dist_per_min, min_pause_duration, max_pause_time, 3, 2, \"CASE1\").checkpoint()\n",
    "df.drop(*['lat','lon','dow','distance','fixTypeCode',\n",
    "         'cum_pause','total_sec','height','speed','heading','state_cp','tripType_cp','i1','i3']).show(20000, False)"
   ]
  },
  {
   "cell_type": "code",
   "execution_count": null,
   "metadata": {},
   "outputs": [],
   "source": [
    "df = df.drop(*['j1','j2','j3','j4'])\n",
    "df = set_pause(df, 'i2', ts_name).checkpoint()\n",
    "df.drop(*['lat','lon','dow','distance','fixTypeCode',\n",
    "         'cum_pause','total_sec','height','speed','heading','state_cp','tripType_cp','i1','i3']).show(20000, False)"
   ]
  },
  {
   "cell_type": "code",
   "execution_count": null,
   "metadata": {},
   "outputs": [],
   "source": [
    "df = check_case(df, 'i2', ts_name, min_dist_per_min, min_pause_duration, max_pause_time).checkpoint()\n",
    "df.drop(*['lat','lon','dow','distance','fixTypeCode',\n",
    "         'cum_pause','total_sec','height','speed','heading','state_cp','tripType_cp','i1','i3']).show(20000, False)"
   ]
  },
  {
   "cell_type": "code",
   "execution_count": null,
   "metadata": {},
   "outputs": [],
   "source": [
    "df = proc_segment(df, 'j1', ts_name, min_dist_per_min, min_pause_duration, max_pause_time, 3, 2, \"CASE1\").checkpoint()\n",
    "df.drop(*['lat','lon','dow','distance','fixTypeCode',\n",
    "         'cum_pause','total_sec','height','speed','heading','state_cp','tripType_cp','i1','i3']).show(20000, False)"
   ]
  },
  {
   "cell_type": "code",
   "execution_count": null,
   "metadata": {},
   "outputs": [],
   "source": [
    "df = df.drop(*['j1','j2','j3','j4'])\n",
    "df = set_pause(df, 'i2', ts_name).checkpoint()\n",
    "df.drop(*['lat','lon','dow','distance','fixTypeCode',\n",
    "         'cum_pause','total_sec','height','speed','heading','state_cp','tripType_cp','i1','i3']).show(20000, False)"
   ]
  },
  {
   "cell_type": "code",
   "execution_count": null,
   "metadata": {},
   "outputs": [],
   "source": [
    "df = check_case(df, 'i2', ts_name, min_dist_per_min, min_pause_duration, max_pause_time).checkpoint()\n",
    "df.drop(*['lat','lon','dow','distance','fixTypeCode',\n",
    "         'cum_pause','total_sec','height','speed','heading','state_cp','tripType_cp','i1','i3']).show(20000, False)"
   ]
  },
  {
   "cell_type": "code",
   "execution_count": null,
   "metadata": {},
   "outputs": [],
   "source": [
    "df = proc_segment(df, 'j1', ts_name, min_dist_per_min, min_pause_duration, max_pause_time, 3, 2, \"CASE1\").checkpoint()\n",
    "df.drop(*['lat','lon','dow','distance','fixTypeCode',\n",
    "         'cum_pause','total_sec','height','speed','heading','state_cp','tripType_cp','i1','i3']).show(20000, False)"
   ]
  },
  {
   "cell_type": "code",
   "execution_count": null,
   "metadata": {},
   "outputs": [],
   "source": [
    "df = df.drop(*['j1','j2','j3','j4'])\n",
    "df = set_pause(df, 'i2', ts_name).checkpoint()\n",
    "df.drop(*['lat','lon','dow','distance','fixTypeCode',\n",
    "         'cum_pause','total_sec','height','speed','heading','state_cp','tripType_cp','i1','i3']).show(20000, False)"
   ]
  },
  {
   "cell_type": "code",
   "execution_count": null,
   "metadata": {},
   "outputs": [],
   "source": [
    "df = check_case(df, 'i2', ts_name, min_dist_per_min, min_pause_duration, max_pause_time).checkpoint()\n",
    "df.drop(*['lat','lon','dow','distance','fixTypeCode',\n",
    "         'cum_pause','total_sec','height','speed','heading','state_cp','tripType_cp','i1','i3']).show(20000, False)"
   ]
  },
  {
   "cell_type": "code",
   "execution_count": null,
   "metadata": {},
   "outputs": [],
   "source": [
    "df = proc_segment(df, 'j1', ts_name, min_dist_per_min, min_pause_duration, max_pause_time, 3, 2, \"CASE1\").checkpoint()\n",
    "df.drop(*['lat','lon','dow','distance','fixTypeCode',\n",
    "         'cum_pause','total_sec','height','speed','heading','state_cp','tripType_cp','i1','i3']).show(20000, False)"
   ]
  },
  {
   "cell_type": "code",
   "execution_count": null,
   "metadata": {},
   "outputs": [],
   "source": [
    "df = df.drop(*['j1','j2','j3','j4'])\n",
    "df = set_pause(df, 'i2', ts_name).checkpoint()\n",
    "df.drop(*['lat','lon','dow','distance','fixTypeCode',\n",
    "         'cum_pause','total_sec','height','speed','heading','state_cp','tripType_cp','i1','i3']).show(20000, False)"
   ]
  },
  {
   "cell_type": "code",
   "execution_count": null,
   "metadata": {},
   "outputs": [],
   "source": [
    "df = check_case(df, 'i2', ts_name, min_dist_per_min, min_pause_duration, max_pause_time).checkpoint()\n",
    "df.drop(*['lat','lon','dow','distance','fixTypeCode',\n",
    "         'cum_pause','total_sec','height','speed','heading','state_cp','tripType_cp','i1','i3','j3']).show(20000, False)"
   ]
  },
  {
   "cell_type": "code",
   "execution_count": null,
   "metadata": {},
   "outputs": [],
   "source": [
    "df2 = proc_segment(df, 'j4', ts_name, min_dist_per_min, min_pause_duration, max_pause_time, 0, 0, \"CASE4\").checkpoint()\n",
    "df2.drop(*['lat','lon','dow','distance','fixTypeCode',\n",
    "         'cum_pause','total_sec','height','speed','heading','state_cp','tripType_cp','i1','i3','j3']).show(20000, False)"
   ]
  },
  {
   "cell_type": "code",
   "execution_count": null,
   "metadata": {},
   "outputs": [],
   "source": [
    "df2 = df2.drop(*['j1','j2','j3'])\n",
    "df2 = set_pause(df2, 'j4', ts_name).checkpoint()\n",
    "df2.drop(*['lat','lon','dow','distance','fixTypeCode',\n",
    "         'cum_pause','total_sec','height','speed','heading','state_cp','tripType_cp','i1','i3','j3']).show(20000, False)"
   ]
  },
  {
   "cell_type": "code",
   "execution_count": null,
   "metadata": {},
   "outputs": [],
   "source": [
    "df2 = check_case(df2, 'i2', ts_name, min_dist_per_min, min_pause_duration, max_pause_time).checkpoint()\n",
    "df2.drop(*['lat','lon','dow','distance','fixTypeCode',\n",
    "         'cum_pause','total_sec','height','speed','heading','state_cp','tripType_cp','i1','i3','j4']).show(20000, False)"
   ]
  },
  {
   "cell_type": "code",
   "execution_count": null,
   "metadata": {},
   "outputs": [],
   "source": [
    "df2 = proc_segment(df2, 'j3', ts_name, min_dist_per_min, min_pause_duration, max_pause_time, 0, 0, \"CASE3\").checkpoint()\n",
    "df2.drop(*['lat','lon','dow','distance','fixTypeCode',\n",
    "         'cum_pause','total_sec','height','speed','heading','state_cp','tripType_cp','i1','i3','j4','j1','j2']).show(20000, False)"
   ]
  },
  {
   "cell_type": "code",
   "execution_count": null,
   "metadata": {},
   "outputs": [],
   "source": [
    "df3 = df2.drop(*['j1','j2','j3','j4'])\n",
    "df3 = set_pause(df3, 'i2', ts_name).checkpoint()\n",
    "df3.drop(*['lat','lon','dow','distance','fixTypeCode',\n",
    "         'cum_pause','total_sec','height','speed','heading','state_cp','tripType_cp','i1','i3']).show(20000, False)"
   ]
  },
  {
   "cell_type": "code",
   "execution_count": null,
   "metadata": {},
   "outputs": [],
   "source": [
    "df3 = check_case(df3, 'i2', ts_name, min_dist_per_min, min_pause_duration, max_pause_time).checkpoint()\n",
    "df3.drop(*['lat','lon','dow','distance','fixTypeCode',\n",
    "         'cum_pause','total_sec','height','speed','heading','state_cp','tripType_cp','i1','i3','j4']).show(20000, False)"
   ]
  },
  {
   "cell_type": "code",
   "execution_count": null,
   "metadata": {},
   "outputs": [],
   "source": [
    "df3 = proc_segment(df3, 'j1', ts_name, min_dist_per_min, min_pause_duration, max_pause_time, 3, 2, \"CASE1\").checkpoint()\n",
    "df3.drop(*['lat','lon','dow','distance','fixTypeCode',\n",
    "         'cum_pause','total_sec','height','speed','heading','state_cp','tripType_cp','i1','i3']).show(20000, False)"
   ]
  },
  {
   "cell_type": "code",
   "execution_count": null,
   "metadata": {},
   "outputs": [],
   "source": [
    "df3 = df3.drop(*['j1','j2','j3','j4'])\n",
    "df3 = set_pause(df3, 'i2', ts_name).checkpoint()\n",
    "df3.drop(*['lat','lon','dow','distance','fixTypeCode',\n",
    "         'cum_pause','total_sec','height','speed','heading','state_cp','tripType_cp','i1','i3']).show(20000, False)"
   ]
  },
  {
   "cell_type": "code",
   "execution_count": null,
   "metadata": {},
   "outputs": [],
   "source": [
    "df3 = check_case(df3, 'i2', ts_name, min_dist_per_min, min_pause_duration, max_pause_time).checkpoint()\n",
    "df3.drop(*['lat','lon','dow','distance','fixTypeCode',\n",
    "         'cum_pause','total_sec','height','speed','heading','state_cp','tripType_cp','i1','i3','j4']).show(20000, False)"
   ]
  },
  {
   "cell_type": "code",
   "execution_count": null,
   "metadata": {},
   "outputs": [],
   "source": [
    "df3 = proc_segment(df3, 'j1', ts_name, min_dist_per_min, min_pause_duration, max_pause_time, 3, 2, \"CASE1\").checkpoint()\n",
    "df3.drop(*['lat','lon','dow','distance','fixTypeCode',\n",
    "         'cum_pause','total_sec','height','speed','heading','state_cp','tripType_cp','i1','i3']).show(20000, False)"
   ]
  },
  {
   "cell_type": "code",
   "execution_count": null,
   "metadata": {},
   "outputs": [],
   "source": [
    "df3 = df3.drop(*['j1','j2','j3','j4'])\n",
    "df3 = set_pause(df3, 'i2', ts_name).checkpoint()\n",
    "df3.drop(*['lat','lon','dow','distance','fixTypeCode',\n",
    "         'cum_pause','total_sec','height','speed','heading','state_cp','tripType_cp','i1','i3']).show(20000, False)"
   ]
  },
  {
   "cell_type": "code",
   "execution_count": null,
   "metadata": {},
   "outputs": [],
   "source": [
    "df3 = check_case(df3, 'i2', ts_name, min_dist_per_min, min_pause_duration, max_pause_time).checkpoint()\n",
    "df3.drop(*['lat','lon','dow','distance','fixTypeCode',\n",
    "         'cum_pause','total_sec','height','speed','heading','state_cp','tripType_cp','i1','i3','j4']).show(20000, False)"
   ]
  },
  {
   "cell_type": "code",
   "execution_count": null,
   "metadata": {},
   "outputs": [],
   "source": [
    "df3 = proc_segment(df3, 'j1', ts_name, min_dist_per_min, min_pause_duration, max_pause_time, 3, 2, \"CASE1\").checkpoint()\n",
    "df3.drop(*['lat','lon','dow','distance','fixTypeCode',\n",
    "         'cum_pause','total_sec','height','speed','heading','state_cp','tripType_cp','i1','i3','j4','j1','j2']).show(20000, False)"
   ]
  },
  {
   "cell_type": "code",
   "execution_count": null,
   "metadata": {},
   "outputs": [],
   "source": [
    "df3.drop(*['lat','lon','dow','distance','fixTypeCode',\n",
    "         'cum_pause','total_sec','height','speed','heading','state_cp','tripType_cp','i2','i3','j4','j1','j2','j3']).show(20000, False)"
   ]
  },
  {
   "cell_type": "code",
   "execution_count": null,
   "metadata": {},
   "outputs": [],
   "source": [
    "# segment 180\n",
    "df4 = proc_segment(df3, 'i1', ts_name, min_dist_per_min, min_pause_duration, max_pause_time, 3, 2, \"CASE1\").checkpoint()\n",
    "df4.drop(*['lat','lon','dow','distance','fixTypeCode',\n",
    "         'cum_pause','total_sec','height','speed','heading','state_cp','tripType_cp','i2','i3','j4']).show(20000, False)"
   ]
  },
  {
   "cell_type": "code",
   "execution_count": null,
   "metadata": {},
   "outputs": [],
   "source": [
    "df4 = df4.drop(*['j1','j2','j3','j4'])\n",
    "df4 = set_pause(df4, 'i1', ts_name).checkpoint()\n",
    "df4.drop(*['lat','lon','dow','distance','fixTypeCode',\n",
    "         'cum_pause','total_sec','height','speed','heading','state_cp','tripType_cp','i2','i3']).show(20000, False)"
   ]
  },
  {
   "cell_type": "code",
   "execution_count": null,
   "metadata": {},
   "outputs": [],
   "source": [
    "df4 = check_case(df4, 'i1', ts_name, min_dist_per_min, min_pause_duration, max_pause_time).checkpoint()\n",
    "df4.drop(*['lat','lon','dow','distance','fixTypeCode',\n",
    "         'cum_pause','total_sec','height','speed','heading','state_cp','tripType_cp','i2','i3','j4']).show(20000, False)"
   ]
  },
  {
   "cell_type": "code",
   "execution_count": null,
   "metadata": {},
   "outputs": [],
   "source": [
    "df4 = proc_segment(df4, 'j1', ts_name, min_dist_per_min, min_pause_duration, max_pause_time, 3, 2, \"CASE1\").checkpoint()\n",
    "df4.drop(*['lat','lon','dow','distance','fixTypeCode',\n",
    "         'cum_pause','total_sec','height','speed','heading','state_cp','tripType_cp','i2','i3','j4']).show(20000, False)"
   ]
  },
  {
   "cell_type": "code",
   "execution_count": null,
   "metadata": {},
   "outputs": [],
   "source": [
    "df4 = df4.drop(*['j1','j2','j3','j4'])\n",
    "df4 = set_pause(df4, 'i1', ts_name).checkpoint()\n",
    "df4.drop(*['lat','lon','dow','distance','fixTypeCode',\n",
    "         'cum_pause','total_sec','height','speed','heading','state_cp','tripType_cp','i2','i3']).show(20000, False)"
   ]
  },
  {
   "cell_type": "code",
   "execution_count": null,
   "metadata": {},
   "outputs": [],
   "source": [
    "df4 = check_case(df4, 'i1', ts_name, min_dist_per_min, min_pause_duration, max_pause_time).checkpoint()\n",
    "df4.drop(*['lat','lon','dow','distance','fixTypeCode',\n",
    "         'cum_pause','total_sec','height','speed','heading','state_cp','tripType_cp','i2','i3','j4']).show(20000, False)"
   ]
  },
  {
   "cell_type": "code",
   "execution_count": null,
   "metadata": {},
   "outputs": [],
   "source": [
    "df4 = proc_segment(df4, 'j2', ts_name, min_dist_per_min, min_pause_duration, max_pause_time, 3, 3, \"CASE2\").checkpoint()\n",
    "df4.drop(*['lat','lon','dow','distance','fixTypeCode',\n",
    "         'cum_pause','total_sec','height','speed','heading','state_cp','tripType_cp','i1','i3']).show(20000, False)"
   ]
  },
  {
   "cell_type": "code",
   "execution_count": null,
   "metadata": {},
   "outputs": [],
   "source": [
    "df4 = df4.drop(*['j1','j2','j3','j4'])\n",
    "df4 = set_pause(df4, 'i1', ts_name).checkpoint()\n",
    "df4.drop(*['lat','lon','dow','distance','fixTypeCode',\n",
    "         'cum_pause','total_sec','height','speed','heading','state_cp','tripType_cp','i2','i3']).show(20000, False)"
   ]
  },
  {
   "cell_type": "code",
   "execution_count": null,
   "metadata": {},
   "outputs": [],
   "source": [
    "df5 = check_case(df4, 'i1', ts_name, min_dist_per_min, min_pause_duration, max_pause_time).checkpoint()\n",
    "df5.drop(*['lat','lon','dow','distance','fixTypeCode',\n",
    "         'cum_pause','total_sec','height','speed','heading','state_cp','tripType_cp','i2','i3','j4']).show(20000, False)"
   ]
  },
  {
   "cell_type": "code",
   "execution_count": null,
   "metadata": {},
   "outputs": [],
   "source": [
    "df5 = proc_segment(df5, 'j2', ts_name, min_dist_per_min, min_pause_duration, max_pause_time, 3, 3, \"CASE2\").checkpoint()\n",
    "df5.drop(*['lat','lon','dow','distance','fixTypeCode',\n",
    "         'cum_pause','total_sec','height','speed','heading','state_cp','tripType_cp','i1','i3']).show(20000, False)"
   ]
  },
  {
   "cell_type": "code",
   "execution_count": null,
   "metadata": {},
   "outputs": [],
   "source": [
    "df5 = df5.drop(*['j1','j2','j3','j4'])\n",
    "df5 = set_pause(df5, 'i1', ts_name).checkpoint()\n",
    "df5.drop(*['lat','lon','dow','distance','fixTypeCode',\n",
    "         'cum_pause','total_sec','height','speed','heading','state_cp','tripType_cp','i2','i3']).show(20000, False)"
   ]
  },
  {
   "cell_type": "code",
   "execution_count": null,
   "metadata": {},
   "outputs": [],
   "source": [
    "df5 = check_case(df5, 'i1', ts_name, min_dist_per_min, min_pause_duration, max_pause_time).checkpoint()\n",
    "df5.drop(*['lat','lon','dow','distance','fixTypeCode',\n",
    "         'cum_pause','total_sec','height','speed','heading','state_cp','tripType_cp','i2','i3','j4']).show(20000, False)"
   ]
  },
  {
   "cell_type": "code",
   "execution_count": null,
   "metadata": {},
   "outputs": [],
   "source": [
    "df5 = proc_segment(df5, 'j2', ts_name, min_dist_per_min, min_pause_duration, max_pause_time, 3, 3, \"CASE2\").checkpoint()\n",
    "df5.drop(*['lat','lon','dow','distance','fixTypeCode',\n",
    "         'cum_pause','total_sec','height','speed','heading','state_cp','tripType_cp','i1','i3']).show(20000, False)"
   ]
  },
  {
   "cell_type": "code",
   "execution_count": null,
   "metadata": {},
   "outputs": [],
   "source": [
    "df5 = df5.drop(*['j1','j2','j3','j4'])\n",
    "df5 = set_pause(df5, 'i1', ts_name).checkpoint()\n",
    "df5.drop(*['lat','lon','dow','distance','fixTypeCode',\n",
    "         'cum_pause','total_sec','height','speed','heading','state_cp','tripType_cp','i2','i3']).show(20000, False)"
   ]
  },
  {
   "cell_type": "code",
   "execution_count": null,
   "metadata": {},
   "outputs": [],
   "source": [
    "df5 = check_case(df5, 'i1', ts_name, min_dist_per_min, min_pause_duration, max_pause_time).checkpoint()\n",
    "df5.drop(*['lat','lon','dow','distance','fixTypeCode',\n",
    "         'cum_pause','total_sec','height','speed','heading','state_cp','tripType_cp','i2','i3','j4']).show(20000, False)"
   ]
  },
  {
   "cell_type": "code",
   "execution_count": null,
   "metadata": {},
   "outputs": [],
   "source": [
    "df5 = proc_segment(df5, 'j3', ts_name, min_dist_per_min, min_pause_duration, max_pause_time, 0, 0, \"CASE3\").checkpoint()\n",
    "df5.drop(*['lat','lon','dow','distance','fixTypeCode',\n",
    "         'cum_pause','total_sec','height','speed','heading','state_cp','tripType_cp','i1','i3','j4']).show(20000, False)"
   ]
  },
  {
   "cell_type": "code",
   "execution_count": null,
   "metadata": {},
   "outputs": [],
   "source": [
    "df5.drop(*['lat','lon','dow','distance','fixTypeCode',\n",
    "         'cum_pause','total_sec','height','speed','heading','state_cp','tripType_cp','i2','i3','j4']).show(20000, False)"
   ]
  },
  {
   "cell_type": "code",
   "execution_count": null,
   "metadata": {},
   "outputs": [],
   "source": [
    "#segment 188\n",
    "df6 = proc_segment(df5, 'j1', ts_name, min_dist_per_min, min_pause_duration, max_pause_time, 3, 2, \"CASE1\").checkpoint()\n",
    "df6.drop(*['lat','lon','dow','distance','fixTypeCode',\n",
    "         'cum_pause','total_sec','height','speed','heading','state_cp','tripType_cp','i1','i3','j4']).show(20000, False)"
   ]
  },
  {
   "cell_type": "code",
   "execution_count": null,
   "metadata": {},
   "outputs": [],
   "source": [
    "df6 = df6.drop(*['j1','j2','j3','j4'])\n",
    "df6 = set_pause(df6, 'i1', ts_name).checkpoint()\n",
    "df6.drop(*['lat','lon','dow','distance','fixTypeCode',\n",
    "         'cum_pause','total_sec','height','speed','heading','state_cp','tripType_cp','i2','i3']).show(20000, False)"
   ]
  },
  {
   "cell_type": "code",
   "execution_count": null,
   "metadata": {},
   "outputs": [],
   "source": [
    "df6 = check_case(df6, 'i1', ts_name, min_dist_per_min, min_pause_duration, max_pause_time).checkpoint()\n",
    "df6.drop(*['lat','lon','dow','distance','fixTypeCode',\n",
    "         'cum_pause','total_sec','height','speed','heading','state_cp','tripType_cp','i2','i3','j4']).show(20000, False)"
   ]
  },
  {
   "cell_type": "code",
   "execution_count": null,
   "metadata": {},
   "outputs": [],
   "source": [
    "df6 = proc_segment(df6, 'j3', ts_name, min_dist_per_min, min_pause_duration, max_pause_time, 0, 0, \"CASE3\").checkpoint()\n",
    "df6.drop(*['lat','lon','dow','distance','fixTypeCode',\n",
    "         'cum_pause','total_sec','height','speed','heading','state_cp','tripType_cp','i1','i3','j4']).show(20000, False)"
   ]
  },
  {
   "cell_type": "code",
   "execution_count": null,
   "metadata": {},
   "outputs": [],
   "source": [
    "df6.drop(*['lat','lon','dow','distance','fixTypeCode',\n",
    "         'cum_pause','total_sec','height','speed','heading','state_cp','tripType_cp','j4','j1','j2','j3']).show(20000, False)"
   ]
  },
  {
   "cell_type": "code",
   "execution_count": null,
   "metadata": {},
   "outputs": [],
   "source": []
  },
  {
   "cell_type": "code",
   "execution_count": null,
   "metadata": {},
   "outputs": [],
   "source": [
    "def push_and_pop(rdd):\n",
    "    # two transformations: moves the head element to the tail\n",
    "    first = rdd.first()\n",
    "    return rdd.filter(\n",
    "        lambda obj: obj != first\n",
    "    ).union(\n",
    "        sc.parallelize([first])\n",
    "    )\n",
    "\n",
    "def serialize_and_deserialize(rdd):\n",
    "    # perform a collect() action to evaluate the rdd and create a new instance\n",
    "    return sc.parallelize(rdd.collect())\n",
    "\n",
    "def do_test(serialize=False):\n",
    "    rdd = sc.parallelize(range(1000))\n",
    "    for i in xrange(25):\n",
    "        t0 = time.time()\n",
    "        rdd = push_and_pop(rdd)\n",
    "        if serialize:\n",
    "            rdd = serialize_and_deserialize(rdd)\n",
    "        print(\"%.3f\" % (time.time() - t0))\n",
    "\n",
    "do_test()"
   ]
  },
  {
   "cell_type": "code",
   "execution_count": null,
   "metadata": {},
   "outputs": [],
   "source": [
    "tw = str(60) + ' seconds'\n",
    "sw = str(60) + ' seconds'\n",
    "\n",
    "st_sec = str(df.first()[0].second)\n",
    "\n",
    "offset = st_sec + ' seconds' \n",
    "\n",
    "param_name = 'distance'\n",
    "\n",
    "df.groupBy(\n",
    "            F.window(ts_name, tw, sw, offset)\n",
    "          ).sum(param_name)\\\n",
    "           .select('window','sum({})'.format(param_name))\\\n",
    "           .withColumn('start', F.col('window').start)\\\n",
    "           .withColumn('end', F.col('window').end)\\\n",
    "           .drop('window')\\\n",
    "           .show(20, False)\n",
    "\"\"\"\n",
    "df.groupBy(\n",
    "            F.window(ts_name, tw, sw, offset)\n",
    "          ).sum()\\\n",
    "           .sort('window.start')\\\n",
    "           .filter(F.col('sum({})'.format(param_name))>=min_dist_per_min)\\\n",
    "           .select('window')\\\n",
    "           .withColumn('start', F.col('window').start)\\\n",
    "           .withColumn('end', F.col('window').end)\\\n",
    "           .drop('window')\\\n",
    "           .show(20, False)\n",
    "\"\"\""
   ]
  },
  {
   "cell_type": "code",
   "execution_count": null,
   "metadata": {},
   "outputs": [],
   "source": []
  },
  {
   "cell_type": "code",
   "execution_count": null,
   "metadata": {},
   "outputs": [],
   "source": []
  },
  {
   "cell_type": "code",
   "execution_count": null,
   "metadata": {},
   "outputs": [],
   "source": []
  },
  {
   "cell_type": "code",
   "execution_count": null,
   "metadata": {},
   "outputs": [],
   "source": []
  },
  {
   "cell_type": "code",
   "execution_count": null,
   "metadata": {},
   "outputs": [],
   "source": []
  },
  {
   "cell_type": "markdown",
   "metadata": {},
   "source": [
    "## Accelerometer data processing"
   ]
  },
  {
   "cell_type": "markdown",
   "metadata": {},
   "source": [
    "row = Row(\"id\", \"date\", \"value\")\n",
    "df = sc.parallelize([\n",
    "        row(1, \"2015-01-01\", 20.0),\n",
    "        row(2, \"2015-01-02\", 30.0),\n",
    "        row(3, \"2015-01-03\", 0.0),\n",
    "        row(4, \"2015-01-04\", 30.0),\n",
    "        row(5, \"2015-01-05\", 50.0),\n",
    "        row(6, \"2015-01-06\", 0.0),\n",
    "        row(7, \"2015-01-07\", 0.0),\n",
    "        row(8, \"2015-01-08\", 0.0),\n",
    "        row(9, \"2015-01-09\", 0.0),\n",
    "        row(10, \"2015-01-10\", 0.0),\n",
    "        row(11, \"2015-01-11\", 20.0),\n",
    "        row(12, \"2015-01-12\", 0.0),\n",
    "        row(13, \"2015-01-13\", 0.0),\n",
    "        row(14, \"2015-01-14\", 40.0),\n",
    "        row(15, \"2015-01-15\", 8.0),\n",
    "        row(16, \"2015-01-16\", 0.0)\n",
    "    ]).toDF().withColumn(\"date\", F.col(\"date\").cast(\"timestamp\"))\n",
    "\n",
    "df.show(20, False)"
   ]
  },
  {
   "cell_type": "markdown",
   "metadata": {},
   "source": [
    "tw = str(24*60) + ' minutes'\n",
    "sw = str(24*3600) + ' seconds'\n",
    "offset = str(0) + ' seconds'\n",
    "datetime_name = 'date'\n",
    "param_name = 'value'\n",
    "param_value = 0\n",
    "\n",
    "df.groupBy(\n",
    "            F.window(datetime_name, '{}'.format(tw),'{}'.format(sw),'{}'.format(offset))\n",
    "         ).avg(param_name)\\\n",
    "          .sort('window.start')\\\n",
    "          .filter(F.col('avg({})'.format(param_name))==param_value)\\\n",
    "          .select('window')\\\n",
    "          .withColumn('start', F.col('window').start)\\\n",
    "          .withColumn('end', F.col('window').end)\\\n",
    "          .drop('window')\\\n",
    "          .show(20, False)"
   ]
  },
  {
   "cell_type": "code",
   "execution_count": null,
   "metadata": {},
   "outputs": [],
   "source": [
    "#acc_path_raw = '/Users/molinaro/Documents/GITHUB/PALMS/data/raw/Calgary/acc/A01r_5sec.csv'\n",
    "#acc_path_raw = '/Users/molinaro/Documents/GITHUB/PALMS/data/raw/APEN baseline/acc/14A1.csv'\n",
    "#acc_path_raw = '/Users/molinaro/Documents/GITHUB/PALMS/data/raw/APEN follow-up/acc/24A02.csv'\n",
    "#acc_path_raw = '/Users/molinaro/Documents/GITHUB/PALMS/data/raw/Barcelona_youth/acc/G01FWS6.csv'\n",
    "#acc_path_raw = '/Users/molinaro/Documents/GITHUB/PALMS/data/raw/DPS baseline/acc/117101.csv'\n",
    "#acc_path_raw = '/Users/molinaro/Documents/GITHUB/PALMS/data/raw/DPS follow_up/acc/217101.csv'\n",
    "#acc_path_raw = '/Users/molinaro/Documents/GITHUB/PALMS/data/raw/IPEN_Y_BE/acc/32_0006.csv'\n",
    "#acc_path_raw = '/Users/molinaro/Documents/GITHUB/PALMS/data/raw/IPEN_Y_DK/acc/160101.csv'\n",
    "#acc_path_raw = '/Users/molinaro/Documents/GITHUB/PALMS/data/raw/NBBB baseline/acc/wcmc201003a1_cdt.csv'\n",
    "#acc_path_raw = '/Users/molinaro/Documents/GITHUB/PALMS/data/raw/NBBB follow_up/acc/201004a1.csv'\n",
    "acc_path_raw = '/Users/molinaro/Documents/GITHUB/PALMS/data/PARC_data/NYC/accelerometer/2001_1s.csv'"
   ]
  },
  {
   "cell_type": "code",
   "execution_count": null,
   "metadata": {},
   "outputs": [],
   "source": [
    "acc_data_raw = spark.read.text(acc_path_raw)\n",
    "acc_data_raw.cache()"
   ]
  },
  {
   "cell_type": "code",
   "execution_count": null,
   "metadata": {},
   "outputs": [],
   "source": [
    "acc_data_raw.count()"
   ]
  },
  {
   "cell_type": "code",
   "execution_count": null,
   "metadata": {},
   "outputs": [],
   "source": [
    "interval, acc_data = gen_acc_dataframe(acc_data_raw)"
   ]
  },
  {
   "cell_type": "code",
   "execution_count": null,
   "metadata": {},
   "outputs": [],
   "source": [
    "print(interval)\n",
    "acc_data.show(20,False)"
   ]
  },
  {
   "cell_type": "code",
   "execution_count": null,
   "metadata": {},
   "outputs": [],
   "source": [
    "acc_data.printSchema()"
   ]
  },
  {
   "cell_type": "code",
   "execution_count": null,
   "metadata": {},
   "outputs": [],
   "source": [
    "acc_columns = ['axis1','axis2','axis3','steps','lux','incl_off','incl_standing','incl_sitting','incl_lying']\n",
    "acc_data_ext = split_acc_data(acc_data, acc_columns)\n",
    "acc_data_ext.cache()"
   ]
  },
  {
   "cell_type": "code",
   "execution_count": null,
   "metadata": {},
   "outputs": [],
   "source": [
    "ts_name = 'timestamp'\n",
    "window = 5 #seconds\n",
    "\n",
    "acc_data_act = select_acc_intervals(acc_data_ext, ts_name, interval, window, False, True)\n",
    "acc_data_act.show(10000, False)"
   ]
  },
  {
   "cell_type": "code",
   "execution_count": null,
   "metadata": {},
   "outputs": [],
   "source": [
    "#LightCO, ModerateCO, HardCO, VeryHardCO = (100, 1953, 5725, 99999)\n",
    "#LightCO, ModerateCO, HardCO, VeryHardCO = (100, 1953, 5725, 9498)\n",
    "#LightCO, ModerateCO, HardCO, VeryHardCO = (500, 2000, 3000, 4500)\n",
    "LightCO, ModerateCO, HardCO, VeryHardCO = (133, 193, 233, 9999)\n",
    "window = 5 #seconds\n",
    "acc_data_act = activity_count(acc_data_act, 'timestamp', window, LightCO, ModerateCO, HardCO, VeryHardCO, False)\n",
    "acc_data_act.cache()"
   ]
  },
  {
   "cell_type": "code",
   "execution_count": null,
   "metadata": {},
   "outputs": [],
   "source": [
    "acc_data_act.show(10000, False)"
   ]
  },
  {
   "cell_type": "code",
   "execution_count": null,
   "metadata": {},
   "outputs": [],
   "source": [
    "acc_data_ext.show(10000, False)"
   ]
  },
  {
   "cell_type": "code",
   "execution_count": null,
   "metadata": {},
   "outputs": [],
   "source": [
    "# DETERMINE NON-WEAR PERIOD\n",
    "ts_name = 'timestamp'\n",
    "AC_name = 'activity'\n",
    "AI_name = 'activityIntensity'\n",
    "new_col = 'non_wear'\n",
    "window = 5\n",
    "minutes_zeros_row = 90\n",
    "\n",
    "acc_data_act = non_wear_filter(acc_data_act, ts_name, AC_name, AI_name, window, minutes_zeros_row)\n",
    "acc_data_act#.cache()\n",
    "acc_data_act.count()"
   ]
  },
  {
   "cell_type": "markdown",
   "metadata": {},
   "source": [
    "date_format = '%Y-%m-%d'\n",
    "time_format = '%H:%M:%S'\n",
    "datetime_format = date_format + ' ' + time_format\n",
    "startdate = datetime.strptime('2016-08-16 18:23:25', datetime_format) \n",
    "df = non_wear_filter(acc_data_act.filter(F.col('timestamp')>=startdate), \n",
    "                                         ts_name, AC_name, AI_name, interval)"
   ]
  },
  {
   "cell_type": "code",
   "execution_count": null,
   "metadata": {},
   "outputs": [],
   "source": [
    "# DETERMINE ACTIVITY BOUT NUMBER\n",
    "ts_name = 'timestamp'\n",
    "AC_name = 'activity'\n",
    "new_col = 'activityBoutNumber'\n",
    "window = 5\n",
    "UP=9999\n",
    "LOW=1953\n",
    "DURATION=10\n",
    "TOL=2\n",
    "\n",
    "acc_data_act = activity_bout_filter(acc_data_act, ts_name, AC_name, new_col, window,\n",
    "                                    UP, LOW, DURATION, TOL)\n",
    "acc_data_act.cache()\n",
    "acc_data_act.count()"
   ]
  },
  {
   "cell_type": "code",
   "execution_count": null,
   "metadata": {},
   "outputs": [],
   "source": [
    "acc_data_act.show(20, False)"
   ]
  },
  {
   "cell_type": "code",
   "execution_count": null,
   "metadata": {},
   "outputs": [],
   "source": [
    "acc_data_act.join(acc_data_ext, ['timestamp'], how='left' ).orderBy('timestamp').show(20,False)"
   ]
  },
  {
   "cell_type": "markdown",
   "metadata": {},
   "source": [
    "df2.filter(F.col('activityBoutNumber')==1).orderBy('timestamp').show(2000)"
   ]
  },
  {
   "cell_type": "code",
   "execution_count": null,
   "metadata": {},
   "outputs": [],
   "source": [
    "import glob\n",
    "list_procs = sorted(glob.glob(\"PALMS_output/*.csv\"))\n",
    "print(list_procs)\n",
    "header_saved = False\n",
    "with open('PALMS_output.csv', 'w') as fout:\n",
    "    for filename in list_procs:\n",
    "        with open(filename) as fin:\n",
    "            head = next(fin)\n",
    "            if not header_saved:\n",
    "                fout.write(head)\n",
    "                header_saved = True\n",
    "            for line in fin:\n",
    "                fout.write(line)"
   ]
  },
  {
   "cell_type": "code",
   "execution_count": null,
   "metadata": {},
   "outputs": [],
   "source": [
    "# DETERMINE SEDENTARY BOUT NUMBER\n",
    "ts_name = 'timestamp'\n",
    "AC_name = 'activity'\n",
    "new_col = 'sedentaryBoutNumber'\n",
    "window = 5\n",
    "UP=180\n",
    "LOW=0\n",
    "DURATION=30\n",
    "TOL=1\n",
    "\n",
    "acc_data_act = sedentary_bout_filter(acc_data_act, ts_name, AC_name, new_col, window,\n",
    "                                     UP, LOW, DURATION, TOL)\n",
    "acc_data_act.cache()\n",
    "acc_data_act.count()"
   ]
  },
  {
   "cell_type": "markdown",
   "metadata": {},
   "source": [
    "df3.filter(F.col('sedentaryBoutNumber')==5).orderBy('timestamp').show(2000)"
   ]
  },
  {
   "cell_type": "code",
   "execution_count": null,
   "metadata": {},
   "outputs": [],
   "source": [
    "acc_data_act.show(20000,False)"
   ]
  },
  {
   "cell_type": "markdown",
   "metadata": {},
   "source": [
    "tw = '10 minutes'\n",
    "sw = '10 minutes'\n",
    "st_min = acc_data_act.first()[0].minute\n",
    "st_sec = acc_data_act.first()[0].second\n",
    "start_time = (st_min-10*(st_min//10))*60 + st_sec\n",
    "offset = '{} seconds'.format(str(start_time))\n",
    "param_name = 'activityIntensity'\n",
    "datetime_name = 'timestamp'\n",
    "\n",
    "df_tws = df.groupBy(\n",
    "            F.window(datetime_name, '{}'.format(tw),'{}'.format(sw),'{}'.format(offset))\n",
    "             ).count()\\\n",
    "              .sort('window.start')\\\n",
    "              .withColumn('start', F.col('window').start)\\\n",
    "              .withColumn('end', F.col('window').end)\\\n",
    "              .drop('window')\n",
    "              \n",
    "df_tws.show(100, False)           "
   ]
  },
  {
   "cell_type": "markdown",
   "metadata": {},
   "source": [
    "from pyspark.sql import Row\n",
    "from pyspark.sql.window import Window\n",
    "\n",
    "def test_window(ws):\n",
    "    \n",
    "    \"\"\"\n",
    "        Small dataframe to test the sliding window \n",
    "    \n",
    "    \"\"\"\n",
    "    \n",
    "    row = Row(\"id\", \"date\", \"value\")\n",
    "    \n",
    "    df = sc.parallelize([\n",
    "        row(1, \"2015-01-01\", 20.0),\n",
    "        row(2, \"2015-01-06\", 10.0),\n",
    "        row(3, \"2015-01-07\", None),\n",
    "        row(4, \"2015-01-12\", 30.0),\n",
    "        row(5, \"2015-01-13\", 5.0),\n",
    "        row(6, \"2015-01-14\", None),\n",
    "        row(7, \"2015-01-15\", None),\n",
    "        row(8, \"2015-01-16\", None),\n",
    "        row(9, \"2015-01-17\", None),\n",
    "        row(10, \"2015-01-18\", 20.0),\n",
    "        row(11, \"2015-01-19\", 20.0),\n",
    "        row(12, \"2015-01-20\", None),\n",
    "        row(13, \"2015-01-21\", None)\n",
    "    ]).toDF().withColumn(\"date\", F.col(\"date\").cast(\"timestamp\"))\n",
    "    \n",
    "    df = df.withColumn('tot_sec', F.col('date').cast('long'))\n",
    "    df.createOrReplaceTempView('df')\n",
    "    df = spark.sql(\"\"\"select *, tot_sec - lag(tot_sec, 1, 0)\n",
    "                            OVER (ORDER by date) AS diff\n",
    "                            FROM df\"\"\") \n",
    "    df = df.withColumn('new_value', F.when(df['value'].isNotNull(),df['value'])\\\n",
    "                        .otherwise(F.last(df['value'], ignorenulls=True)\\\n",
    "                                  .over(Window.orderBy('tot_sec')\\\n",
    "                                       .rangeBetween(-ws,0)))  \n",
    "             )\n",
    "    return df.show()\n",
    "\n",
    "test_window(9000)"
   ]
  },
  {
   "cell_type": "markdown",
   "metadata": {},
   "source": [
    "## Merge dataframes"
   ]
  },
  {
   "cell_type": "code",
   "execution_count": null,
   "metadata": {},
   "outputs": [],
   "source": [
    "merge_data = gps_data.join(acc_data, 'timestamp', how='left' ).orderBy('timestamp')\n",
    "merge_data.cache()\n",
    "merge_data.count()"
   ]
  },
  {
   "cell_type": "code",
   "execution_count": null,
   "metadata": {},
   "outputs": [],
   "source": [
    "merge_data.show(20, False)"
   ]
  },
  {
   "cell_type": "code",
   "execution_count": null,
   "metadata": {},
   "outputs": [],
   "source": [
    "merge_data.printSchema()"
   ]
  },
  {
   "cell_type": "code",
   "execution_count": null,
   "metadata": {},
   "outputs": [],
   "source": [
    "merge_data.count()"
   ]
  },
  {
   "cell_type": "code",
   "execution_count": null,
   "metadata": {},
   "outputs": [],
   "source": [
    "merge_data_act = gps_data.join(acc_data_act, ['timestamp'], how='left' ).orderBy('timestamp')\n",
    "merge_data_act.count()"
   ]
  },
  {
   "cell_type": "code",
   "execution_count": null,
   "metadata": {},
   "outputs": [],
   "source": [
    "merge_data_act.printSchema()"
   ]
  },
  {
   "cell_type": "code",
   "execution_count": null,
   "metadata": {},
   "outputs": [],
   "source": [
    "merge_data_act.toPandas().head(40)"
   ]
  },
  {
   "cell_type": "code",
   "execution_count": null,
   "metadata": {},
   "outputs": [],
   "source": [
    "merge_data_act = gps_data.join(df3, ['timestamp'], how='left' ).orderBy('timestamp')\n",
    "merge_data_act.cache()"
   ]
  },
  {
   "cell_type": "code",
   "execution_count": null,
   "metadata": {},
   "outputs": [],
   "source": [
    "merge_data_act.toPandas().head(40)"
   ]
  },
  {
   "cell_type": "code",
   "execution_count": null,
   "metadata": {},
   "outputs": [],
   "source": [
    "merge_data_act.coalesce(1).write.option(\"header\",True).option(\"inferSchema\",\"true\").option(\"timestampFormat\", \"yyyy-MM-dd HH:mm:ss\").csv(\"merged_data\")\n"
   ]
  },
  {
   "cell_type": "code",
   "execution_count": null,
   "metadata": {},
   "outputs": [],
   "source": []
  },
  {
   "cell_type": "code",
   "execution_count": null,
   "metadata": {},
   "outputs": [],
   "source": [
    "merge_data_ext = gps_data.join(acc_data_ext, 'timestamp', how='left').orderBy('timestamp')"
   ]
  },
  {
   "cell_type": "code",
   "execution_count": null,
   "metadata": {},
   "outputs": [],
   "source": [
    "merge_data_ext.toPandas().head(20)"
   ]
  },
  {
   "cell_type": "code",
   "execution_count": null,
   "metadata": {},
   "outputs": [],
   "source": []
  },
  {
   "cell_type": "code",
   "execution_count": null,
   "metadata": {},
   "outputs": [],
   "source": []
  },
  {
   "cell_type": "code",
   "execution_count": null,
   "metadata": {},
   "outputs": [],
   "source": []
  },
  {
   "cell_type": "code",
   "execution_count": null,
   "metadata": {},
   "outputs": [],
   "source": []
  },
  {
   "cell_type": "code",
   "execution_count": null,
   "metadata": {},
   "outputs": [],
   "source": []
  },
  {
   "cell_type": "code",
   "execution_count": null,
   "metadata": {},
   "outputs": [],
   "source": []
  },
  {
   "cell_type": "code",
   "execution_count": null,
   "metadata": {},
   "outputs": [],
   "source": []
  },
  {
   "cell_type": "code",
   "execution_count": null,
   "metadata": {},
   "outputs": [],
   "source": []
  },
  {
   "cell_type": "code",
   "execution_count": null,
   "metadata": {},
   "outputs": [],
   "source": []
  }
 ],
 "metadata": {
  "kernelspec": {
   "display_name": "Python 3",
   "language": "python",
   "name": "python3"
  },
  "language_info": {
   "codemirror_mode": {
    "name": "ipython",
    "version": 3
   },
   "file_extension": ".py",
   "mimetype": "text/x-python",
   "name": "python",
   "nbconvert_exporter": "python",
   "pygments_lexer": "ipython3",
   "version": "3.7.3"
  }
 },
 "nbformat": 4,
 "nbformat_minor": 2
}
