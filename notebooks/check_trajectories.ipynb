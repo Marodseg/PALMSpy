{
 "cells": [
  {
   "cell_type": "code",
   "execution_count": 1,
   "metadata": {
    "ExecuteTime": {
     "end_time": "2019-12-03T17:44:20.673930Z",
     "start_time": "2019-12-03T17:44:20.191454Z"
    }
   },
   "outputs": [],
   "source": [
    "import pyspark\n",
    "from pyspark.conf import SparkConf\n",
    "from pyspark.sql import SparkSession, SQLContext, Row\n",
    "import time, os\n",
    "import gmplot\n",
    "\n",
    "from src.GPSProcessing import *"
   ]
  },
  {
   "cell_type": "code",
   "execution_count": 2,
   "metadata": {
    "ExecuteTime": {
     "end_time": "2019-12-03T17:44:22.753846Z",
     "start_time": "2019-12-03T17:44:22.744261Z"
    }
   },
   "outputs": [
    {
     "data": {
      "text/html": [
       "<style>.container { width:95% !important; }</style>"
      ],
      "text/plain": [
       "<IPython.core.display.HTML object>"
      ]
     },
     "metadata": {},
     "output_type": "display_data"
    }
   ],
   "source": [
    "from IPython.core.display import display, HTML\n",
    "display(HTML(\"<style>.container { width:95% !important; }</style>\"))"
   ]
  },
  {
   "cell_type": "code",
   "execution_count": 3,
   "metadata": {
    "ExecuteTime": {
     "end_time": "2019-12-03T17:44:23.481974Z",
     "start_time": "2019-12-03T17:44:23.477302Z"
    }
   },
   "outputs": [
    {
     "data": {
      "text/html": [
       "<style> .CodeMirror pre { font-size: 120% !important; } </style>\n"
      ],
      "text/plain": [
       "<IPython.core.display.HTML object>"
      ]
     },
     "metadata": {},
     "output_type": "display_data"
    }
   ],
   "source": [
    "%%HTML\n",
    "<style> .CodeMirror pre { font-size: 120% !important; } </style>"
   ]
  },
  {
   "cell_type": "code",
   "execution_count": 4,
   "metadata": {
    "ExecuteTime": {
     "end_time": "2019-12-03T17:44:27.245565Z",
     "start_time": "2019-12-03T17:44:24.116199Z"
    }
   },
   "outputs": [
    {
     "data": {
      "text/plain": [
       "[('spark.sql.shuffle.partitions', '20'),\n",
       " ('spark.app.name', 'trip trajectories'),\n",
       " ('spark.driver.port', '55161'),\n",
       " ('spark.driver.host', '127.0.0.1'),\n",
       " ('spark.cleaner.referenceTracking.cleanCheckpoints', 'True'),\n",
       " ('spark.executor.id', 'driver'),\n",
       " ('spark.driver.memory', '16g'),\n",
       " ('spark.executor.memory', '16g'),\n",
       " ('spark.app.id', 'local-1575395066227'),\n",
       " ('spark.rdd.compress', 'True'),\n",
       " ('spark.memory.fraction', '0.6'),\n",
       " ('spark.serializer.objectStreamReset', '100'),\n",
       " ('spark.master', 'local[*]'),\n",
       " ('spark.submit.deployMode', 'client'),\n",
       " ('spark.memory.offHeap.enabled', 'True'),\n",
       " ('spark.ui.showConsoleProgress', 'true'),\n",
       " ('spark.memory.offHeap.size', '16g')]"
      ]
     },
     "execution_count": 4,
     "metadata": {},
     "output_type": "execute_result"
    }
   ],
   "source": [
    "# REFERENCE: https://spark.apache.org/docs/latest/configuration.html\n",
    "\n",
    "conf = SparkConf().setAll([('spark.memory.fraction','0.6'),\n",
    "                           ('spark.executor.memory', '16g'),\n",
    "                           ('spark.driver.memory','16g'),\n",
    "                           ('spark.sql.shuffle.partitions','20'),\n",
    "                           ('spark.memory.offHeap.enabled', True),\n",
    "                           ('spark.memory.offHeap.size','16g'),\n",
    "                           ('spark.cleaner.referenceTracking.cleanCheckpoints', True),\n",
    "                           ('spark.driver.host','127.0.0.1')]\n",
    "                         )\n",
    "\n",
    "spark  = SparkSession.builder.config(conf=conf).master(\"local[*]\").appName(\"trip trajectories\").getOrCreate()\n",
    "sc = spark.sparkContext\n",
    "sc.setLogLevel(\"ERROR\")\n",
    "sc.setCheckpointDir('checkpoints')\n",
    "sc.getConf().getAll()"
   ]
  },
  {
   "cell_type": "code",
   "execution_count": 5,
   "metadata": {
    "ExecuteTime": {
     "end_time": "2019-12-03T17:44:27.367665Z",
     "start_time": "2019-12-03T17:44:27.362779Z"
    }
   },
   "outputs": [
    {
     "data": {
      "text/plain": [
       "8"
      ]
     },
     "execution_count": 5,
     "metadata": {},
     "output_type": "execute_result"
    }
   ],
   "source": [
    "sc.defaultParallelism"
   ]
  },
  {
   "cell_type": "code",
   "execution_count": 6,
   "metadata": {
    "ExecuteTime": {
     "end_time": "2019-12-03T17:44:30.736602Z",
     "start_time": "2019-12-03T17:44:30.732387Z"
    }
   },
   "outputs": [
    {
     "data": {
      "text/plain": [
       "2"
      ]
     },
     "execution_count": 6,
     "metadata": {},
     "output_type": "execute_result"
    }
   ],
   "source": [
    "sc.defaultMinPartitions"
   ]
  },
  {
   "cell_type": "code",
   "execution_count": 7,
   "metadata": {
    "ExecuteTime": {
     "end_time": "2019-12-03T17:44:31.158205Z",
     "start_time": "2019-12-03T17:44:31.151253Z"
    }
   },
   "outputs": [
    {
     "data": {
      "text/html": [
       "\n",
       "        <div>\n",
       "            <p><b>SparkContext</b></p>\n",
       "\n",
       "            <p><a href=\"http://127.0.0.1:4041\">Spark UI</a></p>\n",
       "\n",
       "            <dl>\n",
       "              <dt>Version</dt>\n",
       "                <dd><code>v2.4.0</code></dd>\n",
       "              <dt>Master</dt>\n",
       "                <dd><code>local[*]</code></dd>\n",
       "              <dt>AppName</dt>\n",
       "                <dd><code>trip trajectories</code></dd>\n",
       "            </dl>\n",
       "        </div>\n",
       "        "
      ],
      "text/plain": [
       "<SparkContext master=local[*] appName=trip trajectories>"
      ]
     },
     "execution_count": 7,
     "metadata": {},
     "output_type": "execute_result"
    }
   ],
   "source": [
    "sc"
   ]
  },
  {
   "cell_type": "markdown",
   "metadata": {},
   "source": [
    "Load GPS processed data"
   ]
  },
  {
   "cell_type": "code",
   "execution_count": 8,
   "metadata": {
    "ExecuteTime": {
     "end_time": "2019-12-03T17:44:33.749389Z",
     "start_time": "2019-12-03T17:44:33.746877Z"
    }
   },
   "outputs": [],
   "source": [
    "gps_path = '/Users/molinaro/Documents/GITHUB/HABITUS/notebooks/habitus_gps_acc_1.csv'"
   ]
  },
  {
   "cell_type": "code",
   "execution_count": 9,
   "metadata": {
    "ExecuteTime": {
     "end_time": "2019-12-03T17:44:37.857985Z",
     "start_time": "2019-12-03T17:44:34.488961Z"
    }
   },
   "outputs": [],
   "source": [
    "gps_data = spark.read.csv(gps_path, header=True, inferSchema=True)"
   ]
  },
  {
   "cell_type": "code",
   "execution_count": 16,
   "metadata": {
    "ExecuteTime": {
     "end_time": "2019-12-03T17:46:20.769771Z",
     "start_time": "2019-12-03T17:46:20.625776Z"
    }
   },
   "outputs": [
    {
     "name": "stdout",
     "output_type": "stream",
     "text": [
      "+---+-------------------+---+---------+-----------+-----------+----------+--------+-------+--------+-----------------+------------------+-------------------+\n",
      "| ID|          timestamp|dow|      lat|        lon|fixTypeCode|tripNumber|tripType|tripMOT|activity|activityIntensity|activityBoutNumber|sedentaryBoutNumber|\n",
      "+---+-------------------+---+---------+-----------+-----------+----------+--------+-------+--------+-----------------+------------------+-------------------+\n",
      "|  1|2016-08-16 18:23:25|  2| 51.01609|-114.099305|          2|         0|       0|      0|      65|                1|                 0|                  3|\n",
      "|  1|2016-08-16 18:23:30|  2|51.016075| -114.09925|          1|         0|       0|      0|       0|                0|                 0|                  3|\n",
      "|  1|2016-08-16 18:23:35|  2|51.016078|-114.099263|          1|         0|       0|      0|      55|                1|                 0|                  3|\n",
      "|  1|2016-08-16 18:23:40|  2|51.016072| -114.09925|          1|         0|       0|      0|     459|                2|                 0|                  0|\n",
      "|  1|2016-08-16 18:23:45|  2|51.016083|-114.099242|          1|         0|       0|      0|     328|                2|                 0|                  0|\n",
      "|  1|2016-08-16 18:23:50|  2|51.016085| -114.09924|          1|         0|       0|      0|     270|                2|                 0|                  0|\n",
      "|  1|2016-08-16 18:23:55|  2|51.016088|-114.099247|          1|         0|       0|      0|     225|                2|                 0|                  0|\n",
      "|  1|2016-08-16 18:24:00|  2|51.016088|-114.099247|          1|         0|       0|      0|     182|                2|                 0|                  0|\n",
      "|  1|2016-08-16 18:24:05|  2|51.016092|-114.099217|          1|         0|       0|      0|     238|                2|                 0|                  0|\n",
      "|  1|2016-08-16 18:24:10|  2|51.016152|-114.099205|          1|         0|       0|      0|     231|                2|                 0|                  0|\n",
      "|  1|2016-08-16 18:24:15|  2|51.016205|-114.099188|          1|         0|       0|      0|     249|                2|                 0|                  0|\n",
      "|  1|2016-08-16 18:24:20|  2|51.016223|-114.099218|          1|         0|       0|      0|     149|                1|                 0|                  0|\n",
      "|  1|2016-08-16 18:24:25|  2|51.016218|-114.099243|          1|         0|       0|      0|     191|                2|                 0|                  0|\n",
      "|  1|2016-08-16 18:24:30|  2|51.016218|-114.099233|          1|         0|       0|      0|     146|                1|                 0|                  0|\n",
      "|  1|2016-08-16 18:24:35|  2|51.016218|-114.099218|          1|         0|       0|      0|     129|                1|                 0|                  0|\n",
      "|  1|2016-08-16 18:24:40|  2|51.016217|-114.099218|          1|         0|       0|      0|      12|                1|                 0|                  0|\n",
      "|  1|2016-08-16 18:24:45|  2|51.016217|-114.099217|          1|         0|       0|      0|      86|                1|                 0|                  0|\n",
      "|  1|2016-08-16 18:24:50|  2|51.016215|-114.099215|          1|         0|       0|      0|      34|                1|                 0|                  0|\n",
      "|  1|2016-08-16 18:24:55|  2|51.016217|-114.099222|          1|         0|       0|      0|     101|                1|                 0|                  0|\n",
      "|  1|2016-08-16 18:25:00|  2|51.016225|-114.099238|          1|         0|       0|      0|      73|                1|                 0|                  0|\n",
      "+---+-------------------+---+---------+-----------+-----------+----------+--------+-------+--------+-----------------+------------------+-------------------+\n",
      "only showing top 20 rows\n",
      "\n"
     ]
    }
   ],
   "source": [
    "gps_data.show()"
   ]
  },
  {
   "cell_type": "code",
   "execution_count": 10,
   "metadata": {
    "ExecuteTime": {
     "end_time": "2019-12-03T17:44:40.414838Z",
     "start_time": "2019-12-03T17:44:39.834173Z"
    }
   },
   "outputs": [],
   "source": [
    "max_trip_value = gps_data.agg({\"tripNumber\": \"max\"}).collect()[0][0]"
   ]
  },
  {
   "cell_type": "code",
   "execution_count": 11,
   "metadata": {
    "ExecuteTime": {
     "end_time": "2019-12-03T17:44:42.661119Z",
     "start_time": "2019-12-03T17:44:42.657117Z"
    }
   },
   "outputs": [
    {
     "data": {
      "text/plain": [
       "194"
      ]
     },
     "execution_count": 11,
     "metadata": {},
     "output_type": "execute_result"
    }
   ],
   "source": [
    "max_trip_value"
   ]
  },
  {
   "cell_type": "code",
   "execution_count": 12,
   "metadata": {
    "ExecuteTime": {
     "end_time": "2019-12-03T17:44:44.819535Z",
     "start_time": "2019-12-03T17:44:43.715596Z"
    },
    "scrolled": false
   },
   "outputs": [],
   "source": [
    "dataframe = gps_data.select(['lat','lon']).toPandas()\n",
    "\n",
    "lat_list = dataframe['lat'].tolist()\n",
    "lon_list = dataframe['lon'].tolist()"
   ]
  },
  {
   "cell_type": "code",
   "execution_count": 13,
   "metadata": {
    "ExecuteTime": {
     "end_time": "2019-12-03T17:44:46.316653Z",
     "start_time": "2019-12-03T17:44:46.302115Z"
    }
   },
   "outputs": [],
   "source": [
    "min_lat, max_lat, min_lon, max_lon = min(lat_list), max(lat_list), min(lon_list), max(lon_list)\n",
    "\n",
    "gmap = gmplot.GoogleMapPlotter(min_lat + (max_lat - min_lat) / 2, \n",
    "                               min_lon + (max_lon - min_lon) / 2, \n",
    "                               16)"
   ]
  },
  {
   "cell_type": "code",
   "execution_count": 17,
   "metadata": {
    "ExecuteTime": {
     "end_time": "2019-12-03T17:47:31.882198Z",
     "start_time": "2019-12-03T17:47:01.485870Z"
    }
   },
   "outputs": [],
   "source": [
    "for n in range(100):\n",
    "\n",
    "    trip_set = gps_data.filter(F.col('tripNumber') == n + 1).select(['lat','lon'])\n",
    "\n",
    "    lat_list = trip_set.toPandas()['lat'].tolist()\n",
    "    lon_list = trip_set.toPandas()['lon'].tolist()\n",
    "    \n",
    "    gmap.scatter(lat_list, lon_list, 'red', size = 0.5, marker = False)\n",
    "    gmap.plot(lat_list, lon_list, 'blue', edge_width = 3) "
   ]
  },
  {
   "cell_type": "code",
   "execution_count": 18,
   "metadata": {
    "ExecuteTime": {
     "end_time": "2019-12-03T17:47:36.981064Z",
     "start_time": "2019-12-03T17:47:36.226544Z"
    }
   },
   "outputs": [],
   "source": [
    "gmap.draw('gmap.html')"
   ]
  },
  {
   "cell_type": "code",
   "execution_count": null,
   "metadata": {},
   "outputs": [],
   "source": []
  },
  {
   "cell_type": "code",
   "execution_count": null,
   "metadata": {},
   "outputs": [],
   "source": []
  },
  {
   "cell_type": "code",
   "execution_count": 41,
   "metadata": {
    "ExecuteTime": {
     "end_time": "2019-12-03T17:12:14.176208Z",
     "start_time": "2019-12-03T17:12:13.897940Z"
    }
   },
   "outputs": [],
   "source": []
  },
  {
   "cell_type": "code",
   "execution_count": null,
   "metadata": {},
   "outputs": [],
   "source": []
  }
 ],
 "metadata": {
  "kernelspec": {
   "display_name": "Python 3",
   "language": "python",
   "name": "python3"
  },
  "toc": {
   "base_numbering": 1,
   "nav_menu": {},
   "number_sections": true,
   "sideBar": true,
   "skip_h1_title": false,
   "title_cell": "Table of Contents",
   "title_sidebar": "Contents",
   "toc_cell": false,
   "toc_position": {},
   "toc_section_display": true,
   "toc_window_display": false
  },
  "varInspector": {
   "cols": {
    "lenName": 16,
    "lenType": 16,
    "lenVar": 40
   },
   "kernels_config": {
    "python": {
     "delete_cmd_postfix": "",
     "delete_cmd_prefix": "del ",
     "library": "var_list.py",
     "varRefreshCmd": "print(var_dic_list())"
    },
    "r": {
     "delete_cmd_postfix": ") ",
     "delete_cmd_prefix": "rm(",
     "library": "var_list.r",
     "varRefreshCmd": "cat(var_dic_list()) "
    }
   },
   "types_to_exclude": [
    "module",
    "function",
    "builtin_function_or_method",
    "instance",
    "_Feature"
   ],
   "window_display": false
  }
 },
 "nbformat": 4,
 "nbformat_minor": 2
}
