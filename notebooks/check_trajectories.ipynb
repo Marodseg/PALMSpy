{
 "cells": [
  {
   "cell_type": "code",
   "execution_count": null,
   "outputs": [],
   "source": [
    "!pip install --upgrade gmplot"
   ],
   "metadata": {
    "collapsed": false,
    "pycharm": {
     "name": "#%%\n",
     "is_executing": true
    }
   }
  },
  {
   "cell_type": "code",
   "execution_count": 1,
   "outputs": [],
   "source": [
    "from pyspark.conf import SparkConf\n",
    "import gmplot\n",
    "\n",
    "from src.GPSProcessing import *"
   ],
   "metadata": {
    "collapsed": false,
    "pycharm": {
     "name": "#%%\n"
    }
   }
  },
  {
   "cell_type": "code",
   "execution_count": null,
   "metadata": {
    "ExecuteTime": {
     "end_time": "2019-12-03T17:44:27.245565Z",
     "start_time": "2019-12-03T17:44:24.116199Z"
    },
    "pycharm": {
     "is_executing": true
    }
   },
   "outputs": [],
   "source": [
    "# REFERENCE: https://spark.apache.org/docs/latest/configuration.html\n",
    "\n",
    "conf = SparkConf().setAll([('spark.memory.fraction','0.6'),\n",
    "                           ('spark.executor.memory', '16g'),\n",
    "                           ('spark.driver.memory','16g'),\n",
    "                           ('spark.sql.shuffle.partitions','20'),\n",
    "                           ('spark.memory.offHeap.enabled', True),\n",
    "                           ('spark.memory.offHeap.size','16g'),\n",
    "                           ('spark.cleaner.referenceTracking.cleanCheckpoints', True),\n",
    "                           ('spark.driver.host','127.0.0.1')]\n",
    "                         )\n",
    "\n",
    "spark  = SparkSession.builder.config(conf=conf).master(\"local[*]\").appName(\"trip trajectories\").getOrCreate()\n",
    "sc = spark.sparkContext\n",
    "sc.setLogLevel(\"ERROR\")\n",
    "sc.setCheckpointDir('checkpoints')\n",
    "sc.getConf().getAll()"
   ]
  },
  {
   "cell_type": "code",
   "execution_count": null,
   "metadata": {
    "ExecuteTime": {
     "end_time": "2019-12-03T17:44:27.367665Z",
     "start_time": "2019-12-03T17:44:27.362779Z"
    },
    "pycharm": {
     "is_executing": true
    }
   },
   "outputs": [],
   "source": [
    "sc.defaultParallelism"
   ]
  },
  {
   "cell_type": "code",
   "execution_count": null,
   "metadata": {
    "ExecuteTime": {
     "end_time": "2019-12-03T17:44:30.736602Z",
     "start_time": "2019-12-03T17:44:30.732387Z"
    },
    "pycharm": {
     "is_executing": true
    }
   },
   "outputs": [],
   "source": [
    "sc.defaultMinPartitions"
   ]
  },
  {
   "cell_type": "code",
   "execution_count": null,
   "metadata": {
    "ExecuteTime": {
     "end_time": "2019-12-03T17:44:31.158205Z",
     "start_time": "2019-12-03T17:44:31.151253Z"
    },
    "pycharm": {
     "is_executing": true
    }
   },
   "outputs": [],
   "source": [
    "sc"
   ]
  },
  {
   "cell_type": "markdown",
   "metadata": {},
   "source": [
    "## Load GPS processed data"
   ]
  },
  {
   "cell_type": "code",
   "execution_count": 6,
   "metadata": {
    "ExecuteTime": {
     "end_time": "2019-12-03T17:44:33.749389Z",
     "start_time": "2019-12-03T17:44:33.746877Z"
    }
   },
   "outputs": [],
   "source": [
    "gps_path = '../test_data/merged/habitus_gps_acc_1.csv'"
   ]
  },
  {
   "cell_type": "code",
   "execution_count": 7,
   "metadata": {
    "ExecuteTime": {
     "end_time": "2019-12-03T17:44:37.857985Z",
     "start_time": "2019-12-03T17:44:34.488961Z"
    }
   },
   "outputs": [],
   "source": [
    "gps_data = spark.read.csv(gps_path, header=True, inferSchema=True)"
   ]
  },
  {
   "cell_type": "code",
   "execution_count": null,
   "metadata": {
    "ExecuteTime": {
     "end_time": "2019-12-03T17:46:20.769771Z",
     "start_time": "2019-12-03T17:46:20.625776Z"
    },
    "pycharm": {
     "is_executing": true
    }
   },
   "outputs": [],
   "source": [
    "gps_data.show()"
   ]
  },
  {
   "cell_type": "code",
   "execution_count": 9,
   "metadata": {
    "ExecuteTime": {
     "end_time": "2019-12-03T17:44:40.414838Z",
     "start_time": "2019-12-03T17:44:39.834173Z"
    }
   },
   "outputs": [],
   "source": [
    "max_trip_value = gps_data.agg({\"tripNumber\": \"max\"}).collect()[0][0]"
   ]
  },
  {
   "cell_type": "code",
   "execution_count": null,
   "metadata": {
    "ExecuteTime": {
     "end_time": "2019-12-03T17:44:42.661119Z",
     "start_time": "2019-12-03T17:44:42.657117Z"
    },
    "pycharm": {
     "is_executing": true
    }
   },
   "outputs": [],
   "source": [
    "max_trip_value"
   ]
  },
  {
   "cell_type": "code",
   "execution_count": 11,
   "metadata": {
    "ExecuteTime": {
     "end_time": "2019-12-03T17:44:44.819535Z",
     "start_time": "2019-12-03T17:44:43.715596Z"
    },
    "scrolled": false
   },
   "outputs": [],
   "source": [
    "dataframe = gps_data.select(['lat','lon']).toPandas()\n",
    "\n",
    "lat_list = dataframe['lat'].tolist()\n",
    "lon_list = dataframe['lon'].tolist()"
   ]
  },
  {
   "cell_type": "code",
   "execution_count": 12,
   "metadata": {
    "ExecuteTime": {
     "end_time": "2019-12-03T17:44:46.316653Z",
     "start_time": "2019-12-03T17:44:46.302115Z"
    }
   },
   "outputs": [],
   "source": [
    "min_lat, max_lat, min_lon, max_lon = min(lat_list), max(lat_list), min(lon_list), max(lon_list)\n",
    "\n",
    "gmap = gmplot.GoogleMapPlotter(min_lat + (max_lat - min_lat) / 2, \n",
    "                               min_lon + (max_lon - min_lon) / 2, \n",
    "                               16)"
   ]
  },
  {
   "cell_type": "code",
   "execution_count": 13,
   "metadata": {
    "ExecuteTime": {
     "end_time": "2019-12-03T17:47:31.882198Z",
     "start_time": "2019-12-03T17:47:01.485870Z"
    }
   },
   "outputs": [],
   "source": [
    "for n in range(100):\n",
    "\n",
    "    trip_set = gps_data.filter(F.col('tripNumber') == n + 1).select(['lat','lon'])\n",
    "\n",
    "    lat_list = trip_set.toPandas()['lat'].tolist()\n",
    "    lon_list = trip_set.toPandas()['lon'].tolist()\n",
    "    \n",
    "    gmap.scatter(lat_list, lon_list, 'red', size = 0.5, marker = False)\n",
    "    gmap.plot(lat_list, lon_list, 'blue', edge_width = 3) "
   ]
  },
  {
   "cell_type": "code",
   "execution_count": 14,
   "metadata": {
    "ExecuteTime": {
     "end_time": "2019-12-03T17:47:36.981064Z",
     "start_time": "2019-12-03T17:47:36.226544Z"
    },
    "pycharm": {
     "name": "#%%\n"
    }
   },
   "outputs": [],
   "source": [
    "gmap.draw('gmap.html')"
   ]
  },
  {
   "cell_type": "code",
   "execution_count": 15,
   "outputs": [],
   "source": [
    "# import gmplot package\n",
    "import gmplot\n",
    "\n",
    "# GoogleMapPlotter return Map object\n",
    "# Pass the center latitude and\n",
    "# center longitude\n",
    "gmap1 = gmplot.GoogleMapPlotter(30.3164945,\n",
    "                                78.03219179999999, 13 )\n",
    "\n",
    "# Pass the absolute path\n",
    "gmap1.draw(\"map11.html\")"
   ],
   "metadata": {
    "collapsed": false,
    "pycharm": {
     "name": "#%%\n"
    }
   }
  }
 ],
 "metadata": {
  "kernelspec": {
   "display_name": "Python 3",
   "language": "python",
   "name": "python3"
  },
  "language_info": {
   "codemirror_mode": {
    "name": "ipython",
    "version": 3
   },
   "file_extension": ".py",
   "mimetype": "text/x-python",
   "name": "python",
   "nbconvert_exporter": "python",
   "pygments_lexer": "ipython3",
   "version": "3.7.5"
  },
  "toc": {
   "base_numbering": 1,
   "nav_menu": {},
   "number_sections": true,
   "sideBar": true,
   "skip_h1_title": false,
   "title_cell": "Table of Contents",
   "title_sidebar": "Contents",
   "toc_cell": false,
   "toc_position": {},
   "toc_section_display": true,
   "toc_window_display": false
  },
  "varInspector": {
   "cols": {
    "lenName": 16,
    "lenType": 16,
    "lenVar": 40
   },
   "kernels_config": {
    "python": {
     "delete_cmd_postfix": "",
     "delete_cmd_prefix": "del ",
     "library": "var_list.py",
     "varRefreshCmd": "print(var_dic_list())"
    },
    "r": {
     "delete_cmd_postfix": ") ",
     "delete_cmd_prefix": "rm(",
     "library": "var_list.r",
     "varRefreshCmd": "cat(var_dic_list()) "
    }
   },
   "types_to_exclude": [
    "module",
    "function",
    "builtin_function_or_method",
    "instance",
    "_Feature"
   ],
   "window_display": false
  }
 },
 "nbformat": 4,
 "nbformat_minor": 2
}