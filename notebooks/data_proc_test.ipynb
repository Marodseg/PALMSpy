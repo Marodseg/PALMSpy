{
 "cells": [
  {
   "cell_type": "code",
   "execution_count": 1,
   "metadata": {
    "ExecuteTime": {
     "end_time": "2019-12-03T14:38:27.089584Z",
     "start_time": "2019-12-03T14:38:26.723701Z"
    }
   },
   "outputs": [],
   "source": [
    "import pyspark\n",
    "from pyspark.conf import SparkConf\n",
    "from pyspark.sql import SparkSession, SQLContext, Row\n",
    "from pyspark.sql import functions as F\n",
    "from pyspark.mllib.stat import Statistics\n",
    "from datetime import datetime, timedelta\n",
    "from pyspark.sql.window import Window\n",
    "from pyspark.sql.types import TimestampType\n",
    "from pyspark.sql.types import IntegerType\n",
    "from pyspark.sql.types import StringType\n",
    "from pyspark.sql.types import FloatType\n",
    "from pyspark.sql.types import DoubleType\n",
    "from math import floor\n",
    "import time\n",
    "\n",
    "from src.GPSProcessing import *\n",
    "from src.AccProcessing import *"
   ]
  },
  {
   "cell_type": "code",
   "execution_count": 2,
   "metadata": {
    "ExecuteTime": {
     "end_time": "2019-12-03T14:38:28.244538Z",
     "start_time": "2019-12-03T14:38:28.233926Z"
    }
   },
   "outputs": [
    {
     "data": {
      "text/html": [
       "<style>.container { width:95% !important; }</style>"
      ],
      "text/plain": [
       "<IPython.core.display.HTML object>"
      ]
     },
     "metadata": {},
     "output_type": "display_data"
    }
   ],
   "source": [
    "from IPython.core.display import display, HTML\n",
    "display(HTML(\"<style>.container { width:95% !important; }</style>\"))"
   ]
  },
  {
   "cell_type": "code",
   "execution_count": 3,
   "metadata": {
    "ExecuteTime": {
     "end_time": "2019-12-03T14:38:29.272907Z",
     "start_time": "2019-12-03T14:38:29.268575Z"
    }
   },
   "outputs": [
    {
     "data": {
      "text/html": [
       "<style> .CodeMirror pre { font-size: 120% !important; } </style>\n"
      ],
      "text/plain": [
       "<IPython.core.display.HTML object>"
      ]
     },
     "metadata": {},
     "output_type": "display_data"
    }
   ],
   "source": [
    "%%HTML\n",
    "<style> .CodeMirror pre { font-size: 120% !important; } </style>"
   ]
  },
  {
   "cell_type": "code",
   "execution_count": 4,
   "metadata": {
    "ExecuteTime": {
     "end_time": "2019-12-03T14:38:35.053604Z",
     "start_time": "2019-12-03T14:38:31.698552Z"
    }
   },
   "outputs": [
    {
     "data": {
      "text/plain": [
       "[('spark.sql.shuffle.partitions', '20'),\n",
       " ('spark.app.id', 'local-1575383914005'),\n",
       " ('spark.app.name', 'test'),\n",
       " ('spark.driver.host', '127.0.0.1'),\n",
       " ('spark.cleaner.referenceTracking.cleanCheckpoints', 'True'),\n",
       " ('spark.executor.id', 'driver'),\n",
       " ('spark.driver.memory', '16g'),\n",
       " ('spark.driver.port', '53468'),\n",
       " ('spark.executor.memory', '16g'),\n",
       " ('spark.rdd.compress', 'True'),\n",
       " ('spark.memory.fraction', '0.6'),\n",
       " ('spark.serializer.objectStreamReset', '100'),\n",
       " ('spark.master', 'local[*]'),\n",
       " ('spark.submit.deployMode', 'client'),\n",
       " ('spark.memory.offHeap.enabled', 'True'),\n",
       " ('spark.ui.showConsoleProgress', 'true'),\n",
       " ('spark.memory.offHeap.size', '16g')]"
      ]
     },
     "execution_count": 4,
     "metadata": {},
     "output_type": "execute_result"
    }
   ],
   "source": [
    "# REFERENCE: https://spark.apache.org/docs/latest/configuration.html\n",
    "\n",
    "conf = SparkConf().setAll([('spark.memory.fraction','0.6'),\n",
    "                           ('spark.executor.memory', '16g'),\n",
    "                           ('spark.driver.memory','16g'),\n",
    "                           ('spark.sql.shuffle.partitions','20'),\n",
    "                           ('spark.memory.offHeap.enabled', True),\n",
    "                           ('spark.memory.offHeap.size','16g'),\n",
    "                           ('spark.cleaner.referenceTracking.cleanCheckpoints', True),\n",
    "                           ('spark.driver.host','127.0.0.1')]#,\n",
    "                           #('spark.driver.cores', '4'),\n",
    "                           #('spark.executor.cores', '4'),\n",
    "                           #('spark.worker.cleanup.enabled','true'),\n",
    "                           #('spark.sql.session.timeZone', 'UTC')])\n",
    "                         )\n",
    "\n",
    "spark  = SparkSession.builder.config(conf=conf).master(\"local[*]\").appName(\"test\").getOrCreate()\n",
    "sc = spark.sparkContext\n",
    "sc.setLogLevel(\"ERROR\")\n",
    "sc.setCheckpointDir('checkpoints')\n",
    "sc.getConf().getAll()"
   ]
  },
  {
   "cell_type": "code",
   "execution_count": 5,
   "metadata": {
    "ExecuteTime": {
     "end_time": "2019-12-03T14:38:36.496542Z",
     "start_time": "2019-12-03T14:38:36.491968Z"
    }
   },
   "outputs": [
    {
     "data": {
      "text/plain": [
       "8"
      ]
     },
     "execution_count": 5,
     "metadata": {},
     "output_type": "execute_result"
    }
   ],
   "source": [
    "sc.defaultParallelism"
   ]
  },
  {
   "cell_type": "code",
   "execution_count": 6,
   "metadata": {
    "ExecuteTime": {
     "end_time": "2019-12-03T14:38:39.792302Z",
     "start_time": "2019-12-03T14:38:39.787434Z"
    }
   },
   "outputs": [
    {
     "data": {
      "text/plain": [
       "2"
      ]
     },
     "execution_count": 6,
     "metadata": {},
     "output_type": "execute_result"
    }
   ],
   "source": [
    "sc.defaultMinPartitions"
   ]
  },
  {
   "cell_type": "code",
   "execution_count": 7,
   "metadata": {
    "ExecuteTime": {
     "end_time": "2019-12-03T14:38:41.063364Z",
     "start_time": "2019-12-03T14:38:41.057671Z"
    }
   },
   "outputs": [
    {
     "data": {
      "text/html": [
       "\n",
       "        <div>\n",
       "            <p><b>SparkContext</b></p>\n",
       "\n",
       "            <p><a href=\"http://127.0.0.1:4040\">Spark UI</a></p>\n",
       "\n",
       "            <dl>\n",
       "              <dt>Version</dt>\n",
       "                <dd><code>v2.4.0</code></dd>\n",
       "              <dt>Master</dt>\n",
       "                <dd><code>local[*]</code></dd>\n",
       "              <dt>AppName</dt>\n",
       "                <dd><code>test</code></dd>\n",
       "            </dl>\n",
       "        </div>\n",
       "        "
      ],
      "text/plain": [
       "<SparkContext master=local[*] appName=test>"
      ]
     },
     "execution_count": 7,
     "metadata": {},
     "output_type": "execute_result"
    }
   ],
   "source": [
    "sc"
   ]
  },
  {
   "cell_type": "markdown",
   "metadata": {},
   "source": [
    "## GPS data processing"
   ]
  },
  {
   "cell_type": "code",
   "execution_count": null,
   "metadata": {},
   "outputs": [],
   "source": [
    "gps_path_raw = '/Users/molinaro/Documents/GITHUB/PALMS/data/PARC_data/NYC/GPS/2001.csv'"
   ]
  },
  {
   "cell_type": "code",
   "execution_count": null,
   "metadata": {
    "ExecuteTime": {
     "end_time": "2019-11-16T10:25:25.458752Z",
     "start_time": "2019-11-16T10:25:25.456196Z"
    }
   },
   "outputs": [],
   "source": [
    "gps_path_raw = '/Users/molinaro/Documents/GITHUB/HABITUS/test_data/gps/A02.csv'"
   ]
  },
  {
   "cell_type": "code",
   "execution_count": null,
   "metadata": {
    "ExecuteTime": {
     "end_time": "2019-11-16T10:25:34.047875Z",
     "start_time": "2019-11-16T10:25:29.610695Z"
    }
   },
   "outputs": [],
   "source": [
    "gps_data_raw = spark.read.csv(gps_path_raw, header=True, inferSchema=True)"
   ]
  },
  {
   "cell_type": "code",
   "execution_count": null,
   "metadata": {
    "ExecuteTime": {
     "end_time": "2019-11-16T10:26:23.509610Z",
     "start_time": "2019-11-16T10:25:37.855042Z"
    }
   },
   "outputs": [],
   "source": [
    "date_format = 'yyyy/MM/dd'\n",
    "time_format = 'HH:mm:ss'\n",
    "datetime_format = date_format + ' ' + time_format\n",
    "\n",
    "gps_data = gen_gps_dataframe(gps_data_raw, datetime_format)\n",
    "gps_data.cache()"
   ]
  },
  {
   "cell_type": "code",
   "execution_count": null,
   "metadata": {
    "ExecuteTime": {
     "end_time": "2019-11-16T10:26:32.612766Z",
     "start_time": "2019-11-16T10:26:29.846717Z"
    }
   },
   "outputs": [],
   "source": [
    "gps_data.show(20,False)"
   ]
  },
  {
   "cell_type": "code",
   "execution_count": null,
   "metadata": {
    "ExecuteTime": {
     "end_time": "2019-11-16T10:26:33.553321Z",
     "start_time": "2019-11-16T10:26:33.551020Z"
    }
   },
   "outputs": [],
   "source": [
    "# date_format = '%Y-%m-%d'\n",
    "# time_format = '%H:%M:%S'\n",
    "# datetime_format = date_format + ' ' + time_format\n",
    "# startdate = datetime.strptime('2016-06-29 13:00:00', datetime_format) \n",
    "# gps_data.filter((F.col('timestamp')>=startdate)).show(20000,False)"
   ]
  },
  {
   "cell_type": "code",
   "execution_count": null,
   "metadata": {
    "ExecuteTime": {
     "end_time": "2019-11-16T10:26:34.492998Z",
     "start_time": "2019-11-16T10:26:34.488805Z"
    }
   },
   "outputs": [],
   "source": [
    "gps_data.printSchema()"
   ]
  },
  {
   "cell_type": "code",
   "execution_count": null,
   "metadata": {
    "ExecuteTime": {
     "end_time": "2019-11-16T10:26:36.566526Z",
     "start_time": "2019-11-16T10:26:36.105904Z"
    }
   },
   "outputs": [],
   "source": [
    "gps_data.count()"
   ]
  },
  {
   "cell_type": "code",
   "execution_count": null,
   "metadata": {
    "ExecuteTime": {
     "end_time": "2019-11-16T10:26:39.487749Z",
     "start_time": "2019-11-16T10:26:39.039998Z"
    }
   },
   "outputs": [],
   "source": [
    "# Round seconds in timestamps according to the interval\n",
    "\n",
    "interval = 5 # seconds\n",
    "ts_name = 'timestamp'\n",
    "ws = 600 # seconds\n",
    "\n",
    "print(\"====> align timestamps...\")\n",
    "start_time = time.time()\n",
    "gps_data = round_timestamp(gps_data, ts_name, interval).cache()\n",
    "gps_data.count()\n",
    "elapsed_time = time.time() - start_time\n",
    "print(\"      time elapsed: {}\".format(time.strftime(\"%H:%M:%S\", time.gmtime(elapsed_time))))"
   ]
  },
  {
   "cell_type": "code",
   "execution_count": null,
   "metadata": {
    "ExecuteTime": {
     "end_time": "2019-11-16T10:26:43.392802Z",
     "start_time": "2019-11-16T10:26:41.666259Z"
    }
   },
   "outputs": [],
   "source": [
    "# Set fix type\n",
    "\n",
    "ts_name = 'timestamp'\n",
    "ws=600\n",
    "print(\"====> set fix type...\")\n",
    "start_time = time.time()\n",
    "gps_data = set_fix_type(gps_data, ts_name, ws).cache()\n",
    "gps_data.count()\n",
    "elapsed_time = time.time() - start_time\n",
    "print(\"      time elapsed: {}\".format(time.strftime(\"%H:%M:%S\", time.gmtime(elapsed_time))))"
   ]
  },
  {
   "cell_type": "code",
   "execution_count": null,
   "metadata": {
    "ExecuteTime": {
     "end_time": "2019-11-16T10:26:44.082398Z",
     "start_time": "2019-11-16T10:26:43.527238Z"
    }
   },
   "outputs": [],
   "source": [
    "# Apply filter on the velocity\n",
    "\n",
    "vmax = 130 # km/h\n",
    "\n",
    "print(\"====> apply velocity filter...\")\n",
    "start_time = time.time()\n",
    "gps_data = filter_speed(gps_data, 'speed', vmax).cache()\n",
    "gps_data.count()\n",
    "elapsed_time = time.time() - start_time\n",
    "print(\"      time elapsed: {}\".format(time.strftime(\"%H:%M:%S\", time.gmtime(elapsed_time))))"
   ]
  },
  {
   "cell_type": "code",
   "execution_count": null,
   "metadata": {
    "ExecuteTime": {
     "end_time": "2019-11-16T10:26:47.223505Z",
     "start_time": "2019-11-16T10:26:46.605961Z"
    }
   },
   "outputs": [],
   "source": [
    "# Apply filter over max acceleration\n",
    "                                             \n",
    "scol = 'speed'\n",
    "tscol = 'timestamp'\n",
    "\n",
    "print(\"====> apply accelaration filter...\")\n",
    "start_time = time.time()\n",
    "gps_data = filter_acceleration(gps_data, scol, tscol).cache()\n",
    "gps_data.count()\n",
    "elapsed_time = time.time() - start_time\n",
    "print(\"      time elapsed: {}\".format(time.strftime(\"%H:%M:%S\", time.gmtime(elapsed_time))))"
   ]
  },
  {
   "cell_type": "code",
   "execution_count": null,
   "metadata": {
    "ExecuteTime": {
     "end_time": "2019-11-16T10:26:49.761190Z",
     "start_time": "2019-11-16T10:26:48.590075Z"
    }
   },
   "outputs": [],
   "source": [
    "# Apply filter on the height variation\n",
    "\n",
    "dhmax=1000\n",
    "print(\"====> apply height variation filter...\")\n",
    "start_time = time.time()\n",
    "gps_data = filter_height(gps_data, 'height', 'timestamp', dhmax).cache()\n",
    "gps_data.count()\n",
    "elapsed_time = time.time() - start_time\n",
    "print(\"      time elapsed: {}\".format(time.strftime(\"%H:%M:%S\", time.gmtime(elapsed_time))))"
   ]
  },
  {
   "cell_type": "code",
   "execution_count": null,
   "metadata": {
    "ExecuteTime": {
     "end_time": "2019-11-16T10:26:50.205755Z",
     "start_time": "2019-11-16T10:26:50.031376Z"
    }
   },
   "outputs": [],
   "source": [
    "gps_data.count()"
   ]
  },
  {
   "cell_type": "code",
   "execution_count": null,
   "metadata": {
    "ExecuteTime": {
     "end_time": "2019-11-16T10:26:55.408769Z",
     "start_time": "2019-11-16T10:26:52.739537Z"
    }
   },
   "outputs": [],
   "source": [
    "# Apply filter over three fixes (it also recalculates distance column)\n",
    "\n",
    "dcol = 'distance'\n",
    "tscol = 'timestamp'\n",
    "dmin = 10\n",
    "\n",
    "print(\"====> apply three fixes filter...\")\n",
    "start_time = time.time()\n",
    "gps_data = filter_change_dist_3_fixes(gps_data, dcol, tscol, dmin).cache()\n",
    "gps_data.count()\n",
    "elapsed_time = time.time() - start_time\n",
    "print(\"      time elapsed: {}\".format(time.strftime(\"%H:%M:%S\", time.gmtime(elapsed_time))))"
   ]
  },
  {
   "cell_type": "code",
   "execution_count": null,
   "metadata": {
    "ExecuteTime": {
     "end_time": "2019-11-16T10:27:01.797826Z",
     "start_time": "2019-11-16T10:27:01.676470Z"
    }
   },
   "outputs": [],
   "source": [
    "gps_data.count()"
   ]
  },
  {
   "cell_type": "code",
   "execution_count": null,
   "metadata": {
    "ExecuteTime": {
     "end_time": "2019-11-16T10:27:11.359638Z",
     "start_time": "2019-11-16T10:27:02.573402Z"
    }
   },
   "outputs": [],
   "source": [
    "# Generate missing values up to maximum signal loss\n",
    "\n",
    "print(\"====> fill in missing value...\")\n",
    "start_time = time.time()\n",
    "gps_data = fill_timestamp(gps_data, 'timestamp', 'fixTypeCode', interval, ws).cache()\n",
    "gps_data.count()\n",
    "elapsed_time = time.time() - start_time\n",
    "print(\"      time elapsed: {}\".format(time.strftime(\"%H:%M:%S\", time.gmtime(elapsed_time))))"
   ]
  },
  {
   "cell_type": "code",
   "execution_count": null,
   "metadata": {
    "ExecuteTime": {
     "end_time": "2019-11-16T10:27:16.332099Z",
     "start_time": "2019-11-16T10:27:16.196210Z"
    }
   },
   "outputs": [],
   "source": [
    "gps_data.show(20,False)"
   ]
  },
  {
   "cell_type": "code",
   "execution_count": null,
   "metadata": {
    "ExecuteTime": {
     "end_time": "2019-11-16T10:27:18.646103Z",
     "start_time": "2019-11-16T10:27:18.642460Z"
    }
   },
   "outputs": [],
   "source": [
    "gps_data.printSchema()"
   ]
  },
  {
   "cell_type": "code",
   "execution_count": null,
   "metadata": {
    "ExecuteTime": {
     "end_time": "2019-11-16T10:27:20.809449Z",
     "start_time": "2019-11-16T10:27:20.563769Z"
    }
   },
   "outputs": [],
   "source": [
    "# Filter timestamps over given interval\n",
    "INTERVAL = 5\n",
    "ts_name = 'timestamp'\n",
    "print(\"====> filter GPS data every {} seconds...\".format(str(INTERVAL)))\n",
    "start_time = time.time()\n",
    "gps_data = select_gps_intervals(gps_data, ts_name, INTERVAL)\n",
    "elapsed_time = time.time() - start_time\n",
    "print(\"      time elapsed: {}\".format(time.strftime(\"%H:%M:%S\", time.gmtime(elapsed_time))))"
   ]
  },
  {
   "cell_type": "code",
   "execution_count": null,
   "metadata": {
    "ExecuteTime": {
     "end_time": "2019-11-16T10:27:22.958051Z",
     "start_time": "2019-11-16T10:27:22.953063Z"
    }
   },
   "outputs": [],
   "source": [
    "gps_data = gps_data.limit(20000)"
   ]
  },
  {
   "cell_type": "code",
   "execution_count": null,
   "metadata": {
    "ExecuteTime": {
     "end_time": "2019-11-16T10:27:24.029137Z",
     "start_time": "2019-11-16T10:27:24.025164Z"
    }
   },
   "outputs": [],
   "source": [
    "gps_data.printSchema()"
   ]
  },
  {
   "cell_type": "code",
   "execution_count": null,
   "metadata": {
    "ExecuteTime": {
     "end_time": "2019-11-16T10:40:17.968483Z",
     "start_time": "2019-11-16T10:27:26.414428Z"
    }
   },
   "outputs": [],
   "source": [
    "vmax = 130 # km/h\n",
    "max_dist_per_min = vmax * 1000/60 # meters\n",
    "min_dist_per_min = 25 # meters\n",
    "min_pause_duration = 120 # second\n",
    "max_pause_time = 180 # seconds\n",
    "\n",
    "ts_name = 'timestamp'\n",
    "dist_name = 'distance'\n",
    "speed_name = 'speed'\n",
    "fix_type_name = 'fixTypeCode'\n",
    "\n",
    "print(\"====> detect trips...\")\n",
    "start_time = time.time()\n",
    "gps_data2 = detect_trips(gps_data, ts_name, dist_name, speed_name, fix_type_name, min_dist_per_min, \n",
    "                 min_pause_duration, max_pause_time, vmax).cache()\n",
    "gps_data2.count()\n",
    "elapsed_time = time.time() - start_time\n",
    "print(\"      time elapsed: {}\".format(time.strftime(\"%H:%M:%S\", time.gmtime(elapsed_time))))"
   ]
  },
  {
   "cell_type": "code",
   "execution_count": null,
   "metadata": {
    "ExecuteTime": {
     "end_time": "2019-11-16T10:41:36.749983Z",
     "start_time": "2019-11-16T10:41:36.745597Z"
    }
   },
   "outputs": [],
   "source": [
    "gps_data2.printSchema()"
   ]
  },
  {
   "cell_type": "code",
   "execution_count": null,
   "metadata": {
    "ExecuteTime": {
     "end_time": "2019-11-16T10:44:36.041861Z",
     "start_time": "2019-11-16T10:42:15.040573Z"
    }
   },
   "outputs": [],
   "source": [
    "vehicle_speed_cutoff = 35 # km/h\n",
    "bicycle_speed_cutoff = 10 # km/h \n",
    "walk_speed_cutoff = 1 # km/h\n",
    "speed_percentile = 90\n",
    "speed_segment_length = 30 # m\n",
    "min_trip_length = 100 # m\n",
    "min_trip_duration = 180 # sec\n",
    "\n",
    "ts_name = 'timestamp'\n",
    "dist_name = 'distance'\n",
    "speed_name = 'speed'\n",
    "\n",
    "print(\"====> classify trips...\")\n",
    "start_time = time.time()\n",
    "gps_data3 = classify_trips(gps_data2, ts_name, dist_name, speed_name, \n",
    "                           vehicle_speed_cutoff, bicycle_speed_cutoff, walk_speed_cutoff, \n",
    "                           min_trip_length, min_trip_duration, speed_segment_length, speed_percentile).cache()\n",
    "gps_data3.count()\n",
    "elapsed_time = time.time() - start_time\n",
    "print(\"      time elapsed: {}\".format(time.strftime(\"%H:%M:%S\", time.gmtime(elapsed_time))))"
   ]
  },
  {
   "cell_type": "code",
   "execution_count": null,
   "metadata": {
    "ExecuteTime": {
     "end_time": "2019-11-16T10:44:41.780202Z",
     "start_time": "2019-11-16T10:44:41.132865Z"
    }
   },
   "outputs": [],
   "source": [
    "gps_data3.printSchema()"
   ]
  },
  {
   "cell_type": "markdown",
   "metadata": {
    "heading_collapsed": true
   },
   "source": [
    "### Process GPS data in Calgary/gps/A01r.csv"
   ]
  },
  {
   "cell_type": "code",
   "execution_count": null,
   "metadata": {
    "hidden": true
   },
   "outputs": [],
   "source": [
    "# segment 108"
   ]
  },
  {
   "cell_type": "code",
   "execution_count": null,
   "metadata": {
    "hidden": true
   },
   "outputs": [],
   "source": [
    "df.drop(*['lat','lon','dow','distance','fixTypeCode',\n",
    "         'cum_pause','total_sec','height','speed','heading','state_cp','tripType_cp','i1','i2','j4']).show(20000, False)"
   ]
  },
  {
   "cell_type": "code",
   "execution_count": null,
   "metadata": {
    "hidden": true
   },
   "outputs": [],
   "source": [
    "df2 = proc_segment(df, 'i3', ts_name, min_dist_per_min, min_pause_duration, max_pause_time, 0, 0, \"CASE3\")\n",
    "df2.drop(*['lat','lon','dow','distance','fixTypeCode',\n",
    "         'cum_pause','total_sec','height','speed','heading','state_cp','tripType_cp','i1','i2','j4']).show(20000, False)"
   ]
  },
  {
   "cell_type": "code",
   "execution_count": null,
   "metadata": {
    "hidden": true
   },
   "outputs": [],
   "source": []
  },
  {
   "cell_type": "code",
   "execution_count": null,
   "metadata": {
    "hidden": true
   },
   "outputs": [],
   "source": [
    "# segment 64"
   ]
  },
  {
   "cell_type": "code",
   "execution_count": null,
   "metadata": {
    "hidden": true
   },
   "outputs": [],
   "source": [
    "df = set_pause(df, 'i1', ts_name).checkpoint()\n",
    "df = check_case(df, 'i1', ts_name, min_dist_per_min, min_pause_duration, max_pause_time).checkpoint()\n",
    "df.drop(*['lat','lon','dow','distance','fixTypeCode',\n",
    "         'cum_pause','total_sec','height','speed','heading','state_cp','tripType_cp','i3','i2','j4']).show(20000, False)"
   ]
  },
  {
   "cell_type": "code",
   "execution_count": null,
   "metadata": {
    "hidden": true
   },
   "outputs": [],
   "source": [
    "df = proc_segment(df, 'j1', ts_name, min_dist_per_min, min_pause_duration, max_pause_time, 3, 2, \"CASE1\").checkpoint()\n",
    "df.drop(*['lat','lon','dow','distance','fixTypeCode',\n",
    "         'cum_pause','total_sec','height','speed','heading','state_cp','tripType_cp','i2','i3','j4']).show(20000, False)"
   ]
  },
  {
   "cell_type": "code",
   "execution_count": null,
   "metadata": {
    "hidden": true
   },
   "outputs": [],
   "source": [
    "df = set_pause(df, 'i1', ts_name).checkpoint()\n",
    "df = check_case(df, 'i1', ts_name, min_dist_per_min, min_pause_duration, max_pause_time).checkpoint()\n",
    "df.drop(*['lat','lon','dow','distance','fixTypeCode',\n",
    "         'cum_pause','total_sec','height','speed','heading','state_cp','tripType_cp','i3','i2','j4']).show(20000, False)"
   ]
  },
  {
   "cell_type": "code",
   "execution_count": null,
   "metadata": {
    "hidden": true
   },
   "outputs": [],
   "source": [
    "df = proc_segment(df, 'j1', ts_name, min_dist_per_min, min_pause_duration, max_pause_time, 3, 2, \"CASE1\").checkpoint()\n",
    "df.drop(*['lat','lon','dow','distance','fixTypeCode',\n",
    "         'cum_pause','total_sec','height','speed','heading','state_cp','tripType_cp','i2','i3','j4']).show(20000, False)"
   ]
  },
  {
   "cell_type": "code",
   "execution_count": null,
   "metadata": {
    "hidden": true
   },
   "outputs": [],
   "source": [
    "df = set_pause(df, 'i1', ts_name).checkpoint()\n",
    "df = check_case(df, 'i1', ts_name, min_dist_per_min, min_pause_duration, max_pause_time).checkpoint()\n",
    "df.drop(*['lat','lon','dow','distance','fixTypeCode',\n",
    "         'cum_pause','total_sec','height','speed','heading','state_cp','tripType_cp','i3','i2','j4']).show(20000, False)"
   ]
  },
  {
   "cell_type": "code",
   "execution_count": null,
   "metadata": {
    "hidden": true
   },
   "outputs": [],
   "source": [
    "df = proc_segment(df, 'j1', ts_name, min_dist_per_min, min_pause_duration, max_pause_time, 3, 2, \"CASE1\").checkpoint()\n",
    "df.drop(*['lat','lon','dow','distance','fixTypeCode',\n",
    "         'cum_pause','total_sec','height','speed','heading','state_cp','tripType_cp','i2','i3','j4']).show(20000, False)"
   ]
  },
  {
   "cell_type": "code",
   "execution_count": null,
   "metadata": {
    "hidden": true
   },
   "outputs": [],
   "source": [
    "df = set_pause(df, 'i1', ts_name).checkpoint()\n",
    "df = check_case(df, 'i1', ts_name, min_dist_per_min, min_pause_duration, max_pause_time).checkpoint()\n",
    "df.drop(*['lat','lon','dow','distance','fixTypeCode',\n",
    "         'cum_pause','total_sec','height','speed','heading','state_cp','tripType_cp','i3','i2','j4']).show(20000, False)"
   ]
  },
  {
   "cell_type": "code",
   "execution_count": null,
   "metadata": {
    "hidden": true
   },
   "outputs": [],
   "source": [
    "df = proc_segment(df, 'j1', ts_name, min_dist_per_min, min_pause_duration, max_pause_time, 3, 2, \"CASE1\").checkpoint()\n",
    "df.drop(*['lat','lon','dow','distance','fixTypeCode',\n",
    "         'cum_pause','total_sec','height','speed','heading','state_cp','tripType_cp','i2','i3','j4']).show(20000, False)"
   ]
  },
  {
   "cell_type": "code",
   "execution_count": null,
   "metadata": {
    "hidden": true
   },
   "outputs": [],
   "source": [
    "df = set_pause(df, 'i1', ts_name).checkpoint()\n",
    "df = check_case(df, 'i1', ts_name, min_dist_per_min, min_pause_duration, max_pause_time).checkpoint()\n",
    "df.drop(*['lat','lon','dow','distance','fixTypeCode',\n",
    "         'cum_pause','total_sec','height','speed','heading','state_cp','tripType_cp','i3','i2','j4']).show(20000, False)"
   ]
  },
  {
   "cell_type": "code",
   "execution_count": null,
   "metadata": {
    "hidden": true
   },
   "outputs": [],
   "source": [
    "df = proc_segment(df, 'j1', ts_name, min_dist_per_min, min_pause_duration, max_pause_time, 3, 2, \"CASE1\").checkpoint()\n",
    "df.drop(*['lat','lon','dow','distance','fixTypeCode',\n",
    "         'cum_pause','total_sec','height','speed','heading','state_cp','tripType_cp','i2','i3','j4']).show(20000, False)"
   ]
  },
  {
   "cell_type": "code",
   "execution_count": null,
   "metadata": {
    "hidden": true
   },
   "outputs": [],
   "source": [
    "df = set_pause(df, 'i1', ts_name).checkpoint()\n",
    "df = check_case(df, 'i1', ts_name, min_dist_per_min, min_pause_duration, max_pause_time).checkpoint()\n",
    "df.drop(*['lat','lon','dow','distance','fixTypeCode',\n",
    "         'cum_pause','total_sec','height','speed','heading','state_cp','tripType_cp','i3','i2','j4']).show(20000, False)"
   ]
  },
  {
   "cell_type": "code",
   "execution_count": null,
   "metadata": {
    "hidden": true
   },
   "outputs": [],
   "source": [
    "df = proc_segment(df, 'j1', ts_name, min_dist_per_min, min_pause_duration, max_pause_time, 3, 2, \"CASE1\").checkpoint()\n",
    "df.drop(*['lat','lon','dow','distance','fixTypeCode',\n",
    "         'cum_pause','total_sec','height','speed','heading','state_cp','tripType_cp','i2','i3','j4']).show(20000, False)"
   ]
  },
  {
   "cell_type": "code",
   "execution_count": null,
   "metadata": {
    "hidden": true
   },
   "outputs": [],
   "source": [
    "df = set_pause(df, 'i1', ts_name).checkpoint()\n",
    "df = check_case(df, 'i1', ts_name, min_dist_per_min, min_pause_duration, max_pause_time).checkpoint()\n",
    "df.drop(*['lat','lon','dow','distance','fixTypeCode',\n",
    "         'cum_pause','total_sec','height','speed','heading','state_cp','tripType_cp','i3','i2','j4']).show(20000, False)"
   ]
  },
  {
   "cell_type": "code",
   "execution_count": null,
   "metadata": {
    "hidden": true
   },
   "outputs": [],
   "source": [
    "df = proc_segment(df, 'j1', ts_name, min_dist_per_min, min_pause_duration, max_pause_time, 3, 2, \"CASE1\").checkpoint()\n",
    "df.drop(*['lat','lon','dow','distance','fixTypeCode',\n",
    "         'cum_pause','total_sec','height','speed','heading','state_cp','tripType_cp','i2','i3','j4']).show(20000, False)"
   ]
  },
  {
   "cell_type": "code",
   "execution_count": null,
   "metadata": {
    "hidden": true
   },
   "outputs": [],
   "source": [
    "df = set_pause(df, 'i1', ts_name).checkpoint()\n",
    "df = check_case(df, 'i1', ts_name, min_dist_per_min, min_pause_duration, max_pause_time).checkpoint()\n",
    "df.drop(*['lat','lon','dow','distance','fixTypeCode',\n",
    "         'cum_pause','total_sec','height','speed','heading','state_cp','tripType_cp','i3','i2','j4']).show(20000, False)"
   ]
  },
  {
   "cell_type": "code",
   "execution_count": null,
   "metadata": {
    "hidden": true
   },
   "outputs": [],
   "source": [
    "df = proc_segment(df, 'j1', ts_name, min_dist_per_min, min_pause_duration, max_pause_time, 3, 2, \"CASE1\").checkpoint()\n",
    "df.drop(*['lat','lon','dow','distance','fixTypeCode',\n",
    "         'cum_pause','total_sec','height','speed','heading','state_cp','tripType_cp','i2','i3','j4']).show(20000, False)"
   ]
  },
  {
   "cell_type": "code",
   "execution_count": null,
   "metadata": {
    "hidden": true
   },
   "outputs": [],
   "source": [
    "df = set_pause(df, 'i1', ts_name).checkpoint()\n",
    "df = check_case(df, 'i1', ts_name, min_dist_per_min, min_pause_duration, max_pause_time).checkpoint()\n",
    "df.drop(*['lat','lon','dow','distance','fixTypeCode',\n",
    "         'cum_pause','total_sec','height','speed','heading','state_cp','tripType_cp','i3','i2','j4']).show(20000, False)"
   ]
  },
  {
   "cell_type": "code",
   "execution_count": null,
   "metadata": {
    "hidden": true
   },
   "outputs": [],
   "source": [
    "df2 = proc_segment(df, 'j4', ts_name, min_dist_per_min, min_pause_duration, max_pause_time, 0, 0, \"CASE4\").checkpoint()\n",
    "df2.drop(*['lat','lon','dow','distance','fixTypeCode',\n",
    "         'cum_pause','total_sec','height','speed','heading','state_cp','tripType_cp','i2','i3','j3']).show(20000, False)"
   ]
  },
  {
   "cell_type": "code",
   "execution_count": null,
   "metadata": {
    "hidden": true
   },
   "outputs": [],
   "source": [
    "df2 = set_pause(df2, 'i1', ts_name).checkpoint()\n",
    "df2 = check_case(df2, 'i1', ts_name, min_dist_per_min, min_pause_duration, max_pause_time).checkpoint()\n",
    "df2.drop(*['lat','lon','dow','distance','fixTypeCode',\n",
    "         'cum_pause','total_sec','height','speed','heading','state_cp','tripType_cp','i3','i2','j4']).show(20000, False)"
   ]
  },
  {
   "cell_type": "code",
   "execution_count": null,
   "metadata": {
    "hidden": true
   },
   "outputs": [],
   "source": [
    "df2 = proc_segment(df2, 'j2', ts_name, min_dist_per_min, min_pause_duration, max_pause_time, 3, 3, \"CASE2\").checkpoint()\n",
    "df2.drop(*['lat','lon','dow','distance','fixTypeCode',\n",
    "         'cum_pause','total_sec','height','speed','heading','state_cp','tripType_cp','i2','i3','j4']).show(20000, False)"
   ]
  },
  {
   "cell_type": "code",
   "execution_count": null,
   "metadata": {
    "hidden": true
   },
   "outputs": [],
   "source": [
    "df2 = set_pause(df2, 'i1', ts_name).checkpoint()\n",
    "df2 = check_case(df2, 'i1', ts_name, min_dist_per_min, min_pause_duration, max_pause_time).checkpoint()\n",
    "df2.drop(*['lat','lon','dow','distance','fixTypeCode',\n",
    "         'cum_pause','total_sec','height','speed','heading','state_cp','tripType_cp','i3','i2','j4']).show(20000, False)"
   ]
  },
  {
   "cell_type": "code",
   "execution_count": null,
   "metadata": {
    "hidden": true
   },
   "outputs": [],
   "source": [
    "df2 = proc_segment(df2, 'j1', ts_name, min_dist_per_min, min_pause_duration, max_pause_time, 3, 2, \"CASE1\").checkpoint()\n",
    "df2.drop(*['lat','lon','dow','distance','fixTypeCode',\n",
    "         'cum_pause','total_sec','height','speed','heading','state_cp','tripType_cp','i2','i3','j4']).show(20000, False)"
   ]
  },
  {
   "cell_type": "code",
   "execution_count": null,
   "metadata": {
    "hidden": true
   },
   "outputs": [],
   "source": [
    "df2 = set_pause(df2, 'i1', ts_name).checkpoint()\n",
    "df2 = check_case(df2, 'i1', ts_name, min_dist_per_min, min_pause_duration, max_pause_time).checkpoint()\n",
    "df2.drop(*['lat','lon','dow','distance','fixTypeCode',\n",
    "         'cum_pause','total_sec','height','speed','heading','state_cp','tripType_cp','i3','i2','j4']).show(20000, False)"
   ]
  },
  {
   "cell_type": "code",
   "execution_count": null,
   "metadata": {
    "hidden": true
   },
   "outputs": [],
   "source": [
    "df3 = proc_segment(df2, 'j3', ts_name, min_dist_per_min, min_pause_duration, max_pause_time, 0, 0, \"CASE3\").checkpoint()\n",
    "df3.drop(*['lat','lon','dow','distance','fixTypeCode',\n",
    "         'cum_pause','total_sec','height','speed','heading','state_cp','tripType_cp','i2','i3','j4']).show(20000, False)"
   ]
  },
  {
   "cell_type": "code",
   "execution_count": null,
   "metadata": {
    "hidden": true
   },
   "outputs": [],
   "source": [
    "df3 = set_pause(df3, 'i1', ts_name).checkpoint()\n",
    "df3 = check_case(df3, 'i1', ts_name, min_dist_per_min, min_pause_duration, max_pause_time).checkpoint()\n",
    "df3.drop(*['lat','lon','dow','distance','fixTypeCode',\n",
    "         'cum_pause','total_sec','height','speed','heading','state_cp','tripType_cp','i3','i2','j4']).show(20000, False)"
   ]
  },
  {
   "cell_type": "code",
   "execution_count": null,
   "metadata": {
    "hidden": true
   },
   "outputs": [],
   "source": [
    "df3 = proc_segment(df3, 'j1', ts_name, min_dist_per_min, min_pause_duration, max_pause_time, 3, 2, \"CASE1\").checkpoint()\n",
    "df3.drop(*['lat','lon','dow','distance','fixTypeCode',\n",
    "         'cum_pause','total_sec','height','speed','heading','state_cp','tripType_cp','i2','i3','j4']).show(20000, False)"
   ]
  },
  {
   "cell_type": "code",
   "execution_count": null,
   "metadata": {
    "hidden": true
   },
   "outputs": [],
   "source": [
    "df3 = set_pause(df3, 'i1', ts_name).checkpoint()\n",
    "df3 = check_case(df3, 'i1', ts_name, min_dist_per_min, min_pause_duration, max_pause_time).checkpoint()\n",
    "df3.drop(*['lat','lon','dow','distance','fixTypeCode',\n",
    "         'cum_pause','total_sec','height','speed','heading','state_cp','tripType_cp','i3','i2','j4']).show(20000, False)"
   ]
  },
  {
   "cell_type": "code",
   "execution_count": null,
   "metadata": {
    "hidden": true
   },
   "outputs": [],
   "source": [
    "df4 = proc_segment(df3, 'j3', ts_name, min_dist_per_min, min_pause_duration, max_pause_time, 0, 0, \"CASE3\").checkpoint()\n",
    "df4.drop(*['lat','lon','dow','distance','fixTypeCode',\n",
    "         'cum_pause','total_sec','height','speed','heading','state_cp','tripType_cp','i2','i3','j4']).show(20000, False)"
   ]
  },
  {
   "cell_type": "code",
   "execution_count": null,
   "metadata": {
    "hidden": true
   },
   "outputs": [],
   "source": [
    "df4 = set_pause(df4, 'i1', ts_name).checkpoint()\n",
    "df4 = check_case(df4, 'i1', ts_name, min_dist_per_min, min_pause_duration, max_pause_time).checkpoint()\n",
    "df4.drop(*['lat','lon','dow','distance','fixTypeCode',\n",
    "         'cum_pause','total_sec','height','speed','heading','state_cp','tripType_cp','i3','i2','j4']).show(20000, False)"
   ]
  },
  {
   "cell_type": "code",
   "execution_count": null,
   "metadata": {
    "hidden": true
   },
   "outputs": [],
   "source": [
    "df4 = proc_segment(df4, 'j3', ts_name, min_dist_per_min, min_pause_duration, max_pause_time, 0, 0, \"CASE3\").checkpoint()\n",
    "df4.drop(*['lat','lon','dow','distance','fixTypeCode',\n",
    "         'cum_pause','total_sec','height','speed','heading','state_cp','tripType_cp','i2','i3','j4']).show(20000, False)"
   ]
  },
  {
   "cell_type": "code",
   "execution_count": null,
   "metadata": {
    "hidden": true
   },
   "outputs": [],
   "source": [
    "df4 = set_pause(df4, 'i1', ts_name).checkpoint()\n",
    "df4 = check_case(df4, 'i1', ts_name, min_dist_per_min, min_pause_duration, max_pause_time).checkpoint()\n",
    "df4.drop(*['lat','lon','dow','distance','fixTypeCode',\n",
    "         'cum_pause','total_sec','height','speed','heading','state_cp','tripType_cp','i3','i2','j4']).show(20000, False)"
   ]
  },
  {
   "cell_type": "code",
   "execution_count": null,
   "metadata": {
    "hidden": true
   },
   "outputs": [],
   "source": [
    "df4 = proc_segment(df4, 'j1', ts_name, min_dist_per_min, min_pause_duration, max_pause_time, 3, 2, \"CASE1\").checkpoint()\n",
    "df4.drop(*['lat','lon','dow','distance','fixTypeCode',\n",
    "         'cum_pause','total_sec','height','speed','heading','state_cp','tripType_cp','i2','i3','j4']).show(20000, False)"
   ]
  },
  {
   "cell_type": "code",
   "execution_count": null,
   "metadata": {
    "hidden": true
   },
   "outputs": [],
   "source": [
    "df4 = set_pause(df4, 'i1', ts_name).checkpoint()\n",
    "df4 = check_case(df4, 'i1', ts_name, min_dist_per_min, min_pause_duration, max_pause_time).checkpoint()\n",
    "df4.drop(*['lat','lon','dow','distance','fixTypeCode',\n",
    "         'cum_pause','total_sec','height','speed','heading','state_cp','tripType_cp','i3','i2','j4']).show(20000, False)"
   ]
  },
  {
   "cell_type": "code",
   "execution_count": null,
   "metadata": {
    "hidden": true
   },
   "outputs": [],
   "source": [
    "df4 = proc_segment(df4, 'j1', ts_name, min_dist_per_min, min_pause_duration, max_pause_time, 3, 2, \"CASE1\").checkpoint()\n",
    "df4.drop(*['lat','lon','dow','distance','fixTypeCode',\n",
    "         'cum_pause','total_sec','height','speed','heading','state_cp','tripType_cp','i2','i3','j4']).show(20000, False)"
   ]
  },
  {
   "cell_type": "code",
   "execution_count": null,
   "metadata": {
    "hidden": true
   },
   "outputs": [],
   "source": []
  },
  {
   "cell_type": "code",
   "execution_count": null,
   "metadata": {
    "hidden": true
   },
   "outputs": [],
   "source": [
    "# segment 28"
   ]
  },
  {
   "cell_type": "code",
   "execution_count": null,
   "metadata": {
    "hidden": true
   },
   "outputs": [],
   "source": [
    "df = set_pause(df, 'i1', ts_name).checkpoint()\n",
    "df.drop(*['lat','lon','dow','distance','fixTypeCode',\n",
    "         'cum_pause','total_sec','height','speed','heading','state_cp','tripType_cp','i3','i2']).show(20000, False)"
   ]
  },
  {
   "cell_type": "code",
   "execution_count": null,
   "metadata": {
    "hidden": true
   },
   "outputs": [],
   "source": [
    "df = check_case(df, 'i1', ts_name, min_dist_per_min, min_pause_duration, max_pause_time).checkpoint()\n",
    "df.drop(*['lat','lon','dow','distance','fixTypeCode',\n",
    "         'cum_pause','total_sec','height','speed','heading','state_cp','tripType_cp','i3','i2','j4']).show(20000, False)"
   ]
  },
  {
   "cell_type": "code",
   "execution_count": null,
   "metadata": {
    "hidden": true
   },
   "outputs": [],
   "source": [
    "df = proc_segment(df, 'j1', ts_name, min_dist_per_min, min_pause_duration, max_pause_time, 3, 2, \"CASE1\").checkpoint()\n",
    "df.drop(*['lat','lon','dow','distance','fixTypeCode',\n",
    "         'cum_pause','total_sec','height','speed','heading','state_cp','tripType_cp','i2','i1','j4']).show(20000, False)"
   ]
  },
  {
   "cell_type": "code",
   "execution_count": null,
   "metadata": {
    "hidden": true
   },
   "outputs": [],
   "source": [
    "df = df.drop(*['j1','j2','j3','j4'])\n",
    "df = set_pause(df, 'i1', ts_name).checkpoint()\n",
    "df.drop(*['lat','lon','dow','distance','fixTypeCode',\n",
    "         'cum_pause','total_sec','height','speed','heading','state_cp','tripType_cp','i3','i2']).show(20000, False)"
   ]
  },
  {
   "cell_type": "code",
   "execution_count": null,
   "metadata": {
    "hidden": true
   },
   "outputs": [],
   "source": [
    "df = check_case(df, 'i1', ts_name, min_dist_per_min, min_pause_duration, max_pause_time).checkpoint()\n",
    "df.drop(*['lat','lon','dow','distance','fixTypeCode',\n",
    "         'cum_pause','total_sec','height','speed','heading','state_cp','tripType_cp','i3','i2','j4']).show(20000, False)"
   ]
  },
  {
   "cell_type": "code",
   "execution_count": null,
   "metadata": {
    "hidden": true
   },
   "outputs": [],
   "source": [
    "df = proc_segment(df, 'j1', ts_name, min_dist_per_min, min_pause_duration, max_pause_time, 3, 2, \"CASE1\").checkpoint()\n",
    "df.drop(*['lat','lon','dow','distance','fixTypeCode',\n",
    "         'cum_pause','total_sec','height','speed','heading','state_cp','tripType_cp','i2','i1','j4']).show(20000, False)"
   ]
  },
  {
   "cell_type": "code",
   "execution_count": null,
   "metadata": {
    "hidden": true
   },
   "outputs": [],
   "source": [
    "df = df.drop(*['j1','j2','j3','j4'])\n",
    "df = set_pause(df, 'i1', ts_name).checkpoint()\n",
    "df.drop(*['lat','lon','dow','distance','fixTypeCode',\n",
    "         'cum_pause','total_sec','height','speed','heading','state_cp','tripType_cp','i3','i2']).show(20000, False)"
   ]
  },
  {
   "cell_type": "code",
   "execution_count": null,
   "metadata": {
    "hidden": true
   },
   "outputs": [],
   "source": [
    "df = check_case(df, 'i1', ts_name, min_dist_per_min, min_pause_duration, max_pause_time).checkpoint()\n",
    "df.drop(*['lat','lon','dow','distance','fixTypeCode',\n",
    "         'cum_pause','total_sec','height','speed','heading','state_cp','tripType_cp','i3','i2','j4']).show(20000, False)"
   ]
  },
  {
   "cell_type": "code",
   "execution_count": null,
   "metadata": {
    "hidden": true
   },
   "outputs": [],
   "source": [
    "df = proc_segment(df, 'j1', ts_name, min_dist_per_min, min_pause_duration, max_pause_time, 3, 2, \"CASE1\").checkpoint()\n",
    "df.drop(*['lat','lon','dow','distance','fixTypeCode',\n",
    "         'cum_pause','total_sec','height','speed','heading','state_cp','tripType_cp','i2','i1','j4']).show(20000, False)"
   ]
  },
  {
   "cell_type": "code",
   "execution_count": null,
   "metadata": {
    "hidden": true
   },
   "outputs": [],
   "source": [
    "df = df.drop(*['j1','j2','j3','j4'])\n",
    "df = set_pause(df, 'i1', ts_name).checkpoint()\n",
    "df.drop(*['lat','lon','dow','distance','fixTypeCode',\n",
    "         'cum_pause','total_sec','height','speed','heading','state_cp','tripType_cp','i3','i2']).show(20000, False)"
   ]
  },
  {
   "cell_type": "code",
   "execution_count": null,
   "metadata": {
    "hidden": true
   },
   "outputs": [],
   "source": [
    "df = check_case(df, 'i1', ts_name, min_dist_per_min, min_pause_duration, max_pause_time).checkpoint()\n",
    "df.drop(*['lat','lon','dow','distance','fixTypeCode',\n",
    "         'cum_pause','total_sec','height','speed','heading','state_cp','tripType_cp','i3','i2','j4']).show(20000, False)"
   ]
  },
  {
   "cell_type": "code",
   "execution_count": null,
   "metadata": {
    "hidden": true
   },
   "outputs": [],
   "source": [
    "df = proc_segment(df, 'j1', ts_name, min_dist_per_min, min_pause_duration, max_pause_time, 3, 2, \"CASE1\").checkpoint()\n",
    "df.drop(*['lat','lon','dow','distance','fixTypeCode',\n",
    "         'cum_pause','total_sec','height','speed','heading','state_cp','tripType_cp','i2','i1','j4']).show(20000, False)"
   ]
  },
  {
   "cell_type": "code",
   "execution_count": null,
   "metadata": {
    "hidden": true
   },
   "outputs": [],
   "source": [
    "df = df.drop(*['j1','j2','j3','j4'])\n",
    "df = set_pause(df, 'i1', ts_name).checkpoint()\n",
    "df = check_case(df, 'i1', ts_name, min_dist_per_min, min_pause_duration, max_pause_time).checkpoint()\n",
    "df.drop(*['lat','lon','dow','distance','fixTypeCode',\n",
    "         'cum_pause','total_sec','height','speed','heading','state_cp','tripType_cp','i3','i2','j4']).show(20000, False)"
   ]
  },
  {
   "cell_type": "code",
   "execution_count": null,
   "metadata": {
    "hidden": true
   },
   "outputs": [],
   "source": [
    "df = proc_segment(df, 'j1', ts_name, min_dist_per_min, min_pause_duration, max_pause_time, 3, 2, \"CASE1\").checkpoint()\n",
    "df.drop(*['lat','lon','dow','distance','fixTypeCode',\n",
    "         'cum_pause','total_sec','height','speed','heading','state_cp','tripType_cp','i2','i1','j4']).show(20000, False)"
   ]
  },
  {
   "cell_type": "code",
   "execution_count": null,
   "metadata": {
    "hidden": true
   },
   "outputs": [],
   "source": [
    "df = df.drop(*['j1','j2','j3','j4'])\n",
    "df = set_pause(df, 'i1', ts_name).checkpoint()\n",
    "df = check_case(df, 'i1', ts_name, min_dist_per_min, min_pause_duration, max_pause_time).checkpoint()\n",
    "df.drop(*['lat','lon','dow','distance','fixTypeCode',\n",
    "         'cum_pause','total_sec','height','speed','heading','state_cp','tripType_cp','i3','i2','j4']).show(20000, False)"
   ]
  },
  {
   "cell_type": "code",
   "execution_count": null,
   "metadata": {
    "hidden": true
   },
   "outputs": [],
   "source": [
    "df = proc_segment(df, 'j1', ts_name, min_dist_per_min, min_pause_duration, max_pause_time, 3, 2, \"CASE1\").checkpoint()\n",
    "df.drop(*['lat','lon','dow','distance','fixTypeCode',\n",
    "         'cum_pause','total_sec','height','speed','heading','state_cp','tripType_cp','i2','i1','j4']).show(20000, False)"
   ]
  },
  {
   "cell_type": "code",
   "execution_count": null,
   "metadata": {
    "hidden": true
   },
   "outputs": [],
   "source": [
    "df = df.drop(*['j1','j2','j3','j4'])\n",
    "df = set_pause(df, 'i1', ts_name).checkpoint()\n",
    "df = check_case(df, 'i1', ts_name, min_dist_per_min, min_pause_duration, max_pause_time).checkpoint()\n",
    "df.drop(*['lat','lon','dow','distance','fixTypeCode',\n",
    "         'cum_pause','total_sec','height','speed','heading','state_cp','tripType_cp','i3','i2','j4']).show(20000, False)"
   ]
  },
  {
   "cell_type": "code",
   "execution_count": null,
   "metadata": {
    "hidden": true
   },
   "outputs": [],
   "source": [
    "df = proc_segment(df, 'j1', ts_name, min_dist_per_min, min_pause_duration, max_pause_time, 3, 2, \"CASE1\").checkpoint()\n",
    "df.drop(*['lat','lon','dow','distance','fixTypeCode',\n",
    "         'cum_pause','total_sec','height','speed','heading','state_cp','tripType_cp','i2','i1','j4']).show(20000, False)"
   ]
  },
  {
   "cell_type": "code",
   "execution_count": null,
   "metadata": {
    "hidden": true
   },
   "outputs": [],
   "source": [
    "df = df.drop(*['j1','j2','j3','j4'])\n",
    "df = set_pause(df, 'i1', ts_name).checkpoint()\n",
    "df = check_case(df, 'i1', ts_name, min_dist_per_min, min_pause_duration, max_pause_time).checkpoint()\n",
    "df.drop(*['lat','lon','dow','distance','fixTypeCode',\n",
    "         'cum_pause','total_sec','height','speed','heading','state_cp','tripType_cp','i3','i2','j4']).show(20000, False)"
   ]
  },
  {
   "cell_type": "code",
   "execution_count": null,
   "metadata": {
    "hidden": true
   },
   "outputs": [],
   "source": [
    "df = proc_segment(df, 'j1', ts_name, min_dist_per_min, min_pause_duration, max_pause_time, 3, 2, \"CASE1\").checkpoint()\n",
    "df.drop(*['lat','lon','dow','distance','fixTypeCode',\n",
    "         'cum_pause','total_sec','height','speed','heading','state_cp','tripType_cp','i2','i1','j4']).show(20000, False)"
   ]
  },
  {
   "cell_type": "code",
   "execution_count": null,
   "metadata": {
    "hidden": true
   },
   "outputs": [],
   "source": [
    "df = df.drop(*['j1','j2','j3','j4'])\n",
    "df = set_pause(df, 'i1', ts_name).checkpoint()\n",
    "df = check_case(df, 'i1', ts_name, min_dist_per_min, min_pause_duration, max_pause_time).checkpoint()\n",
    "df.drop(*['lat','lon','dow','distance','fixTypeCode',\n",
    "         'cum_pause','total_sec','height','speed','heading','state_cp','tripType_cp','i3','i2','j4']).show(20000, False)"
   ]
  },
  {
   "cell_type": "code",
   "execution_count": null,
   "metadata": {
    "hidden": true
   },
   "outputs": [],
   "source": [
    "df = proc_segment(df, 'j1', ts_name, min_dist_per_min, min_pause_duration, max_pause_time, 3, 2, \"CASE1\").checkpoint()\n",
    "df.drop(*['lat','lon','dow','distance','fixTypeCode',\n",
    "         'cum_pause','total_sec','height','speed','heading','state_cp','tripType_cp','i2','i1','j4']).show(20000, False)"
   ]
  },
  {
   "cell_type": "code",
   "execution_count": null,
   "metadata": {
    "hidden": true
   },
   "outputs": [],
   "source": [
    "df = df.drop(*['j1','j2','j3','j4'])\n",
    "df = set_pause(df, 'i1', ts_name).checkpoint()\n",
    "df = check_case(df, 'i1', ts_name, min_dist_per_min, min_pause_duration, max_pause_time).checkpoint()\n",
    "df.drop(*['lat','lon','dow','distance','fixTypeCode',\n",
    "         'cum_pause','total_sec','height','speed','heading','state_cp','tripType_cp','i3','i2','j4']).show(20000, False)"
   ]
  },
  {
   "cell_type": "code",
   "execution_count": null,
   "metadata": {
    "hidden": true
   },
   "outputs": [],
   "source": [
    "df = proc_segment(df, 'j1', ts_name, min_dist_per_min, min_pause_duration, max_pause_time, 3, 2, \"CASE1\").checkpoint()\n",
    "df.drop(*['lat','lon','dow','distance','fixTypeCode',\n",
    "         'cum_pause','total_sec','height','speed','heading','state_cp','tripType_cp','i2','i1','j4']).show(20000, False)"
   ]
  },
  {
   "cell_type": "code",
   "execution_count": null,
   "metadata": {
    "hidden": true
   },
   "outputs": [],
   "source": [
    "df = df.drop(*['j1','j2','j3','j4'])\n",
    "df = set_pause(df, 'i1', ts_name).checkpoint()\n",
    "df = check_case(df, 'i1', ts_name, min_dist_per_min, min_pause_duration, max_pause_time).checkpoint()\n",
    "df.drop(*['lat','lon','dow','distance','fixTypeCode',\n",
    "         'cum_pause','total_sec','height','speed','heading','state_cp','tripType_cp','i3','i2','j4']).show(20000, False)"
   ]
  },
  {
   "cell_type": "code",
   "execution_count": null,
   "metadata": {
    "hidden": true
   },
   "outputs": [],
   "source": [
    "df = proc_segment(df, 'j1', ts_name, min_dist_per_min, min_pause_duration, max_pause_time, 3, 2, \"CASE1\").checkpoint()\n",
    "df.drop(*['lat','lon','dow','distance','fixTypeCode',\n",
    "         'cum_pause','total_sec','height','speed','heading','state_cp','tripType_cp','i2','i1','j4']).show(20000, False)"
   ]
  },
  {
   "cell_type": "code",
   "execution_count": null,
   "metadata": {
    "hidden": true
   },
   "outputs": [],
   "source": [
    "df = df.drop(*['j1','j2','j3','j4'])\n",
    "df = set_pause(df, 'i1', ts_name).checkpoint()\n",
    "df = check_case(df, 'i1', ts_name, min_dist_per_min, min_pause_duration, max_pause_time).checkpoint()\n",
    "df.drop(*['lat','lon','dow','distance','fixTypeCode',\n",
    "         'cum_pause','total_sec','height','speed','heading','state_cp','tripType_cp','i3','i2','j4']).show(20000, False)"
   ]
  },
  {
   "cell_type": "code",
   "execution_count": null,
   "metadata": {
    "hidden": true
   },
   "outputs": [],
   "source": [
    "df = proc_segment(df, 'j1', ts_name, min_dist_per_min, min_pause_duration, max_pause_time, 3, 2, \"CASE1\").checkpoint()\n",
    "df.drop(*['lat','lon','dow','distance','fixTypeCode',\n",
    "         'cum_pause','total_sec','height','speed','heading','state_cp','tripType_cp','i2','i1','j4']).show(20000, False)"
   ]
  },
  {
   "cell_type": "code",
   "execution_count": null,
   "metadata": {
    "hidden": true
   },
   "outputs": [],
   "source": [
    "df = df.drop(*['j1','j2','j3','j4'])\n",
    "df = set_pause(df, 'i1', ts_name).checkpoint()\n",
    "df = check_case(df, 'i1', ts_name, min_dist_per_min, min_pause_duration, max_pause_time).checkpoint()\n",
    "df.drop(*['lat','lon','dow','distance','fixTypeCode',\n",
    "         'cum_pause','total_sec','height','speed','heading','state_cp','tripType_cp','i3','i2','j4']).show(20000, False)"
   ]
  },
  {
   "cell_type": "code",
   "execution_count": null,
   "metadata": {
    "hidden": true
   },
   "outputs": [],
   "source": [
    "df = proc_segment(df, 'j1', ts_name, min_dist_per_min, min_pause_duration, max_pause_time, 3, 2, \"CASE1\").checkpoint()\n",
    "df.drop(*['lat','lon','dow','distance','fixTypeCode',\n",
    "         'cum_pause','total_sec','height','speed','heading','state_cp','tripType_cp','i2','i1','j4']).show(20000, False)"
   ]
  },
  {
   "cell_type": "code",
   "execution_count": null,
   "metadata": {
    "hidden": true
   },
   "outputs": [],
   "source": [
    "df = df.drop(*['j1','j2','j3','j4'])\n",
    "df = set_pause(df, 'i1', ts_name).checkpoint()\n",
    "df = check_case(df, 'i1', ts_name, min_dist_per_min, min_pause_duration, max_pause_time).checkpoint()\n",
    "df.drop(*['lat','lon','dow','distance','fixTypeCode',\n",
    "         'cum_pause','total_sec','height','speed','heading','state_cp','tripType_cp','i3','i2','j4']).show(20000, False)"
   ]
  },
  {
   "cell_type": "code",
   "execution_count": null,
   "metadata": {
    "hidden": true
   },
   "outputs": [],
   "source": [
    "df = proc_segment(df, 'j1', ts_name, min_dist_per_min, min_pause_duration, max_pause_time, 3, 2, \"CASE1\").checkpoint()\n",
    "df.drop(*['lat','lon','dow','distance','fixTypeCode',\n",
    "         'cum_pause','total_sec','height','speed','heading','state_cp','tripType_cp','i2','i1','j4']).show(20000, False)"
   ]
  },
  {
   "cell_type": "code",
   "execution_count": null,
   "metadata": {
    "hidden": true
   },
   "outputs": [],
   "source": [
    "df = df.drop(*['j1','j2','j3','j4'])\n",
    "df = set_pause(df, 'i1', ts_name).checkpoint()\n",
    "df = check_case(df, 'i1', ts_name, min_dist_per_min, min_pause_duration, max_pause_time).checkpoint()\n",
    "df.drop(*['lat','lon','dow','distance','fixTypeCode',\n",
    "         'cum_pause','total_sec','height','speed','heading','state_cp','tripType_cp','i3','i2','j4']).show(20000, False)"
   ]
  },
  {
   "cell_type": "code",
   "execution_count": null,
   "metadata": {
    "hidden": true
   },
   "outputs": [],
   "source": [
    "df = proc_segment(df, 'j1', ts_name, min_dist_per_min, min_pause_duration, max_pause_time, 3, 2, \"CASE1\").checkpoint()\n",
    "df.drop(*['lat','lon','dow','distance','fixTypeCode',\n",
    "         'cum_pause','total_sec','height','speed','heading','state_cp','tripType_cp','i2','i1','j4']).show(20000, False)"
   ]
  },
  {
   "cell_type": "code",
   "execution_count": null,
   "metadata": {
    "hidden": true
   },
   "outputs": [],
   "source": [
    "df = df.drop(*['j1','j2','j3','j4'])\n",
    "df = set_pause(df, 'i1', ts_name).checkpoint()\n",
    "df = check_case(df, 'i1', ts_name, min_dist_per_min, min_pause_duration, max_pause_time).checkpoint()\n",
    "df.drop(*['lat','lon','dow','distance','fixTypeCode',\n",
    "         'cum_pause','total_sec','height','speed','heading','state_cp','tripType_cp','i3','i2','j4']).show(20000, False)"
   ]
  },
  {
   "cell_type": "code",
   "execution_count": null,
   "metadata": {
    "hidden": true
   },
   "outputs": [],
   "source": [
    "df = proc_segment(df, 'j2', ts_name, min_dist_per_min, min_pause_duration, max_pause_time, 3, 3, \"CASE2\").checkpoint()\n",
    "df.drop(*['lat','lon','dow','distance','fixTypeCode',\n",
    "         'cum_pause','total_sec','height','speed','heading','state_cp','tripType_cp','i2','i1','j4']).show(20000, False)"
   ]
  },
  {
   "cell_type": "code",
   "execution_count": null,
   "metadata": {
    "hidden": true
   },
   "outputs": [],
   "source": [
    "df = df.drop(*['j1','j2','j3','j4'])\n",
    "df = set_pause(df, 'i1', ts_name).checkpoint()\n",
    "df = check_case(df, 'i1', ts_name, min_dist_per_min, min_pause_duration, max_pause_time).checkpoint()\n",
    "df.drop(*['lat','lon','dow','distance','fixTypeCode',\n",
    "         'cum_pause','total_sec','height','speed','heading','state_cp','tripType_cp','i3','i2','j4']).show(20000, False)"
   ]
  },
  {
   "cell_type": "code",
   "execution_count": null,
   "metadata": {
    "hidden": true
   },
   "outputs": [],
   "source": [
    "df2 = proc_segment(df, 'j3', ts_name, min_dist_per_min, min_pause_duration, max_pause_time, 0, 0, \"CASE3\").checkpoint()\n",
    "df2.drop(*['lat','lon','dow','distance','fixTypeCode',\n",
    "         'cum_pause','total_sec','height','speed','heading','state_cp','tripType_cp','i2','i1','j4']).show(20000, False)"
   ]
  },
  {
   "cell_type": "code",
   "execution_count": null,
   "metadata": {
    "hidden": true
   },
   "outputs": [],
   "source": []
  },
  {
   "cell_type": "code",
   "execution_count": null,
   "metadata": {
    "hidden": true
   },
   "outputs": [],
   "source": [
    "# segment 13"
   ]
  },
  {
   "cell_type": "code",
   "execution_count": null,
   "metadata": {
    "hidden": true
   },
   "outputs": [],
   "source": [
    "df = set_pause(df, 'i1', ts_name).checkpoint()\n",
    "df.drop(*['lat','lon','dow','distance','fixTypeCode',\n",
    "         'cum_pause','total_sec','height','speed','heading','state_cp','tripType_cp','i3','i2']).show(20000, False)"
   ]
  },
  {
   "cell_type": "code",
   "execution_count": null,
   "metadata": {
    "hidden": true
   },
   "outputs": [],
   "source": [
    "df = check_case(df, 'i1', ts_name, min_dist_per_min, min_pause_duration, max_pause_time).checkpoint()\n",
    "df.drop(*['lat','lon','dow','distance','fixTypeCode',\n",
    "         'cum_pause','total_sec','height','speed','heading','state_cp','tripType_cp','i3','i2','j4']).show(20000, False)"
   ]
  },
  {
   "cell_type": "code",
   "execution_count": null,
   "metadata": {
    "hidden": true
   },
   "outputs": [],
   "source": [
    "df = proc_segment(df, 'j1', ts_name, min_dist_per_min, min_pause_duration, max_pause_time, 3, 2, \"CASE1\").checkpoint()\n",
    "df.drop(*['lat','lon','dow','distance','fixTypeCode',\n",
    "         'cum_pause','total_sec','height','speed','heading','state_cp','tripType_cp','i2','i1','j4']).show(20000, False)"
   ]
  },
  {
   "cell_type": "code",
   "execution_count": null,
   "metadata": {
    "hidden": true
   },
   "outputs": [],
   "source": [
    "df = df.drop(*['j1','j2','j3','j4'])\n",
    "df = set_pause(df, 'i1', ts_name).checkpoint()\n",
    "df.drop(*['lat','lon','dow','distance','fixTypeCode',\n",
    "         'cum_pause','total_sec','height','speed','heading','state_cp','tripType_cp','i3','i2']).show(20000, False)"
   ]
  },
  {
   "cell_type": "code",
   "execution_count": null,
   "metadata": {
    "hidden": true
   },
   "outputs": [],
   "source": [
    "df = check_case(df, 'i1', ts_name, min_dist_per_min, min_pause_duration, max_pause_time).checkpoint()\n",
    "df.drop(*['lat','lon','dow','distance','fixTypeCode',\n",
    "         'cum_pause','total_sec','height','speed','heading','state_cp','tripType_cp','i3','i2','j4']).show(20000, False)"
   ]
  },
  {
   "cell_type": "code",
   "execution_count": null,
   "metadata": {
    "hidden": true
   },
   "outputs": [],
   "source": [
    "df = proc_segment(df, 'j1', ts_name, min_dist_per_min, min_pause_duration, max_pause_time, 3, 2, \"CASE1\").checkpoint()\n",
    "df.drop(*['lat','lon','dow','distance','fixTypeCode',\n",
    "         'cum_pause','total_sec','height','speed','heading','state_cp','tripType_cp','i2','i1','j4']).show(20000, False)"
   ]
  },
  {
   "cell_type": "code",
   "execution_count": null,
   "metadata": {
    "hidden": true
   },
   "outputs": [],
   "source": [
    "df = df.drop(*['j1','j2','j3','j4'])\n",
    "df = set_pause(df, 'i1', ts_name).checkpoint()\n",
    "df.drop(*['lat','lon','dow','distance','fixTypeCode',\n",
    "         'cum_pause','total_sec','height','speed','heading','state_cp','tripType_cp','i3','i2']).show(20000, False)"
   ]
  },
  {
   "cell_type": "code",
   "execution_count": null,
   "metadata": {
    "hidden": true
   },
   "outputs": [],
   "source": [
    "df = check_case(df, 'i1', ts_name, min_dist_per_min, min_pause_duration, max_pause_time).checkpoint()\n",
    "df.drop(*['lat','lon','dow','distance','fixTypeCode',\n",
    "         'cum_pause','total_sec','height','speed','heading','state_cp','tripType_cp','i3','i2','j4']).show(20000, False)"
   ]
  },
  {
   "cell_type": "code",
   "execution_count": null,
   "metadata": {
    "hidden": true
   },
   "outputs": [],
   "source": [
    "df = proc_segment(df, 'j1', ts_name, min_dist_per_min, min_pause_duration, max_pause_time, 3, 2, \"CASE1\").checkpoint()\n",
    "df.drop(*['lat','lon','dow','distance','fixTypeCode',\n",
    "         'cum_pause','total_sec','height','speed','heading','state_cp','tripType_cp','i2','i1','j4']).show(20000, False)"
   ]
  },
  {
   "cell_type": "code",
   "execution_count": null,
   "metadata": {
    "hidden": true
   },
   "outputs": [],
   "source": [
    "df = df.drop(*['j1','j2','j3','j4'])\n",
    "df = set_pause(df, 'i1', ts_name).checkpoint()\n",
    "df.drop(*['lat','lon','dow','distance','fixTypeCode',\n",
    "         'cum_pause','total_sec','height','speed','heading','state_cp','tripType_cp','i3','i2']).show(20000, False)"
   ]
  },
  {
   "cell_type": "code",
   "execution_count": null,
   "metadata": {
    "hidden": true
   },
   "outputs": [],
   "source": [
    "df = check_case(df, 'i1', ts_name, min_dist_per_min, min_pause_duration, max_pause_time).checkpoint()\n",
    "df.drop(*['lat','lon','dow','distance','fixTypeCode',\n",
    "         'cum_pause','total_sec','height','speed','heading','state_cp','tripType_cp','i3','i2','j4']).show(20000, False)"
   ]
  },
  {
   "cell_type": "code",
   "execution_count": null,
   "metadata": {
    "hidden": true
   },
   "outputs": [],
   "source": [
    "df = proc_segment(df, 'j1', ts_name, min_dist_per_min, min_pause_duration, max_pause_time, 3, 2, \"CASE1\").checkpoint()\n",
    "df.drop(*['lat','lon','dow','distance','fixTypeCode',\n",
    "         'cum_pause','total_sec','height','speed','heading','state_cp','tripType_cp','i2','i1','j4']).show(20000, False)"
   ]
  },
  {
   "cell_type": "code",
   "execution_count": null,
   "metadata": {
    "hidden": true
   },
   "outputs": [],
   "source": [
    "df = df.drop(*['j1','j2','j3','j4'])\n",
    "df = set_pause(df, 'i1', ts_name).checkpoint()\n",
    "df.drop(*['lat','lon','dow','distance','fixTypeCode',\n",
    "         'cum_pause','total_sec','height','speed','heading','state_cp','tripType_cp','i3','i2']).show(20000, False)"
   ]
  },
  {
   "cell_type": "code",
   "execution_count": null,
   "metadata": {
    "hidden": true
   },
   "outputs": [],
   "source": [
    "df = check_case(df, 'i1', ts_name, min_dist_per_min, min_pause_duration, max_pause_time).checkpoint()\n",
    "df.drop(*['lat','lon','dow','distance','fixTypeCode',\n",
    "         'cum_pause','total_sec','height','speed','heading','state_cp','tripType_cp','i3','i2','j4']).show(20000, False)"
   ]
  },
  {
   "cell_type": "code",
   "execution_count": null,
   "metadata": {
    "hidden": true
   },
   "outputs": [],
   "source": [
    "df = proc_segment(df, 'j3', ts_name, min_dist_per_min, min_pause_duration, max_pause_time, 0, 0, \"CASE3\").checkpoint()\n",
    "df.drop(*['lat','lon','dow','distance','fixTypeCode',\n",
    "         'cum_pause','total_sec','height','speed','heading','state_cp','tripType_cp','i2','i1','j4']).show(20000, False)"
   ]
  },
  {
   "cell_type": "code",
   "execution_count": null,
   "metadata": {
    "hidden": true
   },
   "outputs": [],
   "source": [
    "df2 = df.drop(*['j1','j2','j3','j4'])\n",
    "df2 = set_pause(df2, 'i1', ts_name).checkpoint()\n",
    "df2.drop(*['lat','lon','dow','distance','fixTypeCode',\n",
    "         'cum_pause','total_sec','height','speed','heading','state_cp','tripType_cp','i3','i2']).show(20000, False)"
   ]
  },
  {
   "cell_type": "code",
   "execution_count": null,
   "metadata": {
    "hidden": true
   },
   "outputs": [],
   "source": [
    "df2 = check_case(df2, 'i1', ts_name, min_dist_per_min, min_pause_duration, max_pause_time).checkpoint()\n",
    "df2.drop(*['lat','lon','dow','distance','fixTypeCode',\n",
    "         'cum_pause','total_sec','height','speed','heading','state_cp','tripType_cp','i3','i2','j4']).show(20000, False)"
   ]
  },
  {
   "cell_type": "code",
   "execution_count": null,
   "metadata": {
    "hidden": true
   },
   "outputs": [],
   "source": [
    "df2 = proc_segment(df2, 'j2', ts_name, min_dist_per_min, min_pause_duration, max_pause_time, 3, 3, \"CASE2\").checkpoint()\n",
    "df2.drop(*['lat','lon','dow','distance','fixTypeCode',\n",
    "         'cum_pause','total_sec','height','speed','heading','state_cp','tripType_cp','i2','i1','j4']).show(20000, False)"
   ]
  },
  {
   "cell_type": "code",
   "execution_count": null,
   "metadata": {
    "hidden": true
   },
   "outputs": [],
   "source": [
    "df3 = df2.drop(*['j1','j2','j3','j4'])\n",
    "df3 = set_pause(df3, 'i1', ts_name).checkpoint()\n",
    "df3.drop(*['lat','lon','dow','distance','fixTypeCode',\n",
    "         'cum_pause','total_sec','height','speed','heading','state_cp','tripType_cp','i3','i2']).show(20000, False)"
   ]
  },
  {
   "cell_type": "code",
   "execution_count": null,
   "metadata": {
    "hidden": true
   },
   "outputs": [],
   "source": [
    "df3 = check_case(df3, 'i1', ts_name, min_dist_per_min, min_pause_duration, max_pause_time).checkpoint()\n",
    "df3.drop(*['lat','lon','dow','distance','fixTypeCode',\n",
    "         'cum_pause','total_sec','height','speed','heading','state_cp','tripType_cp','i3','i2','j4']).show(20000, False)"
   ]
  },
  {
   "cell_type": "code",
   "execution_count": null,
   "metadata": {
    "hidden": true
   },
   "outputs": [],
   "source": [
    "df3 = proc_segment(df3, 'j2', ts_name, min_dist_per_min, min_pause_duration, max_pause_time, 3, 3, \"CASE2\").checkpoint()\n",
    "df3.drop(*['lat','lon','dow','distance','fixTypeCode',\n",
    "         'cum_pause','total_sec','height','speed','heading','state_cp','tripType_cp','i2','i1','j4']).show(20000, False)"
   ]
  },
  {
   "cell_type": "code",
   "execution_count": null,
   "metadata": {
    "hidden": true
   },
   "outputs": [],
   "source": [
    "df3 = df3.drop(*['j1','j2','j3','j4'])\n",
    "df3 = set_pause(df3, 'i1', ts_name).checkpoint()\n",
    "df3.drop(*['lat','lon','dow','distance','fixTypeCode',\n",
    "         'cum_pause','total_sec','height','speed','heading','state_cp','tripType_cp','i3','i2']).show(20000, False)"
   ]
  },
  {
   "cell_type": "code",
   "execution_count": null,
   "metadata": {
    "hidden": true
   },
   "outputs": [],
   "source": [
    "df3 = check_case(df3, 'i1', ts_name, min_dist_per_min, min_pause_duration, max_pause_time).checkpoint()\n",
    "df3.drop(*['lat','lon','dow','distance','fixTypeCode',\n",
    "         'cum_pause','total_sec','height','speed','heading','state_cp','tripType_cp','i3','i2','j4']).show(20000, False)"
   ]
  },
  {
   "cell_type": "code",
   "execution_count": null,
   "metadata": {
    "hidden": true
   },
   "outputs": [],
   "source": [
    "df3 = proc_segment(df3, 'j1', ts_name, min_dist_per_min, min_pause_duration, max_pause_time, 3, 2, \"CASE1\").checkpoint()\n",
    "df3.drop(*['lat','lon','dow','distance','fixTypeCode',\n",
    "         'cum_pause','total_sec','height','speed','heading','state_cp','tripType_cp','i2','i1','j4']).show(20000, False)"
   ]
  },
  {
   "cell_type": "code",
   "execution_count": null,
   "metadata": {
    "hidden": true
   },
   "outputs": [],
   "source": [
    "df3 = df3.drop(*['j1','j2','j3','j4'])\n",
    "df3 = set_pause(df3, 'i1', ts_name).checkpoint()\n",
    "df3.drop(*['lat','lon','dow','distance','fixTypeCode',\n",
    "         'cum_pause','total_sec','height','speed','heading','state_cp','tripType_cp','i3','i2']).show(20000, False)"
   ]
  },
  {
   "cell_type": "code",
   "execution_count": null,
   "metadata": {
    "hidden": true
   },
   "outputs": [],
   "source": [
    "df3 = check_case(df3, 'i1', ts_name, min_dist_per_min, min_pause_duration, max_pause_time).checkpoint()\n",
    "df3.drop(*['lat','lon','dow','distance','fixTypeCode',\n",
    "         'cum_pause','total_sec','height','speed','heading','state_cp','tripType_cp','i3','i2','j4']).show(20000, False)"
   ]
  },
  {
   "cell_type": "code",
   "execution_count": null,
   "metadata": {
    "hidden": true
   },
   "outputs": [],
   "source": [
    "df3 = proc_segment(df3, 'j1', ts_name, min_dist_per_min, min_pause_duration, max_pause_time, 3, 2, \"CASE1\").checkpoint()\n",
    "df3.drop(*['lat','lon','dow','distance','fixTypeCode',\n",
    "         'cum_pause','total_sec','height','speed','heading','state_cp','tripType_cp','i2','i1','j4']).show(20000, False)"
   ]
  },
  {
   "cell_type": "code",
   "execution_count": null,
   "metadata": {
    "hidden": true
   },
   "outputs": [],
   "source": []
  },
  {
   "cell_type": "code",
   "execution_count": null,
   "metadata": {
    "hidden": true
   },
   "outputs": [],
   "source": [
    "# segment 108\n",
    "df = set_pause(df, 'i3', ts_name).checkpoint()\n",
    "df.drop(*['lat','lon','dow','distance','fixTypeCode',\n",
    "         'cum_pause','total_sec','height','speed','heading','state_cp','tripType_cp','i1','i2']).show(20000, False)"
   ]
  },
  {
   "cell_type": "code",
   "execution_count": null,
   "metadata": {
    "hidden": true
   },
   "outputs": [],
   "source": [
    "df = check_case(df, 'i3', ts_name, min_dist_per_min, min_pause_duration, max_pause_time).checkpoint()\n",
    "df.drop(*['lat','lon','dow','distance','fixTypeCode',\n",
    "         'cum_pause','total_sec','height','speed','heading','state_cp','tripType_cp','i1','i2','j4']).show(20000, False)"
   ]
  },
  {
   "cell_type": "code",
   "execution_count": null,
   "metadata": {
    "hidden": true
   },
   "outputs": [],
   "source": [
    "df = proc_segment(df, 'j1', ts_name, min_dist_per_min, min_pause_duration, max_pause_time, 3, 2, \"CASE1\").checkpoint()\n",
    "df.drop(*['lat','lon','dow','distance','fixTypeCode',\n",
    "         'cum_pause','total_sec','height','speed','heading','state_cp','tripType_cp','i2','i1','j4']).show(20000, False)"
   ]
  },
  {
   "cell_type": "code",
   "execution_count": null,
   "metadata": {
    "hidden": true
   },
   "outputs": [],
   "source": [
    "df = df.drop(*['j1','j2','j3','j4'])\n",
    "df = set_pause(df, 'i3', ts_name).checkpoint()\n",
    "df.drop(*['lat','lon','dow','distance','fixTypeCode',\n",
    "         'cum_pause','total_sec','height','speed','heading','state_cp','tripType_cp','i1','i2']).show(20000, False)"
   ]
  },
  {
   "cell_type": "code",
   "execution_count": null,
   "metadata": {
    "hidden": true
   },
   "outputs": [],
   "source": [
    "df = check_case(df, 'i3', ts_name, min_dist_per_min, min_pause_duration, max_pause_time).checkpoint()\n",
    "df.drop(*['lat','lon','dow','distance','fixTypeCode',\n",
    "         'cum_pause','total_sec','height','speed','heading','state_cp','tripType_cp','i1','i2','j4']).show(20000, False)"
   ]
  },
  {
   "cell_type": "code",
   "execution_count": null,
   "metadata": {
    "hidden": true
   },
   "outputs": [],
   "source": [
    "df = proc_segment(df, 'j1', ts_name, min_dist_per_min, min_pause_duration, max_pause_time, 3, 2, \"CASE1\").checkpoint()\n",
    "df.drop(*['lat','lon','dow','distance','fixTypeCode',\n",
    "         'cum_pause','total_sec','height','speed','heading','state_cp','tripType_cp','i2','i1','j4']).show(20000, False)"
   ]
  },
  {
   "cell_type": "code",
   "execution_count": null,
   "metadata": {
    "hidden": true
   },
   "outputs": [],
   "source": [
    "df = df.drop(*['j1','j2','j3','j4'])\n",
    "df = set_pause(df, 'i3', ts_name).checkpoint()\n",
    "df.drop(*['lat','lon','dow','distance','fixTypeCode',\n",
    "         'cum_pause','total_sec','height','speed','heading','state_cp','tripType_cp','i1','i2']).show(20000, False)"
   ]
  },
  {
   "cell_type": "code",
   "execution_count": null,
   "metadata": {
    "hidden": true
   },
   "outputs": [],
   "source": [
    "df = check_case(df, 'i3', ts_name, min_dist_per_min, min_pause_duration, max_pause_time).checkpoint()\n",
    "df.drop(*['lat','lon','dow','distance','fixTypeCode',\n",
    "         'cum_pause','total_sec','height','speed','heading','state_cp','tripType_cp','i1','i2','j4']).show(20000, False)"
   ]
  },
  {
   "cell_type": "code",
   "execution_count": null,
   "metadata": {
    "hidden": true
   },
   "outputs": [],
   "source": [
    "df = proc_segment(df, 'j1', ts_name, min_dist_per_min, min_pause_duration, max_pause_time, 3, 2, \"CASE1\").checkpoint()\n",
    "df.drop(*['lat','lon','dow','distance','fixTypeCode',\n",
    "         'cum_pause','total_sec','height','speed','heading','state_cp','tripType_cp','i2','i1','j4']).show(20000, False)"
   ]
  },
  {
   "cell_type": "code",
   "execution_count": null,
   "metadata": {
    "hidden": true
   },
   "outputs": [],
   "source": [
    "df = df.drop(*['j1','j2','j3','j4'])\n",
    "df = set_pause(df, 'i3', ts_name).checkpoint()\n",
    "df.drop(*['lat','lon','dow','distance','fixTypeCode',\n",
    "         'cum_pause','total_sec','height','speed','heading','state_cp','tripType_cp','i1','i2']).show(20000, False)"
   ]
  },
  {
   "cell_type": "code",
   "execution_count": null,
   "metadata": {
    "hidden": true
   },
   "outputs": [],
   "source": [
    "df = check_case(df, 'i3', ts_name, min_dist_per_min, min_pause_duration, max_pause_time).checkpoint()\n",
    "df.drop(*['lat','lon','dow','distance','fixTypeCode',\n",
    "         'cum_pause','total_sec','height','speed','heading','state_cp','tripType_cp','i1','i2','j4']).show(20000, False)"
   ]
  },
  {
   "cell_type": "code",
   "execution_count": null,
   "metadata": {
    "hidden": true
   },
   "outputs": [],
   "source": [
    "df = proc_segment(df, 'j1', ts_name, min_dist_per_min, min_pause_duration, max_pause_time, 3, 2, \"CASE1\").checkpoint()\n",
    "df.drop(*['lat','lon','dow','distance','fixTypeCode',\n",
    "         'cum_pause','total_sec','height','speed','heading','state_cp','tripType_cp','i2','i1','j4']).show(20000, False)"
   ]
  },
  {
   "cell_type": "code",
   "execution_count": null,
   "metadata": {
    "hidden": true
   },
   "outputs": [],
   "source": [
    "df = df.drop(*['j1','j2','j3','j4'])\n",
    "df = set_pause(df, 'i3', ts_name).checkpoint()\n",
    "df.drop(*['lat','lon','dow','distance','fixTypeCode',\n",
    "         'cum_pause','total_sec','height','speed','heading','state_cp','tripType_cp','i1','i2']).show(20000, False)"
   ]
  },
  {
   "cell_type": "code",
   "execution_count": null,
   "metadata": {
    "hidden": true
   },
   "outputs": [],
   "source": [
    "df = check_case(df, 'i3', ts_name, min_dist_per_min, min_pause_duration, max_pause_time).checkpoint()\n",
    "df.drop(*['lat','lon','dow','distance','fixTypeCode',\n",
    "         'cum_pause','total_sec','height','speed','heading','state_cp','tripType_cp','i1','i2','j4']).show(20000, False)"
   ]
  },
  {
   "cell_type": "code",
   "execution_count": null,
   "metadata": {
    "hidden": true
   },
   "outputs": [],
   "source": [
    "df = proc_segment(df, 'j1', ts_name, min_dist_per_min, min_pause_duration, max_pause_time, 3, 2, \"CASE1\").checkpoint()\n",
    "df.drop(*['lat','lon','dow','distance','fixTypeCode',\n",
    "         'cum_pause','total_sec','height','speed','heading','state_cp','tripType_cp','i2','i1','j4']).show(20000, False)"
   ]
  },
  {
   "cell_type": "code",
   "execution_count": null,
   "metadata": {
    "hidden": true
   },
   "outputs": [],
   "source": [
    "df = df.drop(*['j1','j2','j3','j4'])\n",
    "df = set_pause(df, 'i3', ts_name).checkpoint()\n",
    "df.drop(*['lat','lon','dow','distance','fixTypeCode',\n",
    "         'cum_pause','total_sec','height','speed','heading','state_cp','tripType_cp','i1','i2']).show(20000, False)"
   ]
  },
  {
   "cell_type": "code",
   "execution_count": null,
   "metadata": {
    "hidden": true
   },
   "outputs": [],
   "source": [
    "df = check_case(df, 'i3', ts_name, min_dist_per_min, min_pause_duration, max_pause_time).checkpoint()\n",
    "df.drop(*['lat','lon','dow','distance','fixTypeCode',\n",
    "         'cum_pause','total_sec','height','speed','heading','state_cp','tripType_cp','i1','i2','j4']).show(20000, False)"
   ]
  },
  {
   "cell_type": "code",
   "execution_count": null,
   "metadata": {
    "hidden": true
   },
   "outputs": [],
   "source": [
    "df = proc_segment(df, 'j1', ts_name, min_dist_per_min, min_pause_duration, max_pause_time, 3, 2, \"CASE1\").checkpoint()\n",
    "df.drop(*['lat','lon','dow','distance','fixTypeCode',\n",
    "         'cum_pause','total_sec','height','speed','heading','state_cp','tripType_cp','i2','i1','j4']).show(20000, False)"
   ]
  },
  {
   "cell_type": "code",
   "execution_count": null,
   "metadata": {
    "hidden": true
   },
   "outputs": [],
   "source": [
    "df = df.drop(*['j1','j2','j3','j4'])\n",
    "df = set_pause(df, 'i3', ts_name).checkpoint()\n",
    "df.drop(*['lat','lon','dow','distance','fixTypeCode',\n",
    "         'cum_pause','total_sec','height','speed','heading','state_cp','tripType_cp','i1','i2']).show(20000, False)"
   ]
  },
  {
   "cell_type": "code",
   "execution_count": null,
   "metadata": {
    "hidden": true
   },
   "outputs": [],
   "source": [
    "df = check_case(df, 'i3', ts_name, min_dist_per_min, min_pause_duration, max_pause_time).checkpoint()\n",
    "df.drop(*['lat','lon','dow','distance','fixTypeCode',\n",
    "         'cum_pause','total_sec','height','speed','heading','state_cp','tripType_cp','i1','i2','j4']).show(20000, False)"
   ]
  },
  {
   "cell_type": "code",
   "execution_count": null,
   "metadata": {
    "hidden": true
   },
   "outputs": [],
   "source": [
    "df2 = proc_segment(df, 'j2', ts_name, min_dist_per_min, min_pause_duration, max_pause_time, 3, 3, \"CASE2\").checkpoint()\n",
    "df2.drop(*['lat','lon','dow','distance','fixTypeCode',\n",
    "         'cum_pause','total_sec','height','speed','heading','state_cp','tripType_cp','i2','i1','j4']).show(20000, False)"
   ]
  },
  {
   "cell_type": "code",
   "execution_count": null,
   "metadata": {
    "hidden": true
   },
   "outputs": [],
   "source": [
    "df2 = df2.drop(*['j1','j2','j3','j4'])\n",
    "df2 = set_pause(df2, 'i3', ts_name).checkpoint()\n",
    "df2.drop(*['lat','lon','dow','distance','fixTypeCode',\n",
    "         'cum_pause','total_sec','height','speed','heading','state_cp','tripType_cp','i1','i2']).show(20000, False)"
   ]
  },
  {
   "cell_type": "code",
   "execution_count": null,
   "metadata": {
    "hidden": true
   },
   "outputs": [],
   "source": [
    "df2 = check_case(df2, 'i3', ts_name, min_dist_per_min, min_pause_duration, max_pause_time).checkpoint()\n",
    "df2.drop(*['lat','lon','dow','distance','fixTypeCode',\n",
    "         'cum_pause','total_sec','height','speed','heading','state_cp','tripType_cp','i1','i2','j4']).show(20000, False)"
   ]
  },
  {
   "cell_type": "code",
   "execution_count": null,
   "metadata": {
    "hidden": true
   },
   "outputs": [],
   "source": [
    "df3 = proc_segment(df2, 'j3', ts_name, min_dist_per_min, min_pause_duration, max_pause_time, 0, 0, \"CASE3\").checkpoint()\n",
    "df3.drop(*['lat','lon','dow','distance','fixTypeCode',\n",
    "         'cum_pause','total_sec','height','speed','heading','state_cp','tripType_cp','i2','i1','j4']).show(20000, False)"
   ]
  },
  {
   "cell_type": "code",
   "execution_count": null,
   "metadata": {
    "hidden": true
   },
   "outputs": [],
   "source": [
    "df3 = df3.drop(*['j1','j2','j3','j4'])\n",
    "df3 = set_pause(df3, 'i3', ts_name).checkpoint()\n",
    "df3.drop(*['lat','lon','dow','distance','fixTypeCode',\n",
    "         'cum_pause','total_sec','height','speed','heading','state_cp','tripType_cp','i1','i2']).show(20000, False)"
   ]
  },
  {
   "cell_type": "code",
   "execution_count": null,
   "metadata": {
    "hidden": true
   },
   "outputs": [],
   "source": []
  },
  {
   "cell_type": "code",
   "execution_count": null,
   "metadata": {
    "hidden": true
   },
   "outputs": [],
   "source": [
    "# segment 166\n",
    "df = set_pause(df, 'i2', ts_name).checkpoint()\n",
    "df.drop(*['lat','lon','dow','distance','fixTypeCode',\n",
    "         'cum_pause','total_sec','height','speed','heading','state_cp','tripType_cp','i1','i3']).show(20000, False)"
   ]
  },
  {
   "cell_type": "code",
   "execution_count": null,
   "metadata": {
    "hidden": true
   },
   "outputs": [],
   "source": [
    "df = check_case(df, 'i2', ts_name, min_dist_per_min, min_pause_duration, max_pause_time).checkpoint()\n",
    "df.drop(*['lat','lon','dow','distance','fixTypeCode',\n",
    "         'cum_pause','total_sec','height','speed','heading','state_cp','tripType_cp','i1','i3']).show(20000, False)"
   ]
  },
  {
   "cell_type": "code",
   "execution_count": null,
   "metadata": {
    "hidden": true
   },
   "outputs": [],
   "source": [
    "df = proc_segment(df, 'j1', ts_name, min_dist_per_min, min_pause_duration, max_pause_time, 3, 2, \"CASE1\").checkpoint()\n",
    "df.drop(*['lat','lon','dow','distance','fixTypeCode',\n",
    "         'cum_pause','total_sec','height','speed','heading','state_cp','tripType_cp','i1','i3']).show(20000, False)"
   ]
  },
  {
   "cell_type": "code",
   "execution_count": null,
   "metadata": {
    "hidden": true
   },
   "outputs": [],
   "source": [
    "df = df.drop(*['j1','j2','j3','j4'])\n",
    "df = set_pause(df, 'i2', ts_name).checkpoint()\n",
    "df.drop(*['lat','lon','dow','distance','fixTypeCode',\n",
    "         'cum_pause','total_sec','height','speed','heading','state_cp','tripType_cp','i1','i3']).show(20000, False)"
   ]
  },
  {
   "cell_type": "code",
   "execution_count": null,
   "metadata": {
    "hidden": true
   },
   "outputs": [],
   "source": [
    "df = check_case(df, 'i2', ts_name, min_dist_per_min, min_pause_duration, max_pause_time).checkpoint()\n",
    "df.drop(*['lat','lon','dow','distance','fixTypeCode',\n",
    "         'cum_pause','total_sec','height','speed','heading','state_cp','tripType_cp','i1','i3']).show(20000, False)"
   ]
  },
  {
   "cell_type": "code",
   "execution_count": null,
   "metadata": {
    "hidden": true
   },
   "outputs": [],
   "source": [
    "df = proc_segment(df, 'j2', ts_name, min_dist_per_min, min_pause_duration, max_pause_time, 3, 3, \"CASE2\").checkpoint()\n",
    "df.drop(*['lat','lon','dow','distance','fixTypeCode',\n",
    "         'cum_pause','total_sec','height','speed','heading','state_cp','tripType_cp','i1','i3']).show(20000, False)"
   ]
  },
  {
   "cell_type": "code",
   "execution_count": null,
   "metadata": {
    "hidden": true
   },
   "outputs": [],
   "source": [
    "df = df.drop(*['j1','j2','j3','j4'])\n",
    "df = set_pause(df, 'i2', ts_name).checkpoint()\n",
    "df.drop(*['lat','lon','dow','distance','fixTypeCode',\n",
    "         'cum_pause','total_sec','height','speed','heading','state_cp','tripType_cp','i1','i3']).show(20000, False)"
   ]
  },
  {
   "cell_type": "code",
   "execution_count": null,
   "metadata": {
    "hidden": true
   },
   "outputs": [],
   "source": [
    "df = check_case(df, 'i2', ts_name, min_dist_per_min, min_pause_duration, max_pause_time).checkpoint()\n",
    "df.drop(*['lat','lon','dow','distance','fixTypeCode',\n",
    "         'cum_pause','total_sec','height','speed','heading','state_cp','tripType_cp','i1','i3']).show(20000, False)"
   ]
  },
  {
   "cell_type": "code",
   "execution_count": null,
   "metadata": {
    "hidden": true
   },
   "outputs": [],
   "source": [
    "df = proc_segment(df, 'j1', ts_name, min_dist_per_min, min_pause_duration, max_pause_time, 3, 2, \"CASE1\").checkpoint()\n",
    "df.drop(*['lat','lon','dow','distance','fixTypeCode',\n",
    "         'cum_pause','total_sec','height','speed','heading','state_cp','tripType_cp','i1','i3']).show(20000, False)"
   ]
  },
  {
   "cell_type": "code",
   "execution_count": null,
   "metadata": {
    "hidden": true
   },
   "outputs": [],
   "source": [
    "df = df.drop(*['j1','j2','j3','j4'])\n",
    "df = set_pause(df, 'i2', ts_name).checkpoint()\n",
    "df.drop(*['lat','lon','dow','distance','fixTypeCode',\n",
    "         'cum_pause','total_sec','height','speed','heading','state_cp','tripType_cp','i1','i3']).show(20000, False)"
   ]
  },
  {
   "cell_type": "code",
   "execution_count": null,
   "metadata": {
    "hidden": true
   },
   "outputs": [],
   "source": [
    "df = check_case(df, 'i2', ts_name, min_dist_per_min, min_pause_duration, max_pause_time).checkpoint()\n",
    "df.drop(*['lat','lon','dow','distance','fixTypeCode',\n",
    "         'cum_pause','total_sec','height','speed','heading','state_cp','tripType_cp','i1','i3']).show(20000, False)"
   ]
  },
  {
   "cell_type": "code",
   "execution_count": null,
   "metadata": {
    "hidden": true
   },
   "outputs": [],
   "source": [
    "df = proc_segment(df, 'j1', ts_name, min_dist_per_min, min_pause_duration, max_pause_time, 3, 2, \"CASE1\").checkpoint()\n",
    "df.drop(*['lat','lon','dow','distance','fixTypeCode',\n",
    "         'cum_pause','total_sec','height','speed','heading','state_cp','tripType_cp','i1','i3']).show(20000, False)"
   ]
  },
  {
   "cell_type": "code",
   "execution_count": null,
   "metadata": {
    "hidden": true
   },
   "outputs": [],
   "source": [
    "df = df.drop(*['j1','j2','j3','j4'])\n",
    "df = set_pause(df, 'i2', ts_name).checkpoint()\n",
    "df.drop(*['lat','lon','dow','distance','fixTypeCode',\n",
    "         'cum_pause','total_sec','height','speed','heading','state_cp','tripType_cp','i1','i3']).show(20000, False)"
   ]
  },
  {
   "cell_type": "code",
   "execution_count": null,
   "metadata": {
    "hidden": true
   },
   "outputs": [],
   "source": [
    "df = check_case(df, 'i2', ts_name, min_dist_per_min, min_pause_duration, max_pause_time).checkpoint()\n",
    "df.drop(*['lat','lon','dow','distance','fixTypeCode',\n",
    "         'cum_pause','total_sec','height','speed','heading','state_cp','tripType_cp','i1','i3']).show(20000, False)"
   ]
  },
  {
   "cell_type": "code",
   "execution_count": null,
   "metadata": {
    "hidden": true
   },
   "outputs": [],
   "source": [
    "df = proc_segment(df, 'j1', ts_name, min_dist_per_min, min_pause_duration, max_pause_time, 3, 2, \"CASE1\").checkpoint()\n",
    "df.drop(*['lat','lon','dow','distance','fixTypeCode',\n",
    "         'cum_pause','total_sec','height','speed','heading','state_cp','tripType_cp','i1','i3']).show(20000, False)"
   ]
  },
  {
   "cell_type": "code",
   "execution_count": null,
   "metadata": {
    "hidden": true
   },
   "outputs": [],
   "source": [
    "df = df.drop(*['j1','j2','j3','j4'])\n",
    "df = set_pause(df, 'i2', ts_name).checkpoint()\n",
    "df.drop(*['lat','lon','dow','distance','fixTypeCode',\n",
    "         'cum_pause','total_sec','height','speed','heading','state_cp','tripType_cp','i1','i3']).show(20000, False)"
   ]
  },
  {
   "cell_type": "code",
   "execution_count": null,
   "metadata": {
    "hidden": true
   },
   "outputs": [],
   "source": [
    "df = check_case(df, 'i2', ts_name, min_dist_per_min, min_pause_duration, max_pause_time).checkpoint()\n",
    "df.drop(*['lat','lon','dow','distance','fixTypeCode',\n",
    "         'cum_pause','total_sec','height','speed','heading','state_cp','tripType_cp','i1','i3']).show(20000, False)"
   ]
  },
  {
   "cell_type": "code",
   "execution_count": null,
   "metadata": {
    "hidden": true
   },
   "outputs": [],
   "source": [
    "df = proc_segment(df, 'j1', ts_name, min_dist_per_min, min_pause_duration, max_pause_time, 3, 2, \"CASE1\").checkpoint()\n",
    "df.drop(*['lat','lon','dow','distance','fixTypeCode',\n",
    "         'cum_pause','total_sec','height','speed','heading','state_cp','tripType_cp','i1','i3']).show(20000, False)"
   ]
  },
  {
   "cell_type": "code",
   "execution_count": null,
   "metadata": {
    "hidden": true
   },
   "outputs": [],
   "source": [
    "df = df.drop(*['j1','j2','j3','j4'])\n",
    "df = set_pause(df, 'i2', ts_name).checkpoint()\n",
    "df.drop(*['lat','lon','dow','distance','fixTypeCode',\n",
    "         'cum_pause','total_sec','height','speed','heading','state_cp','tripType_cp','i1','i3']).show(20000, False)"
   ]
  },
  {
   "cell_type": "code",
   "execution_count": null,
   "metadata": {
    "hidden": true
   },
   "outputs": [],
   "source": [
    "df = check_case(df, 'i2', ts_name, min_dist_per_min, min_pause_duration, max_pause_time).checkpoint()\n",
    "df.drop(*['lat','lon','dow','distance','fixTypeCode',\n",
    "         'cum_pause','total_sec','height','speed','heading','state_cp','tripType_cp','i1','i3','j3']).show(20000, False)"
   ]
  },
  {
   "cell_type": "code",
   "execution_count": null,
   "metadata": {
    "hidden": true
   },
   "outputs": [],
   "source": [
    "df2 = proc_segment(df, 'j4', ts_name, min_dist_per_min, min_pause_duration, max_pause_time, 0, 0, \"CASE4\").checkpoint()\n",
    "df2.drop(*['lat','lon','dow','distance','fixTypeCode',\n",
    "         'cum_pause','total_sec','height','speed','heading','state_cp','tripType_cp','i1','i3','j3']).show(20000, False)"
   ]
  },
  {
   "cell_type": "code",
   "execution_count": null,
   "metadata": {
    "hidden": true
   },
   "outputs": [],
   "source": [
    "df2 = df2.drop(*['j1','j2','j3'])\n",
    "df2 = set_pause(df2, 'j4', ts_name).checkpoint()\n",
    "df2.drop(*['lat','lon','dow','distance','fixTypeCode',\n",
    "         'cum_pause','total_sec','height','speed','heading','state_cp','tripType_cp','i1','i3','j3']).show(20000, False)"
   ]
  },
  {
   "cell_type": "code",
   "execution_count": null,
   "metadata": {
    "hidden": true
   },
   "outputs": [],
   "source": [
    "df2 = check_case(df2, 'i2', ts_name, min_dist_per_min, min_pause_duration, max_pause_time).checkpoint()\n",
    "df2.drop(*['lat','lon','dow','distance','fixTypeCode',\n",
    "         'cum_pause','total_sec','height','speed','heading','state_cp','tripType_cp','i1','i3','j4']).show(20000, False)"
   ]
  },
  {
   "cell_type": "code",
   "execution_count": null,
   "metadata": {
    "hidden": true
   },
   "outputs": [],
   "source": [
    "df2 = proc_segment(df2, 'j3', ts_name, min_dist_per_min, min_pause_duration, max_pause_time, 0, 0, \"CASE3\").checkpoint()\n",
    "df2.drop(*['lat','lon','dow','distance','fixTypeCode',\n",
    "         'cum_pause','total_sec','height','speed','heading','state_cp','tripType_cp','i1','i3','j4','j1','j2']).show(20000, False)"
   ]
  },
  {
   "cell_type": "code",
   "execution_count": null,
   "metadata": {
    "hidden": true
   },
   "outputs": [],
   "source": [
    "df3 = df2.drop(*['j1','j2','j3','j4'])\n",
    "df3 = set_pause(df3, 'i2', ts_name).checkpoint()\n",
    "df3.drop(*['lat','lon','dow','distance','fixTypeCode',\n",
    "         'cum_pause','total_sec','height','speed','heading','state_cp','tripType_cp','i1','i3']).show(20000, False)"
   ]
  },
  {
   "cell_type": "code",
   "execution_count": null,
   "metadata": {
    "hidden": true
   },
   "outputs": [],
   "source": [
    "df3 = check_case(df3, 'i2', ts_name, min_dist_per_min, min_pause_duration, max_pause_time).checkpoint()\n",
    "df3.drop(*['lat','lon','dow','distance','fixTypeCode',\n",
    "         'cum_pause','total_sec','height','speed','heading','state_cp','tripType_cp','i1','i3','j4']).show(20000, False)"
   ]
  },
  {
   "cell_type": "code",
   "execution_count": null,
   "metadata": {
    "hidden": true
   },
   "outputs": [],
   "source": [
    "df3 = proc_segment(df3, 'j1', ts_name, min_dist_per_min, min_pause_duration, max_pause_time, 3, 2, \"CASE1\").checkpoint()\n",
    "df3.drop(*['lat','lon','dow','distance','fixTypeCode',\n",
    "         'cum_pause','total_sec','height','speed','heading','state_cp','tripType_cp','i1','i3']).show(20000, False)"
   ]
  },
  {
   "cell_type": "code",
   "execution_count": null,
   "metadata": {
    "hidden": true
   },
   "outputs": [],
   "source": [
    "df3 = df3.drop(*['j1','j2','j3','j4'])\n",
    "df3 = set_pause(df3, 'i2', ts_name).checkpoint()\n",
    "df3.drop(*['lat','lon','dow','distance','fixTypeCode',\n",
    "         'cum_pause','total_sec','height','speed','heading','state_cp','tripType_cp','i1','i3']).show(20000, False)"
   ]
  },
  {
   "cell_type": "code",
   "execution_count": null,
   "metadata": {
    "hidden": true
   },
   "outputs": [],
   "source": [
    "df3 = check_case(df3, 'i2', ts_name, min_dist_per_min, min_pause_duration, max_pause_time).checkpoint()\n",
    "df3.drop(*['lat','lon','dow','distance','fixTypeCode',\n",
    "         'cum_pause','total_sec','height','speed','heading','state_cp','tripType_cp','i1','i3','j4']).show(20000, False)"
   ]
  },
  {
   "cell_type": "code",
   "execution_count": null,
   "metadata": {
    "hidden": true
   },
   "outputs": [],
   "source": [
    "df3 = proc_segment(df3, 'j1', ts_name, min_dist_per_min, min_pause_duration, max_pause_time, 3, 2, \"CASE1\").checkpoint()\n",
    "df3.drop(*['lat','lon','dow','distance','fixTypeCode',\n",
    "         'cum_pause','total_sec','height','speed','heading','state_cp','tripType_cp','i1','i3']).show(20000, False)"
   ]
  },
  {
   "cell_type": "code",
   "execution_count": null,
   "metadata": {
    "hidden": true
   },
   "outputs": [],
   "source": [
    "df3 = df3.drop(*['j1','j2','j3','j4'])\n",
    "df3 = set_pause(df3, 'i2', ts_name).checkpoint()\n",
    "df3.drop(*['lat','lon','dow','distance','fixTypeCode',\n",
    "         'cum_pause','total_sec','height','speed','heading','state_cp','tripType_cp','i1','i3']).show(20000, False)"
   ]
  },
  {
   "cell_type": "code",
   "execution_count": null,
   "metadata": {
    "hidden": true
   },
   "outputs": [],
   "source": [
    "df3 = check_case(df3, 'i2', ts_name, min_dist_per_min, min_pause_duration, max_pause_time).checkpoint()\n",
    "df3.drop(*['lat','lon','dow','distance','fixTypeCode',\n",
    "         'cum_pause','total_sec','height','speed','heading','state_cp','tripType_cp','i1','i3','j4']).show(20000, False)"
   ]
  },
  {
   "cell_type": "code",
   "execution_count": null,
   "metadata": {
    "hidden": true
   },
   "outputs": [],
   "source": [
    "df3 = proc_segment(df3, 'j1', ts_name, min_dist_per_min, min_pause_duration, max_pause_time, 3, 2, \"CASE1\").checkpoint()\n",
    "df3.drop(*['lat','lon','dow','distance','fixTypeCode',\n",
    "         'cum_pause','total_sec','height','speed','heading','state_cp','tripType_cp','i1','i3','j4','j1','j2']).show(20000, False)"
   ]
  },
  {
   "cell_type": "code",
   "execution_count": null,
   "metadata": {
    "hidden": true
   },
   "outputs": [],
   "source": [
    "df3.drop(*['lat','lon','dow','distance','fixTypeCode',\n",
    "         'cum_pause','total_sec','height','speed','heading','state_cp','tripType_cp','i2','i3','j4','j1','j2','j3']).show(20000, False)"
   ]
  },
  {
   "cell_type": "code",
   "execution_count": null,
   "metadata": {
    "hidden": true
   },
   "outputs": [],
   "source": [
    "# segment 180\n",
    "df4 = proc_segment(df3, 'i1', ts_name, min_dist_per_min, min_pause_duration, max_pause_time, 3, 2, \"CASE1\").checkpoint()\n",
    "df4.drop(*['lat','lon','dow','distance','fixTypeCode',\n",
    "         'cum_pause','total_sec','height','speed','heading','state_cp','tripType_cp','i2','i3','j4']).show(20000, False)"
   ]
  },
  {
   "cell_type": "code",
   "execution_count": null,
   "metadata": {
    "hidden": true
   },
   "outputs": [],
   "source": [
    "df4 = df4.drop(*['j1','j2','j3','j4'])\n",
    "df4 = set_pause(df4, 'i1', ts_name).checkpoint()\n",
    "df4.drop(*['lat','lon','dow','distance','fixTypeCode',\n",
    "         'cum_pause','total_sec','height','speed','heading','state_cp','tripType_cp','i2','i3']).show(20000, False)"
   ]
  },
  {
   "cell_type": "code",
   "execution_count": null,
   "metadata": {
    "hidden": true
   },
   "outputs": [],
   "source": [
    "df4 = check_case(df4, 'i1', ts_name, min_dist_per_min, min_pause_duration, max_pause_time).checkpoint()\n",
    "df4.drop(*['lat','lon','dow','distance','fixTypeCode',\n",
    "         'cum_pause','total_sec','height','speed','heading','state_cp','tripType_cp','i2','i3','j4']).show(20000, False)"
   ]
  },
  {
   "cell_type": "code",
   "execution_count": null,
   "metadata": {
    "hidden": true
   },
   "outputs": [],
   "source": [
    "df4 = proc_segment(df4, 'j1', ts_name, min_dist_per_min, min_pause_duration, max_pause_time, 3, 2, \"CASE1\").checkpoint()\n",
    "df4.drop(*['lat','lon','dow','distance','fixTypeCode',\n",
    "         'cum_pause','total_sec','height','speed','heading','state_cp','tripType_cp','i2','i3','j4']).show(20000, False)"
   ]
  },
  {
   "cell_type": "code",
   "execution_count": null,
   "metadata": {
    "hidden": true
   },
   "outputs": [],
   "source": [
    "df4 = df4.drop(*['j1','j2','j3','j4'])\n",
    "df4 = set_pause(df4, 'i1', ts_name).checkpoint()\n",
    "df4.drop(*['lat','lon','dow','distance','fixTypeCode',\n",
    "         'cum_pause','total_sec','height','speed','heading','state_cp','tripType_cp','i2','i3']).show(20000, False)"
   ]
  },
  {
   "cell_type": "code",
   "execution_count": null,
   "metadata": {
    "hidden": true
   },
   "outputs": [],
   "source": [
    "df4 = check_case(df4, 'i1', ts_name, min_dist_per_min, min_pause_duration, max_pause_time).checkpoint()\n",
    "df4.drop(*['lat','lon','dow','distance','fixTypeCode',\n",
    "         'cum_pause','total_sec','height','speed','heading','state_cp','tripType_cp','i2','i3','j4']).show(20000, False)"
   ]
  },
  {
   "cell_type": "code",
   "execution_count": null,
   "metadata": {
    "hidden": true
   },
   "outputs": [],
   "source": [
    "df4 = proc_segment(df4, 'j2', ts_name, min_dist_per_min, min_pause_duration, max_pause_time, 3, 3, \"CASE2\").checkpoint()\n",
    "df4.drop(*['lat','lon','dow','distance','fixTypeCode',\n",
    "         'cum_pause','total_sec','height','speed','heading','state_cp','tripType_cp','i1','i3']).show(20000, False)"
   ]
  },
  {
   "cell_type": "code",
   "execution_count": null,
   "metadata": {
    "hidden": true
   },
   "outputs": [],
   "source": [
    "df4 = df4.drop(*['j1','j2','j3','j4'])\n",
    "df4 = set_pause(df4, 'i1', ts_name).checkpoint()\n",
    "df4.drop(*['lat','lon','dow','distance','fixTypeCode',\n",
    "         'cum_pause','total_sec','height','speed','heading','state_cp','tripType_cp','i2','i3']).show(20000, False)"
   ]
  },
  {
   "cell_type": "code",
   "execution_count": null,
   "metadata": {
    "hidden": true
   },
   "outputs": [],
   "source": [
    "df5 = check_case(df4, 'i1', ts_name, min_dist_per_min, min_pause_duration, max_pause_time).checkpoint()\n",
    "df5.drop(*['lat','lon','dow','distance','fixTypeCode',\n",
    "         'cum_pause','total_sec','height','speed','heading','state_cp','tripType_cp','i2','i3','j4']).show(20000, False)"
   ]
  },
  {
   "cell_type": "code",
   "execution_count": null,
   "metadata": {
    "hidden": true
   },
   "outputs": [],
   "source": [
    "df5 = proc_segment(df5, 'j2', ts_name, min_dist_per_min, min_pause_duration, max_pause_time, 3, 3, \"CASE2\").checkpoint()\n",
    "df5.drop(*['lat','lon','dow','distance','fixTypeCode',\n",
    "         'cum_pause','total_sec','height','speed','heading','state_cp','tripType_cp','i1','i3']).show(20000, False)"
   ]
  },
  {
   "cell_type": "code",
   "execution_count": null,
   "metadata": {
    "hidden": true
   },
   "outputs": [],
   "source": [
    "df5 = df5.drop(*['j1','j2','j3','j4'])\n",
    "df5 = set_pause(df5, 'i1', ts_name).checkpoint()\n",
    "df5.drop(*['lat','lon','dow','distance','fixTypeCode',\n",
    "         'cum_pause','total_sec','height','speed','heading','state_cp','tripType_cp','i2','i3']).show(20000, False)"
   ]
  },
  {
   "cell_type": "code",
   "execution_count": null,
   "metadata": {
    "hidden": true
   },
   "outputs": [],
   "source": [
    "df5 = check_case(df5, 'i1', ts_name, min_dist_per_min, min_pause_duration, max_pause_time).checkpoint()\n",
    "df5.drop(*['lat','lon','dow','distance','fixTypeCode',\n",
    "         'cum_pause','total_sec','height','speed','heading','state_cp','tripType_cp','i2','i3','j4']).show(20000, False)"
   ]
  },
  {
   "cell_type": "code",
   "execution_count": null,
   "metadata": {
    "hidden": true
   },
   "outputs": [],
   "source": [
    "df5 = proc_segment(df5, 'j2', ts_name, min_dist_per_min, min_pause_duration, max_pause_time, 3, 3, \"CASE2\").checkpoint()\n",
    "df5.drop(*['lat','lon','dow','distance','fixTypeCode',\n",
    "         'cum_pause','total_sec','height','speed','heading','state_cp','tripType_cp','i1','i3']).show(20000, False)"
   ]
  },
  {
   "cell_type": "code",
   "execution_count": null,
   "metadata": {
    "hidden": true
   },
   "outputs": [],
   "source": [
    "df5 = df5.drop(*['j1','j2','j3','j4'])\n",
    "df5 = set_pause(df5, 'i1', ts_name).checkpoint()\n",
    "df5.drop(*['lat','lon','dow','distance','fixTypeCode',\n",
    "         'cum_pause','total_sec','height','speed','heading','state_cp','tripType_cp','i2','i3']).show(20000, False)"
   ]
  },
  {
   "cell_type": "code",
   "execution_count": null,
   "metadata": {
    "hidden": true
   },
   "outputs": [],
   "source": [
    "df5 = check_case(df5, 'i1', ts_name, min_dist_per_min, min_pause_duration, max_pause_time).checkpoint()\n",
    "df5.drop(*['lat','lon','dow','distance','fixTypeCode',\n",
    "         'cum_pause','total_sec','height','speed','heading','state_cp','tripType_cp','i2','i3','j4']).show(20000, False)"
   ]
  },
  {
   "cell_type": "code",
   "execution_count": null,
   "metadata": {
    "hidden": true
   },
   "outputs": [],
   "source": [
    "df5 = proc_segment(df5, 'j3', ts_name, min_dist_per_min, min_pause_duration, max_pause_time, 0, 0, \"CASE3\").checkpoint()\n",
    "df5.drop(*['lat','lon','dow','distance','fixTypeCode',\n",
    "         'cum_pause','total_sec','height','speed','heading','state_cp','tripType_cp','i1','i3','j4']).show(20000, False)"
   ]
  },
  {
   "cell_type": "code",
   "execution_count": null,
   "metadata": {
    "hidden": true
   },
   "outputs": [],
   "source": [
    "df5.drop(*['lat','lon','dow','distance','fixTypeCode',\n",
    "         'cum_pause','total_sec','height','speed','heading','state_cp','tripType_cp','i2','i3','j4']).show(20000, False)"
   ]
  },
  {
   "cell_type": "code",
   "execution_count": null,
   "metadata": {
    "hidden": true
   },
   "outputs": [],
   "source": [
    "#segment 188\n",
    "df6 = proc_segment(df5, 'j1', ts_name, min_dist_per_min, min_pause_duration, max_pause_time, 3, 2, \"CASE1\").checkpoint()\n",
    "df6.drop(*['lat','lon','dow','distance','fixTypeCode',\n",
    "         'cum_pause','total_sec','height','speed','heading','state_cp','tripType_cp','i1','i3','j4']).show(20000, False)"
   ]
  },
  {
   "cell_type": "code",
   "execution_count": null,
   "metadata": {
    "hidden": true
   },
   "outputs": [],
   "source": [
    "df6 = df6.drop(*['j1','j2','j3','j4'])\n",
    "df6 = set_pause(df6, 'i1', ts_name).checkpoint()\n",
    "df6.drop(*['lat','lon','dow','distance','fixTypeCode',\n",
    "         'cum_pause','total_sec','height','speed','heading','state_cp','tripType_cp','i2','i3']).show(20000, False)"
   ]
  },
  {
   "cell_type": "code",
   "execution_count": null,
   "metadata": {
    "hidden": true
   },
   "outputs": [],
   "source": [
    "df6 = check_case(df6, 'i1', ts_name, min_dist_per_min, min_pause_duration, max_pause_time).checkpoint()\n",
    "df6.drop(*['lat','lon','dow','distance','fixTypeCode',\n",
    "         'cum_pause','total_sec','height','speed','heading','state_cp','tripType_cp','i2','i3','j4']).show(20000, False)"
   ]
  },
  {
   "cell_type": "code",
   "execution_count": null,
   "metadata": {
    "hidden": true
   },
   "outputs": [],
   "source": [
    "df6 = proc_segment(df6, 'j3', ts_name, min_dist_per_min, min_pause_duration, max_pause_time, 0, 0, \"CASE3\").checkpoint()\n",
    "df6.drop(*['lat','lon','dow','distance','fixTypeCode',\n",
    "         'cum_pause','total_sec','height','speed','heading','state_cp','tripType_cp','i1','i3','j4']).show(20000, False)"
   ]
  },
  {
   "cell_type": "code",
   "execution_count": null,
   "metadata": {
    "hidden": true
   },
   "outputs": [],
   "source": [
    "df6.drop(*['lat','lon','dow','distance','fixTypeCode',\n",
    "         'cum_pause','total_sec','height','speed','heading','state_cp','tripType_cp','j4','j1','j2','j3']).show(20000, False)"
   ]
  },
  {
   "cell_type": "code",
   "execution_count": null,
   "metadata": {
    "hidden": true
   },
   "outputs": [],
   "source": []
  },
  {
   "cell_type": "code",
   "execution_count": null,
   "metadata": {
    "hidden": true
   },
   "outputs": [],
   "source": [
    "def push_and_pop(rdd):\n",
    "    # two transformations: moves the head element to the tail\n",
    "    first = rdd.first()\n",
    "    return rdd.filter(\n",
    "        lambda obj: obj != first\n",
    "    ).union(\n",
    "        sc.parallelize([first])\n",
    "    )\n",
    "\n",
    "def serialize_and_deserialize(rdd):\n",
    "    # perform a collect() action to evaluate the rdd and create a new instance\n",
    "    return sc.parallelize(rdd.collect())\n",
    "\n",
    "def do_test(serialize=False):\n",
    "    rdd = sc.parallelize(range(1000))\n",
    "    for i in xrange(25):\n",
    "        t0 = time.time()\n",
    "        rdd = push_and_pop(rdd)\n",
    "        if serialize:\n",
    "            rdd = serialize_and_deserialize(rdd)\n",
    "        print(\"%.3f\" % (time.time() - t0))\n",
    "\n",
    "do_test()"
   ]
  },
  {
   "cell_type": "code",
   "execution_count": null,
   "metadata": {
    "hidden": true
   },
   "outputs": [],
   "source": [
    "tw = str(60) + ' seconds'\n",
    "sw = str(60) + ' seconds'\n",
    "\n",
    "st_sec = str(df.first()[0].second)\n",
    "\n",
    "offset = st_sec + ' seconds' \n",
    "\n",
    "param_name = 'distance'\n",
    "\n",
    "df.groupBy(\n",
    "            F.window(ts_name, tw, sw, offset)\n",
    "          ).sum(param_name)\\\n",
    "           .select('window','sum({})'.format(param_name))\\\n",
    "           .withColumn('start', F.col('window').start)\\\n",
    "           .withColumn('end', F.col('window').end)\\\n",
    "           .drop('window')\\\n",
    "           .show(20, False)\n",
    "\"\"\"\n",
    "df.groupBy(\n",
    "            F.window(ts_name, tw, sw, offset)\n",
    "          ).sum()\\\n",
    "           .sort('window.start')\\\n",
    "           .filter(F.col('sum({})'.format(param_name))>=min_dist_per_min)\\\n",
    "           .select('window')\\\n",
    "           .withColumn('start', F.col('window').start)\\\n",
    "           .withColumn('end', F.col('window').end)\\\n",
    "           .drop('window')\\\n",
    "           .show(20, False)\n",
    "\"\"\""
   ]
  },
  {
   "cell_type": "code",
   "execution_count": null,
   "metadata": {
    "hidden": true
   },
   "outputs": [],
   "source": []
  },
  {
   "cell_type": "code",
   "execution_count": null,
   "metadata": {
    "hidden": true
   },
   "outputs": [],
   "source": []
  },
  {
   "cell_type": "code",
   "execution_count": null,
   "metadata": {
    "hidden": true
   },
   "outputs": [],
   "source": []
  },
  {
   "cell_type": "code",
   "execution_count": null,
   "metadata": {
    "hidden": true
   },
   "outputs": [],
   "source": []
  },
  {
   "cell_type": "code",
   "execution_count": null,
   "metadata": {
    "hidden": true
   },
   "outputs": [],
   "source": []
  },
  {
   "cell_type": "markdown",
   "metadata": {},
   "source": [
    "## Accelerometer data processing"
   ]
  },
  {
   "cell_type": "code",
   "execution_count": 62,
   "metadata": {
    "ExecuteTime": {
     "end_time": "2019-12-04T04:42:50.233551Z",
     "start_time": "2019-12-04T04:42:50.224287Z"
    }
   },
   "outputs": [],
   "source": [
    "acc_path_raw = '/Users/molinaro/Documents/GITHUB/HABITUS/corrections/Errors-Habitus/Input-habitus/PP004_actigraph_10.csv'"
   ]
  },
  {
   "cell_type": "code",
   "execution_count": 63,
   "metadata": {
    "ExecuteTime": {
     "end_time": "2019-12-04T04:42:53.843088Z",
     "start_time": "2019-12-04T04:42:53.368632Z"
    }
   },
   "outputs": [
    {
     "data": {
      "text/plain": [
       "DataFrame[value: string]"
      ]
     },
     "execution_count": 63,
     "metadata": {},
     "output_type": "execute_result"
    }
   ],
   "source": [
    "acc_data_raw = spark.read.text(acc_path_raw)\n",
    "acc_data_raw.cache()\n",
    "acc_data_raw.checkpoint()"
   ]
  },
  {
   "cell_type": "code",
   "execution_count": 65,
   "metadata": {
    "ExecuteTime": {
     "end_time": "2019-12-04T04:42:56.275573Z",
     "start_time": "2019-12-04T04:42:56.188835Z"
    }
   },
   "outputs": [
    {
     "data": {
      "text/plain": [
       "60490"
      ]
     },
     "execution_count": 65,
     "metadata": {},
     "output_type": "execute_result"
    }
   ],
   "source": [
    "acc_data_raw.count()"
   ]
  },
  {
   "cell_type": "code",
   "execution_count": 66,
   "metadata": {
    "ExecuteTime": {
     "end_time": "2019-12-04T04:42:57.354781Z",
     "start_time": "2019-12-04T04:42:56.945047Z"
    }
   },
   "outputs": [],
   "source": [
    "interval, acc_data = gen_acc_dataframe(acc_data_raw)"
   ]
  },
  {
   "cell_type": "code",
   "execution_count": 67,
   "metadata": {
    "ExecuteTime": {
     "end_time": "2019-12-04T04:42:57.509132Z",
     "start_time": "2019-12-04T04:42:57.499840Z"
    }
   },
   "outputs": [
    {
     "name": "stdout",
     "output_type": "stream",
     "text": [
      "root\n",
      " |-- timestamp: timestamp (nullable = true)\n",
      " |-- acc_data: string (nullable = true)\n",
      "\n"
     ]
    }
   ],
   "source": [
    "acc_data.printSchema()"
   ]
  },
  {
   "cell_type": "code",
   "execution_count": 68,
   "metadata": {
    "ExecuteTime": {
     "end_time": "2019-12-04T04:42:59.536542Z",
     "start_time": "2019-12-04T04:42:59.248972Z"
    }
   },
   "outputs": [
    {
     "data": {
      "text/plain": [
       "DataFrame[timestamp: timestamp, axis1: int, axis2: int, axis3: int, steps: int, lux: int, incl_off: int, incl_standing: int, incl_sitting: int, incl_lying: int]"
      ]
     },
     "execution_count": 68,
     "metadata": {},
     "output_type": "execute_result"
    }
   ],
   "source": [
    "acc_columns = ['axis1','axis2','axis3','steps','lux','incl_off','incl_standing','incl_sitting','incl_lying']\n",
    "acc_data_ext = split_acc_data(acc_data, acc_columns)\n",
    "acc_data_ext.cache()\n",
    "acc_data_ext.cache()"
   ]
  },
  {
   "cell_type": "code",
   "execution_count": 60,
   "metadata": {
    "ExecuteTime": {
     "end_time": "2019-12-03T16:55:44.517223Z",
     "start_time": "2019-12-03T16:55:43.988150Z"
    }
   },
   "outputs": [
    {
     "name": "stdout",
     "output_type": "stream",
     "text": [
      "+-------------------+-----+-----+-----+-----+----+--------+-------------+------------+----------+\n",
      "|timestamp          |axis1|axis2|axis3|steps|lux |incl_off|incl_standing|incl_sitting|incl_lying|\n",
      "+-------------------+-----+-----+-----+-----+----+--------+-------------+------------+----------+\n",
      "|2016-12-01 15:00:00|266  |135  |118  |9    |82  |null    |null         |null        |null      |\n",
      "|2016-12-01 15:01:00|99   |20   |23   |2    |0   |null    |null         |null        |null      |\n",
      "|2016-12-01 15:02:00|451  |421  |510  |12   |0   |null    |null         |null        |null      |\n",
      "|2016-12-01 15:03:00|30   |0    |46   |2    |17  |null    |null         |null        |null      |\n",
      "|2016-12-01 15:04:00|58   |0    |43   |2    |3   |null    |null         |null        |null      |\n",
      "|2016-12-01 15:05:00|2    |0    |19   |0    |5   |null    |null         |null        |null      |\n",
      "|2016-12-01 15:06:00|11   |0    |56   |1    |10  |null    |null         |null        |null      |\n",
      "|2016-12-01 15:07:00|34   |0    |42   |1    |5   |null    |null         |null        |null      |\n",
      "|2016-12-01 15:08:00|175  |26   |23   |6    |22  |null    |null         |null        |null      |\n",
      "|2016-12-01 15:09:00|2546 |1263 |1060 |68   |0   |null    |null         |null        |null      |\n",
      "|2016-12-01 15:10:00|4760 |1788 |2230 |122  |836 |null    |null         |null        |null      |\n",
      "|2016-12-01 15:11:00|4858 |1705 |2541 |122  |952 |null    |null         |null        |null      |\n",
      "|2016-12-01 15:12:00|4569 |1735 |2298 |123  |951 |null    |null         |null        |null      |\n",
      "|2016-12-01 15:13:00|4943 |1841 |2456 |124  |923 |null    |null         |null        |null      |\n",
      "|2016-12-01 15:14:00|4508 |1230 |2528 |127  |1014|null    |null         |null        |null      |\n",
      "|2016-12-01 15:15:00|4713 |493  |2583 |130  |882 |null    |null         |null        |null      |\n",
      "|2016-12-01 15:16:00|4742 |724  |2783 |127  |968 |null    |null         |null        |null      |\n",
      "|2016-12-01 15:17:00|4573 |1804 |2900 |127  |1029|null    |null         |null        |null      |\n",
      "|2016-12-01 15:18:00|4343 |17   |233  |130  |749 |null    |null         |null        |null      |\n",
      "|2016-12-01 15:19:00|101  |109  |103  |2    |68  |null    |null         |null        |null      |\n",
      "+-------------------+-----+-----+-----+-----+----+--------+-------------+------------+----------+\n",
      "only showing top 20 rows\n",
      "\n"
     ]
    }
   ],
   "source": [
    "ts_name = 'timestamp'\n",
    "INTERVAL = 60 #seconds\n",
    "window = INTERVAL\n",
    "\n",
    "acc_data_act = select_acc_intervals(acc_data_ext, ts_name, interval, window, False, True)\n",
    "acc_data_act.show(20, False)"
   ]
  },
  {
   "cell_type": "code",
   "execution_count": 15,
   "metadata": {
    "ExecuteTime": {
     "end_time": "2019-12-03T14:39:23.138332Z",
     "start_time": "2019-12-03T14:39:22.234801Z"
    }
   },
   "outputs": [
    {
     "data": {
      "text/plain": [
       "DataFrame[timestamp: timestamp, activity: int, activityIntensity: string]"
      ]
     },
     "execution_count": 15,
     "metadata": {},
     "output_type": "execute_result"
    }
   ],
   "source": [
    "LightCO, ModerateCO, HardCO, VeryHardCO = (100, 1953, 5725, 9498)\n",
    "window = INTERVAL\n",
    "acc_data_act = activity_count(acc_data_act, 'timestamp', window, LightCO, ModerateCO, HardCO, VeryHardCO, False)\n",
    "acc_data_act.cache()\n",
    "acc_data_act.checkpoint()"
   ]
  },
  {
   "cell_type": "code",
   "execution_count": 16,
   "metadata": {
    "ExecuteTime": {
     "end_time": "2019-12-03T14:39:28.549379Z",
     "start_time": "2019-12-03T14:39:28.545740Z"
    }
   },
   "outputs": [
    {
     "name": "stdout",
     "output_type": "stream",
     "text": [
      "root\n",
      " |-- timestamp: timestamp (nullable = true)\n",
      " |-- activity: integer (nullable = true)\n",
      " |-- activityIntensity: string (nullable = true)\n",
      "\n"
     ]
    }
   ],
   "source": [
    "acc_data_act.printSchema()"
   ]
  },
  {
   "cell_type": "code",
   "execution_count": 17,
   "metadata": {
    "ExecuteTime": {
     "end_time": "2019-12-03T14:39:31.717446Z",
     "start_time": "2019-12-03T14:39:31.607787Z"
    }
   },
   "outputs": [
    {
     "name": "stdout",
     "output_type": "stream",
     "text": [
      "+-------------------+--------+-----------------+\n",
      "|          timestamp|activity|activityIntensity|\n",
      "+-------------------+--------+-----------------+\n",
      "|2016-12-01 15:00:00|     355|                1|\n",
      "|2016-12-01 15:01:00|     107|                1|\n",
      "|2016-12-01 15:02:00|     507|                1|\n",
      "|2016-12-01 15:03:00|      59|                0|\n",
      "|2016-12-01 15:04:00|     102|                1|\n",
      "|2016-12-01 15:05:00|      33|                0|\n",
      "|2016-12-01 15:06:00|      36|                0|\n",
      "|2016-12-01 15:07:00|      73|                0|\n",
      "|2016-12-01 15:08:00|     192|                1|\n",
      "|2016-12-01 15:09:00|    2638|                2|\n",
      "|2016-12-01 15:10:00|    4853|                2|\n",
      "|2016-12-01 15:11:00|    4944|                2|\n",
      "|2016-12-01 15:12:00|    4667|                2|\n",
      "|2016-12-01 15:13:00|    5024|                2|\n",
      "|2016-12-01 15:14:00|    4602|                2|\n",
      "|2016-12-01 15:15:00|    4802|                2|\n",
      "|2016-12-01 15:16:00|    4835|                2|\n",
      "|2016-12-01 15:17:00|    4680|                2|\n",
      "|2016-12-01 15:18:00|    4431|                2|\n",
      "|2016-12-01 15:19:00|     107|                1|\n",
      "+-------------------+--------+-----------------+\n",
      "only showing top 20 rows\n",
      "\n"
     ]
    }
   ],
   "source": [
    "acc_data_act.show()"
   ]
  },
  {
   "cell_type": "code",
   "execution_count": 18,
   "metadata": {
    "ExecuteTime": {
     "end_time": "2019-12-03T14:33:10.449853Z",
     "start_time": "2019-12-03T14:33:01.766840Z"
    }
   },
   "outputs": [
    {
     "data": {
      "text/plain": [
       "10080"
      ]
     },
     "execution_count": 18,
     "metadata": {},
     "output_type": "execute_result"
    }
   ],
   "source": [
    "# DETERMINE NON-WEAR PERIOD\n",
    "ts_name = 'timestamp'\n",
    "AC_name = 'activity'\n",
    "AI_name = 'activityIntensity'\n",
    "new_col = 'non_wear'\n",
    "window = INTERVAL\n",
    "minutes_zeros_row = 60\n",
    "\n",
    "acc_data_act = non_wear_filter(acc_data_act, ts_name, AC_name, AI_name, window, minutes_zeros_row)\n",
    "acc_data_act.cache()\n",
    "acc_data_act.checkpoint()\n",
    "acc_data_act.count()"
   ]
  },
  {
   "cell_type": "code",
   "execution_count": 19,
   "metadata": {
    "ExecuteTime": {
     "end_time": "2019-12-03T14:33:25.580246Z",
     "start_time": "2019-12-03T14:33:11.401532Z"
    }
   },
   "outputs": [
    {
     "data": {
      "text/plain": [
       "10080"
      ]
     },
     "execution_count": 19,
     "metadata": {},
     "output_type": "execute_result"
    }
   ],
   "source": [
    "# DETERMINE ACTIVITY BOUT NUMBER\n",
    "ts_name = 'timestamp'\n",
    "AC_name = 'activity'\n",
    "new_col = 'activityBoutNumber'\n",
    "window = INTERVAL\n",
    "UP = 9999\n",
    "LOW = 1953\n",
    "DURATION = 10\n",
    "TOL = 2\n",
    "\n",
    "acc_data_act = activity_bout_filter(acc_data_act, ts_name, AC_name, new_col, window,\n",
    "                                    UP, LOW, DURATION, TOL)\n",
    "acc_data_act.cache()\n",
    "acc_data_act.checkpoint()\n",
    "acc_data_act.count()"
   ]
  },
  {
   "cell_type": "code",
   "execution_count": null,
   "metadata": {
    "ExecuteTime": {
     "end_time": "2019-12-03T14:33:25.619669Z",
     "start_time": "2019-12-03T14:33:21.689Z"
    }
   },
   "outputs": [],
   "source": [
    "acc_data_act.show(20, False)"
   ]
  },
  {
   "cell_type": "code",
   "execution_count": 20,
   "metadata": {
    "ExecuteTime": {
     "end_time": "2019-12-03T14:33:45.296369Z",
     "start_time": "2019-12-03T14:33:26.505198Z"
    }
   },
   "outputs": [
    {
     "data": {
      "text/plain": [
       "10080"
      ]
     },
     "execution_count": 20,
     "metadata": {},
     "output_type": "execute_result"
    }
   ],
   "source": [
    "# DETERMINE SEDENTARY BOUT NUMBER\n",
    "ts_name = 'timestamp'\n",
    "AC_name = 'activity'\n",
    "new_col = 'sedentaryBoutNumber'\n",
    "window = 5\n",
    "UP=180\n",
    "LOW=0\n",
    "DURATION=30\n",
    "TOL=1\n",
    "\n",
    "acc_data_act = sedentary_bout_filter(acc_data_act, ts_name, AC_name, new_col, window,\n",
    "                                     UP, LOW, DURATION, TOL)\n",
    "acc_data_act.cache()\n",
    "acc_data_act.checkpoint()\n",
    "acc_data_act.count()"
   ]
  },
  {
   "cell_type": "code",
   "execution_count": 21,
   "metadata": {
    "ExecuteTime": {
     "end_time": "2019-12-03T14:34:09.138847Z",
     "start_time": "2019-12-03T14:34:06.479308Z"
    },
    "scrolled": true
   },
   "outputs": [
    {
     "name": "stdout",
     "output_type": "stream",
     "text": [
      "+-------------------+--------+-----------------+------------------+-------------------+\n",
      "|timestamp          |activity|activityIntensity|activityBoutNumber|sedentaryBoutNumber|\n",
      "+-------------------+--------+-----------------+------------------+-------------------+\n",
      "|2016-12-01 15:00:00|66      |0                |0                 |0                  |\n",
      "|2016-12-01 15:01:00|266     |1                |0                 |0                  |\n",
      "|2016-12-01 15:02:00|365     |1                |0                 |0                  |\n",
      "|2016-12-01 15:03:00|833     |1                |0                 |0                  |\n",
      "|2016-12-01 15:04:00|849     |1                |0                 |0                  |\n",
      "|2016-12-01 15:05:00|904     |1                |0                 |0                  |\n",
      "|2016-12-01 15:06:00|916     |1                |0                 |0                  |\n",
      "|2016-12-01 15:07:00|922     |1                |0                 |0                  |\n",
      "|2016-12-01 15:08:00|951     |1                |0                 |0                  |\n",
      "|2016-12-01 15:09:00|1126    |1                |0                 |0                  |\n",
      "|2016-12-01 15:10:00|4330    |2                |0                 |0                  |\n",
      "|2016-12-01 15:11:00|8964    |3                |0                 |0                  |\n",
      "|2016-12-01 15:12:00|13717   |4                |0                 |0                  |\n",
      "|2016-12-01 15:13:00|17810   |4                |0                 |0                  |\n",
      "|2016-12-01 15:14:00|22755   |4                |0                 |0                  |\n",
      "|2016-12-01 15:15:00|27179   |4                |0                 |0                  |\n",
      "|2016-12-01 15:16:00|31941   |4                |0                 |0                  |\n",
      "|2016-12-01 15:17:00|36607   |4                |0                 |0                  |\n",
      "|2016-12-01 15:18:00|41136   |4                |0                 |0                  |\n",
      "|2016-12-01 15:19:00|44564   |4                |0                 |0                  |\n",
      "|2016-12-01 15:20:00|41386   |4                |0                 |0                  |\n",
      "|2016-12-01 15:21:00|40359   |4                |0                 |0                  |\n",
      "|2016-12-01 15:22:00|37899   |4                |0                 |0                  |\n",
      "|2016-12-01 15:23:00|34941   |4                |0                 |0                  |\n",
      "|2016-12-01 15:24:00|30795   |4                |0                 |0                  |\n",
      "|2016-12-01 15:25:00|27268   |4                |0                 |0                  |\n",
      "|2016-12-01 15:26:00|22494   |4                |0                 |0                  |\n",
      "|2016-12-01 15:27:00|17822   |4                |0                 |0                  |\n",
      "|2016-12-01 15:28:00|13264   |4                |0                 |0                  |\n",
      "|2016-12-01 15:29:00|9916    |4                |0                 |0                  |\n",
      "|2016-12-01 15:30:00|9824    |4                |0                 |0                  |\n",
      "|2016-12-01 15:31:00|6017    |3                |0                 |0                  |\n",
      "|2016-12-01 15:32:00|3625    |2                |0                 |0                  |\n",
      "|2016-12-01 15:33:00|2022    |2                |0                 |0                  |\n",
      "|2016-12-01 15:34:00|1884    |1                |0                 |0                  |\n",
      "|2016-12-01 15:35:00|932     |1                |0                 |0                  |\n",
      "|2016-12-01 15:36:00|935     |1                |0                 |0                  |\n",
      "|2016-12-01 15:37:00|947     |1                |0                 |0                  |\n",
      "|2016-12-01 15:38:00|947     |1                |0                 |0                  |\n",
      "|2016-12-01 15:39:00|692     |1                |0                 |0                  |\n",
      "|2016-12-01 15:40:00|692     |1                |0                 |0                  |\n",
      "|2016-12-01 15:41:00|692     |1                |0                 |0                  |\n",
      "|2016-12-01 15:42:00|692     |1                |0                 |0                  |\n",
      "|2016-12-01 15:43:00|692     |1                |0                 |0                  |\n",
      "|2016-12-01 15:44:00|15      |0                |0                 |0                  |\n",
      "|2016-12-01 15:45:00|15      |0                |0                 |0                  |\n",
      "|2016-12-01 15:46:00|12      |0                |0                 |0                  |\n",
      "|2016-12-01 15:47:00|0       |0                |0                 |0                  |\n",
      "|2016-12-01 15:48:00|0       |0                |0                 |0                  |\n",
      "|2016-12-01 15:49:00|0       |0                |0                 |0                  |\n",
      "|2016-12-01 15:50:00|0       |0                |0                 |0                  |\n",
      "|2016-12-01 15:51:00|0       |0                |0                 |0                  |\n",
      "|2016-12-01 15:52:00|0       |0                |0                 |0                  |\n",
      "|2016-12-01 15:53:00|54      |0                |0                 |0                  |\n",
      "|2016-12-01 15:54:00|479     |1                |0                 |0                  |\n",
      "|2016-12-01 15:55:00|479     |1                |0                 |0                  |\n",
      "|2016-12-01 15:56:00|479     |1                |0                 |0                  |\n",
      "|2016-12-01 15:57:00|479     |1                |0                 |0                  |\n",
      "|2016-12-01 15:58:00|479     |1                |0                 |0                  |\n",
      "|2016-12-01 15:59:00|479     |1                |0                 |0                  |\n",
      "+-------------------+--------+-----------------+------------------+-------------------+\n",
      "only showing top 60 rows\n",
      "\n"
     ]
    }
   ],
   "source": [
    "acc_data_act.show(60,False)"
   ]
  },
  {
   "cell_type": "code",
   "execution_count": 30,
   "metadata": {
    "ExecuteTime": {
     "end_time": "2019-12-03T10:07:25.425230Z",
     "start_time": "2019-12-03T10:05:51.088738Z"
    },
    "scrolled": true
   },
   "outputs": [
    {
     "name": "stdout",
     "output_type": "stream",
     "text": [
      "+-------------------+--------+-----------------+------------------+-------------------+\n",
      "|timestamp          |activity|activityIntensity|activityBoutNumber|sedentaryBoutNumber|\n",
      "+-------------------+--------+-----------------+------------------+-------------------+\n",
      "|2016-12-01 15:00:00|66      |1                |0                 |0                  |\n",
      "|2016-12-01 15:00:10|130     |1                |0                 |0                  |\n",
      "|2016-12-01 15:00:20|2       |0                |0                 |0                  |\n",
      "|2016-12-01 15:00:30|32      |1                |0                 |0                  |\n",
      "|2016-12-01 15:00:40|36      |1                |0                 |0                  |\n",
      "|2016-12-01 15:00:50|0       |0                |0                 |0                  |\n",
      "|2016-12-01 15:01:00|0       |0                |0                 |0                  |\n",
      "|2016-12-01 15:01:10|99      |1                |0                 |0                  |\n",
      "|2016-12-01 15:01:20|0       |0                |0                 |0                  |\n",
      "|2016-12-01 15:01:30|0       |0                |0                 |0                  |\n",
      "|2016-12-01 15:01:40|0       |0                |0                 |0                  |\n",
      "|2016-12-01 15:01:50|0       |0                |0                 |0                  |\n",
      "|2016-12-01 15:02:00|0       |0                |0                 |0                  |\n",
      "|2016-12-01 15:02:10|87      |1                |0                 |0                  |\n",
      "|2016-12-01 15:02:20|75      |1                |0                 |0                  |\n",
      "|2016-12-01 15:02:30|289     |1                |0                 |0                  |\n",
      "|2016-12-01 15:02:40|0       |0                |0                 |0                  |\n",
      "|2016-12-01 15:02:50|0       |0                |0                 |0                  |\n",
      "|2016-12-01 15:03:00|17      |1                |0                 |0                  |\n",
      "|2016-12-01 15:03:10|0       |0                |0                 |0                  |\n",
      "|2016-12-01 15:03:20|0       |0                |0                 |0                  |\n",
      "|2016-12-01 15:03:30|0       |0                |0                 |0                  |\n",
      "|2016-12-01 15:03:40|0       |0                |0                 |0                  |\n",
      "|2016-12-01 15:03:50|13      |0                |0                 |0                  |\n",
      "|2016-12-01 15:04:00|3       |0                |0                 |0                  |\n",
      "|2016-12-01 15:04:10|0       |0                |0                 |0                  |\n",
      "|2016-12-01 15:04:20|0       |0                |0                 |0                  |\n",
      "|2016-12-01 15:04:30|0       |0                |0                 |0                  |\n",
      "|2016-12-01 15:04:40|24      |1                |0                 |0                  |\n",
      "|2016-12-01 15:04:50|31      |1                |0                 |0                  |\n",
      "|2016-12-01 15:05:00|0       |0                |0                 |0                  |\n",
      "|2016-12-01 15:05:10|0       |0                |0                 |0                  |\n",
      "|2016-12-01 15:05:20|0       |0                |0                 |0                  |\n",
      "|2016-12-01 15:05:30|0       |0                |0                 |0                  |\n",
      "|2016-12-01 15:05:40|0       |0                |0                 |0                  |\n",
      "|2016-12-01 15:05:50|2       |0                |0                 |0                  |\n",
      "|2016-12-01 15:06:00|10      |0                |0                 |0                  |\n",
      "|2016-12-01 15:06:10|1       |0                |0                 |0                  |\n",
      "|2016-12-01 15:06:20|0       |0                |0                 |0                  |\n",
      "|2016-12-01 15:06:30|0       |0                |0                 |0                  |\n",
      "|2016-12-01 15:06:40|0       |0                |0                 |0                  |\n",
      "|2016-12-01 15:06:50|0       |0                |0                 |0                  |\n",
      "|2016-12-01 15:07:00|5       |0                |0                 |0                  |\n",
      "|2016-12-01 15:07:10|0       |0                |0                 |0                  |\n",
      "|2016-12-01 15:07:20|0       |0                |0                 |0                  |\n",
      "|2016-12-01 15:07:30|23      |1                |0                 |0                  |\n",
      "|2016-12-01 15:07:40|6       |0                |0                 |0                  |\n",
      "|2016-12-01 15:07:50|0       |0                |0                 |0                  |\n",
      "|2016-12-01 15:08:00|0       |0                |0                 |0                  |\n",
      "|2016-12-01 15:08:10|0       |0                |0                 |0                  |\n",
      "|2016-12-01 15:08:20|0       |0                |0                 |0                  |\n",
      "|2016-12-01 15:08:30|0       |0                |0                 |0                  |\n",
      "|2016-12-01 15:08:40|175     |1                |0                 |0                  |\n",
      "|2016-12-01 15:08:50|0       |0                |0                 |0                  |\n",
      "|2016-12-01 15:09:00|0       |0                |0                 |0                  |\n",
      "|2016-12-01 15:09:10|19      |1                |0                 |0                  |\n",
      "|2016-12-01 15:09:20|272     |1                |0                 |0                  |\n",
      "|2016-12-01 15:09:30|755     |2                |1                 |0                  |\n",
      "|2016-12-01 15:09:40|782     |2                |1                 |0                  |\n",
      "|2016-12-01 15:09:50|718     |2                |1                 |0                  |\n",
      "+-------------------+--------+-----------------+------------------+-------------------+\n",
      "only showing top 60 rows\n",
      "\n"
     ]
    }
   ],
   "source": [
    "acc_data_act.show(60,False)"
   ]
  },
  {
   "cell_type": "code",
   "execution_count": 29,
   "metadata": {
    "ExecuteTime": {
     "end_time": "2019-12-03T09:21:02.495153Z",
     "start_time": "2019-12-03T09:20:52.259609Z"
    }
   },
   "outputs": [],
   "source": [
    "acc_data_act.toPandas().to_csv('PP004_out_' + str(INTERVAL) + '.csv')"
   ]
  },
  {
   "cell_type": "markdown",
   "metadata": {},
   "source": [
    "## Merge dataframes"
   ]
  },
  {
   "cell_type": "code",
   "execution_count": null,
   "metadata": {
    "ExecuteTime": {
     "end_time": "2019-11-16T10:51:27.495028Z",
     "start_time": "2019-11-16T10:51:26.898883Z"
    }
   },
   "outputs": [],
   "source": [
    "merge_data = gps_data3.join(acc_data, 'timestamp', how='left' ).orderBy('timestamp')\n",
    "merge_data.cache()\n",
    "merge_data.count()"
   ]
  },
  {
   "cell_type": "code",
   "execution_count": null,
   "metadata": {
    "ExecuteTime": {
     "end_time": "2019-11-16T10:51:33.899366Z",
     "start_time": "2019-11-16T10:51:33.895428Z"
    }
   },
   "outputs": [],
   "source": [
    "merge_data.printSchema()"
   ]
  },
  {
   "cell_type": "code",
   "execution_count": null,
   "metadata": {
    "ExecuteTime": {
     "end_time": "2019-11-16T10:51:30.015523Z",
     "start_time": "2019-11-16T10:51:29.771339Z"
    }
   },
   "outputs": [],
   "source": [
    "merge_data.show(20, False)"
   ]
  }
 ],
 "metadata": {
  "kernelspec": {
   "display_name": "Python 3",
   "language": "python",
   "name": "python3"
  },
  "language_info": {
   "codemirror_mode": {
    "name": "ipython",
    "version": 3
   },
   "file_extension": ".py",
   "mimetype": "text/x-python",
   "name": "python",
   "nbconvert_exporter": "python",
   "pygments_lexer": "ipython3",
   "version": "3.7.5"
  },
  "toc": {
   "base_numbering": 1,
   "nav_menu": {},
   "number_sections": true,
   "sideBar": true,
   "skip_h1_title": false,
   "title_cell": "Table of Contents",
   "title_sidebar": "Contents",
   "toc_cell": false,
   "toc_position": {},
   "toc_section_display": true,
   "toc_window_display": false
  },
  "varInspector": {
   "cols": {
    "lenName": 16,
    "lenType": 16,
    "lenVar": 40
   },
   "kernels_config": {
    "python": {
     "delete_cmd_postfix": "",
     "delete_cmd_prefix": "del ",
     "library": "var_list.py",
     "varRefreshCmd": "print(var_dic_list())"
    },
    "r": {
     "delete_cmd_postfix": ") ",
     "delete_cmd_prefix": "rm(",
     "library": "var_list.r",
     "varRefreshCmd": "cat(var_dic_list()) "
    }
   },
   "types_to_exclude": [
    "module",
    "function",
    "builtin_function_or_method",
    "instance",
    "_Feature"
   ],
   "window_display": false
  }
 },
 "nbformat": 4,
 "nbformat_minor": 2
}
